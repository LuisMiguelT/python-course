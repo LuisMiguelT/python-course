{
 "cells": [
  {
   "cell_type": "markdown",
   "metadata": {},
   "source": [
    "# Cuaderno 3: Listas (list)\n",
    "\n",
    "Lista de elementos separados por comas entre corchetes. Los elementos no necesariamente tienen que ser del mismo tipo."
   ]
  },
  {
   "cell_type": "markdown",
   "metadata": {},
   "source": [
    "### Aspectos básicos"
   ]
  },
  {
   "cell_type": "code",
   "execution_count": null,
   "metadata": {},
   "outputs": [],
   "source": [
    "L = ['Hola mundo', 3.12, 408]\n",
    "print(L)\n",
    "print(type(L))"
   ]
  },
  {
   "cell_type": "markdown",
   "metadata": {},
   "source": [
    "Los elementos de una lista pueden ser de cualquier tipo, incluso otras listas."
   ]
  },
  {
   "cell_type": "code",
   "execution_count": null,
   "metadata": {},
   "outputs": [],
   "source": [
    "L2 = ['abc', 3, 4.214, [\"x\", 1], (0,1)]\n",
    "print(L2)"
   ]
  },
  {
   "cell_type": "markdown",
   "metadata": {},
   "source": [
    "Para acceder a los elementos individuales de una lista se utilizan índices entre corchetes."
   ]
  },
  {
   "cell_type": "code",
   "execution_count": null,
   "metadata": {},
   "outputs": [],
   "source": [
    "print(L)\n",
    "print(L[0])\n",
    "print(L[2])\n",
    "print(L)\n",
    "L[1]= 63\n",
    "print(L)"
   ]
  },
  {
   "cell_type": "markdown",
   "metadata": {},
   "source": [
    "Una lista es un tipo *mutable*."
   ]
  },
  {
   "cell_type": "code",
   "execution_count": null,
   "metadata": {},
   "outputs": [],
   "source": [
    "L[0] = 525\n",
    "print(L)"
   ]
  },
  {
   "cell_type": "markdown",
   "metadata": {},
   "source": [
    "### Operaciones básicas\n",
    "Pueden emplearse los operadores **+** y __*__ con el mismo significado que para las cadenas de caracteres (strings), con la única diferencia de que el resultado es una nueva lista, no una cadena."
   ]
  },
  {
   "cell_type": "code",
   "execution_count": null,
   "metadata": {},
   "outputs": [],
   "source": [
    "print (L)\n",
    "print(L * 3)"
   ]
  },
  {
   "cell_type": "code",
   "execution_count": null,
   "metadata": {},
   "outputs": [],
   "source": [
    "print(L + [3, 'papas'])\n",
    "print(L)"
   ]
  },
  {
   "cell_type": "markdown",
   "metadata": {},
   "source": [
    "Los operadores **+=** y __*=__ combinan los operadores anteriores con la asignación."
   ]
  },
  {
   "cell_type": "code",
   "execution_count": null,
   "metadata": {},
   "outputs": [],
   "source": [
    "L = ['Hola mundo', 3.14, 408]\n",
    "print(L)\n",
    "# L = L * 2\n",
    "L*= 2 \n",
    "print(L)\n",
    "# L = L + [3, 'papas']\n",
    "L+= [3, 'papas'] \n",
    "print(L)"
   ]
  },
  {
   "cell_type": "markdown",
   "metadata": {},
   "source": [
    "La función `len` devuelve la longitud de una lista."
   ]
  },
  {
   "cell_type": "code",
   "execution_count": null,
   "metadata": {},
   "outputs": [],
   "source": [
    "print(L)\n",
    "print(len(L))"
   ]
  },
  {
   "cell_type": "markdown",
   "metadata": {},
   "source": [
    "El operador `in` consulta si un elemento pertenece a una lista, y devuelve según el caso el valor de `True` o `False`. "
   ]
  },
  {
   "cell_type": "code",
   "execution_count": null,
   "metadata": {},
   "outputs": [],
   "source": [
    "print(L)\n",
    "print('papas' in L)\n",
    "print(408 in L)"
   ]
  },
  {
   "cell_type": "markdown",
   "metadata": {},
   "source": [
    "Al igual que una cadena de caracteres, una lista es un iterable. El operador `in` puede utilizarse dentro de instrucciones de iteración `for` para recorrer los elementos de la lista."
   ]
  },
  {
   "cell_type": "code",
   "execution_count": null,
   "metadata": {},
   "outputs": [],
   "source": [
    "print(L)\n",
    "for x in L:\n",
    "    print(x)"
   ]
  },
  {
   "cell_type": "markdown",
   "metadata": {},
   "source": [
    "De manera similar, una lista puede iterarse con la instrucción `while` en combinación con una variable de posición y con la función `len`:"
   ]
  },
  {
   "cell_type": "code",
   "execution_count": null,
   "metadata": {},
   "outputs": [],
   "source": [
    "print(L)\n",
    "i=0\n",
    "while(i<len(L)):\n",
    "    print(L[i])\n",
    "    i+= 1"
   ]
  },
  {
   "cell_type": "markdown",
   "metadata": {},
   "source": [
    "### Extrayendo sublistas (slicing)\n",
    "\n",
    "Al igual que para cadenas de caracteres, puede utilizarse *slicing* para obtener sublistas. Recordar que se especifica el rango empleando la notación $[a:b]$, donde $b$ es el índice del elemento *posterior* al final del rango."
   ]
  },
  {
   "cell_type": "code",
   "execution_count": null,
   "metadata": {},
   "outputs": [],
   "source": [
    "print(L)\n",
    "print(L[0:2])\n",
    "print(L[1:3])"
   ]
  },
  {
   "cell_type": "markdown",
   "metadata": {},
   "source": [
    "Se puede omitir el índice del inicio o del final del rango. En ese caso, se entiende que se se trata del primer o del último elemento, respectivamente."
   ]
  },
  {
   "cell_type": "code",
   "execution_count": null,
   "metadata": {},
   "outputs": [],
   "source": [
    "print(L[1:])\n",
    "print(L[:2])"
   ]
  },
  {
   "cell_type": "markdown",
   "metadata": {},
   "source": [
    "El índice de -1 se refiere al último elemento, -2 al penúltimo elemento y así sucesivamente. "
   ]
  },
  {
   "cell_type": "code",
   "execution_count": null,
   "metadata": {},
   "outputs": [],
   "source": [
    "print(L)\n",
    "print(L[-1])\n",
    "print(L[-1:])\n",
    "print(L[-2])\n",
    "print(L[0:-1])\n",
    "print(L[-2:-1])"
   ]
  },
  {
   "cell_type": "markdown",
   "metadata": {},
   "source": [
    "Es importante observar la diferencia entre `L[i]`, que retorna el $i$-ésimo elemento de la lista `L` y `L[i:i+1]`, que retorna una sublista de longitud 1."
   ]
  },
  {
   "cell_type": "code",
   "execution_count": null,
   "metadata": {},
   "outputs": [],
   "source": [
    "print(L)\n",
    "# una sublista con el primer elemento de L\n",
    "print(L[0:1])\n",
    "print(type(L[0:1]))\n",
    "# el primer elemento de L\n",
    "print(L[0])\n",
    "print(type(L[0]))"
   ]
  },
  {
   "cell_type": "markdown",
   "metadata": {},
   "source": [
    "### IndexError:\n",
    "Los índices fuera de rango producen un error (excepción) del tipo *IndexError*."
   ]
  },
  {
   "cell_type": "code",
   "execution_count": null,
   "metadata": {},
   "outputs": [],
   "source": [
    "print(L[20])"
   ]
  },
  {
   "cell_type": "markdown",
   "metadata": {},
   "source": [
    "### Otras funciones y métodos útiles.\n",
    "\n",
    "Las listas son estructuras de datos *mutables*, lo que significa que pueden ser alteradas, agregando o eliminando elementos, o modificando elementos existentes. "
   ]
  },
  {
   "cell_type": "markdown",
   "metadata": {},
   "source": [
    "La función **del L$[a:b]$** elimina todos los elementos en el rango $[a,b]$."
   ]
  },
  {
   "cell_type": "code",
   "execution_count": null,
   "metadata": {},
   "outputs": [],
   "source": [
    "L = [1, 2, 3, 4, 5]\n",
    "print(L)\n",
    "del L[2]\n",
    "print(L)\n",
    "del L[2:]\n",
    "print(L)"
   ]
  },
  {
   "cell_type": "markdown",
   "metadata": {},
   "source": [
    "El método **L.append()** agrega un elemento (de cualquier tipo) al final de la lista *L*. "
   ]
  },
  {
   "cell_type": "code",
   "execution_count": null,
   "metadata": {},
   "outputs": [],
   "source": [
    "L.append('hola')\n",
    "print(L)"
   ]
  },
  {
   "cell_type": "markdown",
   "metadata": {},
   "source": [
    "El método **L.pop(i)** devuelve el elemento con índice *i* de la lista *L* y lo elimina de la lista. Si el parámetro *i* se omite, devuelve y elimina el último elemento."
   ]
  },
  {
   "cell_type": "code",
   "execution_count": null,
   "metadata": {},
   "outputs": [],
   "source": [
    "#print(L.pop()) elimina el último elemento de la lista L*\n",
    "print(L)\n",
    "print(L.pop(2))\n",
    "print(L)\n",
    "print(L.pop())\n",
    "print(L)"
   ]
  },
  {
   "cell_type": "markdown",
   "metadata": {},
   "source": [
    "El método __L.insert(i)__ inserta un elemento en la lista *L*, en la posición establecida de acuerdo al índice *i*."
   ]
  },
  {
   "cell_type": "code",
   "execution_count": null,
   "metadata": {
    "scrolled": true
   },
   "outputs": [],
   "source": [
    "L = [1, 2, 3, 4, 5]\n",
    "print(L)\n",
    "L.insert(1, 'papas')\n",
    "print(L)\n",
    "L.insert(3, 'papas')\n",
    "print(L)\n"
   ]
  },
  {
   "cell_type": "markdown",
   "metadata": {},
   "source": [
    "El método **L.remove()** toma un elemento como argumento y lo elimina de la lista *L*.\n"
   ]
  },
  {
   "cell_type": "code",
   "execution_count": null,
   "metadata": {},
   "outputs": [],
   "source": [
    "L.remove('papas')\n",
    "print(L)"
   ]
  },
  {
   "cell_type": "markdown",
   "metadata": {},
   "source": [
    "A diferencia del método **L.pop()**, este método no devuelve ningún valor."
   ]
  },
  {
   "cell_type": "code",
   "execution_count": null,
   "metadata": {},
   "outputs": [],
   "source": [
    "L = [3.25, 'Hola mundo', 0.45, 'Hola mundo',123]\n",
    "print(L)\n",
    "print(L.remove('Hola mundo'))\n",
    "print(L)"
   ]
  },
  {
   "cell_type": "markdown",
   "metadata": {},
   "source": [
    "El método **L.extend(L2)** extiende la lista *L* colocando al final de la misma los elementos de *L2*. Es equivalente a realizar la operación *L=L+L2*."
   ]
  },
  {
   "cell_type": "code",
   "execution_count": null,
   "metadata": {},
   "outputs": [],
   "source": [
    "L  = [3.12, 6]\n",
    "L2 = [-1, 20, 5]\n",
    "L.extend(L2)\n",
    "print (L)\n",
    "L  = [3.12, 6]\n",
    "L2 = [-1, 20, 5]\n",
    "L  += L2 # igual que L = L + L2\n",
    "print (L)"
   ]
  },
  {
   "cell_type": "markdown",
   "metadata": {},
   "source": [
    "El método **L.sort()** ordena los elementos de la lista *L* de forma ascendente. Cuando hay tipos mezclados, Python da un error `TypeError`."
   ]
  },
  {
   "cell_type": "code",
   "execution_count": null,
   "metadata": {},
   "outputs": [],
   "source": [
    "L = [345, -23, 78.4, -3.14159, 1001.09]\n",
    "print(L)\n",
    "L.sort()\n",
    "print(L)\n",
    "\n",
    "L2 = ['casa', 'perro', 'gato', 'libro', 'monitor']\n",
    "print(L2)\n",
    "L2.sort()\n",
    "print(L2)\n",
    "\n",
    "L3 = [3, 5, -1, 2.5, 'sapo']\n",
    "print(L3)\n",
    "L3.sort()\n",
    "print(L3)"
   ]
  },
  {
   "cell_type": "markdown",
   "metadata": {},
   "source": [
    "Para que el método **L.sort()** ordene de forma descendente la lista *L*, se añade un argumento opcional *reverse*. "
   ]
  },
  {
   "cell_type": "code",
   "execution_count": null,
   "metadata": {},
   "outputs": [],
   "source": [
    "L = [3.12, 6, -1, 20, 5]\n",
    "print(L)\n",
    "L.sort(reverse=True)\n",
    "print(L)"
   ]
  },
  {
   "cell_type": "markdown",
   "metadata": {},
   "source": [
    "El método **L.reverse()** invierte el orden actual de los elementos de la lista *L*."
   ]
  },
  {
   "cell_type": "code",
   "execution_count": null,
   "metadata": {},
   "outputs": [],
   "source": [
    "L = ['carro', 7, 8.3321]\n",
    "L.reverse()\n",
    "print(L)"
   ]
  },
  {
   "cell_type": "markdown",
   "metadata": {},
   "source": [
    "### Conversión entre listas y cadenas de caracteres\n",
    "La función `list` transforma una cadena de caracteres en una lista. "
   ]
  },
  {
   "cell_type": "code",
   "execution_count": null,
   "metadata": {},
   "outputs": [],
   "source": [
    "S=\"Hola mundo\"\n",
    "print(S)\n",
    "L = list(S)\n",
    "print(L)\n",
    "L[0]='h'\n",
    "print(L)"
   ]
  },
  {
   "cell_type": "markdown",
   "metadata": {},
   "source": [
    "El método `S.join` junta el contenido de una lista para producir una cadena de caracteres. El contenido de `S` se usa como separador de la cadena."
   ]
  },
  {
   "cell_type": "code",
   "execution_count": null,
   "metadata": {},
   "outputs": [],
   "source": [
    "print(L)\n",
    "print(''.join(L)) # sin separador (solamente juntar)\n",
    "print(' '.join(L)) # separados por espacios\n",
    "print(','.join(L))  # separados por comas\n",
    "print('*bla*'.join(L))  # el separador puede ser una cadena"
   ]
  },
  {
   "cell_type": "markdown",
   "metadata": {},
   "source": [
    "El método `S.split(c)` transforma la cadena `S` en una lista de subcadenas, separándolas de acuerdo al delimitador especificado. Si no se proporciona un delimitador, se emplea el espacio en blanco por defecto."
   ]
  },
  {
   "cell_type": "code",
   "execution_count": null,
   "metadata": {},
   "outputs": [],
   "source": [
    "linea = 'Pablo,3.1213,0023'\n",
    "print(linea)\n",
    "L = linea.split(',')\n",
    "print(L)\n",
    "\n",
    "print(type(L[1]))\n",
    "x = float(L[1])\n",
    "print(x)\n",
    "print(type(x))\n",
    "\n",
    "print(type(L[2]))\n",
    "y = int(L[2])\n",
    "print(y)\n",
    "print(type(y))\n",
    "\n",
    "print(S)\n",
    "print(S.split()) # por defecto el delimitador es el espacio en blanco"
   ]
  },
  {
   "cell_type": "markdown",
   "metadata": {},
   "source": [
    "### Listas multidimensionales y matrices\n",
    "\n",
    "Una matriz *M* puede verse como una lista de listas. El primer elemento de la lista corresponde a la primera fila de la matriz, y así sucesivamente."
   ]
  },
  {
   "cell_type": "code",
   "execution_count": null,
   "metadata": {},
   "outputs": [],
   "source": [
    "M = [[1, 2, 3, 2], [4, 5, 6, 3], [7, 8, 9, -1]]\n",
    "print(M)\n",
    "print(len(M))\n",
    "print(len(M[1]))"
   ]
  },
  {
   "cell_type": "markdown",
   "metadata": {},
   "source": [
    "Para acceder a la matriz *M* se utilizan indices entre corchetes."
   ]
  },
  {
   "cell_type": "code",
   "execution_count": null,
   "metadata": {},
   "outputs": [],
   "source": [
    "print(M[0])\n",
    "print(M[0][2])"
   ]
  },
  {
   "cell_type": "markdown",
   "metadata": {},
   "source": [
    "Las listas internas no necesariamente deben tener la misma dimensión."
   ]
  },
  {
   "cell_type": "code",
   "execution_count": null,
   "metadata": {},
   "outputs": [],
   "source": [
    "G = [[2, 3, 4], [3, 4], [1, 2], []]\n",
    "print(G)\n",
    "print(G[0])\n",
    "print(G[2][1])"
   ]
  },
  {
   "cell_type": "markdown",
   "metadata": {},
   "source": [
    "### Generación de listas (list comprehensions)\n",
    "Las `list comprehensions` en Python nos proporcionan una forma breve y concisa de construir  listas utilizando el concepto de *expresiones generadoras*. \n"
   ]
  },
  {
   "cell_type": "code",
   "execution_count": null,
   "metadata": {},
   "outputs": [],
   "source": [
    "print(M)\n",
    "print(M[0])\n",
    "col2 = [f[1] for f in M]\n",
    "print(col2)\n",
    "print([fila*2 for fila in M])\n",
    "print([i*i for i in [1,2,5]])"
   ]
  },
  {
   "cell_type": "code",
   "execution_count": null,
   "metadata": {},
   "outputs": [],
   "source": [
    "M2 = [[i, 2*i, 3*i] for i in [3, 5, 7, 10]]\n",
    "print(M2)"
   ]
  },
  {
   "cell_type": "code",
   "execution_count": null,
   "metadata": {},
   "outputs": [],
   "source": [
    "S = \"Una cadena cualquiera de caracteres\"\n",
    "doble_S = [c*2 for c in S]\n",
    "print(doble_S)\n",
    "print(''.join(doble_S))"
   ]
  },
  {
   "cell_type": "code",
   "execution_count": null,
   "metadata": {},
   "outputs": [],
   "source": [
    "print(M)\n",
    "sumas = [sum(fila) for fila in M]\n",
    "print(sumas)"
   ]
  },
  {
   "cell_type": "code",
   "execution_count": null,
   "metadata": {},
   "outputs": [],
   "source": [
    "print(M)\n",
    "filtrar_filas = [fila for fila in M if fila[2] < fila[0]+fila[1]]\n",
    "print(filtrar_filas)\n",
    "\n",
    "sumar_filas_filtradas = [sum(fila) for fila in M if fila[2] < fila[0]+fila[1]]\n",
    "print(sumar_filas_filtradas)\n",
    "\n",
    "L = [i*i for i in [1,3,6, 7, 4, 5] if i%2!=0]\n",
    "print(L)"
   ]
  },
  {
   "cell_type": "markdown",
   "metadata": {},
   "source": [
    "La función **range(n)** retorna una iterable con los elementos *0, 1, ..., n-1*."
   ]
  },
  {
   "cell_type": "code",
   "execution_count": null,
   "metadata": {},
   "outputs": [],
   "source": [
    "print(range(10))\n",
    "print([i for i in range(10)])\n",
    "print([i*i for i in range(10)])\n",
    "print([i*i for i in range(10) if i%3==0])"
   ]
  },
  {
   "cell_type": "markdown",
   "metadata": {},
   "source": [
    "Opcionalmente, puede usarse en la forma `range(a, b, k)` para retornar una iterable con los elementos $a, a+k, a+2k,...$. La lista termina con el mayor elemento de la forma $a + nk$ que sea estrictamente menor a $b$. Si se omite el tercer argumento, se asume que $k=1$. "
   ]
  },
  {
   "cell_type": "code",
   "execution_count": null,
   "metadata": {},
   "outputs": [],
   "source": [
    "print([i for i in range(0, 1000, 100)])\n",
    "print([i for i in range(-5, 5)])"
   ]
  },
  {
   "cell_type": "code",
   "execution_count": null,
   "metadata": {},
   "outputs": [],
   "source": [
    "M3 = [[i, 3*i, i**2] for i in range(-10, 10, 2)]\n",
    "print(M3)"
   ]
  },
  {
   "cell_type": "markdown",
   "metadata": {},
   "source": [
    "Las expresiones generadoras pueden depender de más de una variable:"
   ]
  },
  {
   "cell_type": "code",
   "execution_count": null,
   "metadata": {},
   "outputs": [],
   "source": [
    "print([(i, j, i+j) for i in range(10) for j in range(2,5)])\n",
    "print('---')\n",
    "print([(i, j, i+j) for i in range(10) for j in range(2,5) if i < j])\n",
    "print('---')\n",
    "print([(i, j, i+j) for i in range(10) for j in range(i)])\n"
   ]
  },
  {
   "cell_type": "markdown",
   "metadata": {},
   "source": [
    "Las expresiones generadoras pueden contener también una componente `else`, en cuyo caso el orden de sus componentes es `<valor1> if <condicion> else <valor2> for ...`. Los elementos de la lista generada toman el `valor1` cada vez que `condicion` es verdadera y caso contrario el `valor2`: "
   ]
  },
  {
   "cell_type": "code",
   "execution_count": null,
   "metadata": {},
   "outputs": [],
   "source": [
    "print([i for i in range(10)])\n",
    "L = [i//2 if i%2==0 else i*2 for i in range(10)]\n",
    "print(L)"
   ]
  },
  {
   "cell_type": "markdown",
   "metadata": {},
   "source": [
    "La sintaxis anterior puede utilizarse también en expresiones con varias variables:"
   ]
  },
  {
   "cell_type": "code",
   "execution_count": null,
   "metadata": {},
   "outputs": [],
   "source": [
    "# Evaluar |i+j| para i en {-5,..,5} y j en {-4,...,4} \n",
    "print([(i,j,i+j) if i+j>=0 else (i,j,-(i+j)) \n",
    "       for i in range(-5,6) for j in range(-4,5)])"
   ]
  },
  {
   "cell_type": "markdown",
   "metadata": {},
   "source": [
    "Para conocer todos los métodos aplicables a la clase `list`, puede emplearse la función `dir`: "
   ]
  },
  {
   "cell_type": "code",
   "execution_count": null,
   "metadata": {},
   "outputs": [],
   "source": [
    "dir(list)"
   ]
  },
  {
   "cell_type": "markdown",
   "metadata": {},
   "source": [
    "Como es usual, la función `help` permite obtener más ayuda acerca de un método específico:"
   ]
  },
  {
   "cell_type": "code",
   "execution_count": null,
   "metadata": {},
   "outputs": [],
   "source": [
    "help(list.index)"
   ]
  },
  {
   "cell_type": "code",
   "execution_count": null,
   "metadata": {},
   "outputs": [],
   "source": [
    "print(L)"
   ]
  },
  {
   "cell_type": "code",
   "execution_count": null,
   "metadata": {},
   "outputs": [],
   "source": [
    "print(L.index(3))\n",
    "print(L[6])"
   ]
  },
  {
   "cell_type": "code",
   "execution_count": null,
   "metadata": {},
   "outputs": [],
   "source": [
    "print(L.index(15))"
   ]
  },
  {
   "cell_type": "markdown",
   "metadata": {},
   "source": [
    "Para mayor información acerca de la clase `list` puede consultarse la documentación oficial de Python: https://docs.python.org/3/library/stdtypes.html#sequence-types-list-tuple-range."
   ]
  },
  {
   "cell_type": "code",
   "execution_count": null,
   "metadata": {},
   "outputs": [],
   "source": []
  }
 ],
 "metadata": {
  "kernelspec": {
   "display_name": "Python 3",
   "language": "python",
   "name": "python3"
  },
  "language_info": {
   "codemirror_mode": {
    "name": "ipython",
    "version": 3
   },
   "file_extension": ".py",
   "mimetype": "text/x-python",
   "name": "python",
   "nbconvert_exporter": "python",
   "pygments_lexer": "ipython3",
   "version": "3.8.10"
  }
 },
 "nbformat": 4,
 "nbformat_minor": 2
}
