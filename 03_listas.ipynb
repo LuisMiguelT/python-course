{
 "cells": [
  {
   "cell_type": "markdown",
   "metadata": {},
   "source": [
    "# Cuaderno 3: Listas (list)\n",
    "\n",
    "Lista de elementos separados por comas entre corchetes. Los elementos no necesariamente tienen que ser del mismo tipo."
   ]
  },
  {
   "cell_type": "markdown",
   "metadata": {},
   "source": [
    "### Aspectos básicos"
   ]
  },
  {
   "cell_type": "code",
   "execution_count": 1,
   "metadata": {},
   "outputs": [
    {
     "name": "stdout",
     "output_type": "stream",
     "text": [
      "['Hola mundo', 3.12, 408]\n",
      "<class 'list'>\n"
     ]
    }
   ],
   "source": [
    "L = ['Hola mundo', 3.12, 408]\n",
    "print(L)\n",
    "print(type(L))"
   ]
  },
  {
   "cell_type": "markdown",
   "metadata": {},
   "source": [
    "Los elementos de una lista pueden ser de cualquier tipo, incluso otras listas."
   ]
  },
  {
   "cell_type": "code",
   "execution_count": 2,
   "metadata": {},
   "outputs": [
    {
     "name": "stdout",
     "output_type": "stream",
     "text": [
      "['abc', 3, 4.214, ['x', 1], (0, 1)]\n"
     ]
    }
   ],
   "source": [
    "L2 = ['abc', 3, 4.214, [\"x\", 1], (0,1)]\n",
    "print(L2)"
   ]
  },
  {
   "cell_type": "markdown",
   "metadata": {},
   "source": [
    "Para acceder a los caracteres individuales de una lista se utilizan índices entre corchetes."
   ]
  },
  {
   "cell_type": "code",
   "execution_count": 3,
   "metadata": {},
   "outputs": [
    {
     "name": "stdout",
     "output_type": "stream",
     "text": [
      "Hola mundo\n",
      "408\n",
      "['Hola mundo', 3.12, 408]\n",
      "['Hola mundo', 31.4, 408]\n"
     ]
    }
   ],
   "source": [
    "print(L[0])\n",
    "print(L[2])\n",
    "print(L)\n",
    "L[1]= 31.4\n",
    "print(L)"
   ]
  },
  {
   "cell_type": "markdown",
   "metadata": {},
   "source": [
    "Una lista es un tipo *mutable*."
   ]
  },
  {
   "cell_type": "code",
   "execution_count": 4,
   "metadata": {},
   "outputs": [
    {
     "name": "stdout",
     "output_type": "stream",
     "text": [
      "['h', 31.4, 408]\n"
     ]
    }
   ],
   "source": [
    "L[0] = 'h'\n",
    "print(L)"
   ]
  },
  {
   "cell_type": "markdown",
   "metadata": {},
   "source": [
    "### Operaciones básicas\n",
    "Pueden emplearse los operadores **+** y __*__ con el mismo significado que para las cadenas de caracteres (strings), con la única diferencia de que el resultado es una nueva lista, no una cadena."
   ]
  },
  {
   "cell_type": "code",
   "execution_count": 5,
   "metadata": {},
   "outputs": [
    {
     "name": "stdout",
     "output_type": "stream",
     "text": [
      "['h', 31.4, 408]\n",
      "['h', 31.4, 408, 'h', 31.4, 408, 'h', 31.4, 408]\n"
     ]
    }
   ],
   "source": [
    "print (L)\n",
    "print(L * 3)"
   ]
  },
  {
   "cell_type": "code",
   "execution_count": 6,
   "metadata": {},
   "outputs": [
    {
     "name": "stdout",
     "output_type": "stream",
     "text": [
      "['h', 31.4, 408, 3, 'papas']\n",
      "['h', 31.4, 408]\n"
     ]
    }
   ],
   "source": [
    "print(L + [3, 'papas'])\n",
    "print(L)"
   ]
  },
  {
   "cell_type": "markdown",
   "metadata": {},
   "source": [
    "Los operadores **+=** y __*=__ combinan los operadores anteriores con la asignación."
   ]
  },
  {
   "cell_type": "code",
   "execution_count": 7,
   "metadata": {},
   "outputs": [
    {
     "name": "stdout",
     "output_type": "stream",
     "text": [
      "['Hola mundo', 3.14, 408]\n",
      "['Hola mundo', 3.14, 408, 'Hola mundo', 3.14, 408]\n",
      "['Hola mundo', 3.14, 408, 'Hola mundo', 3.14, 408, 3, 'papas']\n"
     ]
    }
   ],
   "source": [
    "L = ['Hola mundo', 3.14, 408]\n",
    "print(L)\n",
    "L*= 2 # L = L * 2\n",
    "print(L)\n",
    "L+= [3, 'papas'] # L = L + [3, 'papas']\n",
    "print(L)"
   ]
  },
  {
   "cell_type": "markdown",
   "metadata": {},
   "source": [
    "La función `len` devuelve la longitud de una lista."
   ]
  },
  {
   "cell_type": "code",
   "execution_count": 8,
   "metadata": {},
   "outputs": [
    {
     "name": "stdout",
     "output_type": "stream",
     "text": [
      "['Hola mundo', 3.14, 408, 'Hola mundo', 3.14, 408, 3, 'papas']\n",
      "8\n"
     ]
    }
   ],
   "source": [
    "print(L)\n",
    "print(len(L))"
   ]
  },
  {
   "cell_type": "markdown",
   "metadata": {},
   "source": [
    "El operador `in` consulta si un elemento pertenece a una lista, y devuelve según el caso el valor de `True` o `False`. "
   ]
  },
  {
   "cell_type": "code",
   "execution_count": 9,
   "metadata": {},
   "outputs": [
    {
     "name": "stdout",
     "output_type": "stream",
     "text": [
      "['Hola mundo', 3.14, 408, 'Hola mundo', 3.14, 408, 3, 'papas']\n",
      "True\n",
      "False\n"
     ]
    }
   ],
   "source": [
    "print(L)\n",
    "print('papas' in L)\n",
    "print(409 in L)"
   ]
  },
  {
   "cell_type": "markdown",
   "metadata": {},
   "source": [
    "Al igual que una cadena de caracteres, una lista es un iterable. El operador `in` puede utilizarse dentro de instrucciones de iteración `for` para recorrer los elementos de la lista."
   ]
  },
  {
   "cell_type": "code",
   "execution_count": 13,
   "metadata": {},
   "outputs": [
    {
     "name": "stdout",
     "output_type": "stream",
     "text": [
      "['Hola mundo', 3.14, 408, 'Hola mundo', 3.14, 408, 3, 'papas']\n",
      "Hola mundo\n",
      "3.14\n",
      "408\n",
      "Hola mundo\n",
      "3.14\n",
      "408\n",
      "3\n",
      "papas\n"
     ]
    }
   ],
   "source": [
    "print(L)\n",
    "for x in L:\n",
    "    print(x)"
   ]
  },
  {
   "cell_type": "markdown",
   "metadata": {},
   "source": [
    "De manera similar, una lista puede iterarse con la instrucción `while` en combinación con una variable de posición y con la función `len`:"
   ]
  },
  {
   "cell_type": "code",
   "execution_count": 14,
   "metadata": {},
   "outputs": [
    {
     "name": "stdout",
     "output_type": "stream",
     "text": [
      "['Hola mundo', 3.14, 408, 'Hola mundo', 3.14, 408, 3, 'papas']\n",
      "Hola mundo\n",
      "3.14\n",
      "408\n",
      "Hola mundo\n",
      "3.14\n",
      "408\n",
      "3\n",
      "papas\n"
     ]
    }
   ],
   "source": [
    "print(L)\n",
    "i=0\n",
    "while(i<len(L)):\n",
    "    print(L[i])\n",
    "    i+= 1"
   ]
  },
  {
   "cell_type": "markdown",
   "metadata": {},
   "source": [
    "### Extrayendo sublistas (slicing)\n",
    "\n",
    "Al igual que para cadenas de caracteres, puede utilizarse *slicing* para obtener sublistas. Recordar que se especifica el rango empleando la notación $[a:b]$, donde $b$ es el índice del elemento *posterior* al final del rango."
   ]
  },
  {
   "cell_type": "code",
   "execution_count": 10,
   "metadata": {},
   "outputs": [
    {
     "name": "stdout",
     "output_type": "stream",
     "text": [
      "['Hola mundo', 3.14, 408, 'Hola mundo', 3.14, 408, 3, 'papas']\n",
      "['Hola mundo', 3.14]\n",
      "[3.14, 408]\n"
     ]
    }
   ],
   "source": [
    "print(L)\n",
    "print(L[0:2])\n",
    "print(L[1:3])"
   ]
  },
  {
   "cell_type": "markdown",
   "metadata": {},
   "source": [
    "Se puede omitir el índice del inicio o del final del rango. En ese caso, se entiende que se se trata del primer o del último elemento, respectivamente."
   ]
  },
  {
   "cell_type": "code",
   "execution_count": 11,
   "metadata": {},
   "outputs": [
    {
     "name": "stdout",
     "output_type": "stream",
     "text": [
      "[3.14, 408, 'Hola mundo', 3.14, 408, 3, 'papas']\n",
      "['Hola mundo', 3.14]\n"
     ]
    }
   ],
   "source": [
    "print(L[1:])\n",
    "print(L[:2])"
   ]
  },
  {
   "cell_type": "markdown",
   "metadata": {},
   "source": [
    "El índice de -1 se refiere al último elemento, -2 al penúltimo elemento y así sucesivamente. "
   ]
  },
  {
   "cell_type": "code",
   "execution_count": 12,
   "metadata": {},
   "outputs": [
    {
     "name": "stdout",
     "output_type": "stream",
     "text": [
      "['Hola mundo', 3.14, 408, 'Hola mundo', 3.14, 408, 3, 'papas']\n",
      "papas\n",
      "['papas']\n",
      "3\n",
      "['Hola mundo', 3.14, 408, 'Hola mundo', 3.14, 408, 3]\n",
      "[3]\n"
     ]
    }
   ],
   "source": [
    "print(L)\n",
    "print(L[-1])\n",
    "print(L[-1:])\n",
    "print(L[-2])\n",
    "print(L[0:-1])\n",
    "print(L[-2:-1])"
   ]
  },
  {
   "cell_type": "markdown",
   "metadata": {},
   "source": [
    "Es importante observar la diferencia entre `L[i]`, que retorna el $i$-ésimo elemento de la lista `L` y `L[i:i+1]`, que retorna una sublista de longitud 1."
   ]
  },
  {
   "cell_type": "code",
   "execution_count": 13,
   "metadata": {},
   "outputs": [
    {
     "name": "stdout",
     "output_type": "stream",
     "text": [
      "['Hola mundo', 3.14, 408, 'Hola mundo', 3.14, 408, 3, 'papas']\n",
      "['Hola mundo']\n",
      "<class 'list'>\n",
      "Hola mundo\n",
      "<class 'str'>\n"
     ]
    }
   ],
   "source": [
    "print(L)\n",
    "# una sublista con el primer elemento de L\n",
    "print(L[0:1])\n",
    "print(type(L[0:1]))\n",
    "# el primer elemento de L\n",
    "print(L[0])\n",
    "print(type(L[0]))"
   ]
  },
  {
   "cell_type": "markdown",
   "metadata": {},
   "source": [
    "### IndexError:\n",
    "Los índices fuera de rango producen un error (excepción) del tipo *IndexError*."
   ]
  },
  {
   "cell_type": "code",
   "execution_count": 14,
   "metadata": {},
   "outputs": [
    {
     "ename": "IndexError",
     "evalue": "list index out of range",
     "output_type": "error",
     "traceback": [
      "\u001b[0;31m---------------------------------------------------------------------------\u001b[0m",
      "\u001b[0;31mIndexError\u001b[0m                                Traceback (most recent call last)",
      "\u001b[0;32m<ipython-input-14-f9385100252a>\u001b[0m in \u001b[0;36m<module>\u001b[0;34m\u001b[0m\n\u001b[0;32m----> 1\u001b[0;31m \u001b[0mprint\u001b[0m\u001b[0;34m(\u001b[0m\u001b[0mL\u001b[0m\u001b[0;34m[\u001b[0m\u001b[0;36m20\u001b[0m\u001b[0;34m]\u001b[0m\u001b[0;34m)\u001b[0m\u001b[0;34m\u001b[0m\u001b[0;34m\u001b[0m\u001b[0m\n\u001b[0m",
      "\u001b[0;31mIndexError\u001b[0m: list index out of range"
     ]
    }
   ],
   "source": [
    "print(L[20])"
   ]
  },
  {
   "cell_type": "markdown",
   "metadata": {},
   "source": [
    "### Otras funciones y métodos útiles.\n",
    "\n",
    "Las listas son estructuras de datos *mutables*, lo que significa que pueden ser alteradas, agregando o eliminando elementos, o modificando elementos existentes. "
   ]
  },
  {
   "cell_type": "markdown",
   "metadata": {},
   "source": [
    "La función **del L$[a:b]$** elimina todos los elementos en el rango $[a,b]$."
   ]
  },
  {
   "cell_type": "code",
   "execution_count": 16,
   "metadata": {},
   "outputs": [
    {
     "name": "stdout",
     "output_type": "stream",
     "text": [
      "['Hola mundo', 3.14, 'Hola mundo', 3, 'papas']\n",
      "['Hola mundo', 3.14, 3, 'papas']\n",
      "['Hola mundo', 3.14, 3]\n"
     ]
    }
   ],
   "source": [
    "print(L)\n",
    "del L[2]\n",
    "print(L)\n",
    "del L[3:5]\n",
    "print(L)"
   ]
  },
  {
   "cell_type": "markdown",
   "metadata": {},
   "source": [
    "El método **L.append()** agrega un elemento (de cualquier tipo) al final de la lista *L*. "
   ]
  },
  {
   "cell_type": "code",
   "execution_count": 17,
   "metadata": {},
   "outputs": [
    {
     "name": "stdout",
     "output_type": "stream",
     "text": [
      "['Hola mundo', 3.14, 3, 'hola']\n"
     ]
    }
   ],
   "source": [
    "L.append('hola')\n",
    "print(L)"
   ]
  },
  {
   "cell_type": "markdown",
   "metadata": {},
   "source": [
    "El método **L.pop(i)** devuelve el elemento con índice *i* de la lista *L* y lo elimina de la lista. Si el parámetro *i* se omite, devuelve y elimina el último elemento."
   ]
  },
  {
   "cell_type": "code",
   "execution_count": 18,
   "metadata": {},
   "outputs": [
    {
     "name": "stdout",
     "output_type": "stream",
     "text": [
      "['Hola mundo', 3.14, 3, 'hola']\n",
      "3\n",
      "['Hola mundo', 3.14, 'hola']\n",
      "hola\n",
      "['Hola mundo', 3.14]\n"
     ]
    }
   ],
   "source": [
    "#print(L.pop()) elimina el último elemento de la lista L*\n",
    "print(L)\n",
    "print(L.pop(2))\n",
    "print(L)\n",
    "print(L.pop())\n",
    "print(L)"
   ]
  },
  {
   "cell_type": "markdown",
   "metadata": {},
   "source": [
    "El método __L.insert(i)__ inserta un elemento en la lista *L*, en la posición establecida de acuerdo al índice *i*."
   ]
  },
  {
   "cell_type": "code",
   "execution_count": 19,
   "metadata": {
    "scrolled": true
   },
   "outputs": [
    {
     "name": "stdout",
     "output_type": "stream",
     "text": [
      "['Hola mundo', 3.14]\n",
      "['Hola mundo', 'papas', 3.14]\n"
     ]
    }
   ],
   "source": [
    "print(L)\n",
    "L.insert(1, 'papas')\n",
    "print(L)"
   ]
  },
  {
   "cell_type": "markdown",
   "metadata": {},
   "source": [
    "El método **L.remove()** toma un elemento como argumento y lo elimina de la lista *L*.\n"
   ]
  },
  {
   "cell_type": "code",
   "execution_count": 20,
   "metadata": {},
   "outputs": [
    {
     "name": "stdout",
     "output_type": "stream",
     "text": [
      "['Hola mundo', 3.14]\n"
     ]
    }
   ],
   "source": [
    "L.remove('papas')\n",
    "print(L)"
   ]
  },
  {
   "cell_type": "markdown",
   "metadata": {},
   "source": [
    "A diferencia del método **L.pop()**, este método no devuelve ningún valor."
   ]
  },
  {
   "cell_type": "code",
   "execution_count": 21,
   "metadata": {},
   "outputs": [
    {
     "name": "stdout",
     "output_type": "stream",
     "text": [
      "['Hola mundo', 3.14]\n",
      "None\n",
      "[3.14]\n"
     ]
    }
   ],
   "source": [
    "print(L)\n",
    "print(L.remove('Hola mundo'))\n",
    "print(L)"
   ]
  },
  {
   "cell_type": "markdown",
   "metadata": {},
   "source": [
    "El método **L.extend(L2)** extiende la lista *L* colocando al final de la misma los elementos de *L2*. Es equivalente a realizar la operación *L=L+L2*."
   ]
  },
  {
   "cell_type": "code",
   "execution_count": 22,
   "metadata": {},
   "outputs": [
    {
     "name": "stdout",
     "output_type": "stream",
     "text": [
      "[3.12, 6, -1, 20, 5]\n",
      "[3.12, 6, -1, 20, 5]\n"
     ]
    }
   ],
   "source": [
    "L  = [3.12, 6]\n",
    "L2 = [-1, 20, 5]\n",
    "L.extend(L2)\n",
    "print (L)\n",
    "L  = [3.12, 6]\n",
    "L2 = [-1, 20, 5]\n",
    "L  += L2 # igual que L = L + L2\n",
    "print (L)"
   ]
  },
  {
   "cell_type": "markdown",
   "metadata": {},
   "source": [
    "El método **L.sort()** ordena los elementos de la lista *L* de forma ascendente. Cuando hay tipos mezclados, Python da un error `TypeError`."
   ]
  },
  {
   "cell_type": "code",
   "execution_count": 23,
   "metadata": {},
   "outputs": [
    {
     "name": "stdout",
     "output_type": "stream",
     "text": [
      "[3.12, 6, -1, 20, 5]\n",
      "[-1, 3.12, 5, 6, 20]\n",
      "['casa', 'perro', 'gato', 'libro', 'monitor']\n",
      "['casa', 'gato', 'libro', 'monitor', 'perro']\n"
     ]
    },
    {
     "ename": "TypeError",
     "evalue": "'<' not supported between instances of 'int' and 'str'",
     "output_type": "error",
     "traceback": [
      "\u001b[0;31m---------------------------------------------------------------------------\u001b[0m",
      "\u001b[0;31mTypeError\u001b[0m                                 Traceback (most recent call last)",
      "\u001b[0;32m<ipython-input-23-500c138c3145>\u001b[0m in \u001b[0;36m<module>\u001b[0;34m\u001b[0m\n\u001b[1;32m      7\u001b[0m \u001b[0mprint\u001b[0m\u001b[0;34m(\u001b[0m\u001b[0mL2\u001b[0m\u001b[0;34m)\u001b[0m\u001b[0;34m\u001b[0m\u001b[0;34m\u001b[0m\u001b[0m\n\u001b[1;32m      8\u001b[0m \u001b[0mL2\u001b[0m \u001b[0;34m=\u001b[0m \u001b[0mL2\u001b[0m \u001b[0;34m+\u001b[0m \u001b[0;34m[\u001b[0m\u001b[0;36m3\u001b[0m\u001b[0;34m,\u001b[0m \u001b[0;36m5\u001b[0m\u001b[0;34m,\u001b[0m \u001b[0;34m-\u001b[0m\u001b[0;36m1\u001b[0m\u001b[0;34m,\u001b[0m \u001b[0;36m2.5\u001b[0m\u001b[0;34m,\u001b[0m \u001b[0;34m'sapo'\u001b[0m\u001b[0;34m]\u001b[0m\u001b[0;34m\u001b[0m\u001b[0;34m\u001b[0m\u001b[0m\n\u001b[0;32m----> 9\u001b[0;31m \u001b[0mL2\u001b[0m\u001b[0;34m.\u001b[0m\u001b[0msort\u001b[0m\u001b[0;34m(\u001b[0m\u001b[0;34m)\u001b[0m\u001b[0;34m\u001b[0m\u001b[0;34m\u001b[0m\u001b[0m\n\u001b[0m\u001b[1;32m     10\u001b[0m \u001b[0mprint\u001b[0m\u001b[0;34m(\u001b[0m\u001b[0mL2\u001b[0m\u001b[0;34m)\u001b[0m\u001b[0;34m\u001b[0m\u001b[0;34m\u001b[0m\u001b[0m\n",
      "\u001b[0;31mTypeError\u001b[0m: '<' not supported between instances of 'int' and 'str'"
     ]
    }
   ],
   "source": [
    "print(L)\n",
    "L.sort()\n",
    "print(L)\n",
    "L2 = ['casa', 'perro', 'gato', 'libro', 'monitor']\n",
    "print(L2)\n",
    "L2.sort()\n",
    "print(L2)\n",
    "L2 = L2 + [3, 5, -1, 2.5, 'sapo']\n",
    "L2.sort()\n",
    "print(L2)"
   ]
  },
  {
   "cell_type": "markdown",
   "metadata": {},
   "source": [
    "Para que el método **L.sort()** ordene de forma descendente la lista *L*, se añade un argumento opcional *reverse*. "
   ]
  },
  {
   "cell_type": "code",
   "execution_count": 24,
   "metadata": {},
   "outputs": [
    {
     "name": "stdout",
     "output_type": "stream",
     "text": [
      "[20, 6, 5, 3.12, -1]\n"
     ]
    }
   ],
   "source": [
    "L.sort(reverse=True)\n",
    "print(L)"
   ]
  },
  {
   "cell_type": "markdown",
   "metadata": {},
   "source": [
    "El método **L.reverse()** invierte el orden actual de los elementos de la lista *L*."
   ]
  },
  {
   "cell_type": "code",
   "execution_count": 25,
   "metadata": {},
   "outputs": [
    {
     "name": "stdout",
     "output_type": "stream",
     "text": [
      "[8.3321, 7, 'carro']\n"
     ]
    }
   ],
   "source": [
    "L = ['carro', 7, 8.3321]\n",
    "L.reverse()\n",
    "print(L)"
   ]
  },
  {
   "cell_type": "markdown",
   "metadata": {},
   "source": [
    "### Conversión entre listas y cadenas de caracteres\n",
    "La función `list` transforma una cadena de caracteres en una lista. "
   ]
  },
  {
   "cell_type": "code",
   "execution_count": 26,
   "metadata": {},
   "outputs": [
    {
     "name": "stdout",
     "output_type": "stream",
     "text": [
      "['H', 'o', 'l', 'a', ' ', 'm', 'u', 'n', 'd', 'o']\n",
      "['h', 'o', 'l', 'a', ' ', 'm', 'u', 'n', 'd', 'o']\n"
     ]
    }
   ],
   "source": [
    "S=\"Hola mundo\"\n",
    "L = list(S)\n",
    "print(L)\n",
    "L[0]='h'\n",
    "print(L)"
   ]
  },
  {
   "cell_type": "markdown",
   "metadata": {},
   "source": [
    "El método `S.join` junta el contenido de una lista para producir una cadena de caracteres. El contenido de `S` se usa como separador de la cadena."
   ]
  },
  {
   "cell_type": "code",
   "execution_count": 27,
   "metadata": {},
   "outputs": [
    {
     "name": "stdout",
     "output_type": "stream",
     "text": [
      "['h', 'o', 'l', 'a', ' ', 'm', 'u', 'n', 'd', 'o']\n",
      "hola mundo\n",
      "h o l a   m u n d o\n",
      "h,o,l,a, ,m,u,n,d,o\n",
      "h*bla*o*bla*l*bla*a*bla* *bla*m*bla*u*bla*n*bla*d*bla*o\n"
     ]
    }
   ],
   "source": [
    "print(L)\n",
    "print(''.join(L)) # sin separador (solamente juntar)\n",
    "print(' '.join(L)) # separados por espacios\n",
    "print(','.join(L))  # separados por comas\n",
    "print('*bla*'.join(L))  # el separador puede ser una cadena"
   ]
  },
  {
   "cell_type": "markdown",
   "metadata": {},
   "source": [
    "El método `S.split(c)` transforma la cadena `S` en una lista de subcadenas, separándolas de acuerdo al delimitador especificado. Si no se proporciona un delimitador, se emplea el espacio en blanco por defecto."
   ]
  },
  {
   "cell_type": "code",
   "execution_count": 28,
   "metadata": {},
   "outputs": [
    {
     "name": "stdout",
     "output_type": "stream",
     "text": [
      "['Pablo', '3.1213', '0023']\n",
      "Hola mundo\n",
      "['Hola', 'mundo']\n"
     ]
    }
   ],
   "source": [
    "linea = 'Pablo,3.1213,0023'\n",
    "print(linea.split(','))\n",
    "print(S)\n",
    "print(S.split()) # por defecto el delimitador es el espacio en blanco"
   ]
  },
  {
   "cell_type": "markdown",
   "metadata": {},
   "source": [
    "### Listas multidimensionales y matrices\n",
    "\n",
    "Una matriz *M* puede verse como una lista de listas. El primer elemento de la lista coresponde a la primera fila de la matriz, y así sucesivamente."
   ]
  },
  {
   "cell_type": "code",
   "execution_count": 29,
   "metadata": {},
   "outputs": [
    {
     "name": "stdout",
     "output_type": "stream",
     "text": [
      "[[1, 2, 3, 2], [4, 5, 6, 3], [7, 8, 9, -1]]\n",
      "3\n",
      "4\n"
     ]
    }
   ],
   "source": [
    "M = [[1, 2, 3, 2], [4, 5, 6, 3], [7, 8, 9, -1]]\n",
    "print(M)\n",
    "print(len(M))\n",
    "print(len(M[1]))"
   ]
  },
  {
   "cell_type": "markdown",
   "metadata": {},
   "source": [
    "Para acceder a la matriz *M* se utilizan indices entre corchetes."
   ]
  },
  {
   "cell_type": "code",
   "execution_count": 30,
   "metadata": {},
   "outputs": [
    {
     "name": "stdout",
     "output_type": "stream",
     "text": [
      "[1, 2, 3, 2]\n",
      "6\n"
     ]
    }
   ],
   "source": [
    "print(M[0])\n",
    "print(M[1][2])"
   ]
  },
  {
   "cell_type": "markdown",
   "metadata": {},
   "source": [
    "Las listas internas no necesariamente deben tener la misma dimensión."
   ]
  },
  {
   "cell_type": "code",
   "execution_count": 31,
   "metadata": {},
   "outputs": [
    {
     "name": "stdout",
     "output_type": "stream",
     "text": [
      "[2, 3, 4]\n",
      "2\n"
     ]
    }
   ],
   "source": [
    "G = [[2, 3, 4], [3, 4], [1, 2]]\n",
    "print(G[0])\n",
    "print(G[2][1])"
   ]
  },
  {
   "cell_type": "markdown",
   "metadata": {},
   "source": [
    "### Generación de listas (list comprehensions)\n",
    "Las `list comprehensions` en Python nos proporcionan una forma breve y concisa de construir  listas utilizando el concepto de *expresiones generadoras*. \n"
   ]
  },
  {
   "cell_type": "code",
   "execution_count": 32,
   "metadata": {},
   "outputs": [
    {
     "name": "stdout",
     "output_type": "stream",
     "text": [
      "[[1, 2, 3, 2], [4, 5, 6, 3], [7, 8, 9, -1]]\n",
      "[1, 2, 3, 2]\n",
      "[2, 5, 8]\n",
      "[[1, 2, 3, 2, 1, 2, 3, 2], [4, 5, 6, 3, 4, 5, 6, 3], [7, 8, 9, -1, 7, 8, 9, -1]]\n",
      "[1, 4, 25]\n"
     ]
    }
   ],
   "source": [
    "print(M)\n",
    "print(M[0])\n",
    "col2 = [x[1] for x in M]\n",
    "print(col2)\n",
    "print([fila*2 for fila in M])\n",
    "print([i*i for i in [1,2,5]])"
   ]
  },
  {
   "cell_type": "code",
   "execution_count": 33,
   "metadata": {},
   "outputs": [
    {
     "name": "stdout",
     "output_type": "stream",
     "text": [
      "[1, 5, 9]\n"
     ]
    }
   ],
   "source": [
    "diag = [M[i][i] for i in [0, 1, 2]]\n",
    "print(diag)"
   ]
  },
  {
   "cell_type": "code",
   "execution_count": 34,
   "metadata": {},
   "outputs": [
    {
     "name": "stdout",
     "output_type": "stream",
     "text": [
      "[[3, 6, 9], [5, 10, 15], [7, 14, 21], [10, 20, 30]]\n"
     ]
    }
   ],
   "source": [
    "M2 = [[i, 2*i, 3*i] for i in [3, 5, 7, 10]]\n",
    "print(M2)"
   ]
  },
  {
   "cell_type": "code",
   "execution_count": 36,
   "metadata": {},
   "outputs": [
    {
     "name": "stdout",
     "output_type": "stream",
     "text": [
      "['UUUUUUUUUU', 'nnnnnnnnnn', 'aaaaaaaaaa', '          ', 'cccccccccc', 'aaaaaaaaaa', 'dddddddddd', 'eeeeeeeeee', 'nnnnnnnnnn', 'aaaaaaaaaa', '          ', 'cccccccccc', 'uuuuuuuuuu', 'aaaaaaaaaa', 'llllllllll', 'qqqqqqqqqq', 'uuuuuuuuuu', 'iiiiiiiiii', 'eeeeeeeeee', 'rrrrrrrrrr', 'aaaaaaaaaa', '          ', 'dddddddddd', 'eeeeeeeeee', '          ', 'cccccccccc', 'aaaaaaaaaa', 'rrrrrrrrrr', 'aaaaaaaaaa', 'cccccccccc', 'tttttttttt', 'eeeeeeeeee', 'rrrrrrrrrr', 'eeeeeeeeee', 'ssssssssss']\n",
      "UUUUUUUUUUnnnnnnnnnnaaaaaaaaaa          ccccccccccaaaaaaaaaaddddddddddeeeeeeeeeennnnnnnnnnaaaaaaaaaa          ccccccccccuuuuuuuuuuaaaaaaaaaallllllllllqqqqqqqqqquuuuuuuuuuiiiiiiiiiieeeeeeeeeerrrrrrrrrraaaaaaaaaa          ddddddddddeeeeeeeeee          ccccccccccaaaaaaaaaarrrrrrrrrraaaaaaaaaacccccccccctttttttttteeeeeeeeeerrrrrrrrrreeeeeeeeeessssssssss\n"
     ]
    }
   ],
   "source": [
    "S = \"Una cadena cualquiera de caracteres\"\n",
    "doble_hola = [c*10 for c in S]\n",
    "print(doble_hola)\n",
    "print(''.join(doble_hola))"
   ]
  },
  {
   "cell_type": "code",
   "execution_count": 37,
   "metadata": {},
   "outputs": [
    {
     "name": "stdout",
     "output_type": "stream",
     "text": [
      "[[1, 2, 3, 2], [4, 5, 6, 3], [7, 8, 9, -1]]\n",
      "[8, 18, 23]\n"
     ]
    }
   ],
   "source": [
    "print(M)\n",
    "sumas = [sum(fila) for fila in M]\n",
    "print(sumas)"
   ]
  },
  {
   "cell_type": "code",
   "execution_count": 40,
   "metadata": {},
   "outputs": [
    {
     "name": "stdout",
     "output_type": "stream",
     "text": [
      "[[1, 2, 3, 2], [4, 5, 6, 3], [7, 8, 9, -1]]\n",
      "[[4, 5, 6, 3], [7, 8, 9, -1]]\n",
      "[1, 9, 49, 25]\n"
     ]
    }
   ],
   "source": [
    "print(M)\n",
    "filtrar_filas = [fila for fila in M if fila[2] < fila[0]+fila[1]]\n",
    "print(filtrar_filas)\n",
    "L = [i*i for i in [1,3,6, 7, 4, 5] if i%2!=0]\n",
    "print(L)"
   ]
  },
  {
   "cell_type": "markdown",
   "metadata": {},
   "source": [
    "La función **range(n)** retorna una lista con los elementos *0, 1, ..., n-1*."
   ]
  },
  {
   "cell_type": "code",
   "execution_count": 46,
   "metadata": {},
   "outputs": [
    {
     "name": "stdout",
     "output_type": "stream",
     "text": [
      "range(1, 10, 2)\n",
      "[1, 3, 5, 7, 9]\n",
      "[9, 16, 25, 36, 49, 64, 81, 100, 121, 144, 169, 196, 225, 256, 289, 324, 361, 400, 441, 484, 529, 576, 625, 676, 729, 784, 841, 900, 961, 1024, 1089, 1156, 1225, 1296, 1369, 1444, 1521, 1600, 1681, 1764, 1849, 1936, 2025, 2116, 2209, 2304, 2401, 2500, 2601, 2704, 2809, 2916, 3025, 3136, 3249, 3364, 3481, 3600, 3721, 3844, 3969, 4096, 4225, 4356, 4489, 4624, 4761, 4900, 5041, 5184, 5329, 5476, 5625, 5776, 5929, 6084, 6241, 6400, 6561, 6724, 6889, 7056, 7225, 7396, 7569, 7744, 7921, 8100, 8281, 8464, 8649, 8836, 9025, 9216, 9409, 9604, 9801]\n"
     ]
    }
   ],
   "source": [
    "print(range(1, 10, 2))\n",
    "print([i for i in range(1, 10, 2)])\n",
    "print([i*i for i in range(3, 100)])"
   ]
  },
  {
   "cell_type": "markdown",
   "metadata": {},
   "source": [
    "Opcionalmente, puede usarse en la forma **range(a, b, k)** para retornar una lista con los elementos *a, a+k, a+2k,...*. La lista termina con el mayor elemento de la forma *a + nk* que sea estrictamente menor a *b*."
   ]
  },
  {
   "cell_type": "code",
   "execution_count": 47,
   "metadata": {},
   "outputs": [
    {
     "name": "stdout",
     "output_type": "stream",
     "text": [
      "[0, 100, 200, 300, 400, 500, 600, 700, 800, 900]\n"
     ]
    }
   ],
   "source": [
    "print([i for i in range(0, 1000, 100)])"
   ]
  },
  {
   "cell_type": "code",
   "execution_count": 48,
   "metadata": {},
   "outputs": [
    {
     "name": "stdout",
     "output_type": "stream",
     "text": [
      "[[-10, -30, 100], [-8, -24, 64], [-6, -18, 36], [-4, -12, 16], [-2, -6, 4], [0, 0, 0], [2, 6, 4], [4, 12, 16], [6, 18, 36], [8, 24, 64]]\n"
     ]
    }
   ],
   "source": [
    "M3 = [[i, 3*i, i**2] for i in range(-10, 10, 2)]\n",
    "print(M3)"
   ]
  },
  {
   "cell_type": "code",
   "execution_count": 50,
   "metadata": {},
   "outputs": [
    {
     "name": "stdout",
     "output_type": "stream",
     "text": [
      "[-30, -24, -18, -12, -6, 0, 6, 12, 18, 24]\n",
      "[-10, -8, -6, -4, -2, 0, 2, 4, 6, 8]\n"
     ]
    }
   ],
   "source": [
    "c2 = [fila[1] for fila in M3]\n",
    "print(c2)\n",
    "c1 = [i//3 for i in c2]\n",
    "print(c1)"
   ]
  },
  {
   "cell_type": "markdown",
   "metadata": {},
   "source": [
    "Las expresiones generadoras pueden depender de más de una variable:"
   ]
  },
  {
   "cell_type": "code",
   "execution_count": 51,
   "metadata": {},
   "outputs": [
    {
     "name": "stdout",
     "output_type": "stream",
     "text": [
      "[(0, 2, 2), (0, 3, 3), (0, 4, 4), (1, 2, 3), (1, 3, 4), (1, 4, 5), (2, 2, 4), (2, 3, 5), (2, 4, 6), (3, 2, 5), (3, 3, 6), (3, 4, 7), (4, 2, 6), (4, 3, 7), (4, 4, 8), (5, 2, 7), (5, 3, 8), (5, 4, 9), (6, 2, 8), (6, 3, 9), (6, 4, 10), (7, 2, 9), (7, 3, 10), (7, 4, 11), (8, 2, 10), (8, 3, 11), (8, 4, 12), (9, 2, 11), (9, 3, 12), (9, 4, 13)]\n",
      "\n",
      "[(0, 2, 2), (0, 3, 3), (0, 4, 4), (1, 2, 3), (1, 3, 4), (1, 4, 5), (2, 3, 5), (2, 4, 6), (3, 4, 7)]\n"
     ]
    }
   ],
   "source": [
    "print([(i, j, i+j) for i in range(10) for j in range(2,5)])\n",
    "print()\n",
    "print([(i, j, i+j) for i in range(10) for j in range(2,5) if i < j])\n"
   ]
  },
  {
   "cell_type": "markdown",
   "metadata": {},
   "source": [
    "Las expresiones generadoras pueden contener también una componente `else`, en cuyo caso el orden de sus componentes es `<valor1> if <condicion> else <valor2> for ...`. Los elementos de la lista generada toman el `valor1` cada vez que `condicion` es verdadera y caso contrario el `valor2`: "
   ]
  },
  {
   "cell_type": "code",
   "execution_count": 52,
   "metadata": {},
   "outputs": [
    {
     "name": "stdout",
     "output_type": "stream",
     "text": [
      "[0, 2, 1, 6, 2, 10, 3, 14, 4, 18]\n"
     ]
    }
   ],
   "source": [
    "L = [i//2 if i%2==0 else i*2 for i in range(10)]\n",
    "print(L)"
   ]
  },
  {
   "cell_type": "markdown",
   "metadata": {},
   "source": [
    "La sintaxis anterior puede utilizarse también en expresiones con varias variables:"
   ]
  },
  {
   "cell_type": "code",
   "execution_count": 53,
   "metadata": {},
   "outputs": [
    {
     "name": "stdout",
     "output_type": "stream",
     "text": [
      "[(-5, -4, 9), (-5, -3, 8), (-5, -2, 7), (-5, -1, 6), (-5, 0, 5), (-5, 1, 4), (-5, 2, 3), (-5, 3, 2), (-5, 4, 1), (-4, -4, 8), (-4, -3, 7), (-4, -2, 6), (-4, -1, 5), (-4, 0, 4), (-4, 1, 3), (-4, 2, 2), (-4, 3, 1), (-4, 4, 0), (-3, -4, 7), (-3, -3, 6), (-3, -2, 5), (-3, -1, 4), (-3, 0, 3), (-3, 1, 2), (-3, 2, 1), (-3, 3, 0), (-3, 4, 1), (-2, -4, 6), (-2, -3, 5), (-2, -2, 4), (-2, -1, 3), (-2, 0, 2), (-2, 1, 1), (-2, 2, 0), (-2, 3, 1), (-2, 4, 2), (-1, -4, 5), (-1, -3, 4), (-1, -2, 3), (-1, -1, 2), (-1, 0, 1), (-1, 1, 0), (-1, 2, 1), (-1, 3, 2), (-1, 4, 3), (0, -4, 4), (0, -3, 3), (0, -2, 2), (0, -1, 1), (0, 0, 0), (0, 1, 1), (0, 2, 2), (0, 3, 3), (0, 4, 4), (1, -4, 3), (1, -3, 2), (1, -2, 1), (1, -1, 0), (1, 0, 1), (1, 1, 2), (1, 2, 3), (1, 3, 4), (1, 4, 5), (2, -4, 2), (2, -3, 1), (2, -2, 0), (2, -1, 1), (2, 0, 2), (2, 1, 3), (2, 2, 4), (2, 3, 5), (2, 4, 6), (3, -4, 1), (3, -3, 0), (3, -2, 1), (3, -1, 2), (3, 0, 3), (3, 1, 4), (3, 2, 5), (3, 3, 6), (3, 4, 7), (4, -4, 0), (4, -3, 1), (4, -2, 2), (4, -1, 3), (4, 0, 4), (4, 1, 5), (4, 2, 6), (4, 3, 7), (4, 4, 8), (5, -4, 1), (5, -3, 2), (5, -2, 3), (5, -1, 4), (5, 0, 5), (5, 1, 6), (5, 2, 7), (5, 3, 8), (5, 4, 9)]\n"
     ]
    }
   ],
   "source": [
    "# Evaluar |i+j| para i,j en {-5,..,5} \n",
    "print([(i,j,i+j) if i+j>=0 else (i,j,-(i+j)) for i in range(-5,6) for j in range(-4,5)])"
   ]
  },
  {
   "cell_type": "code",
   "execution_count": 54,
   "metadata": {},
   "outputs": [
    {
     "data": {
      "text/plain": [
       "['__add__',\n",
       " '__class__',\n",
       " '__contains__',\n",
       " '__delattr__',\n",
       " '__delitem__',\n",
       " '__dir__',\n",
       " '__doc__',\n",
       " '__eq__',\n",
       " '__format__',\n",
       " '__ge__',\n",
       " '__getattribute__',\n",
       " '__getitem__',\n",
       " '__gt__',\n",
       " '__hash__',\n",
       " '__iadd__',\n",
       " '__imul__',\n",
       " '__init__',\n",
       " '__init_subclass__',\n",
       " '__iter__',\n",
       " '__le__',\n",
       " '__len__',\n",
       " '__lt__',\n",
       " '__mul__',\n",
       " '__ne__',\n",
       " '__new__',\n",
       " '__reduce__',\n",
       " '__reduce_ex__',\n",
       " '__repr__',\n",
       " '__reversed__',\n",
       " '__rmul__',\n",
       " '__setattr__',\n",
       " '__setitem__',\n",
       " '__sizeof__',\n",
       " '__str__',\n",
       " '__subclasshook__',\n",
       " 'append',\n",
       " 'clear',\n",
       " 'copy',\n",
       " 'count',\n",
       " 'extend',\n",
       " 'index',\n",
       " 'insert',\n",
       " 'pop',\n",
       " 'remove',\n",
       " 'reverse',\n",
       " 'sort']"
      ]
     },
     "execution_count": 54,
     "metadata": {},
     "output_type": "execute_result"
    }
   ],
   "source": [
    "dir(list)"
   ]
  },
  {
   "cell_type": "code",
   "execution_count": 55,
   "metadata": {},
   "outputs": [
    {
     "name": "stdout",
     "output_type": "stream",
     "text": [
      "Help on method_descriptor:\n",
      "\n",
      "index(self, value, start=0, stop=9223372036854775807, /)\n",
      "    Return first index of value.\n",
      "    \n",
      "    Raises ValueError if the value is not present.\n",
      "\n"
     ]
    }
   ],
   "source": [
    "help(list.index)"
   ]
  },
  {
   "cell_type": "code",
   "execution_count": 56,
   "metadata": {},
   "outputs": [
    {
     "name": "stdout",
     "output_type": "stream",
     "text": [
      "[0, 2, 1, 6, 2, 10, 3, 14, 4, 18]\n"
     ]
    }
   ],
   "source": [
    "print(L)"
   ]
  },
  {
   "cell_type": "code",
   "execution_count": 59,
   "metadata": {},
   "outputs": [
    {
     "ename": "ValueError",
     "evalue": "20 is not in list",
     "output_type": "error",
     "traceback": [
      "\u001b[0;31m---------------------------------------------------------------------------\u001b[0m",
      "\u001b[0;31mValueError\u001b[0m                                Traceback (most recent call last)",
      "\u001b[0;32m<ipython-input-59-be77dc691de4>\u001b[0m in \u001b[0;36m<module>\u001b[0;34m\u001b[0m\n\u001b[0;32m----> 1\u001b[0;31m \u001b[0mprint\u001b[0m\u001b[0;34m(\u001b[0m\u001b[0mL\u001b[0m\u001b[0;34m.\u001b[0m\u001b[0mindex\u001b[0m\u001b[0;34m(\u001b[0m\u001b[0;36m20\u001b[0m\u001b[0;34m)\u001b[0m\u001b[0;34m)\u001b[0m\u001b[0;34m\u001b[0m\u001b[0;34m\u001b[0m\u001b[0m\n\u001b[0m",
      "\u001b[0;31mValueError\u001b[0m: 20 is not in list"
     ]
    }
   ],
   "source": [
    "print(L.index(20))"
   ]
  },
  {
   "cell_type": "code",
   "execution_count": 58,
   "metadata": {},
   "outputs": [
    {
     "name": "stdout",
     "output_type": "stream",
     "text": [
      "6\n"
     ]
    }
   ],
   "source": [
    "print(L[3])"
   ]
  },
  {
   "cell_type": "code",
   "execution_count": null,
   "metadata": {},
   "outputs": [],
   "source": []
  }
 ],
 "metadata": {
  "kernelspec": {
   "display_name": "Python 3",
   "language": "python",
   "name": "python3"
  },
  "language_info": {
   "codemirror_mode": {
    "name": "ipython",
    "version": 3
   },
   "file_extension": ".py",
   "mimetype": "text/x-python",
   "name": "python",
   "nbconvert_exporter": "python",
   "pygments_lexer": "ipython3",
   "version": "3.8.5"
  }
 },
 "nbformat": 4,
 "nbformat_minor": 2
}
