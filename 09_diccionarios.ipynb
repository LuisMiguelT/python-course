{
 "cells": [
  {
   "cell_type": "markdown",
   "metadata": {},
   "source": [
    "# Cuaderno 9: Diccionarios\n",
    "\n",
    "Un diccionario es un tipo de datos que consiste de una colección no ordenada de pares de *claves* y *valores*. Cada clave sirve para identificar al valor correspondiente.\n",
    " \n",
    "### Aspectos básicos\n",
    "\n",
    "Para definir un diccionario, se enumeran los pares clave-valor separados por comas y encerrados entre llaves. Las componentes *clave* y *valor* dentro de cada par se separan por dos puntos."
   ]
  },
  {
   "cell_type": "code",
   "execution_count": null,
   "metadata": {},
   "outputs": [],
   "source": [
    "D = {'nombre' : 'pablo', 'ciudad' : 'Quito', 'edad' : 43}\n",
    "print(D)\n",
    "print(type(D))"
   ]
  },
  {
   "cell_type": "markdown",
   "metadata": {},
   "source": [
    "Para acceder a los valores de un diccionario, se utiliza la clave entre corchetes, tal como si se tratara de un índice."
   ]
  },
  {
   "cell_type": "code",
   "execution_count": null,
   "metadata": {},
   "outputs": [],
   "source": [
    "print (D)\n",
    "print(D['ciudad'])\n",
    "print(D['edad'])"
   ]
  },
  {
   "cell_type": "markdown",
   "metadata": {},
   "source": [
    "En un diccionario cada clave debe ser única. Si se escriben elementos con claves duplicadas, se almacena únicamente el valor del último elemento."
   ]
  },
  {
   "cell_type": "code",
   "execution_count": null,
   "metadata": {},
   "outputs": [],
   "source": [
    "D = {'nombre' : 'pablo', 'ciudad' : 'Quito', 'edad':30, 'edad' : 43, 3 : 'valor', (1,2) : -5}\n",
    "print(D)\n",
    "print(D['nombre'])\n",
    "print(D['edad'])\n",
    "print(D[3])\n",
    "print(D[1,2])\n",
    "D[1,2] = 'tres'\n",
    "print(D)\n",
    "print(D[1,2])\n"
   ]
  },
  {
   "cell_type": "markdown",
   "metadata": {},
   "source": [
    "Al asignar un valor a una clave que no ha sido definida en el diccionario, se agrega automáticamente la entrada correspondiente:"
   ]
  },
  {
   "cell_type": "code",
   "execution_count": null,
   "metadata": {},
   "outputs": [],
   "source": [
    "D[1,1] = -4\n",
    "print (D)\n",
    "print(D[1,1])\n"
   ]
  },
  {
   "cell_type": "markdown",
   "metadata": {},
   "source": [
    "Por el contrario, el intento de acceder (para lectura) al valor asociado a una clave que no ha sido definida produce un error del tipo **KeyError**:"
   ]
  },
  {
   "cell_type": "code",
   "execution_count": null,
   "metadata": {},
   "outputs": [],
   "source": [
    "# no se ha definido ningún elemento que tenga como clave 4\n",
    "print(D[4])"
   ]
  },
  {
   "cell_type": "markdown",
   "metadata": {},
   "source": [
    "Los valores de un diccionario pueden ser de cualquier tipo."
   ]
  },
  {
   "cell_type": "code",
   "execution_count": null,
   "metadata": {},
   "outputs": [],
   "source": [
    "registro = { 'nombres' : {'nombre' : 'Pablo', 'apellido' : 'Perez'},#tipo diccionario\n",
    "             'titulos' : ['Ing', 'MSc'], #tipo lista\n",
    "             'edad' : 32} \n",
    "print(registro)\n",
    "# acceder al segundo valor de la lista asociada a la clave 'titulos'\n",
    "print(registro['titulos'])\n",
    "print(registro['titulos'][1])\n",
    "# acceder al valor asociado aprint(registro['titulos'][1]) la clave 'apellido' \n",
    "# dentro del subdiccionario asociado a la clave 'nombres'\n",
    "print(registro['nombres']['apellido'])"
   ]
  },
  {
   "cell_type": "markdown",
   "metadata": {},
   "source": [
    "Pero las claves deben ser de tipos de datos *inmutables* (números, cadenas de caracteres o tuplas)."
   ]
  },
  {
   "cell_type": "code",
   "execution_count": null,
   "metadata": {},
   "outputs": [],
   "source": [
    "D1 = { 'nombre' : 'carlos',\n",
    "      ['genero','NumHijos'] : ['masculino', 3], #clave tipo lista\n",
    "      'ciudad' : 'Guayaquil', 'edad' : 50} "
   ]
  },
  {
   "cell_type": "markdown",
   "metadata": {},
   "source": [
    "En el ejemplo anterior, es válido usar una tupla de cadenas de caracteres en lugar de una lista para la clave del segundo elemento."
   ]
  },
  {
   "cell_type": "code",
   "execution_count": null,
   "metadata": {},
   "outputs": [],
   "source": [
    "D1 = { 'nombre' : 'carlos',\n",
    "      ('genero','NumHijos') : ('masculino', 3),\n",
    "      'ciudad' : 'Guayaquil', \n",
    "      'edad' : 50}\n",
    "print (D1)"
   ]
  },
  {
   "cell_type": "markdown",
   "metadata": {},
   "source": [
    "Un diccionario no es inmutable."
   ]
  },
  {
   "cell_type": "code",
   "execution_count": null,
   "metadata": {},
   "outputs": [],
   "source": [
    "print (D1)\n",
    "D1['nombre'] = ['juan','pablo']\n",
    "print(D1)\n",
    "D1['pais'] = 'Ecuador'\n",
    "print(D1)"
   ]
  },
  {
   "cell_type": "markdown",
   "metadata": {},
   "source": [
    "**No** debe confundirse a la clave de un diccionario con el índice de posición en listas y tuplas. Recordar que un diccionario no es ordenado.  "
   ]
  },
  {
   "cell_type": "code",
   "execution_count": null,
   "metadata": {},
   "outputs": [],
   "source": [
    "D[0] = 'campo0'\n",
    "D[(1,2)] = 'campo<1,2>'\n",
    "print (D)\n",
    "print (D[(1,1)])"
   ]
  },
  {
   "cell_type": "markdown",
   "metadata": {},
   "source": [
    "### Iterando sobre diccionarios\n",
    "\n",
    "Los diccionarios son estructuras de datos iterables. El operador `in` itera por defecto sobre una lista que contiene las claves del diccionario; a través de las claves pueden obtenerse los valores correspondientes:"
   ]
  },
  {
   "cell_type": "code",
   "execution_count": null,
   "metadata": {},
   "outputs": [],
   "source": [
    "# iterar sobre las claves\n",
    "print(registro)\n",
    "print('--- Contenido del diccionario ---')\n",
    "print('Clave\\t\\t\\tValor')\n",
    "print('-----\\t\\t\\t-----')\n",
    "for i in registro:\n",
    "    print('{}\\t\\t\\t{}'.format(i, registro[i]))\n"
   ]
  },
  {
   "cell_type": "markdown",
   "metadata": {},
   "source": [
    "La función `sorted` retorna la lista de claves de un diccionario, luego de ordenarla:"
   ]
  },
  {
   "cell_type": "code",
   "execution_count": null,
   "metadata": {},
   "outputs": [],
   "source": [
    "print(sorted(registro))"
   ]
  },
  {
   "cell_type": "markdown",
   "metadata": {},
   "source": [
    "Usando la función `sorted` es posible iterar sobre la lista de claves ordenada:"
   ]
  },
  {
   "cell_type": "code",
   "execution_count": null,
   "metadata": {},
   "outputs": [],
   "source": [
    "# iterar sobre las claves ordenadas\n",
    "print(registro)\n",
    "print('\\n--- Contenido del diccionario ---')\n",
    "print('Clave\\t\\t\\tValor')\n",
    "print('-----\\t\\t\\t-----')\n",
    "for i in sorted(registro):\n",
    "    print('{}\\t\\t\\t{}'.format(i, registro[i]))\n"
   ]
  },
  {
   "cell_type": "markdown",
   "metadata": {},
   "source": [
    "La lista de claves puede obtenerse también de manera explícita llamando al método `keys()`."
   ]
  },
  {
   "cell_type": "code",
   "execution_count": null,
   "metadata": {},
   "outputs": [],
   "source": [
    "print(registro.keys())"
   ]
  },
  {
   "cell_type": "markdown",
   "metadata": {},
   "source": [
    "También es posible iterar directamente sobre los valores de un diccionario empleando el método `values`:"
   ]
  },
  {
   "cell_type": "code",
   "execution_count": null,
   "metadata": {},
   "outputs": [],
   "source": [
    "# iterar sobre los valores\n",
    "print(registro.values())\n",
    "print('\\n--- Valores del diccionario ---')\n",
    "for val in registro.values():\n",
    "    print(val)"
   ]
  },
  {
   "cell_type": "markdown",
   "metadata": {},
   "source": [
    "Por último, el método `items` permite iterar tanto sobre las claves como sobre los valores correspondientes. Observar que al usar este método, se recupera una tupla de longitud 2 (es decir, un par ordenado), cuyos elementos son asignados a dos variables distintas. Esta técnica es usual en Python y se conoce como **unpacking**."
   ]
  },
  {
   "cell_type": "code",
   "execution_count": null,
   "metadata": {},
   "outputs": [],
   "source": [
    "print(registro.items())\n",
    "# iterar sobre claves y valores\n",
    "# recuperar parejas clave-valor en las variables k y val\n",
    "print('--- Contenido del diccionario ---')\n",
    "print('Clave\\t\\t\\tValor')\n",
    "for k, val in registro.items():\n",
    "    print('{}\\t\\t\\t{}'.format(k, val))"
   ]
  },
  {
   "cell_type": "markdown",
   "metadata": {},
   "source": [
    "El operador `in` se usa para consultar si una clave, valor, o pareja clave-valor pertenece a un diccionario. Devuelve `True` o `False`, según sea el caso."
   ]
  },
  {
   "cell_type": "code",
   "execution_count": null,
   "metadata": {},
   "outputs": [],
   "source": [
    "print(registro)\n",
    "# consultar si 'titulos' es una clave de registro\n",
    "print('titulos' in registro)\n",
    "print('titulos' in registro.keys())\n",
    "# consultar si 32 es un valor de registro\n",
    "print(32 in registro.values())\n",
    "# consultar si ['Ing', 'MSc'] es el valor asociado a la clave 'titulos' de registro\n",
    "print(('titulos', ['Ing', 'MSc']) in registro.items())"
   ]
  },
  {
   "cell_type": "markdown",
   "metadata": {},
   "source": [
    "Puede usarse `not` para invertir el resultado del operador anterior."
   ]
  },
  {
   "cell_type": "code",
   "execution_count": null,
   "metadata": {},
   "outputs": [],
   "source": [
    "print('ciudad' not in registro)"
   ]
  },
  {
   "cell_type": "markdown",
   "metadata": {},
   "source": [
    "### Formas alternativas para la creación de diccionarios\n"
   ]
  },
  {
   "cell_type": "markdown",
   "metadata": {},
   "source": [
    "Los diccionarios pueden crearse con expresiones generadoras similares a las empleadas en las listas (*list comprehensions*):"
   ]
  },
  {
   "cell_type": "code",
   "execution_count": null,
   "metadata": {},
   "outputs": [],
   "source": [
    "DD = {i : i**2 for i in range(5)}\n",
    "print(DD)\n",
    "D2 = {i : 's'*i for i in range(5)}\n",
    "print(D2)"
   ]
  },
  {
   "cell_type": "markdown",
   "metadata": {},
   "source": [
    "La función `dict()` crea un diccionario a partir de asignaciones de valores a claves. Cada parámetro de esta función asigna un valor a una clave empleando el símbolo `=`. "
   ]
  },
  {
   "cell_type": "code",
   "execution_count": null,
   "metadata": {},
   "outputs": [],
   "source": [
    "D2 = dict(nombre = 'pablo', ciudad = 'Quito', edad = 43, x = (1,2)) # declaracion de un diccionario\n",
    "print(D2)\n",
    "print(D2['nombre'])"
   ]
  },
  {
   "cell_type": "markdown",
   "metadata": {},
   "source": [
    "La función `zip` recibe como parámetros $n$ iterables (cadenas, listas o tuplas) con el mismo número de elementos, y los junta en un iterable que contiene tuplas de $n$ elementos. Esta función retorna un iterable."
   ]
  },
  {
   "cell_type": "code",
   "execution_count": null,
   "metadata": {},
   "outputs": [],
   "source": [
    "# crear una lista de tripletas usando zip\n",
    "it = zip(('nombre', 'ciudad', 'edad', (1,2)),\n",
    "         ['pablo', 'Quito', 45, [3,1]],\n",
    "         (1,2,3,4))\n",
    "# zip devuelve un iterador\n",
    "print(type(it))\n",
    "# it puede ser iterado de la forma usual\n",
    "for i in it:\n",
    "    print(i)"
   ]
  },
  {
   "cell_type": "markdown",
   "metadata": {},
   "source": [
    "Es posible transformar este iterable en una lista:"
   ]
  },
  {
   "cell_type": "code",
   "execution_count": null,
   "metadata": {},
   "outputs": [],
   "source": [
    "# it puede ser transformado en una lista\n",
    "# notar que es necesario volver a definir it luego de iterar sobre él\n",
    "it = zip(('nombre', 'ciudad', 'edad', (1,2)),\n",
    "         ['pablo', 'Quito', 45, [3,1]],\n",
    "         (1,2,3,4))\n",
    "L = list(it)\n",
    "print(L)"
   ]
  },
  {
   "cell_type": "markdown",
   "metadata": {},
   "source": [
    "También es posible transformar este iterable en un diccionario. En este caso, las tuplas deben contener exactamente dos elementos, es decir, `zip` debe haber sido llamada únicamente con dos parámetros. Adicionalmente, los elementos del primer parámetro deben ser inmutables."
   ]
  },
  {
   "cell_type": "code",
   "execution_count": null,
   "metadata": {},
   "outputs": [],
   "source": [
    "# it puede ser transformado en un diccionario\n",
    "# en este caso, zip admite solamente dos iterables: el primero contiene las claves del diccionario,\n",
    "# y el segundo contiene los valores correspondientes\n",
    "it = zip(('nombre', 'ciudad', 'edad', (1,2)),\n",
    "         ['pablo', 'Quito', 45, [3,1]])\n",
    "D3 = dict(it)\n",
    "print(D3)"
   ]
  },
  {
   "cell_type": "markdown",
   "metadata": {},
   "source": [
    "### Otras funciones, métodos y operadores"
   ]
  },
  {
   "cell_type": "markdown",
   "metadata": {},
   "source": [
    "El método `D.update(D1)` agrega al diccionario `D` todos los elementos del diccionario `D1`. Cuando hay claves repetidas en ambos diccionarios, los valores de `D1` sustituyen a los valores de `D`."
   ]
  },
  {
   "cell_type": "code",
   "execution_count": null,
   "metadata": {},
   "outputs": [],
   "source": [
    "D = {'nombre' : 'Pablo',\n",
    "    'apellido' : 'Pérez',\n",
    "    'edad' : 27,\n",
    "    'ciudad' : 'Quito'}\n",
    "\n",
    "D1 = {'nombre' : 'Pablo',\n",
    "    'apellido' : 'Pérez',\n",
    "    'edad' : 28,\n",
    "    'ciudadanía' : 'Ecuatoriano',\n",
    "    'cédula' : '1715648700'}\n",
    "\n",
    "\n",
    "D.update(D1)\n",
    "print(D)"
   ]
  },
  {
   "cell_type": "markdown",
   "metadata": {},
   "source": [
    "También es posible fusionar dos o más diccionarios empleando el operador de desempacamiento (*unpacking*) `**`: `D={**D1, **D2, ... , **Dn}`.\n",
    "Si existen claves repetidas, se toman como valores aquellas del diccionario que aparezca más a la derecha."
   ]
  },
  {
   "cell_type": "code",
   "execution_count": null,
   "metadata": {},
   "outputs": [],
   "source": [
    "D1 = {'nombre' : 'Pablo',\n",
    "    'apellido' : 'Pérez',\n",
    "    'edad' : 27,\n",
    "    'ciudad' : 'Quito'}\n",
    "\n",
    "D2 = {'nombre' : 'Pablo',\n",
    "    'apellido' : 'Pérez',\n",
    "    'edad' : 28,\n",
    "    'ciudadanía' : 'Ecuatoriano',\n",
    "    'cédula' : '1715648700'}\n",
    "\n",
    "D3 = {'nombre' : 'Pablo',\n",
    "    'apellido' : 'Pérez',\n",
    "    'edad' : 29,\n",
    "    'deporte' : 'fútbol',\n",
    "    'profesión' : 'matemático',\n",
    "    'ciudad' : 'Guayaquil'}\n",
    "\n",
    "D = {**D1, **D2, **D3}\n",
    "print(D)"
   ]
  },
  {
   "cell_type": "markdown",
   "metadata": {},
   "source": [
    "Desde Python 3.9. puede utilizarse también el operador `|` para fusionar diccionarios:"
   ]
  },
  {
   "cell_type": "code",
   "execution_count": null,
   "metadata": {},
   "outputs": [],
   "source": [
    "# Este código solamente sirve en Pytho 3.9 o superior\n",
    "# Fusionar diccionarios D1 y D2 en un nuevo diccionario E\n",
    "E = D1 | D2\n",
    "# Fusionar ahora el diccionario D3\n",
    "E |= D3 # lo mismo que E = E | D3"
   ]
  },
  {
   "cell_type": "markdown",
   "metadata": {},
   "source": [
    "La variable `version` definida en el módulo `sys` devuelve la versión disponible de Python y del compilador de C."
   ]
  },
  {
   "cell_type": "code",
   "execution_count": null,
   "metadata": {},
   "outputs": [],
   "source": [
    "import sys\n",
    "print (sys.version)"
   ]
  },
  {
   "cell_type": "markdown",
   "metadata": {},
   "source": [
    "Los operadores `+` y `∗` no pueden aplicarse directamente sobre diccionarios."
   ]
  },
  {
   "cell_type": "code",
   "execution_count": null,
   "metadata": {},
   "outputs": [],
   "source": [
    "print ( D + D1 )"
   ]
  },
  {
   "cell_type": "code",
   "execution_count": null,
   "metadata": {},
   "outputs": [],
   "source": [
    "print ( D * 2 )"
   ]
  },
  {
   "cell_type": "markdown",
   "metadata": {},
   "source": [
    "Sin embargo, estos operadores pueden aplicarse sobre los valores individuales de un diccionario."
   ]
  },
  {
   "cell_type": "code",
   "execution_count": null,
   "metadata": {},
   "outputs": [],
   "source": [
    "print(D)\n",
    "print(D1)\n",
    "print(D['ciudad'] + D1['ciudad'])\n",
    "print(D['edad']*2)\n",
    "print('El nombre del registrado es {}, vive en la ciudad de {} y tiene una edad de {}.'.format(D['nombre'], \n",
    "            D['ciudad'], D['edad'])) # una instruccion puede ocupar varias lineas"
   ]
  },
  {
   "cell_type": "markdown",
   "metadata": {},
   "source": [
    "Si un valor de un diccionario es de tipo lista, es posible utilizar sobre el mismo todas las funciones y métodos vistos en el Cuaderno 3."
   ]
  },
  {
   "cell_type": "code",
   "execution_count": null,
   "metadata": {},
   "outputs": [],
   "source": [
    "print(registro)\n",
    "\n",
    "registro['titulos'].append('Dr')\n",
    "print(registro)\n",
    "\n",
    "print(registro['titulos'].pop())\n",
    "print(registro)"
   ]
  },
  {
   "cell_type": "markdown",
   "metadata": {},
   "source": [
    "El método `D.get(<clave>)` devuelve el valor asociado a una `<clave>` del diccionario `D`. Cuando la clave está definida en el diccionario, este método tiene un efecto similar al uso de los corchetes. "
   ]
  },
  {
   "cell_type": "code",
   "execution_count": null,
   "metadata": {},
   "outputs": [],
   "source": [
    "print(registro)\n",
    "print(registro.get('titulos'))\n",
    "print(registro['titulos'])"
   ]
  },
  {
   "cell_type": "markdown",
   "metadata": {},
   "source": [
    "Sin embargo, cuando se aplica sobre una clave no definida, el método `D.get(<clave>)` devuelve el valor `None`, mientras que el uso de corchetes genera un error."
   ]
  },
  {
   "cell_type": "code",
   "execution_count": null,
   "metadata": {},
   "outputs": [],
   "source": [
    "print(registro.get('ciudad'))\n",
    "print(registro['ciudad'])\n"
   ]
  },
  {
   "cell_type": "markdown",
   "metadata": {},
   "source": [
    "#### Lectura segura de valores de un diccionario\n",
    "\n",
    "**Alternativa 1:** Usando método `get` y condicionales para verificar si retornó `None`:"
   ]
  },
  {
   "cell_type": "code",
   "execution_count": null,
   "metadata": {},
   "outputs": [],
   "source": [
    "# registro['ciudad']= 'Cuenca'\n",
    "valor = registro.get('ciudad')\n",
    "if valor==None:\n",
    "    print('No existe valor asociado a la clave ciudad')\n",
    "else:\n",
    "    print('El valor asociado a ciudad es {}'.format(valor))"
   ]
  },
  {
   "cell_type": "markdown",
   "metadata": {},
   "source": [
    "**Alternativa 2:** Usando operador subíndice y bloque `try`...`except`...`else`:"
   ]
  },
  {
   "cell_type": "code",
   "execution_count": null,
   "metadata": {},
   "outputs": [],
   "source": [
    "try:\n",
    "    valor = registro['ciudad']\n",
    "except:\n",
    "    print('No existe valor asociado a la clave ciudad')\n",
    "else:\n",
    "    print('El valor asociado a ciudad es {}'.format(valor))"
   ]
  },
  {
   "cell_type": "markdown",
   "metadata": {},
   "source": [
    "El método `D.get(<clave>, <valor>)` también admite un segundo parámetro que especifica el valor a retornar si `<clave>` no pertenece al diccionario."
   ]
  },
  {
   "cell_type": "code",
   "execution_count": null,
   "metadata": {},
   "outputs": [],
   "source": [
    "print(registro)\n",
    "print(registro.get('ciudad', 'sin ciudad'))\n",
    "print(registro.get('peso', 0))\n",
    "print(registro.get('edad', 0))"
   ]
  },
  {
   "cell_type": "markdown",
   "metadata": {},
   "source": [
    "El último uso del método `get` es equivalente a una asignación condicional."
   ]
  },
  {
   "cell_type": "code",
   "execution_count": null,
   "metadata": {},
   "outputs": [],
   "source": [
    "valor = registro['peso'] if 'peso' in registro else 0\n",
    "print(valor)\n",
    "\n",
    "valor= registro.get('peso', 0)\n",
    "print(valor)"
   ]
  },
  {
   "cell_type": "markdown",
   "metadata": {},
   "source": [
    "#### Eliminar elementos de un diccionario\n",
    "\n",
    "Pueden eliminarse elementos individuales de un diccionario empleando el método `pop`:"
   ]
  },
  {
   "cell_type": "code",
   "execution_count": null,
   "metadata": {},
   "outputs": [],
   "source": [
    "print(registro)\n",
    "# retornar elemento asociado a la clave ciudad y eliminarlo del diccionario\n",
    "print(registro.pop('ciudad', None))\n",
    "\n",
    "print(registro)\n",
    "# si no existe elemento asociado a la clave ciudad, retornar None\n",
    "print(registro.pop('ciudad', None))\n"
   ]
  },
  {
   "cell_type": "code",
   "execution_count": null,
   "metadata": {},
   "outputs": [],
   "source": []
  }
 ],
 "metadata": {
  "kernelspec": {
   "display_name": "Python 3 (ipykernel)",
   "language": "python",
   "name": "python3"
  },
  "language_info": {
   "codemirror_mode": {
    "name": "ipython",
    "version": 3
   },
   "file_extension": ".py",
   "mimetype": "text/x-python",
   "name": "python",
   "nbconvert_exporter": "python",
   "pygments_lexer": "ipython3",
   "version": "3.8.10"
  }
 },
 "nbformat": 4,
 "nbformat_minor": 2
}
