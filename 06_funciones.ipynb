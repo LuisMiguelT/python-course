{
 "cells": [
  {
   "cell_type": "markdown",
   "metadata": {},
   "source": [
    "# Cuaderno 6: Funciones y módulos\n",
    "\n",
    "Una función es un bloque de código con un nombre asociado, que recibe cero o más argumentos (parámetros) como entrada y ejecuta una secuencia de instrucciones, para realizar una tarea y/o devolver un valor.\n",
    "\n",
    "El uso de funciones en un programa presenta dos ventajas principales: \n",
    "\n",
    "   1. **Modularización:** Permite segmentar un programa complejo en una serie de partes o módulos más simples, facilitando así la programación y el depurado.\n",
    "   2. **Reutilización:** Permite reutilizar una misma función en distintos programas.\n",
    "   \n",
    "Python brinda varias funciones integradas como `print()`, `len()`, `sort()`, etc., pero también se pueden crear funciones propias (*funciones definidas por el usuario*).\n",
    "\n",
    "### Aspectos básicos\n",
    "\n",
    "Para crear una función se hace uso de la siguiente sintaxis: \n",
    "\n",
    "                                          def  nombre(parámetros):\n",
    "                                               instrucciones\n",
    "                                               return [expresión]"
   ]
  },
  {
   "cell_type": "code",
   "execution_count": null,
   "metadata": {},
   "outputs": [],
   "source": [
    "def suma(s1, s2):\n",
    "    return s1 + s2"
   ]
  },
  {
   "cell_type": "code",
   "execution_count": null,
   "metadata": {},
   "outputs": [],
   "source": [
    "def saludo(name):\n",
    "    return ('Hola, '+ name + '. Buenos dias!')"
   ]
  },
  {
   "cell_type": "markdown",
   "metadata": {},
   "source": [
    "El bloque de instrucciones de la función debe estar indentado."
   ]
  },
  {
   "cell_type": "code",
   "execution_count": null,
   "metadata": {},
   "outputs": [],
   "source": [
    "def suma(s1, s2):\n",
    "return s1 + s2"
   ]
  },
  {
   "cell_type": "markdown",
   "metadata": {},
   "source": [
    "Para llamar a una función, se escribe el nombre de la función con los parámetros apropiados."
   ]
  },
  {
   "cell_type": "code",
   "execution_count": null,
   "metadata": {},
   "outputs": [],
   "source": [
    "x = suma(15,90)\n",
    "print(x)\n",
    "print(suma(12,13))"
   ]
  },
  {
   "cell_type": "code",
   "execution_count": null,
   "metadata": {},
   "outputs": [],
   "source": [
    "print(saludo('Pablo'))"
   ]
  },
  {
   "cell_type": "markdown",
   "metadata": {},
   "source": [
    "Recordar que Python es un lenguaje *dinámicamente tipado*. Eso significa que una misma función puede realizar tareas distintas dependiendo del tipo de datos de sus parámetros."
   ]
  },
  {
   "cell_type": "code",
   "execution_count": null,
   "metadata": {},
   "outputs": [],
   "source": [
    "x = suma('juntar ', 'palabras')\n",
    "print(x)"
   ]
  },
  {
   "cell_type": "markdown",
   "metadata": {},
   "source": [
    "Sin embargo, es responsabilidad del programador vigilar que las instrucciones de una función sean compatibles con los parámetros usados al llamarla."
   ]
  },
  {
   "cell_type": "code",
   "execution_count": null,
   "metadata": {},
   "outputs": [],
   "source": [
    "print(suma('hola', 2))  #  error: operacion no soportada"
   ]
  },
  {
   "cell_type": "markdown",
   "metadata": {},
   "source": [
    "Una función puede recibir parámetros de tipos iterables, como lista o tupla."
   ]
  },
  {
   "cell_type": "code",
   "execution_count": 1,
   "metadata": {},
   "outputs": [],
   "source": [
    "def sumar(numbers):\n",
    "    result = 0\n",
    "    for number in numbers:\n",
    "        result += number\n",
    "    return result"
   ]
  },
  {
   "cell_type": "code",
   "execution_count": 2,
   "metadata": {},
   "outputs": [
    {
     "name": "stdout",
     "output_type": "stream",
     "text": [
      "15\n",
      "6.6\n"
     ]
    }
   ],
   "source": [
    "L = [3,5,7]\n",
    "T = (1.1, 2, 3.5)\n",
    "s = sumar(L) \n",
    "print(s)\n",
    "print(sumar(T))"
   ]
  },
  {
   "cell_type": "markdown",
   "metadata": {},
   "source": [
    "En Python es posible asignar funciones a variables, tal como se haría con valores de cualquier tipo de datos. De hecho, las funciones **son** un tipo especial de datos:"
   ]
  },
  {
   "cell_type": "code",
   "execution_count": 3,
   "metadata": {},
   "outputs": [
    {
     "name": "stdout",
     "output_type": "stream",
     "text": [
      "14\n",
      "<class 'function'>\n",
      "<class 'function'>\n"
     ]
    }
   ],
   "source": [
    "a = sumar\n",
    "print(a([3,4,7]))\n",
    "print(type(sumar))\n",
    "print(type(a))"
   ]
  },
  {
   "cell_type": "markdown",
   "metadata": {},
   "source": [
    "### Aplicación: Ordenamiento de listas de vectores\n",
    "Considerar la lista de pares ordenados:"
   ]
  },
  {
   "cell_type": "code",
   "execution_count": 4,
   "metadata": {},
   "outputs": [
    {
     "name": "stdout",
     "output_type": "stream",
     "text": [
      "[(3, 1), (-1, 4), (3, 4), (0, 0), (5, 1)]\n"
     ]
    }
   ],
   "source": [
    "L = [(3,1), (-1,4), (3, 4), (0, 0), (5, 1)]\n",
    "print(L)"
   ]
  },
  {
   "cell_type": "markdown",
   "metadata": {},
   "source": [
    "Recordar que el método `sort` permite ordenar los elementos de la lista. Al aplicar este método sobre `L`, la lista es ordenada por defecto empleando el criterio lexicográfico:"
   ]
  },
  {
   "cell_type": "code",
   "execution_count": 5,
   "metadata": {},
   "outputs": [
    {
     "name": "stdout",
     "output_type": "stream",
     "text": [
      "[(-1, 4), (0, 0), (3, 1), (3, 4), (5, 1)]\n"
     ]
    }
   ],
   "source": [
    "L.sort()\n",
    "print(L)"
   ]
  },
  {
   "cell_type": "markdown",
   "metadata": {},
   "source": [
    "Supongamos que se desea ordenar a `L` por algún otro criterio, por ejemplo, por la suma de valores absolutos de sus componentes. Para ello, definimos una función `norma1`que reciba como parámetro un par ordenado y devuelva la suma de los valores absolutos de sus componentes:"
   ]
  },
  {
   "cell_type": "code",
   "execution_count": 6,
   "metadata": {},
   "outputs": [
    {
     "name": "stdout",
     "output_type": "stream",
     "text": [
      "2\n"
     ]
    }
   ],
   "source": [
    "def norma1(x):\n",
    "    return abs(x[0]) + abs(x[1])\n",
    "print(norma1((-1, 1)))"
   ]
  },
  {
   "cell_type": "markdown",
   "metadata": {},
   "source": [
    "El método `sort` permite especificar un parámetro `key` que debe ser una función que asigne a cada elemento de la lista un valor numérico. La lista es entonces ordenada ascendentemente de acuerdo a estos valores:"
   ]
  },
  {
   "cell_type": "code",
   "execution_count": 7,
   "metadata": {},
   "outputs": [
    {
     "name": "stdout",
     "output_type": "stream",
     "text": [
      "[(0, 0), (3, 1), (-1, 4), (5, 1), (3, 4)]\n"
     ]
    }
   ],
   "source": [
    "L.sort(key=norma1)\n",
    "print(L)"
   ]
  },
  {
   "cell_type": "markdown",
   "metadata": {},
   "source": [
    "También es posible definir esta función directamente *en-línea* al llamar a `sort`, utilizando una técnica conocida como **funciones lambda**:"
   ]
  },
  {
   "cell_type": "code",
   "execution_count": 8,
   "metadata": {},
   "outputs": [
    {
     "name": "stdout",
     "output_type": "stream",
     "text": [
      "[(0, 0), (3, 1), (-1, 4), (3, 4), (5, 1)]\n"
     ]
    }
   ],
   "source": [
    "from math import sqrt\n",
    "L.sort(key= lambda x : sqrt(x[0]**2 + x[1]**2))\n",
    "print(L)"
   ]
  },
  {
   "cell_type": "markdown",
   "metadata": {},
   "source": [
    "### Variables y manejo de la memoria en Python\n",
    "\n",
    "En Python, todos los tipos de datos están asociados a objetos, y todas las variables (nombres) son *referencias* a objetos (punteros)."
   ]
  },
  {
   "cell_type": "code",
   "execution_count": null,
   "metadata": {},
   "outputs": [],
   "source": [
    "x = 2  # se crea un objeto entero con valor 2, x apunta a el\n",
    "y = x  # x e y apuntan al mismo objeto\n",
    "y = y + 2  # se crea un nuevo objeto, se cambia y\n",
    "print(x)\n",
    "print(y)  # los cambios en y no afectan a x"
   ]
  },
  {
   "cell_type": "markdown",
   "metadata": {},
   "source": [
    "Esta forma de manejar la memoria puede presentar resultados inesperados con los tipos de datos *mutables*."
   ]
  },
  {
   "cell_type": "code",
   "execution_count": null,
   "metadata": {},
   "outputs": [],
   "source": [
    "x = ['carro', 'cocina', 3.45]  # se crea un objeto lista, x apunta a este\n",
    "y = x  # ahora x e y apuntan al mismo objeto\n",
    "y.append('nuevo')  # se altera el objeto lista (lista es mutable)\n",
    "print(x)  # los cambios afectan a x\n",
    "print(y)"
   ]
  },
  {
   "cell_type": "markdown",
   "metadata": {},
   "source": [
    "Con los tipos de datos _inmutables_ no se presenta este problema, pues una vez creado un objeto, no es posible alterarlo."
   ]
  },
  {
   "cell_type": "code",
   "execution_count": null,
   "metadata": {},
   "outputs": [],
   "source": [
    "x =  ('carro', 'cocina', 3.45) # se crea un objeto tupla, x apunta a este\n",
    "y = x  # ahora x e y apuntan al mismo objeto\n",
    "y = y + ('nuevo',)  # se crea un nuevo objeto tupla (inmutable)\n",
    "print(x)  # los cambios en y no afectan a x\n",
    "print(y)"
   ]
  },
  {
   "cell_type": "code",
   "execution_count": null,
   "metadata": {},
   "outputs": [],
   "source": [
    "x = [1, 2, 3]\n",
    "y = [1, 2, 3]  # aqui se crean dos listas diferentes\n",
    "y.append(4)\n",
    "print(x)  # los cambios no afectan a x\n",
    "print(y)"
   ]
  },
  {
   "cell_type": "code",
   "execution_count": null,
   "metadata": {},
   "outputs": [],
   "source": [
    "y = [1, 2, 3, 4]\n",
    "x = y  # ahora x y y apuntan al mismo objetos\n",
    "#x = x + [5]  # se crea un nuevo objeto lista\n",
    "#x.append(5)\n",
    "x[0]= -1\n",
    "print(x)\n",
    "print(y)  # los cambios no afectan a y"
   ]
  },
  {
   "cell_type": "markdown",
   "metadata": {},
   "source": [
    "### Módulos\n",
    "\n",
    "Un módulo es un archivo de texto (generalmente con la extensión .py) que contiene la definición de funciones, clases y variables. Podemos definir nuestras funciones más utilizadas en un módulo e importarlo, en lugar de copiar sus definiciones en diferentes programas.\n",
    "\n",
    "Escribir las siguientes lineas de código (quitando los comentarios de las instrucciones) en un nuevo Notebook de tipo *Text File* y guardarlo como `mod_funciones.py`"
   ]
  },
  {
   "cell_type": "code",
   "execution_count": null,
   "metadata": {},
   "outputs": [],
   "source": [
    "# Módulo mod_funciones\n",
    "pi = 3.14159\n",
    "\n",
    "# Las funciones pueden definirse en uno o mas modulos\n",
    "def suma(x, y):\n",
    "    return  x + y\n",
    "\n",
    "def restar(x, y):\n",
    "    return  x - y\n",
    "\n",
    "def dividir (x,y):\n",
    "    return ((x+0.0)/y)\n",
    "\n",
    "def potencia (x,y): \n",
    "    return x**y\n",
    "\n",
    "def areacirculo(r):\n",
    "    return pi * (r ** 2)"
   ]
  },
  {
   "cell_type": "markdown",
   "metadata": {},
   "source": [
    "Para poder importar un módulo se utiliza la sentencia **import**. Es importante tener el módulo a utilizar en la misma ubicación en la que se encuentra el Notebook en el que se está trabajando.\n",
    "\n",
    "Recordar que un módulo se carga solo una vez, independientemente de la cantidad de veces que se importe."
   ]
  },
  {
   "cell_type": "code",
   "execution_count": null,
   "metadata": {},
   "outputs": [],
   "source": [
    "import mod_funciones"
   ]
  },
  {
   "cell_type": "markdown",
   "metadata": {},
   "source": [
    "Para acceder a las funciones definidas dentro de un módulo se usa la sintaxis `<modulo>.<funcion>(<parametros>)`."
   ]
  },
  {
   "cell_type": "code",
   "execution_count": null,
   "metadata": {},
   "outputs": [],
   "source": [
    "s = mod_funciones.suma(7, 3)\n",
    "print(s)"
   ]
  },
  {
   "cell_type": "code",
   "execution_count": null,
   "metadata": {},
   "outputs": [],
   "source": [
    "r = mod_funciones.restar(13.5,5.4)\n",
    "print(r)"
   ]
  },
  {
   "cell_type": "code",
   "execution_count": null,
   "metadata": {},
   "outputs": [],
   "source": [
    "d = mod_funciones.dividir(10.5, 3)\n",
    "print(d)"
   ]
  },
  {
   "cell_type": "code",
   "execution_count": null,
   "metadata": {},
   "outputs": [],
   "source": [
    "pot = mod_funciones.potencia(2, 8)\n",
    "print(pot)"
   ]
  },
  {
   "cell_type": "code",
   "execution_count": null,
   "metadata": {},
   "outputs": [],
   "source": [
    "print(mod_funciones.areacirculo(1))\n"
   ]
  },
  {
   "cell_type": "markdown",
   "metadata": {},
   "source": [
    "Para acortar la escritura puede usarse la sintaxis `import <modulo> as <abreviatura>`. Con esto, es posible llamar a las funciones de `<modulo>` mediante `<abreviatura>.<funcion>`."
   ]
  },
  {
   "cell_type": "code",
   "execution_count": null,
   "metadata": {},
   "outputs": [],
   "source": [
    "import mod_funciones as mf\n",
    "print (mf.suma(5, 6))\n",
    "print (mf.potencia(2, 9))"
   ]
  },
  {
   "cell_type": "markdown",
   "metadata": {},
   "source": [
    "Puede usarse también la sintaxis `from <modulo> import <funcion>`. Con esto, es posible llamar a `<funcion>` sin incluir el nombre del módulo."
   ]
  },
  {
   "cell_type": "code",
   "execution_count": null,
   "metadata": {},
   "outputs": [],
   "source": [
    "print(restar(12, 7)) # esta llamada causa un error"
   ]
  },
  {
   "cell_type": "code",
   "execution_count": null,
   "metadata": {},
   "outputs": [],
   "source": [
    "from mod_funciones import restar\n",
    "print(restar(12, 7)) # esta llamada es valida"
   ]
  },
  {
   "cell_type": "markdown",
   "metadata": {},
   "source": [
    "Con la sintaxis `from <modulo> import *` pueden usarse todas las funciones definidas en `<modulo>` omitiendo el nombre del módulo."
   ]
  },
  {
   "cell_type": "code",
   "execution_count": null,
   "metadata": {},
   "outputs": [],
   "source": [
    "from mod_funciones import *\n",
    "print(dividir(5, 2.5))\n",
    "print(areacirculo(4))"
   ]
  },
  {
   "cell_type": "markdown",
   "metadata": {},
   "source": [
    "La función `dir` nos permite revisar el contenido de un módulo."
   ]
  },
  {
   "cell_type": "code",
   "execution_count": null,
   "metadata": {},
   "outputs": [],
   "source": [
    "dir(mod_funciones)"
   ]
  },
  {
   "cell_type": "code",
   "execution_count": null,
   "metadata": {},
   "outputs": [],
   "source": []
  }
 ],
 "metadata": {
  "kernelspec": {
   "display_name": "Python 3",
   "language": "python",
   "name": "python3"
  },
  "language_info": {
   "codemirror_mode": {
    "name": "ipython",
    "version": 3
   },
   "file_extension": ".py",
   "mimetype": "text/x-python",
   "name": "python",
   "nbconvert_exporter": "python",
   "pygments_lexer": "ipython3",
   "version": "3.8.5"
  }
 },
 "nbformat": 4,
 "nbformat_minor": 2
}
