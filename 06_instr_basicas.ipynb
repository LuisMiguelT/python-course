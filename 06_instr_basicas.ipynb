{
 "cells": [
  {
   "cell_type": "markdown",
   "metadata": {},
   "source": [
    "# Cuaderno 6: Lazos y condicionales"
   ]
  },
  {
   "cell_type": "markdown",
   "metadata": {},
   "source": [
    "## Lazos\n",
    "\n",
    "La instrucción ``for`` permite repetir una o más instrucciones varias veces. Para ello, una *variable de lazo* debe iterar sobre los elementos de cualquier tipo de datos iterable (por ejemplo, una lista, tupla o cadena)."
   ]
  },
  {
   "cell_type": "code",
   "execution_count": null,
   "metadata": {},
   "outputs": [],
   "source": [
    "mascotas = ['gato', 'perro', 'loro', 'pato' ,3, 1.5]\n",
    "for k in mascotas:\n",
    "    print(k*2)\n",
    "    print(k)\n",
    "    print('---')\n"
   ]
  },
  {
   "cell_type": "markdown",
   "metadata": {},
   "source": [
    "Todas las instrucciones a repetir deben aparecer *indentadas*. La indentación se usa en Python para indicar *bloques de instrucciones*."
   ]
  },
  {
   "cell_type": "code",
   "execution_count": null,
   "metadata": {},
   "outputs": [],
   "source": [
    "mascotas = ['gato', 'perro', 'loro', 'pato']\n",
    "for m in mascotas:\n",
    "    print('{} es una mascota'.format(m))\n",
    "    print ('{} es una mascota doble'.format(m*2))\n",
    "print('Esto esta afuera del lazo...')"
   ]
  },
  {
   "cell_type": "markdown",
   "metadata": {},
   "source": [
    "Recordar que la función `range()` devuelve una lista de enteros en un rango. Esta función es muy útil en la construcción de lazos."
   ]
  },
  {
   "cell_type": "code",
   "execution_count": null,
   "metadata": {},
   "outputs": [],
   "source": [
    "print(list(range(5))) # range(n): lista de enteros desde 0 hasta n-1\n",
    "print(list(range(2,5))) # range(a, b): lista de enteros desde a hasta b-1\n",
    "print(list(range(5,21,2))) # lista de enteros desde a hasta antes de b, en incrementos de k \n",
    "print('x\\t\\tx^3')\n",
    "for i in range(-10,11,2):\n",
    "    print('{}\\t\\t{}'.format(i, i**3))"
   ]
  },
  {
   "cell_type": "markdown",
   "metadata": {},
   "source": [
    "La instrucción `while <condicion>:` repite el bloque siguiente de instrucciones (indentadas), mientras `<condicion>` tenga el valor de `True`."
   ]
  },
  {
   "cell_type": "code",
   "execution_count": null,
   "metadata": {},
   "outputs": [],
   "source": [
    "i = 0\n",
    "while i < 10:\n",
    "    print('i vale {} y es menor a 10'.format(i))\n",
    "    i+= 1\n",
    "print(\"Ya terminó el lazo while\")"
   ]
  },
  {
   "cell_type": "markdown",
   "metadata": {},
   "source": [
    "## Condicionales"
   ]
  },
  {
   "cell_type": "markdown",
   "metadata": {},
   "source": [
    "La instrucción `if <condicion>:` se utiliza para la ejecución condicional del bloque de instrucciones que le sigue. Este bloque se ejecutará únicamente si `<condicion>` es verdadera.\n"
   ]
  },
  {
   "cell_type": "code",
   "execution_count": null,
   "metadata": {},
   "outputs": [],
   "source": [
    "felinos = ('gato', 'tigre', 'puma')\n",
    "animales = ('gato', 'perro', 'puma', 'pato')\n",
    "for i in animales:\n",
    "    if i in felinos:\n",
    "        print('{} es un felino'.format(i))\n",
    "    print('---')"
   ]
  },
  {
   "cell_type": "markdown",
   "metadata": {},
   "source": [
    "La instrucción condicional `if` puede ser seguida de una parte `else` para identificar un bloque que se ejecuta cuando la condición es falsa."
   ]
  },
  {
   "cell_type": "code",
   "execution_count": null,
   "metadata": {},
   "outputs": [],
   "source": [
    "felinos = ('gato', 'tigre', 'puma')\n",
    "animales = ('gato', 'perro', 'puma', 'pato')\n",
    "for i in animales:\n",
    "    if i in felinos:\n",
    "        print('{} es un felino'.format(i))\n",
    "        print('***')\n",
    "    else:\n",
    "        print('{} no es un felino'.format(i))\n",
    "        print('---')\n",
    "        "
   ]
  },
  {
   "cell_type": "markdown",
   "metadata": {},
   "source": [
    "La instrucción `elif` es una abreviación de *else if* y puede utilizarse para construir una instrucción condicional con varios casos."
   ]
  },
  {
   "cell_type": "code",
   "execution_count": null,
   "metadata": {},
   "outputs": [],
   "source": [
    "felinos = ('gato', 'tigre', 'puma')\n",
    "aves = ('pato', 'gallina', 'paloma')\n",
    "animales = ('gato', 'perro', 'puma', 'pato', 'gallina', 'paloma', 'serpiente')\n",
    "for i in animales:\n",
    "    if i in felinos:\n",
    "        print('{} es un felino'.format(i))\n",
    "    elif i in aves:\n",
    "        print('{} es un ave'.format(i))\n",
    "    else:\n",
    "        print('{} no es un felino, ni tampoco un ave'.format(i))"
   ]
  },
  {
   "cell_type": "markdown",
   "metadata": {},
   "source": [
    "Al combinar lazos e instrucciones condicionales, a menudo es últil la instrucción `break`. La misma se usa para terminar un lazo anticipadamente."
   ]
  },
  {
   "cell_type": "code",
   "execution_count": null,
   "metadata": {},
   "outputs": [],
   "source": [
    "for n in range(2, 10):\n",
    "    divisible = False\n",
    "    for x in range(2, n):\n",
    "        if n % x == 0: # notar que el operador % devuelve el resto de una división \n",
    "            print('{} es igual a {} * {}'.format(n, x, n//x))\n",
    "            divisible = True\n",
    "            break \n",
    "    # estamos todavía en el lazo for externo\n",
    "    if not divisible:  # notar como 'not' puede usarse para negar una condicion\n",
    "        print('{} es un numero primo'.format(n))"
   ]
  },
  {
   "cell_type": "markdown",
   "metadata": {},
   "source": [
    "La instrucción `continue`, por otra parte, interrumpe la ejecución de una iteración del lazo y prosigue con la iteración siguiente:"
   ]
  },
  {
   "cell_type": "code",
   "execution_count": null,
   "metadata": {},
   "outputs": [],
   "source": [
    "# imprimir los números impares, saltar los pares\n",
    "L = []\n",
    "for i in range(100):\n",
    "    if i%2==0:\n",
    "        continue\n",
    "    L.append(i)\n",
    "print(L)"
   ]
  },
  {
   "cell_type": "markdown",
   "metadata": {},
   "source": [
    "**Observación:** Notar que la lista anterior puede crearse de manera más compacta empleando una expresión generadora:"
   ]
  },
  {
   "cell_type": "code",
   "execution_count": null,
   "metadata": {},
   "outputs": [],
   "source": [
    "L = [i for i in range (100) if i%2!=0]\n",
    "print(L)"
   ]
  },
  {
   "cell_type": "code",
   "execution_count": null,
   "metadata": {},
   "outputs": [],
   "source": []
  }
 ],
 "metadata": {
  "kernelspec": {
   "display_name": "Python 3 (ipykernel)",
   "language": "python",
   "name": "python3"
  },
  "language_info": {
   "codemirror_mode": {
    "name": "ipython",
    "version": 3
   },
   "file_extension": ".py",
   "mimetype": "text/x-python",
   "name": "python",
   "nbconvert_exporter": "python",
   "pygments_lexer": "ipython3",
   "version": "3.8.10"
  }
 },
 "nbformat": 4,
 "nbformat_minor": 2
}
