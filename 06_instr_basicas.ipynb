{
 "cells": [
  {
   "cell_type": "markdown",
   "metadata": {},
   "source": [
    "# Cuaderno 6: Lazos, condicionales y lectura de datos"
   ]
  },
  {
   "cell_type": "markdown",
   "metadata": {},
   "source": [
    "## Lazos\n",
    "\n",
    "La instrucción ``for`` permite repetir una o más instrucciones varias veces. Para ello, una *variable de lazo* debe iterar sobre los elementos de cualquier tipo de datos iterable (por ejemplo, una lista, tupla o cadena)."
   ]
  },
  {
   "cell_type": "code",
   "execution_count": null,
   "metadata": {},
   "outputs": [],
   "source": [
    "mascotas = ['gato', 'perro', 'loro', 'pato' ,3, 1.5]\n",
    "for k in mascotas:\n",
    "    print(k*2)\n",
    "    print(k)\n",
    "    print('---')\n"
   ]
  },
  {
   "cell_type": "markdown",
   "metadata": {},
   "source": [
    "Todas las instrucciones a repetir deben aparecer *indentadas*. La indentación se usa en Python para indicar *bloques de instrucciones*."
   ]
  },
  {
   "cell_type": "code",
   "execution_count": null,
   "metadata": {},
   "outputs": [],
   "source": [
    "mascotas = ['gato', 'perro', 'loro', 'pato']\n",
    "for m in mascotas:\n",
    "    print('{} es una mascota'.format(m))\n",
    "    print ('{} es una mascota doble'.format(m*2))\n",
    "print('Esto esta afuera del lazo...')"
   ]
  },
  {
   "cell_type": "markdown",
   "metadata": {},
   "source": [
    "Recordar que la función `range()` devuelve una lista de enteros en un rango. Esta función es muy útil en la construcción de lazos."
   ]
  },
  {
   "cell_type": "code",
   "execution_count": null,
   "metadata": {},
   "outputs": [],
   "source": [
    "print(list(range(5))) # range(n): lista de enteros desde 0 hasta n-1\n",
    "print(list(range(2,5))) # range(a, b): lista de enteros desde a hasta b-1\n",
    "print(list(range(5,21,2))) # lista de enteros desde a hasta antes de b, en incrementos de k \n",
    "print('x\\t\\tx^3')\n",
    "for i in range(-10,11,2):\n",
    "    print('{}\\t\\t{}'.format(i, i**3))"
   ]
  },
  {
   "cell_type": "markdown",
   "metadata": {},
   "source": [
    "La instrucción `while <condicion>:` repite el bloque siguiente de instrucciones (indentadas), mientras `<condicion>` tenga el valor de `True`."
   ]
  },
  {
   "cell_type": "code",
   "execution_count": null,
   "metadata": {},
   "outputs": [],
   "source": [
    "i = 0\n",
    "while i < 10:\n",
    "    print('i vale {} y es menor a 10'.format(i))\n",
    "    i+= 1\n",
    "print(\"Ya terminó el lazo while\")"
   ]
  },
  {
   "cell_type": "markdown",
   "metadata": {},
   "source": [
    "## Condicionales"
   ]
  },
  {
   "cell_type": "markdown",
   "metadata": {},
   "source": [
    "La instrucción `if <condicion>:` se utiliza para la ejecución condicional del bloque de instrucciones que le sigue. Este bloque se ejecutará únicamente si `<condicion>` es verdadera.\n"
   ]
  },
  {
   "cell_type": "code",
   "execution_count": null,
   "metadata": {},
   "outputs": [],
   "source": [
    "felinos = ('gato', 'tigre', 'puma')\n",
    "animales = ('gato', 'perro', 'puma', 'pato')\n",
    "for i in animales:\n",
    "    if i in felinos:\n",
    "        print('{} es un felino'.format(i))\n",
    "    print('---')"
   ]
  },
  {
   "cell_type": "markdown",
   "metadata": {},
   "source": [
    "La instrucción condicional `if` puede ser seguida de una parte `else` para identificar un bloque que se ejecuta cuando la condición es falsa."
   ]
  },
  {
   "cell_type": "code",
   "execution_count": null,
   "metadata": {},
   "outputs": [],
   "source": [
    "felinos = ('gato', 'tigre', 'puma')\n",
    "animales = ('gato', 'perro', 'puma', 'pato')\n",
    "for i in animales:\n",
    "    if i in felinos:\n",
    "        print('{} es un felino'.format(i))\n",
    "        print('***')\n",
    "    else:\n",
    "        print('{} no es un felino'.format(i))\n",
    "        print('---')\n",
    "        "
   ]
  },
  {
   "cell_type": "markdown",
   "metadata": {},
   "source": [
    "La instrucción `elif` es una abreviación de *else if* y puede utilizarse para construir una instrucción condicional con varios casos."
   ]
  },
  {
   "cell_type": "code",
   "execution_count": null,
   "metadata": {},
   "outputs": [],
   "source": [
    "felinos = ('gato', 'tigre', 'puma')\n",
    "aves = ('pato', 'gallina', 'paloma')\n",
    "animales = ('gato', 'perro', 'puma', 'pato', 'gallina', 'paloma', 'serpiente')\n",
    "for i in animales:\n",
    "    if i in felinos:\n",
    "        print('{} es un felino'.format(i))\n",
    "    elif i in aves:\n",
    "        print('{} es un ave'.format(i))\n",
    "    else:\n",
    "        print('{} no es un felino, ni tampoco un ave'.format(i))"
   ]
  },
  {
   "cell_type": "markdown",
   "metadata": {},
   "source": [
    "Al combinar lazos e instrucciones condicionales, a menudo es últil la instrucción `break`. La misma se usa para terminar un lazo anticipadamente."
   ]
  },
  {
   "cell_type": "code",
   "execution_count": null,
   "metadata": {},
   "outputs": [],
   "source": [
    "for n in range(2, 10):\n",
    "    divisible = False\n",
    "    for x in range(2, n):\n",
    "        if n % x == 0: # notar que el operador % devuelve el resto de una división \n",
    "            print('{} es igual a {} * {}'.format(n, x, n//x))\n",
    "            divisible = True\n",
    "            break \n",
    "    # estamos todavía en el lazo for externo\n",
    "    if not divisible:  # notar como 'not' puede usarse para negar una condicion\n",
    "        print('{} es un numero primo'.format(n))"
   ]
  },
  {
   "cell_type": "markdown",
   "metadata": {},
   "source": [
    "La instrucción `continue`, por otra parte, interrumpe la ejecución de una iteración del lazo y prosigue con la iteración siguiente:"
   ]
  },
  {
   "cell_type": "code",
   "execution_count": null,
   "metadata": {},
   "outputs": [],
   "source": [
    "# imprimir los números impares, saltar los pares\n",
    "L = []\n",
    "for i in range(100):\n",
    "    if i%2==0:\n",
    "        continue\n",
    "    L.append(i)\n",
    "print(L)"
   ]
  },
  {
   "cell_type": "markdown",
   "metadata": {},
   "source": [
    "**Observación:** Notar que la lista anterior puede crearse de manera más compacta empleando una expresión generadora:"
   ]
  },
  {
   "cell_type": "code",
   "execution_count": null,
   "metadata": {},
   "outputs": [],
   "source": [
    "L = [i for i in range (100) if i%2!=0]\n",
    "print(L)"
   ]
  },
  {
   "cell_type": "markdown",
   "metadata": {},
   "source": [
    "## Lectura de datos\n",
    "\n",
    "La instrucción `input(mensaje)` escribe un mensaje en la pantalla, lee una línea desde la entrada estándar (teclado) y la devuelve el valor ingresado como una cadena de caracteres."
   ]
  },
  {
   "cell_type": "code",
   "execution_count": null,
   "metadata": {},
   "outputs": [],
   "source": [
    "s = input('Ingrese texto:')\n",
    "print(s)\n",
    "print(type(s))\n",
    "print(s*2)\n"
   ]
  },
  {
   "cell_type": "markdown",
   "metadata": {},
   "source": [
    "En Python pueden transformarse valores de un tipo de datos a otro usando *typecasting*. La expresión `<tipo>(<valor>)` convierte `<valor>` al `<tipo>` especificado."
   ]
  },
  {
   "cell_type": "code",
   "execution_count": null,
   "metadata": {},
   "outputs": [],
   "source": [
    "print(int(3.1416))\n",
    "print(int(9.999))\n",
    "print(int('2')//3)\n",
    "print(float('2')/3)\n"
   ]
  },
  {
   "cell_type": "markdown",
   "metadata": {},
   "source": [
    "Usando typecasting es posible leer en programa datos de tipos numéricos:"
   ]
  },
  {
   "cell_type": "code",
   "execution_count": null,
   "metadata": {},
   "outputs": [],
   "source": [
    "s = float(input('Ingrese un numero:'))\n",
    "print(type(s))\n",
    "print(s/3)\n",
    "print(s**2)"
   ]
  },
  {
   "cell_type": "markdown",
   "metadata": {},
   "source": [
    "Si una conversión no es posible se produce un error del tipo **ValueError**."
   ]
  },
  {
   "cell_type": "code",
   "execution_count": null,
   "metadata": {},
   "outputs": [],
   "source": [
    "int('casa')"
   ]
  },
  {
   "cell_type": "markdown",
   "metadata": {},
   "source": [
    "En programas sencillos, es común colocar la lecturas de datos dentro de un lazo principal.\n"
   ]
  },
  {
   "cell_type": "code",
   "execution_count": null,
   "metadata": {},
   "outputs": [],
   "source": [
    "# Lazo principal\n",
    "while True:\n",
    "    s = input('Ingrese texto:')\n",
    "    # si el usuario ingresa 'fin', terminar\n",
    "    if s == 'fin':\n",
    "        print('Chao!')\n",
    "        break\n",
    "    # caso contrario, repetir alguna acción...\n",
    "    print(s.upper()) # escribe cadena en letras mayúsculas "
   ]
  },
  {
   "cell_type": "markdown",
   "metadata": {},
   "source": [
    "A menudo es útil usar *typecasting* para transformar los datos al tipo adecuado."
   ]
  },
  {
   "cell_type": "code",
   "execution_count": null,
   "metadata": {},
   "outputs": [],
   "source": [
    "while True:\n",
    "    s = input('Ingrese un entero no negativo (o \"fin\"):')\n",
    "    if s=='fin': \n",
    "        print('Chao!')\n",
    "        break\n",
    "    k = int(s)\n",
    "    print('Numeros del 0 al {}'.format(k))\n",
    "    for i in range(k):\n",
    "        print('{}, '.format(i))\n",
    "    print('{}\\n'.format(k))"
   ]
  },
  {
   "cell_type": "markdown",
   "metadata": {},
   "source": [
    "Para impedir el ingreso de entradas no válidas, en el ejemplo anterior podría usarse el método `isdigit` de las cadenas de caracteres."
   ]
  },
  {
   "cell_type": "code",
   "execution_count": null,
   "metadata": {},
   "outputs": [],
   "source": [
    "# Ingreso de enteros con validacion de entrada\n",
    "while True:\n",
    "    s = input('Ingrese un entero no negativo (o fin):')\n",
    "    if s.isdigit():\n",
    "        for i in range(int(s)): \n",
    "            print('{}, '.format(i))\n",
    "        print('{}\\n'.format(int(s)))\n",
    "    elif s == 'fin':\n",
    "        print('Chao!')\n",
    "        break\n",
    "    else:\n",
    "        print('Entrada invalida!!!')\n"
   ]
  },
  {
   "cell_type": "markdown",
   "metadata": {},
   "source": [
    "## Errores y excepciones\n",
    "\n",
    "En la mayoría de lenguajes de programación se diferencia entre **errores** y **excepciones**:\n",
    "\n",
    "### Errores\n",
    "Se conocen como errores a condiciones graves que impiden la correcta ejecución de un programa o fragmento de código. Los más comunes son los **errores de sintaxis**, también conocidos como errores de interpretación, que se presentan cuando una expresión no está bien formada (rompe las reglas de sintaxis del lenguaje) y por lo tanto el compilador o el intérprete no la pueden traducir."
   ]
  },
  {
   "cell_type": "code",
   "execution_count": null,
   "metadata": {},
   "outputs": [],
   "source": [
    "while True \n",
    "    print('Hola mundo')"
   ]
  },
  {
   "cell_type": "markdown",
   "metadata": {},
   "source": [
    "### Excepciones \n",
    "\n",
    "Se conocen como excepciones a aquellos errores lógicos que detienen la ejecución normal del programa, pero que por su naturaleza no son tan graves y podrían ser manejados desde el mismo código del programa. Un ejemplo común es el ingreso de datos incorrectos señalado arriba.\n",
    " "
   ]
  },
  {
   "cell_type": "code",
   "execution_count": null,
   "metadata": {},
   "outputs": [],
   "source": [
    "s = input('Ingrese un numero:')\n",
    "print(int(s))"
   ]
  },
  {
   "cell_type": "markdown",
   "metadata": {},
   "source": [
    "Python permite el manejo de excepciones por medio de bloques `try` ... `except` ... `else`."
   ]
  },
  {
   "cell_type": "code",
   "execution_count": null,
   "metadata": {},
   "outputs": [],
   "source": [
    "# Validacion de entrada con excepciones\n",
    "while True:\n",
    "    s = input('Ingrese un entero no negativo (o fin):')\n",
    "    if s == 'fin':\n",
    "        print('Chao!')\n",
    "        break\n",
    "    try:\n",
    "        # en el primer bloque va el código que puede generar una excepcióm\n",
    "        n = int(s)  # si n no es entero, se genera excepcion\n",
    "    except:\n",
    "        # en el bloque except van las acciones a realizar si se produce una excepcion\n",
    "        print('Entrada invalida!!!')\n",
    "    else:\n",
    "        # en el último bloque va el código a ejecutar cuando no se produce una excepción\n",
    "        for i in range(n): \n",
    "            print('{}, '.format(i))\n",
    "        print('{}\\n'.format(n))"
   ]
  },
  {
   "cell_type": "markdown",
   "metadata": {},
   "source": [
    "A veces es útil *generar excepciones* usando la instrucción `assert <condicion>`. Esta instrucción genera una excepción cuando `condicion`toma el valor de `False`."
   ]
  },
  {
   "cell_type": "code",
   "execution_count": null,
   "metadata": {},
   "outputs": [],
   "source": [
    "# Validacion de entrada con excepciones (2)\n",
    "while True:\n",
    "    s = input('Ingrese un entero no negativo (o fin):')\n",
    "    if s == 'fin':\n",
    "        print('Chao!')\n",
    "        break\n",
    "    try:\n",
    "        n = int(s)  # si n no es entero, se genera excepcion\n",
    "        assert n >= 0  # assert genera excepcion sobre condicion\n",
    "    except:\n",
    "        print('Entrada invalida!!!')\n",
    "    else:\n",
    "        for i in range(n): print('{}, '.format(i))\n",
    "        print('{}\\n'.format(int(s)))"
   ]
  },
  {
   "cell_type": "markdown",
   "metadata": {},
   "source": [
    "El siguiente ejemplo combina las ideas anteriores en un programa para calcular el área de un círculo a partir de su radio."
   ]
  },
  {
   "cell_type": "code",
   "execution_count": null,
   "metadata": {},
   "outputs": [],
   "source": [
    "# Calculo del area de un circulo\n",
    "import math\n",
    "while True:\n",
    "    s = input('Ingrese el radio de un circulo (o fin):')\n",
    "    if s == 'fin':\n",
    "        print('Chao!')\n",
    "        break\n",
    "    try:\n",
    "        r = float(s)  # si r no es un numero float, se genera excepcion\n",
    "        assert r > 0  # assert genera excepcion sobre condicion\n",
    "    except:\n",
    "        print('Entrada invalida!!!')\n",
    "    else:\n",
    "        # una instruccion puede abarcar mas de una linea (no recomendado)\n",
    "        print('Area del circulo de radio {:.2f} es: {:.2f}'.format(\n",
    "               r, math.pi * (r ** 2))\n",
    "        )\n"
   ]
  },
  {
   "cell_type": "code",
   "execution_count": null,
   "metadata": {},
   "outputs": [],
   "source": []
  }
 ],
 "metadata": {
  "kernelspec": {
   "display_name": "Python 3",
   "language": "python",
   "name": "python3"
  },
  "language_info": {
   "codemirror_mode": {
    "name": "ipython",
    "version": 3
   },
   "file_extension": ".py",
   "mimetype": "text/x-python",
   "name": "python",
   "nbconvert_exporter": "python",
   "pygments_lexer": "ipython3",
   "version": "3.8.5"
  }
 },
 "nbformat": 4,
 "nbformat_minor": 2
}
