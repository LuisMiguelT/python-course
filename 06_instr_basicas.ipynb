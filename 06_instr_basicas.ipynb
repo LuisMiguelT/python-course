{
 "cells": [
  {
   "cell_type": "markdown",
   "metadata": {},
   "source": [
    "# Cuaderno 5: Lazos, condicionales y lectura de datos"
   ]
  },
  {
   "cell_type": "markdown",
   "metadata": {},
   "source": [
    "## Lazos\n",
    "\n",
    "La instrucción ``for`` permite repetir una o más instrucciones varias veces. Para ello, una *variable de lazo* debe iterar sobre los elementos de cualquier tipo de datos iterable (por ejemplo, una lista, tupla o cadena)."
   ]
  },
  {
   "cell_type": "code",
   "execution_count": 1,
   "metadata": {},
   "outputs": [
    {
     "name": "stdout",
     "output_type": "stream",
     "text": [
      "gatogato\n",
      "gato\n",
      "---\n",
      "perroperro\n",
      "perro\n",
      "---\n",
      "loroloro\n",
      "loro\n",
      "---\n",
      "patopato\n",
      "pato\n",
      "---\n",
      "6\n",
      "3\n",
      "---\n",
      "3.0\n",
      "1.5\n",
      "---\n"
     ]
    }
   ],
   "source": [
    "mascotas = ['gato', 'perro', 'loro', 'pato' ,3, 1.5]\n",
    "for k in mascotas:\n",
    "    print(k*2)\n",
    "    print(k)\n",
    "    print('---')\n"
   ]
  },
  {
   "cell_type": "markdown",
   "metadata": {},
   "source": [
    "Todas las instrucciones a repetir deben aparecer *indentadas*. La indentación se usa en Python para indicar *bloques de instrucciones*."
   ]
  },
  {
   "cell_type": "code",
   "execution_count": 2,
   "metadata": {},
   "outputs": [
    {
     "name": "stdout",
     "output_type": "stream",
     "text": [
      "gato es una mascota\n",
      "gatogato es una mascota doble\n",
      "perro es una mascota\n",
      "perroperro es una mascota doble\n",
      "loro es una mascota\n",
      "loroloro es una mascota doble\n",
      "pato es una mascota\n",
      "patopato es una mascota doble\n",
      "Esto esta afuera del lazo...\n"
     ]
    }
   ],
   "source": [
    "mascotas = ['gato', 'perro', 'loro', 'pato']\n",
    "for m in mascotas:\n",
    "    print('{} es una mascota'.format(m))\n",
    "    print ('{} es una mascota doble'.format(m*2))\n",
    "print('Esto esta afuera del lazo...')"
   ]
  },
  {
   "cell_type": "markdown",
   "metadata": {},
   "source": [
    "Recordar que la función `range()` devuelve una lista de enteros en un rango. Esta función es muy útil en la construcción de lazos."
   ]
  },
  {
   "cell_type": "code",
   "execution_count": 3,
   "metadata": {},
   "outputs": [
    {
     "name": "stdout",
     "output_type": "stream",
     "text": [
      "[0, 1, 2, 3, 4]\n",
      "[2, 3, 4]\n",
      "[5, 7, 9, 11, 13, 15, 17, 19]\n",
      "x\t\tx^3\n",
      "-10\t\t-1000\n",
      "-8\t\t-512\n",
      "-6\t\t-216\n",
      "-4\t\t-64\n",
      "-2\t\t-8\n",
      "0\t\t0\n",
      "2\t\t8\n",
      "4\t\t64\n",
      "6\t\t216\n",
      "8\t\t512\n",
      "10\t\t1000\n"
     ]
    }
   ],
   "source": [
    "print(list(range(5))) # range(n): lista de enteros desde 0 hasta n-1\n",
    "print(list(range(2,5))) # range(a, b): lista de enteros desde a hasta b-1\n",
    "print(list(range(5,21,2))) # lista de enteros desde a hasta b-1, en incrementos de k \n",
    "print('x\\t\\tx^3')\n",
    "for i in range(-10,11,2):\n",
    "    print('{}\\t\\t{}'.format(i, i**3))"
   ]
  },
  {
   "cell_type": "markdown",
   "metadata": {},
   "source": [
    "La instrucción `while <condicion>:` repite el bloque siguiente de instrucciones (indentadas), mientras `<condicion>` tenga el valor de `True`."
   ]
  },
  {
   "cell_type": "code",
   "execution_count": null,
   "metadata": {},
   "outputs": [],
   "source": [
    "i = 0\n",
    "while i < 10:\n",
    "    print('i vale {} y es menor a 10'.format(i))\n",
    "    i+= 1"
   ]
  },
  {
   "cell_type": "markdown",
   "metadata": {},
   "source": [
    "## Condicionales"
   ]
  },
  {
   "cell_type": "markdown",
   "metadata": {},
   "source": [
    "La instrucción `if <condicion>:` se utiliza para la ejecución condicional del bloque de instrucciones que le sigue. Este bloque se ejecutará únicamente si `<condicion>` es verdadera.\n"
   ]
  },
  {
   "cell_type": "code",
   "execution_count": 4,
   "metadata": {},
   "outputs": [
    {
     "name": "stdout",
     "output_type": "stream",
     "text": [
      "gato es un felino\n",
      "puma es un felino\n"
     ]
    }
   ],
   "source": [
    "felinos = ('gato', 'tigre', 'puma')\n",
    "animales = ('gato', 'perro', 'puma', 'pato')\n",
    "for i in animales:\n",
    "    if i in felinos:\n",
    "        print('{} es un felino'.format(i))"
   ]
  },
  {
   "cell_type": "markdown",
   "metadata": {},
   "source": [
    "La instrucción condicional `if` puede ser seguida de una parte `else` para identificar un bloque que se ejecuta cuando la condición es falsa."
   ]
  },
  {
   "cell_type": "code",
   "execution_count": 5,
   "metadata": {},
   "outputs": [
    {
     "name": "stdout",
     "output_type": "stream",
     "text": [
      "gato es un felino\n",
      "***\n",
      "perro no es un felino\n",
      "---\n",
      "puma es un felino\n",
      "***\n",
      "pato no es un felino\n",
      "---\n"
     ]
    }
   ],
   "source": [
    "for i in animales:\n",
    "    if i in felinos:\n",
    "        print('{} es un felino'.format(i))\n",
    "        print('***')\n",
    "    else:\n",
    "        print('{} no es un felino'.format(i))\n",
    "        print('---')\n",
    "        "
   ]
  },
  {
   "cell_type": "markdown",
   "metadata": {},
   "source": [
    "La instrucción `elif` es una abreviación de *else if* y puede utilizarse para construir una instrucción condicional con varios casos."
   ]
  },
  {
   "cell_type": "code",
   "execution_count": null,
   "metadata": {},
   "outputs": [],
   "source": [
    "felinos = ('gato', 'tigre', 'puma')\n",
    "aves = ('pato', 'gallina', 'paloma')\n",
    "animales = ('gato', 'perro', 'puma', 'pato', 'gallina', 'paloma', 'serpiente')\n",
    "for i in animales:\n",
    "    if i in felinos:\n",
    "        print('{} es un felino'.format(i))\n",
    "    elif i in aves:\n",
    "        print('{} es un ave'.format(i))\n",
    "    else:\n",
    "        print('{} no es un felino, ni tampoco un ave'.format(i))"
   ]
  },
  {
   "cell_type": "markdown",
   "metadata": {},
   "source": [
    "Al combinar lazos e instrucciones condicionales, a menudo es últil la instrucción `break`. La misma se usa para terminar un lazo anticipadamente."
   ]
  },
  {
   "cell_type": "code",
   "execution_count": 6,
   "metadata": {},
   "outputs": [
    {
     "name": "stdout",
     "output_type": "stream",
     "text": [
      "2 es un numero primo\n",
      "3 es un numero primo\n",
      "4 es igual a 2 * 2\n",
      "5 es un numero primo\n",
      "6 es igual a 2 * 3\n",
      "7 es un numero primo\n",
      "8 es igual a 2 * 4\n",
      "9 es igual a 3 * 3\n",
      "10 es igual a 2 * 5\n",
      "11 es un numero primo\n",
      "12 es igual a 2 * 6\n",
      "13 es un numero primo\n",
      "14 es igual a 2 * 7\n",
      "15 es igual a 3 * 5\n",
      "16 es igual a 2 * 8\n",
      "17 es un numero primo\n",
      "18 es igual a 2 * 9\n",
      "19 es un numero primo\n",
      "20 es igual a 2 * 10\n",
      "21 es igual a 3 * 7\n",
      "22 es igual a 2 * 11\n",
      "23 es un numero primo\n",
      "24 es igual a 2 * 12\n",
      "25 es igual a 5 * 5\n",
      "26 es igual a 2 * 13\n",
      "27 es igual a 3 * 9\n",
      "28 es igual a 2 * 14\n",
      "29 es un numero primo\n",
      "30 es igual a 2 * 15\n",
      "31 es un numero primo\n",
      "32 es igual a 2 * 16\n",
      "33 es igual a 3 * 11\n",
      "34 es igual a 2 * 17\n",
      "35 es igual a 5 * 7\n",
      "36 es igual a 2 * 18\n",
      "37 es un numero primo\n",
      "38 es igual a 2 * 19\n",
      "39 es igual a 3 * 13\n",
      "40 es igual a 2 * 20\n",
      "41 es un numero primo\n",
      "42 es igual a 2 * 21\n",
      "43 es un numero primo\n",
      "44 es igual a 2 * 22\n",
      "45 es igual a 3 * 15\n",
      "46 es igual a 2 * 23\n",
      "47 es un numero primo\n",
      "48 es igual a 2 * 24\n",
      "49 es igual a 7 * 7\n",
      "50 es igual a 2 * 25\n",
      "51 es igual a 3 * 17\n",
      "52 es igual a 2 * 26\n",
      "53 es un numero primo\n",
      "54 es igual a 2 * 27\n",
      "55 es igual a 5 * 11\n",
      "56 es igual a 2 * 28\n",
      "57 es igual a 3 * 19\n",
      "58 es igual a 2 * 29\n",
      "59 es un numero primo\n",
      "60 es igual a 2 * 30\n",
      "61 es un numero primo\n",
      "62 es igual a 2 * 31\n",
      "63 es igual a 3 * 21\n",
      "64 es igual a 2 * 32\n",
      "65 es igual a 5 * 13\n",
      "66 es igual a 2 * 33\n",
      "67 es un numero primo\n",
      "68 es igual a 2 * 34\n",
      "69 es igual a 3 * 23\n",
      "70 es igual a 2 * 35\n",
      "71 es un numero primo\n",
      "72 es igual a 2 * 36\n",
      "73 es un numero primo\n",
      "74 es igual a 2 * 37\n",
      "75 es igual a 3 * 25\n",
      "76 es igual a 2 * 38\n",
      "77 es igual a 7 * 11\n",
      "78 es igual a 2 * 39\n",
      "79 es un numero primo\n",
      "80 es igual a 2 * 40\n",
      "81 es igual a 3 * 27\n",
      "82 es igual a 2 * 41\n",
      "83 es un numero primo\n",
      "84 es igual a 2 * 42\n",
      "85 es igual a 5 * 17\n",
      "86 es igual a 2 * 43\n",
      "87 es igual a 3 * 29\n",
      "88 es igual a 2 * 44\n",
      "89 es un numero primo\n",
      "90 es igual a 2 * 45\n",
      "91 es igual a 7 * 13\n",
      "92 es igual a 2 * 46\n",
      "93 es igual a 3 * 31\n",
      "94 es igual a 2 * 47\n",
      "95 es igual a 5 * 19\n",
      "96 es igual a 2 * 48\n",
      "97 es un numero primo\n",
      "98 es igual a 2 * 49\n",
      "99 es igual a 3 * 33\n"
     ]
    }
   ],
   "source": [
    "for n in range(2, 100):\n",
    "    divisible = False\n",
    "    for x in range(2, n):\n",
    "        if n % x == 0: # notar que el operador % devuelve el resto de una división \n",
    "            print('{} es igual a {} * {}'.format(n, x, n//x))\n",
    "            divisible = True\n",
    "            break \n",
    "    # estamos todavía en el lazo for externo\n",
    "    if not divisible:  # notar como 'not' puede usarse para negar una condicion\n",
    "        print('{} es un numero primo'.format(n))"
   ]
  },
  {
   "cell_type": "markdown",
   "metadata": {},
   "source": [
    "La instrucción `continue`, por otra parte, interrumpe la ejecución de una iteración del lazo y prosigue con la iteración siguiente:"
   ]
  },
  {
   "cell_type": "code",
   "execution_count": 7,
   "metadata": {},
   "outputs": [
    {
     "name": "stdout",
     "output_type": "stream",
     "text": [
      "[1, 3, 5, 7, 9, 11, 13, 15, 17, 19, 21, 23, 25, 27, 29, 31, 33, 35, 37, 39, 41, 43, 45, 47, 49, 51, 53, 55, 57, 59, 61, 63, 65, 67, 69, 71, 73, 75, 77, 79, 81, 83, 85, 87, 89, 91, 93, 95, 97, 99]\n"
     ]
    }
   ],
   "source": [
    "# imprimir los números impares, saltar los pares\n",
    "L = []\n",
    "for i in range(100):\n",
    "    if i%2==0:\n",
    "        continue\n",
    "    L.append(i)\n",
    "print(L)"
   ]
  },
  {
   "cell_type": "markdown",
   "metadata": {},
   "source": [
    "## Lectura de datos\n",
    "\n",
    "La instrucción `input(mensaje)` escribe un mensaje en la pantalla, lee una línea desde la entrada estándar (teclado) y la devuelve el valor ingresado como una cadena de caracteres."
   ]
  },
  {
   "cell_type": "code",
   "execution_count": 9,
   "metadata": {},
   "outputs": [
    {
     "name": "stdout",
     "output_type": "stream",
     "text": [
      "Ingrese texto:5\n",
      "5\n",
      "<class 'str'>\n",
      "55\n"
     ]
    }
   ],
   "source": [
    "s = input('Ingrese texto:')\n",
    "print(s)\n",
    "print(type(s))\n",
    "print(s*2)\n"
   ]
  },
  {
   "cell_type": "markdown",
   "metadata": {},
   "source": [
    "En Python pueden transformarse valores de un tipo de datos a otro usando *typecasting*. La expresión `<tipo>(<valor>)` convierte `<valor>` al `<tipo>` especificado."
   ]
  },
  {
   "cell_type": "code",
   "execution_count": 11,
   "metadata": {},
   "outputs": [
    {
     "name": "stdout",
     "output_type": "stream",
     "text": [
      "3\n",
      "0\n",
      "0.6666666666666666\n",
      "Ingrese un numero:9.3\n",
      "<class 'float'>\n",
      "3.1\n",
      "86.49000000000001\n"
     ]
    }
   ],
   "source": [
    "print(int(3.1416))\n",
    "print(int('2')//3)\n",
    "print(float('2')/3)\n",
    "s = float(input('Ingrese un numero:'))\n",
    "print(type(s))\n",
    "print(s/3)\n",
    "print(s**2)"
   ]
  },
  {
   "cell_type": "markdown",
   "metadata": {},
   "source": [
    "Si una conversión no es posible se produce un error del tipo **ValueError**."
   ]
  },
  {
   "cell_type": "code",
   "execution_count": 12,
   "metadata": {},
   "outputs": [
    {
     "ename": "ValueError",
     "evalue": "invalid literal for int() with base 10: 'casa'",
     "output_type": "error",
     "traceback": [
      "\u001b[0;31m---------------------------------------------------------------------------\u001b[0m",
      "\u001b[0;31mValueError\u001b[0m                                Traceback (most recent call last)",
      "\u001b[0;32m<ipython-input-12-755b02ea0f2f>\u001b[0m in \u001b[0;36m<module>\u001b[0;34m\u001b[0m\n\u001b[0;32m----> 1\u001b[0;31m \u001b[0mint\u001b[0m\u001b[0;34m(\u001b[0m\u001b[0;34m'casa'\u001b[0m\u001b[0;34m)\u001b[0m\u001b[0;34m\u001b[0m\u001b[0;34m\u001b[0m\u001b[0m\n\u001b[0m",
      "\u001b[0;31mValueError\u001b[0m: invalid literal for int() with base 10: 'casa'"
     ]
    }
   ],
   "source": [
    "int('casa')"
   ]
  },
  {
   "cell_type": "markdown",
   "metadata": {},
   "source": [
    "En programas sencillos, es común colocar la lecturas de datos dentro de un lazo principal.\n"
   ]
  },
  {
   "cell_type": "code",
   "execution_count": 13,
   "metadata": {},
   "outputs": [
    {
     "name": "stdout",
     "output_type": "stream",
     "text": [
      "Ingrese texto:cualquier cosa\n",
      "CUALQUIER COSA\n",
      "Ingrese texto:Luis Miguel\n",
      "LUIS MIGUEL\n",
      "Ingrese texto:así\n",
      "ASÍ\n",
      "Ingrese texto:año\n",
      "AÑO\n",
      "Ingrese texto:123\n",
      "123\n",
      "Ingrese texto:123.56/&ytrc\n",
      "123.56/&YTRC\n",
      "Ingrese texto:fin\n",
      "Chao!\n"
     ]
    }
   ],
   "source": [
    "# Lazo principal\n",
    "while True:\n",
    "    s = input('Ingrese texto:')\n",
    "    # si el usuario ingresa 'fin', terminar\n",
    "    if s == 'fin':\n",
    "        print('Chao!')\n",
    "        break\n",
    "    # caso contrario, repetir alguna acción...\n",
    "    print(s.upper()) # escribe cadena en letras mayúsculas "
   ]
  },
  {
   "cell_type": "markdown",
   "metadata": {},
   "source": [
    "A menudo es útil usar *typecasting* para transformar los datos al tipo adecuado."
   ]
  },
  {
   "cell_type": "code",
   "execution_count": 17,
   "metadata": {},
   "outputs": [
    {
     "name": "stdout",
     "output_type": "stream",
     "text": [
      "Ingrese un entero no negativo (o \"fin\"):-10\n",
      "Numeros del 0 al -10\n",
      "-10\n",
      "\n",
      "Ingrese un entero no negativo (o \"fin\"):fin\n",
      "Chao!\n"
     ]
    }
   ],
   "source": [
    "while True:\n",
    "    s = input('Ingrese un entero no negativo (o \"fin\"):')\n",
    "    if s=='fin': \n",
    "        print('Chao!')\n",
    "        break\n",
    "    k = int(s)\n",
    "    print('Numeros del 0 al {}'.format(k))\n",
    "    for i in range(k):\n",
    "        print('{}, '.format(i))\n",
    "    print('{}\\n'.format(k))"
   ]
  },
  {
   "cell_type": "markdown",
   "metadata": {},
   "source": [
    "Para impedir el ingreso de entradas no válidas, en el ejemplo anterior podría usarse el método `isdigit` de las cadenas de caracteres."
   ]
  },
  {
   "cell_type": "code",
   "execution_count": 19,
   "metadata": {},
   "outputs": [
    {
     "name": "stdout",
     "output_type": "stream",
     "text": [
      "Ingrese un entero no negativo (o fin):3.4\n",
      "Entrada invalida!!!\n",
      "Ingrese un entero no negativo (o fin):-10\n",
      "Entrada invalida!!!\n",
      "Ingrese un entero no negativo (o fin):12\n",
      "0, \n",
      "1, \n",
      "2, \n",
      "3, \n",
      "4, \n",
      "5, \n",
      "6, \n",
      "7, \n",
      "8, \n",
      "9, \n",
      "10, \n",
      "11, \n",
      "12\n",
      "\n",
      "Ingrese un entero no negativo (o fin):fin\n",
      "Chao!\n"
     ]
    }
   ],
   "source": [
    "# Ingreso de enteros con validacion de entrada\n",
    "while True:\n",
    "    s = input('Ingrese un entero no negativo (o fin):')\n",
    "    if s.isdigit():\n",
    "        for i in range(int(s)): \n",
    "            print('{}, '.format(i))\n",
    "        print('{}\\n'.format(int(s)))\n",
    "    elif s == 'fin':\n",
    "        print('Chao!')\n",
    "        break\n",
    "    else:\n",
    "        print('Entrada invalida!!!')\n"
   ]
  },
  {
   "cell_type": "markdown",
   "metadata": {},
   "source": [
    "## Errores y excepciones\n",
    "\n",
    "En la mayoría de lenguajes de programación se diferencia entre **errores** y **excepciones**:\n",
    "\n",
    "### Errores\n",
    "Se conocen como errores a condiciones graves que impiden la correcta ejecución de un programa o fragmento de código. Los más comunes son los **errores de sintaxis**, también conocidos como errores de interpretación, que se presentan cuando una expresión no está bien formada (rompe las reglas de sintaxis del lenguaje) y por lo tanto el compilador o el intérprete no la pueden traducir."
   ]
  },
  {
   "cell_type": "code",
   "execution_count": 22,
   "metadata": {},
   "outputs": [
    {
     "ename": "SyntaxError",
     "evalue": "invalid syntax (<ipython-input-22-aea6c29fd09b>, line 1)",
     "output_type": "error",
     "traceback": [
      "\u001b[0;36m  File \u001b[0;32m\"<ipython-input-22-aea6c29fd09b>\"\u001b[0;36m, line \u001b[0;32m1\u001b[0m\n\u001b[0;31m    while True\u001b[0m\n\u001b[0m               ^\u001b[0m\n\u001b[0;31mSyntaxError\u001b[0m\u001b[0;31m:\u001b[0m invalid syntax\n"
     ]
    }
   ],
   "source": [
    "while True \n",
    "    print('Hola mundo')"
   ]
  },
  {
   "cell_type": "markdown",
   "metadata": {},
   "source": [
    "### Excepciones \n",
    "\n",
    "Se conocen como excepciones a aquellos errores lógicos que detienen la ejecución normal del programa, pero que por su naturaleza no son tan graves y podrían ser manejados desde el mismo código del programa. Un ejemplo común es el ingreso de datos incorrectos señalado arriba.\n",
    " "
   ]
  },
  {
   "cell_type": "code",
   "execution_count": null,
   "metadata": {},
   "outputs": [],
   "source": [
    "s = input('Ingrese un numero:')\n",
    "print(int(s))"
   ]
  },
  {
   "cell_type": "markdown",
   "metadata": {},
   "source": [
    "Python permite el manejo de excepciones por medio de bloques `try` ... `except` ... `else`."
   ]
  },
  {
   "cell_type": "code",
   "execution_count": 23,
   "metadata": {},
   "outputs": [
    {
     "name": "stdout",
     "output_type": "stream",
     "text": [
      "Ingrese un entero no negativo (o fin):-14\n",
      "-14\n",
      "\n",
      "Ingrese un entero no negativo (o fin):12\n",
      "0, \n",
      "1, \n",
      "2, \n",
      "3, \n",
      "4, \n",
      "5, \n",
      "6, \n",
      "7, \n",
      "8, \n",
      "9, \n",
      "10, \n",
      "11, \n",
      "12\n",
      "\n",
      "Ingrese un entero no negativo (o fin):13.12\n",
      "Entrada invalida!!!\n",
      "Ingrese un entero no negativo (o fin):$%ffg\n",
      "Entrada invalida!!!\n",
      "Ingrese un entero no negativo (o fin):fin\n",
      "Chao!\n"
     ]
    }
   ],
   "source": [
    "# Validacion de entrada con excepciones\n",
    "while True:\n",
    "    s = input('Ingrese un entero no negativo (o fin):')\n",
    "    if s == 'fin':\n",
    "        print('Chao!')\n",
    "        break\n",
    "    try:\n",
    "        # en el primer bloque va el código que puede generar una excepcióm\n",
    "        n = int(s)  # si n no es entero, se genera excepcion\n",
    "    except:\n",
    "        # en el bloque except van las acciones a realizar si se produce una excepcion\n",
    "        print('Entrada invalida!!!')\n",
    "    else:\n",
    "        # en el último bloque va el código a ejecutar cuando no se produce una excepción\n",
    "        for i in range(n): \n",
    "            print('{}, '.format(i))\n",
    "        print('{}\\n'.format(int(s)))"
   ]
  },
  {
   "cell_type": "markdown",
   "metadata": {},
   "source": [
    "A veces es útil *generar excepciones* usando la instrucción `assert <condicion>`. Esta instrucción genera una excepción cuando `condicion`toma el valor de `False`."
   ]
  },
  {
   "cell_type": "code",
   "execution_count": 24,
   "metadata": {},
   "outputs": [
    {
     "name": "stdout",
     "output_type": "stream",
     "text": [
      "Ingrese un entero no negativo (o fin):-12\n",
      "Entrada invalida!!!\n",
      "Ingrese un entero no negativo (o fin):10\n",
      "0, \n",
      "1, \n",
      "2, \n",
      "3, \n",
      "4, \n",
      "5, \n",
      "6, \n",
      "7, \n",
      "8, \n",
      "9, \n",
      "10\n",
      "\n",
      "Ingrese un entero no negativo (o fin):0\n",
      "0\n",
      "\n",
      "Ingrese un entero no negativo (o fin):-1\n",
      "Entrada invalida!!!\n",
      "Ingrese un entero no negativo (o fin):1.45\n",
      "Entrada invalida!!!\n",
      "Ingrese un entero no negativo (o fin):%&TYG\n",
      "Entrada invalida!!!\n",
      "Ingrese un entero no negativo (o fin):fin\n",
      "Chao!\n"
     ]
    }
   ],
   "source": [
    "# Validacion de entrada con excepciones (2)\n",
    "while True:\n",
    "    s = input('Ingrese un entero no negativo (o fin):')\n",
    "    if s == 'fin':\n",
    "        print('Chao!')\n",
    "        break\n",
    "    try:\n",
    "        n = int(s)  # si n no es entero, se genera excepcion\n",
    "        assert n >= 0  # assert genera excepcion sobre condicion\n",
    "    except:\n",
    "        print('Entrada invalida!!!')\n",
    "    else:\n",
    "        for i in range(n): print('{}, '.format(i))\n",
    "        print('{}\\n'.format(int(s)))"
   ]
  },
  {
   "cell_type": "markdown",
   "metadata": {},
   "source": [
    "El siguiente ejemplo combina las ideas anteriores en un programa para calcular el área de un círculo a partir de su radio."
   ]
  },
  {
   "cell_type": "code",
   "execution_count": 25,
   "metadata": {},
   "outputs": [
    {
     "name": "stdout",
     "output_type": "stream",
     "text": [
      "Ingrese el radio de un circulo (o fin):casa\n",
      "Entrada invalida!!!\n",
      "Ingrese el radio de un circulo (o fin):-13\n",
      "Entrada invalida!!!\n",
      "Ingrese el radio de un circulo (o fin):-1.34\n",
      "Entrada invalida!!!\n",
      "Ingrese el radio de un circulo (o fin):12\n",
      "Area del circulo de radio 12.00 es: 452.39\n",
      "Ingrese el radio de un circulo (o fin):1.3\n",
      "Area del circulo de radio 1.30 es: 5.31\n",
      "Ingrese el radio de un circulo (o fin):fin\n",
      "Chao!\n"
     ]
    }
   ],
   "source": [
    "# Calculo del area de un circulo\n",
    "import math\n",
    "while True:\n",
    "    s = input('Ingrese el radio de un circulo (o fin):')\n",
    "    if s == 'fin':\n",
    "        print('Chao!')\n",
    "        break\n",
    "    try:\n",
    "        r = float(s)  # si r no es un numero float, se genera excepcion\n",
    "        assert r > 0  # assert genera excepcion sobre condicion\n",
    "    except:\n",
    "        print('Entrada invalida!!!')\n",
    "    else:\n",
    "        # una instruccion puede abarcar mas de una linea (no recomendado)\n",
    "        print('Area del circulo de radio {:.2f} es: {:.2f}'.format(\n",
    "               r, math.pi * (r ** 2))\n",
    "        )\n"
   ]
  },
  {
   "cell_type": "code",
   "execution_count": null,
   "metadata": {},
   "outputs": [],
   "source": []
  }
 ],
 "metadata": {
  "kernelspec": {
   "display_name": "Python 3",
   "language": "python",
   "name": "python3"
  },
  "language_info": {
   "codemirror_mode": {
    "name": "ipython",
    "version": 3
   },
   "file_extension": ".py",
   "mimetype": "text/x-python",
   "name": "python",
   "nbconvert_exporter": "python",
   "pygments_lexer": "ipython3",
   "version": "3.8.5"
  }
 },
 "nbformat": 4,
 "nbformat_minor": 2
}
