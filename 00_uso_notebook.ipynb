{
 "cells": [
  {
   "cell_type": "markdown",
   "metadata": {},
   "source": [
    "# Cuaderno 0: Uso del *jupyter notebook*\n",
    "\n",
    "Cada cuaderno de *jupyter* consiste de varias celdas, que pueden tener tres tipos diferentes de contenido: `Markdown`, `Code` o `Raw`.\n",
    "\n",
    "* Una celda `Markdown` contiene texto escrito en el lenguaje de marcado Markdown.\n",
    "* Una celda `Code` contiene fragmentos de código de Python.\n",
    "* Una celda `Raw` contiene texto sin formato.\n",
    "\n",
    "Para editar el contenido de una celda, usar `Enter`, para evaluar la expresión de una celda, usar `Shift` + `Enter`. La barra indicadora a la izquerda de la celda indica si la misma se encuentra en modo de lectura (celeste) o de edición (verde)."
   ]
  },
  {
   "cell_type": "code",
   "execution_count": null,
   "metadata": {},
   "outputs": [],
   "source": [
    "# Esta es una celda tipo \"Code\"\n",
    "# para evaluar su contenido, usar Shift-Enter\n",
    "print('Numeros' + ' casa') \n",
    "print(2 + 5)"
   ]
  },
  {
   "cell_type": "raw",
   "metadata": {},
   "source": [
    "Esta es una celda de código sin formato."
   ]
  },
  {
   "cell_type": "markdown",
   "metadata": {},
   "source": [
    "El lenguaje Markdown soporta opciones de formato sencillas como **negrillas**, *cursiva*, `código`. También expresiones simples de $\\LaTeX$.\n",
    "\n",
    "$\\newcommand{\\R}{\\mathbb{R}}$\n",
    "Sea $x \\in \\R$ tal que\n",
    "\\begin{align}\n",
    "    x^2 \\geq \\sqrt{\\pi} \n",
    "            \\begin{pmatrix}\n",
    "                e & \\pi & \\sqrt{2}\n",
    "            \\end{pmatrix}\n",
    "            \\cdot\n",
    "            \\begin{pmatrix}\n",
    "                1\n",
    "                \\\\\n",
    "                \\dfrac{\\sqrt{5}-1}{2}\n",
    "                \\\\\n",
    "                e^{-\\pi}\n",
    "            \\end{pmatrix}\n",
    "\\end{align}"
   ]
  },
  {
   "cell_type": "markdown",
   "metadata": {},
   "source": [
    "Pueden crearse tablas usando separadores verticales (|). \n",
    "\n",
    "| Tables        | Are           | Cool  |\n",
    "| :------------ |:-------------:| -----:|\n",
    "| col 3 is      | right-aligned | \\$1600 |\n",
    "| col 2 is      | centered      |   \\$12 |\n",
    "| zebra stripes | are neat      |    \\$1 |\n",
    "\n",
    "Después de la fila de encabezados viene una fila con al menos 3 guiones por columna.\n",
    "La alineación de cada columna se especifica por medio del caracter dos puntos (:) en esta segunda fila.\n",
    "Los separadores verticales más externos son opcionales y pueden omitirse.\n",
    "\n",
    "También puede usarse una sintaxis simplificada conocida como `inline Markdown`.\n",
    "\n",
    "Markdown | Less | Pretty\n",
    "--- | --- | ---\n",
    "*Still* | `renders` | **nicely**\n",
    "1 | 2 | 3\n"
   ]
  },
  {
   "cell_type": "markdown",
   "metadata": {},
   "source": [
    "## Más información:\n",
    "\n",
    "Para mayor información acerca de la sintaxis de Markdown, consultar (por ejemplo): \n",
    "<https://www.markdownguide.org/basic-syntax>."
   ]
  },
  {
   "cell_type": "markdown",
   "metadata": {},
   "source": [
    "## Comandos útiles del cuaderno:\n",
    "\n",
    "En el modo de lectura (barra izquierda celeste)\n",
    "\n",
    "* con las flechas nos desplazamos entre las celdas\n",
    "* con `a` insertamos una celda arriba de la celda seleccionada\n",
    "* con `b` insertamos una celda debajo de la celda seleccionada\n",
    "* con `d` (dos veces) borramos la celda seleccionada"
   ]
  },
  {
   "cell_type": "code",
   "execution_count": null,
   "metadata": {},
   "outputs": [],
   "source": [
    "# Ejemplo de celda de código\n",
    "# división entre enteros\n",
    "print(3.0 // 4) # comentario"
   ]
  },
  {
   "cell_type": "code",
   "execution_count": null,
   "metadata": {},
   "outputs": [],
   "source": [
    "# potencia\n",
    "x = 2 ** 10000\n",
    "print(x)"
   ]
  },
  {
   "cell_type": "code",
   "execution_count": null,
   "metadata": {},
   "outputs": [],
   "source": []
  }
 ],
 "metadata": {
  "kernelspec": {
   "display_name": "Python 3",
   "language": "python",
   "name": "python3"
  },
  "language_info": {
   "codemirror_mode": {
    "name": "ipython",
    "version": 3
   },
   "file_extension": ".py",
   "mimetype": "text/x-python",
   "name": "python",
   "nbconvert_exporter": "python",
   "pygments_lexer": "ipython3",
   "version": "3.8.5"
  }
 },
 "nbformat": 4,
 "nbformat_minor": 2
}
