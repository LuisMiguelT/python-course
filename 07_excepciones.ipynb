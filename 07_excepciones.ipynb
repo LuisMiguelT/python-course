{
 "cells": [
  {
   "cell_type": "markdown",
   "metadata": {},
   "source": [
    "# Cuaderno 7: Excepciones"
   ]
  },
  {
   "cell_type": "markdown",
   "metadata": {},
   "source": [
    "## Errores y excepciones\n",
    "\n",
    "En la mayoría de lenguajes de programación se diferencia entre **errores** y **excepciones**:\n",
    "\n",
    "### Errores\n",
    "Se conocen como errores a condiciones graves que impiden la correcta ejecución de un programa o fragmento de código. Los más comunes son los **errores de sintaxis**, también conocidos como errores de interpretación, que se presentan cuando una expresión no está bien formada (rompe las reglas de sintaxis del lenguaje) y por lo tanto el compilador o el intérprete no la pueden traducir."
   ]
  },
  {
   "cell_type": "code",
   "execution_count": null,
   "metadata": {},
   "outputs": [],
   "source": [
    "while True \n",
    "    print('Hola mundo')"
   ]
  },
  {
   "cell_type": "markdown",
   "metadata": {},
   "source": [
    "### Excepciones \n",
    "\n",
    "Se conocen como excepciones a aquellos errores lógicos que detienen la ejecución normal del programa, pero que por su naturaleza no son tan graves y podrían ser manejados desde el mismo código del programa. Comúnmente, las excepciones están relacionadas con datos que se encuentran en un formato incorrecto para el código que debe procesarlos.\n",
    "\n",
    "Por ejemplo, no se puede convertir en un número entero una cadena de de caracteres que no tiene el formato adecuado:\n",
    " "
   ]
  },
  {
   "cell_type": "code",
   "execution_count": null,
   "metadata": {},
   "outputs": [],
   "source": [
    "int('3.4.5')"
   ]
  },
  {
   "cell_type": "markdown",
   "metadata": {},
   "source": [
    "Tampoco se puede intentar acceder al cuarto elemento de una lista con tres elementos:"
   ]
  },
  {
   "cell_type": "code",
   "execution_count": null,
   "metadata": {},
   "outputs": [],
   "source": [
    "L = ['3', '2', '1']\n",
    "print(L[3])"
   ]
  },
  {
   "cell_type": "markdown",
   "metadata": {},
   "source": [
    "### Lectura de datos\n",
    "\n",
    "La instrucción `input(mensaje)` escribe un mensaje en la pantalla, lee una línea desde la entrada estándar (teclado) y la devuelve el valor ingresado como una cadena de caracteres."
   ]
  },
  {
   "cell_type": "code",
   "execution_count": null,
   "metadata": {},
   "outputs": [],
   "source": [
    "s = input('Ingrese texto:')\n",
    "print(s)\n"
   ]
  },
  {
   "cell_type": "markdown",
   "metadata": {},
   "source": [
    "El valor retornado por `input` es siempre del tipo `str`:"
   ]
  },
  {
   "cell_type": "code",
   "execution_count": null,
   "metadata": {},
   "outputs": [],
   "source": [
    "print(type(s))\n",
    "print(s*2)\n"
   ]
  },
  {
   "cell_type": "markdown",
   "metadata": {},
   "source": [
    "Usando typecasting es posible leer en programa datos de tipos numéricos:"
   ]
  },
  {
   "cell_type": "code",
   "execution_count": null,
   "metadata": {},
   "outputs": [],
   "source": [
    "s = float(input('Ingrese un número:'))\n",
    "print(type(s))\n",
    "print(s/3)\n",
    "print(s**2)"
   ]
  },
  {
   "cell_type": "markdown",
   "metadata": {},
   "source": [
    "En el ejemplo anterior, si el usuario ingresa una cadena de caracteres que no sea posible transformar en un número `float`, se produce un error (excepción) del tipo **ValueError**.\n",
    "\n",
    "Para casos sencillos, se puede validar la entrada del usuario empleando instrucciones condicionales. Por ejemplo, el siguiente código admite solamente entradas que sean enteros no negativos, o la palabra `fin` que sirve para terminar el programa:"
   ]
  },
  {
   "cell_type": "code",
   "execution_count": null,
   "metadata": {},
   "outputs": [],
   "source": [
    "# Ingreso de enteros con validación de entrada\n",
    "while True:\n",
    "    s = input('Ingrese un entero no negativo (o fin):')\n",
    "    if s.isdigit():\n",
    "        n = int(s)\n",
    "        print([(i+1)**2 for i in range(n)])\n",
    "    elif s == 'fin':\n",
    "        print('Chao!')\n",
    "        break\n",
    "    else:\n",
    "        print('Entrada inválida!!!')\n"
   ]
  },
  {
   "cell_type": "markdown",
   "metadata": {},
   "source": [
    "Sin embargo, validar entradas de un formato más general (por ejemplo enteros con signo, o números decimales) por medio de instrucciones condicionales puede ser bastante más complicado. En estos casos, es mejor intentar convertir los datos ingresados al tipo deseado y *manejar* las posibles excepciones que se presenten.\n",
    "\n",
    "Python permite el manejo de excepciones por medio de bloques `try` ... `except` ... `else`."
   ]
  },
  {
   "cell_type": "code",
   "execution_count": null,
   "metadata": {},
   "outputs": [],
   "source": [
    "# Validación de entrada por medio de excepciones\n",
    "while True:\n",
    "    s = input('Ingrese un valor decimal (o fin):')\n",
    "    if s == 'fin':\n",
    "        print('Chao!')\n",
    "        break\n",
    "    try:\n",
    "        # en el primer bloque va el código que puede generar una excepción\n",
    "        r = float(s)  # si n no es entero, se genera excepción\n",
    "    except:\n",
    "        # en el bloque except van las acciones a realizar si se produce una excepción\n",
    "        print('Entrada inválida!!!')\n",
    "    else:\n",
    "        # en el último bloque va el código a ejecutar cuando no se produce una excepción\n",
    "        print('{}^2 = {}'.format(r, r**2))"
   ]
  },
  {
   "cell_type": "markdown",
   "metadata": {},
   "source": [
    "A veces es útil *generar excepciones* usando la instrucción `assert <condicion>`. Esta instrucción genera una excepción cuando `condicion`toma el valor de `False`."
   ]
  },
  {
   "cell_type": "code",
   "execution_count": null,
   "metadata": {},
   "outputs": [],
   "source": [
    "# Cálculo del área de un círculo\n",
    "import math\n",
    "while True:\n",
    "    s = input('Ingrese el radio de un círculo (o fin):')\n",
    "    if s == 'fin':\n",
    "        print('Chao!')\n",
    "        break\n",
    "    try:\n",
    "        r = float(s)  # si r no es un número decimal, se genera excepción\n",
    "        assert r > 0  # assert genera excepción si no se cumple la condición r>0\n",
    "    except:\n",
    "        print('Entrada inválida!!!')\n",
    "    else:\n",
    "        # una instrucción puede abarcar más de una línea (no recomendado)\n",
    "        print('Area del círculo de radio {:.2f} es: {:.2f}'.format(\n",
    "               r, math.pi * (r ** 2))\n",
    "        )\n"
   ]
  },
  {
   "cell_type": "code",
   "execution_count": null,
   "metadata": {},
   "outputs": [],
   "source": []
  }
 ],
 "metadata": {
  "kernelspec": {
   "display_name": "Python 3 (ipykernel)",
   "language": "python",
   "name": "python3"
  },
  "language_info": {
   "codemirror_mode": {
    "name": "ipython",
    "version": 3
   },
   "file_extension": ".py",
   "mimetype": "text/x-python",
   "name": "python",
   "nbconvert_exporter": "python",
   "pygments_lexer": "ipython3",
   "version": "3.8.10"
  }
 },
 "nbformat": 4,
 "nbformat_minor": 2
}
