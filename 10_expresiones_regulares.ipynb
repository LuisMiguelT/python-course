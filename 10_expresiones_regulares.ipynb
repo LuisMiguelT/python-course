{
 "cells": [
  {
   "cell_type": "markdown",
   "metadata": {},
   "source": [
    "# Cuaderno 10: Expresiones regulares\n",
    "\n",
    "Las expresiones regulares (*regular expressions*, *regexes*) son cadenas de caracteres escritas en un lenguaje especial de formateo que se emplean para representar patrones de texto. Suelen utilizarse con tres fines principales: buscar un patrón dentro de un texto, determinar todas las ocurrencias de un patrón dentro de un texto, o preprocesar un texto para \"limpiarlo\" de información no relevante.\n",
    "\n",
    "En cualquiera de los tres casos, las expresiones regulares constituyen una herramienta fundamental para el procesamiento rápido y eficiente de información que tenga un formato de texto (páginas web, extracciones de bases de datos, redes sociales, etc.)\n",
    "\n",
    "### Funciones básicas\n",
    "\n",
    "Para utilizar expresiones regulares, es necesario importar el módulo `re`:"
   ]
  },
  {
   "cell_type": "code",
   "execution_count": null,
   "metadata": {},
   "outputs": [],
   "source": [
    "# importar el módulo de expresiones regulares\n",
    "import re"
   ]
  },
  {
   "cell_type": "markdown",
   "metadata": {},
   "source": [
    "La primera aplicación de las expresiones regulares es buscar un patrón dentro de una cadena de texto. La función `match` intenta encontrar este patrón en el inicio del texto. La función `search` busca el patrón en cualquier posición. Ambas funciones retornan valores booleanos: "
   ]
  },
  {
   "cell_type": "code",
   "execution_count": null,
   "metadata": {},
   "outputs": [],
   "source": [
    "S = 'Esta es una cadena de texto en la que vamos a buscar.'\n",
    "p = 'cade'\n",
    "if re.search(p, S):\n",
    "    print('Contiene {}'.format(p))\n",
    "else:\n",
    "    print('No contiene {}'.format(p))\n",
    "\n",
    "if re.match(p, S):\n",
    "    print('Empieza con {}'.format(p))\n",
    "else:\n",
    "    print('No empieza con {}'.format(p))\n"
   ]
  },
  {
   "cell_type": "markdown",
   "metadata": {},
   "source": [
    "La función `split` divide a una cadena de caracteres usando un patrón como delimitador. Esta función retorna una lista con todas las subcadenas de la cadena original, delimitadas por el patrón. "
   ]
  },
  {
   "cell_type": "code",
   "execution_count": null,
   "metadata": {},
   "outputs": [],
   "source": [
    "S = 'El panda, oso panda o panda gigante (Ailuropoda melanoleuca) es una especie de mamífero'\n",
    "p = 'panda'\n",
    "print(re.split(p, S))"
   ]
  },
  {
   "cell_type": "markdown",
   "metadata": {},
   "source": [
    "La función `findall` retorna una lista con todas las subcadenas que una cadena de caracteres que se ajustan a un patrón."
   ]
  },
  {
   "cell_type": "code",
   "execution_count": null,
   "metadata": {},
   "outputs": [],
   "source": [
    "S = 'El panda, oso panda o panda gigante (Ailuropoda melanoleuca) es una especie de mamífero'\n",
    "p = 'panda'\n",
    "print(re.findall(p, S))"
   ]
  },
  {
   "cell_type": "markdown",
   "metadata": {},
   "source": [
    "### Patrones\n",
    "\n",
    "Las expresiones regex pueden usar un lenguaje de marcado (*markup language*) para especificar patrones de cadenas de caracteres que pueden emplearse como parámetros en las funciones anteriores. Revisaremos en este cuaderno algunos elementos comunes de esta sintaxis. \n",
    "\n",
    "Los símbolos `^` y `$` indican el inicio y el fin de la cadena de caracteres, respectivamente.  "
   ]
  },
  {
   "cell_type": "code",
   "execution_count": null,
   "metadata": {},
   "outputs": [],
   "source": [
    "S = 'panda, oso panda o panda gigante'\n",
    "p1='panda'\n",
    "p2='^panda'\n",
    "p3='panda$'\n",
    "print(re.findall(p1, S))\n",
    "print(re.findall(p2, S))\n",
    "print(re.findall(p3, S))\n",
    "print(re.split(p1, S))\n",
    "print(re.split(p2, S))\n",
    "print(re.split(p3, S))\n",
    "if re.search(p2, S):\n",
    "    print('Empieza con panda')\n",
    "if re.search(p3, S):\n",
    "    print('Termina con panda')\n"
   ]
  },
  {
   "cell_type": "markdown",
   "metadata": {},
   "source": [
    "El operador `[]` se conoce como operador de conjuntos. Indica que en esa posición de la subcadena debe ir uno de los caracteres que aparecen entre los corchetes."
   ]
  },
  {
   "cell_type": "code",
   "execution_count": null,
   "metadata": {},
   "outputs": [],
   "source": [
    "S = 'El principal alimento del panda es el bambú'\n",
    "p1 = 'el'\n",
    "p2 = '[Ee]l'\n",
    "p3 = '[Ee][ls]'\n",
    "p4 = '[aeiouú]'\n",
    "print(re.findall(p1, S))\n",
    "print(re.findall(p2, S))\n",
    "print(re.findall(p3, S))\n",
    "print(re.findall(p4, S))"
   ]
  },
  {
   "cell_type": "markdown",
   "metadata": {},
   "source": [
    "Dentro del operador de conjuntos puede usarse el guión `-` para especificar un rango de caracteres, ordenados alfabéticamente:"
   ]
  },
  {
   "cell_type": "code",
   "execution_count": null,
   "metadata": {},
   "outputs": [],
   "source": [
    "S = 'El principal alimento del panda es el bambú'\n",
    "p1 = '[a-c]'\n",
    "p2 = '[a-z][a-z]'\n",
    "print(re.findall(p1, S))\n",
    "print(re.findall(p2, S))\n",
    "S = 'Veo 101 dalmatas, 1001 noches, pero no 439 pandas...'\n",
    "p = '[0-9][0-9]'\n",
    "print(re.findall(p, S))\n"
   ]
  },
  {
   "cell_type": "markdown",
   "metadata": {},
   "source": [
    "Dentro de un operador de conjuntos, el operador `^` cambia de significado. Se usa para expresa la negación:"
   ]
  },
  {
   "cell_type": "code",
   "execution_count": null,
   "metadata": {},
   "outputs": [],
   "source": [
    "S = 'El principal alimento del panda es el bambú'\n",
    "p1 = '[^i]'\n",
    "p2 = '[^a]'\n",
    "p3 = '[^p]a'\n",
    "print(re.findall(p1, S))\n",
    "print(re.findall(p2, S))\n",
    "print(re.findall(p3, S))"
   ]
  },
  {
   "cell_type": "markdown",
   "metadata": {},
   "source": [
    "El operador `|` es el operador de disyunción (*or*), que permite especificar patrones alternativos:"
   ]
  },
  {
   "cell_type": "code",
   "execution_count": null,
   "metadata": {},
   "outputs": [],
   "source": [
    "S = 'El principal alimento del panda es el bambú'\n",
    "p1 = 'al|del'\n",
    "p2 = '[ae]l'\n",
    "print(re.findall(p1, S))\n",
    "print(re.findall(p2, S))"
   ]
  },
  {
   "cell_type": "markdown",
   "metadata": {},
   "source": [
    "### Algunos caracteres especiales\n",
    "\n",
    "El caracter especial `\\w` simboliza cualquier letra o dígito. El caracter `\\d` representa un dígito, y el caracter `\\s`  representa un espacio en blanco. El punto `.` representa cualquier caracter.\n",
    "\n",
    "**Importante**: Si se usa dentro de un operador de conjuntos `[]`, el símbolo `.` pierde su significado usual y representa únicamente a un punto.\n"
   ]
  },
  {
   "cell_type": "code",
   "execution_count": null,
   "metadata": {},
   "outputs": [],
   "source": [
    "S = 'Veo 101 dalmatas, 1001 noches, pero no 439 pandas ni 35 ñandúes...'\n",
    "p1 = '\\w' # una letra o un dígito\n",
    "p2 = '\\d' # un dígito\n",
    "p3 = '\\s' # un caracter de espacio\n",
    "p4 = 's..' # una letra s seguida de dos caracteres cualesquiera\n",
    "p5 = 's[.][.]' # una letra s seguida de dos puntos\n",
    "print(re.findall(p1, S))\n",
    "print(re.findall(p2, S))\n",
    "print(re.split(p3, S))\n",
    "print(re.findall(p4, S))\n",
    "print(re.findall(p5, S))"
   ]
  },
  {
   "cell_type": "markdown",
   "metadata": {},
   "source": [
    "### Cuantificadores\n",
    "Los cuantificadores permiten expresar la repetición de una expresión un cierto número de veces. La forma más simple de un cuantificador es `e{m,n}` que equivale a decir que la expresión `e` debe repetirse un mínimo de `m` y un máximo de `n` veces:"
   ]
  },
  {
   "cell_type": "code",
   "execution_count": null,
   "metadata": {},
   "outputs": [],
   "source": [
    "S = 'El1 principales alimento del panda es el bambú'\n",
    "p1 = '[a-z]{3,4}'\n",
    "p2 = '[\\w]{2,10}'\n",
    "# no poner espacios dentro de los cuantificadores\n",
    "p3 = '[a-z]{2, 10}'\n",
    "print(re.findall(p1, S))\n",
    "print(re.findall(p2, S))\n",
    "print(re.findall(p3, S))\n"
   ]
  },
  {
   "cell_type": "markdown",
   "metadata": {},
   "source": [
    "Si se especifica un solo parámetro `e{m}` esto significa que la expresión `e` debe repetirse exactamente `m` veces:"
   ]
  },
  {
   "cell_type": "code",
   "execution_count": null,
   "metadata": {},
   "outputs": [],
   "source": [
    "S = 'El principal alimento del panda es el bambú'\n",
    "p1 = '[\\w]{5}'\n",
    "print(re.findall(p1, S))\n"
   ]
  },
  {
   "cell_type": "markdown",
   "metadata": {},
   "source": [
    "El cuantificador `e*` indica que la expresión `e` se puede repetir un *número arbitrario de veces, incluyendo 0 veces*."
   ]
  },
  {
   "cell_type": "code",
   "execution_count": null,
   "metadata": {},
   "outputs": [],
   "source": [
    "S = 'Veo 101 dalmatas, 1001 noches, pero no 439 pandas...'\n",
    "p1 = '[\\w]*'\n",
    "p2 = '[\\d]*'\n",
    "p3 = '[\\w\\s]*'\n",
    "print(re.findall(p1, S))\n",
    "print(re.findall(p2, S))\n",
    "print(re.findall(p3, S))\n"
   ]
  },
  {
   "cell_type": "markdown",
   "metadata": {},
   "source": [
    "El cuantificador `e?` indica que la expresión `e` se repite *cero o una vez*. El cuantificador `e+` indica que la expresión `e` se repite *una o más veces*."
   ]
  },
  {
   "cell_type": "code",
   "execution_count": null,
   "metadata": {},
   "outputs": [],
   "source": [
    "S = 'Veo 101 dalmatas, 1001 noches, pero no 439 pandas...'\n",
    "p1 = '[\\d]*'\n",
    "p2 = '[\\d]?'\n",
    "p3 = '[\\d]+'\n",
    "print(re.findall(p1, S))\n",
    "print(re.findall(p2, S))\n",
    "print(re.findall(p3, S))\n"
   ]
  },
  {
   "cell_type": "markdown",
   "metadata": {},
   "source": [
    "Es común usar los cuantificadores `*` y `+` en combinación con el símbolo `.` para indicar una repetición de un número arbitrario de veces de cualquier combinación de caracteres, es decir, una subcadena arbitraria."
   ]
  },
  {
   "cell_type": "code",
   "execution_count": null,
   "metadata": {},
   "outputs": [],
   "source": [
    "S = 'Veo 101 dalmatas, 1001 noches, pero no 439 pandas...'\n",
    "p1 = '.*' # cualquier subcadena, incluyendo cadenas vacías\n",
    "p2 = '.+' # cualquier subcadena, excluyendo cadenas vacías\n",
    "print(re.findall(p1, S))\n",
    "print(re.findall(p2, S))\n"
   ]
  },
  {
   "cell_type": "markdown",
   "metadata": {},
   "source": [
    "### Ejemplos:\n",
    "Vamos a cargar el archivo `wiki_panda.txt` en una variable `texto` de tipo cadena de caracteres:"
   ]
  },
  {
   "cell_type": "code",
   "execution_count": null,
   "metadata": {},
   "outputs": [],
   "source": [
    "with open(\"wiki_panda.txt\",\"r\") as file:\n",
    "    # leer el contenido del archivo en la variable texto\n",
    "    texto=file.read()\n",
    "# mostrar el contenido de esta variable en la pantalla\n",
    "print(texto)\n",
    "print(type(texto))"
   ]
  },
  {
   "cell_type": "markdown",
   "metadata": {},
   "source": [
    "Podemos extraer una lista con todas las palabras del texto anterior:"
   ]
  },
  {
   "cell_type": "code",
   "execution_count": null,
   "metadata": {},
   "outputs": [],
   "source": [
    "print(re.findall('[\\w]+', texto))\n",
    "L = [s for s in re.findall('[\\w]*', texto) if s!='']\n",
    "print(L)\n",
    "print(L.count('panda'))"
   ]
  },
  {
   "cell_type": "markdown",
   "metadata": {},
   "source": [
    "En el archivo `emails.txt` tenemos un encabezado (ficticio) de un correo electrónico, con información de direcciones de otros destinatarios. Carguemos el contenido de este archivo en una variable `texto`:"
   ]
  },
  {
   "cell_type": "code",
   "execution_count": null,
   "metadata": {},
   "outputs": [],
   "source": [
    "with open(\"emails.txt\",\"r\") as file:\n",
    "    # leer el contenido del archivo en la variable texto\n",
    "    texto=file.read()\n",
    "# mostrar el contenido de esta variable en la pantalla\n",
    "print(texto)"
   ]
  },
  {
   "cell_type": "markdown",
   "metadata": {},
   "source": [
    "Podemos usar una expresión regular para extraer una lista con todas las direcciones de email contenidas en el encabezado:"
   ]
  },
  {
   "cell_type": "code",
   "execution_count": null,
   "metadata": {},
   "outputs": [],
   "source": [
    "print(re.findall('[a-z.]+@[a-z.]+', texto))"
   ]
  },
  {
   "cell_type": "markdown",
   "metadata": {},
   "source": [
    "### Grupos\n",
    "Con frecuencia, las expresiones regulares se emplean para extraer información *estructurada* de un texto, la misma que consiste de diferentes campos. Para ello es útil emplear el operador de grupos `()`.\n",
    "\n",
    "En el último ejemplo, supongamos que queremos separar la información del nombre de usuario y servidor en las direcciones de correo electrónico:"
   ]
  },
  {
   "cell_type": "code",
   "execution_count": null,
   "metadata": {},
   "outputs": [],
   "source": [
    "L = re.findall('([a-z.]+)@([a-z.]+)', texto)\n",
    "print(L)"
   ]
  },
  {
   "cell_type": "markdown",
   "metadata": {},
   "source": [
    "La lista retornada por `findall` consiste ahora de tuplas de dos elementos cada una, correspondientes a los dos grupos en la expresión regular. Notar que el caracter `@` es usado durante la búsqueda pero no es retornado, pues no pertenece a ningún grupo.\n",
    "\n",
    "Los componentes individuales de cada tupla nos permiten recuperar el nombre de usuario y servidor en cada dirección:"
   ]
  },
  {
   "cell_type": "code",
   "execution_count": null,
   "metadata": {},
   "outputs": [],
   "source": [
    "for (usuario, servidor) in L:\n",
    "    print(\"Usuario: {}\".format(usuario))\n",
    "    print(\"Servidor: {}\".format(servidor))\n",
    "    print(\"-----\")"
   ]
  },
  {
   "cell_type": "markdown",
   "metadata": {},
   "source": [
    "### Objetos tipo Match\n",
    "Aunque hemos utilizado el resultado de las funciones `re.search` y `re.match` como un valor booleano, realmente ambas funciones retornan objetos de la clase `Match`.  Estos objetos se usan para representar la ocurrencia de un patrón dentro de una cadena de caracteres. \n",
    "\n",
    "Si el patrón no aparece en la cadena (o al inicio de la cadena, en el caso de la función `match`), ambas funciones retornan `None`. Al usarse en lugar de una expresión booleana, cualquier objeto tipo `Match` equivale a `True`, mientras que `None`, equivale a `False`. "
   ]
  },
  {
   "cell_type": "code",
   "execution_count": null,
   "metadata": {},
   "outputs": [],
   "source": [
    "S = 'Veo 101 dalmatas, 1001 noches, pero no 439 pandas...'\n",
    "print(re.search('\\d+', S))\n",
    "print(re.match('\\d+', S))\n",
    "print(re.search('\\d[.]+', S))\n",
    "\n",
    "if(re.search('\\d+', S)):\n",
    "    print(\"Se encontró el primer patrón\")\n",
    "\n",
    "if(re.match('\\d+', S)):\n",
    "    print(\"Se encontró el segundo patrón\")\n",
    "\n",
    "if(re.search('\\d[.]+', S)):\n",
    "    print(\"Se encontró el tercer patrón\")"
   ]
  },
  {
   "cell_type": "markdown",
   "metadata": {},
   "source": [
    "Un objeto tipo `Match` tiene adicionalmente otras propiedades y métodos. Por ejemplo, el método `span` retorna una tupla con los índices de inicio y fin de la ocurrencia del patrón dentro de la cadena."
   ]
  },
  {
   "cell_type": "code",
   "execution_count": null,
   "metadata": {},
   "outputs": [],
   "source": [
    "S = 'Veo 101 dalmatas, 1001 noches, pero no 439 pandas...'\n",
    "m = re.search('\\d+', S)\n",
    "print(type(m))\n",
    "print(m.span())\n",
    "(a,b) = m.span()\n",
    "print(S[a:b])"
   ]
  },
  {
   "cell_type": "markdown",
   "metadata": {},
   "source": [
    "Cuando el patrón de búsqueda contiene grupos, el método `group` nos permite acceder a las subcadenas asociadas a cada uno de los grupos. Al llamarlo como `group(0)` este método retorna toda la ocurrencia del patrón. Al llamarlo como `group(i)`, con i>0, el método retorna la subcadena correspondiente al i-ésimo grupo.\n",
    "\n",
    "El método `groups` retorna una tupla con todos los grupos."
   ]
  },
  {
   "cell_type": "code",
   "execution_count": null,
   "metadata": {},
   "outputs": [],
   "source": [
    "S = \"Cadena que contiene la dirección dkrishna@hotmail.com\"\n",
    "m = re.search('([a-z.]+)@([a-z.]+)', S)\n",
    "print(m.group(0))\n",
    "print(m.group(1))\n",
    "print(m.group(2))\n",
    "print(m.groups())"
   ]
  },
  {
   "cell_type": "markdown",
   "metadata": {},
   "source": [
    "Es posible especificar *nombres* para los distintos grupos de un patrón. Esto se consigue empleando la sintaxis `(?P<nombre>)`:"
   ]
  },
  {
   "cell_type": "code",
   "execution_count": null,
   "metadata": {},
   "outputs": [],
   "source": [
    "S = \"Cadena que contiene la dirección dkrishna@hotmail.com\"\n",
    "m = re.search('(?P<usuario>[a-z.]+)@(?P<servidor>[a-z.]+)', S)\n"
   ]
  },
  {
   "cell_type": "markdown",
   "metadata": {},
   "source": [
    "En estos casos, el método `groupdict` permite construir un diccionario cuyas claves son los nombres de los grupos y cuyos valores son las subcadenas correspondientes encontradas en la búsqueda:"
   ]
  },
  {
   "cell_type": "code",
   "execution_count": null,
   "metadata": {},
   "outputs": [],
   "source": [
    "print(m.groupdict())\n",
    "D = m.groupdict()\n",
    "print(D['usuario'])\n",
    "print(D['servidor'])"
   ]
  },
  {
   "cell_type": "markdown",
   "metadata": {},
   "source": [
    "### Función finditer\n",
    "La función `finditer` es similar a la función `findall` en el sentido en que busca todas las ocurrencias de un patrón dentro de una cadena de caracteres. Sin embargo, en lugar de retornar las subcadenas de caracteres, la función `finditer` retorna los objetos tipo `Match` correspondientes.\n",
    "\n",
    "Recuperemos otra vez el contenido del archivo `emails.txt` en la variable `texto `:"
   ]
  },
  {
   "cell_type": "code",
   "execution_count": null,
   "metadata": {},
   "outputs": [],
   "source": [
    "with open(\"emails.txt\",\"r\") as file:\n",
    "    # leer el contenido del archivo en la variable texto\n",
    "    texto=file.read()\n",
    "# mostrar el contenido de esta variable en la pantalla\n",
    "print(texto)"
   ]
  },
  {
   "cell_type": "markdown",
   "metadata": {},
   "source": [
    "Emplearemos un patrón con dos grupos para recuperar todos los usuarios y servidores en las direcciones de correo electrónico que aparecen en el texto. Estos grupos tienen los nombres de `usuario` y `servidor`:"
   ]
  },
  {
   "cell_type": "code",
   "execution_count": null,
   "metadata": {},
   "outputs": [],
   "source": [
    "L = re.finditer('(?P<usuario>[a-z.]+)@(?P<servidor>[a-z.]+)', texto)\n",
    "print(type(L))\n",
    "print(L)"
   ]
  },
  {
   "cell_type": "markdown",
   "metadata": {},
   "source": [
    "La función `finditer` retorna un objeto de tipo `callable_iterator` que contiene los objetos tipo `Match` correspondientes a cada una de las ocurrencias del patrón dentro de la cadena. Podemos acceder a los elementos individuales de `L` empleando un lazo `for`:"
   ]
  },
  {
   "cell_type": "code",
   "execution_count": null,
   "metadata": {},
   "outputs": [],
   "source": [
    "for m in L:\n",
    "    print(type(m))\n",
    "    print(m.group(0))\n",
    "    D = m.groupdict()\n",
    "    print('Usuario: {}'.format(D['usuario']))\n",
    "    print('Servidor: {}'.format(D['servidor']))\n",
    "    print('----')"
   ]
  },
  {
   "cell_type": "markdown",
   "metadata": {},
   "source": [
    "Generalmente se usa la función `finditer` directamente dentro de la expresión del lazo:"
   ]
  },
  {
   "cell_type": "code",
   "execution_count": null,
   "metadata": {},
   "outputs": [],
   "source": [
    "# Sintaxis común para utilizar finditer\n",
    "for m in re.finditer('(?P<usuario>[a-z.]*)@(?P<servidor>[a-z.]*)', texto):\n",
    "    print(m.group(0))\n",
    "    D = m.groupdict()\n",
    "    print('Usuario: {}'.format(D['usuario']))\n",
    "    print('Servidor: {}'.format(D['servidor']))\n",
    "    print('----')"
   ]
  },
  {
   "cell_type": "markdown",
   "metadata": {},
   "source": [
    "### Patrones complejos: modo verboso\n",
    "En ciertos casos, los patrones de búsqueda pueden ser complejos y por lo tanto más extensos. En estos casos es útil emplear el modo *verboso* de las expresiones regulares.\n",
    "\n",
    "En Python es posible definir cadenas de caracteres que incluyan *múltiples líneas*. Estas cadenas se delimitan con tres símbolos de comillas `\"\"\"`:"
   ]
  },
  {
   "cell_type": "code",
   "execution_count": null,
   "metadata": {},
   "outputs": [],
   "source": [
    "s = \"\"\"Esta es una cadena que abarca múltiples líneas.\n",
    "Es útil para guardar mensajes largos.\n",
    "La vamos a utilizar para guardar patrones complejos.\n",
    "Para Python las cadenas largas y cortas son el mismo tipo.\n",
    "Notar que hay una línea vacía al final.\n",
    "\"\"\"\n",
    "\n",
    "print(type(s))\n",
    "print(s)\n",
    "print(s)\n",
    "print(re.findall('.+', s))"
   ]
  },
  {
   "cell_type": "markdown",
   "metadata": {},
   "source": [
    "Vamos a examinar el archivo de registro de un servidor web. Este es un archivo de texto en donde el servidor lleva un registro de todas las peticiones de acceso que ha recibido. Suele tener un formato similar al que se indica a continuación:"
   ]
  },
  {
   "cell_type": "code",
   "execution_count": null,
   "metadata": {},
   "outputs": [],
   "source": [
    "with open(\"logfile.txt\",\"r\") as file:\n",
    "    texto = file.read()\n",
    "print(texto)"
   ]
  },
  {
   "cell_type": "markdown",
   "metadata": {},
   "source": [
    "Cada línea del archivo almacena el registro de una petición de acceso y tiene el siguiente formato:\n",
    "\n",
    "`<cliente> <usuario> <nombre> [<fecha>:<hora> <GMT>] \"<comando> <archivo> <protocolo>\" <status> <longitud>`\n",
    "\n",
    "Los distintos campos significan lo siguiente:\n",
    "\n",
    "| Campo | Significado |\n",
    "|:------|:------------|\n",
    "|cliente|Dirección IP desde donde se realiza la petición. |\n",
    "|usuario|Nombre del usuario (login) en la máquina cliente, o - si esta información no es transmitida. |\n",
    "|nombre |Nombre completo del usuario en la máquina cliente, o - si esta información no es transmitida. |\n",
    "|fecha  |Fecha de la petición. |\n",
    "|hora   |Hora de la petición. |\n",
    "|GMT    |Zona horaria respecto a la cual está medida la hora. |\n",
    "|comando|Comando de HTTP de la petición. |\n",
    "|archivo|Archivo solicitado (por ejemplo, página web). |\n",
    "|protocolo|Protocolo de comunicación empleado. |\n",
    "|status |Status de finalización de la petición. |\n",
    "|longitud|Longitud de la información transmitida (cantidad de bytes). |\n",
    "\n",
    "Suponer que queremos procesar este archivo y extraer la información de los distintos campos usando grupos en una expresión general. Dada la complejidad de la expresión, es conveniente utilizar el *modo verboso*. En este modo, el patrón puede incluir varias líneas, los espacios en blanco son ignorados, y se pueden utilizar comentarios en el mismo estilo de Python:"
   ]
  },
  {
   "cell_type": "code",
   "execution_count": null,
   "metadata": {},
   "outputs": [],
   "source": [
    "p = \"\"\"\n",
    "(?P<cliente>\\d+[.]\\d+[.]\\d+[.]\\d+)   # dirección IP del cliente\n",
    "(\\s+)                                # uno o más espacios en blanco\n",
    "(?P<usuario>[\\w-]+)                  # nombre de login del usuario o -\n",
    "(\\s+)                                # uno o más espacios en blanco\n",
    "(?P<nombre>[\\w-]+)                   # nombre completo del usuario o -\n",
    "(\\s+\\[)                              # uno o más espacios en blanco, seguido del símbolo [\n",
    "(?P<fecha>[\\w\\/]+)                   # fecha\n",
    "(:)                                  # dos puntos\n",
    "(?P<hora>\\d\\d:\\d\\d:\\d\\d)             # hora\n",
    "(\\s+)                                # uno o más espacios en blanco\n",
    "(?P<GMT>[+\\-\\d]{5})                  # información de zona horaria\n",
    "(\\]\\s+\")                             # símbolo ] seguido de uno o más espacios en blanco y comillas\n",
    "(?P<comando>[A-Z]+)                  # comando HTTP\n",
    "(\\s+)                                # uno o más espacios en blanco\n",
    "(?P<archivo>[\\w\\/\\-.?=]+)            # archivo requerido\n",
    "(\\s+)                                # uno o más espacios en blanco\n",
    "(?P<protocolo>[\\w\\/.]+)              # protocolo de comunicaciones empleado\n",
    "(\"\\s+)                               # comillas seguidas de uno o más espacios en blanco\n",
    "(?P<status>[\\d]+)                    # código de estado de finalización de la operación\n",
    "(\\s+)                                # uno o más espacios en blanco\n",
    "(?P<longitud>[\\d]+)                  # longitud del archivo (página) solicitado\n",
    "(.*)                                 # cero o más caracteres restantes hasta el final de la línea\n",
    "\"\"\""
   ]
  },
  {
   "cell_type": "markdown",
   "metadata": {},
   "source": [
    "El modo verboso se activa especificando un tercer parámetro con el valor `re.VERBOSE`:"
   ]
  },
  {
   "cell_type": "code",
   "execution_count": null,
   "metadata": {},
   "outputs": [],
   "source": [
    "for m in re.finditer(p, texto, re.VERBOSE):\n",
    "    print(m.groupdict())"
   ]
  },
  {
   "cell_type": "markdown",
   "metadata": {},
   "source": [
    "De esta manera, es posible extraer la parte que nos interese de la información del registro:"
   ]
  },
  {
   "cell_type": "code",
   "execution_count": null,
   "metadata": {},
   "outputs": [],
   "source": [
    "for m in re.finditer(p, texto, re.VERBOSE):\n",
    "    d = m.groupdict()\n",
    "    print(\"Cliente: {}\".format(d['cliente']))\n",
    "    print(\"Fecha: {}\".format(d['fecha']))\n",
    "    print(\"Hora: {}\".format(d['hora']))\n",
    "    print('---')\n"
   ]
  },
  {
   "cell_type": "markdown",
   "metadata": {},
   "source": [
    "También es fácil construir una lista con los diccionarios correspondientes a las diferentes peticiones:"
   ]
  },
  {
   "cell_type": "code",
   "execution_count": null,
   "metadata": {},
   "outputs": [],
   "source": [
    "L = [m.groupdict() for m in re.finditer(p, texto, re.VERBOSE)]\n",
    "print(L)"
   ]
  },
  {
   "cell_type": "markdown",
   "metadata": {},
   "source": [
    "Empleando esta lista podemos realizar varios análisis adicionales sobre el archivo de registro:"
   ]
  },
  {
   "cell_type": "code",
   "execution_count": null,
   "metadata": {},
   "outputs": [],
   "source": [
    "# Cuántas peticiones se han realizado?\n",
    "print(len(L))\n",
    "# Desde cuántos y cuáles clientes?\n",
    "print(set([d['cliente'] for d in L]))\n",
    "print(len(set([d['cliente'] for d in L])))\n",
    "# En qué fechas se realizaron peticiones?\n",
    "print(set([d['fecha'] for d in L]))\n",
    "# Cuántos y cuáles protocolos se utilizaron?\n",
    "print(set([d['protocolo'] for d in L]))\n",
    "print(len(set([d['protocolo'] for d in L])))\n",
    "# Qué archivos solicitó el cliente 200.49.190.101?\n",
    "print([d['archivo'] for d in L if d['cliente']=='200.49.190.101'])\n"
   ]
  },
  {
   "cell_type": "markdown",
   "metadata": {},
   "source": [
    "## Información adicional:\n",
    "\n",
    "Hay muchos otros aspectos acerca de las expresiones regulares que los que se han cubierto en este cuaderno. Algunas fuentes de información útiles son:\n",
    "\n",
    "* La documentación oficial de Python sobre el módulo `re`: <https://docs.python.org/3/library/re.html>\n",
    "* El sitio <https://regex101.com/> que permite probar expresiones en-línea\n",
    "* Los tópicos pertinentes en el foro de Stack Overflow"
   ]
  },
  {
   "cell_type": "code",
   "execution_count": null,
   "metadata": {},
   "outputs": [],
   "source": []
  }
 ],
 "metadata": {
  "kernelspec": {
   "display_name": "Python 3 (ipykernel)",
   "language": "python",
   "name": "python3"
  },
  "language_info": {
   "codemirror_mode": {
    "name": "ipython",
    "version": 3
   },
   "file_extension": ".py",
   "mimetype": "text/x-python",
   "name": "python",
   "nbconvert_exporter": "python",
   "pygments_lexer": "ipython3",
   "version": "3.8.10"
  }
 },
 "nbformat": 4,
 "nbformat_minor": 2
}
