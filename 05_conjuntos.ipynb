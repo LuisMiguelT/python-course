{
 "cells": [
  {
   "cell_type": "markdown",
   "metadata": {},
   "source": [
    "# Cuaderno 5: Conjuntos\n",
    "\n",
    "Un conjunto es una colección no ordenada de elementos únicos. \n",
    "\n",
    "### Aspectos básicos\n",
    "\n",
    "Para definir un conjunto se enumeran sus elementos entre llaves, separados por una coma. Los elementos de un conjunto pueden ser de distintos tipos."
   ]
  },
  {
   "cell_type": "code",
   "execution_count": null,
   "metadata": {},
   "outputs": [],
   "source": [
    "A = {4, 2, 3, 1}\n",
    "print(A)\n",
    "B = {'juan','casa','cuaderno', 3.15}\n",
    "print(B)\n",
    "print(type(A))"
   ]
  },
  {
   "cell_type": "markdown",
   "metadata": {},
   "source": [
    "Los elementos duplicados de un conjunto se eliminan automáticamente."
   ]
  },
  {
   "cell_type": "code",
   "execution_count": null,
   "metadata": {},
   "outputs": [],
   "source": [
    "A = {3, 2, 1, 2}\n",
    "print(A)\n"
   ]
  },
  {
   "cell_type": "code",
   "execution_count": null,
   "metadata": {},
   "outputs": [],
   "source": [
    "B =  {'juan','casa','cuaderno','juan','cuaderno'}\n",
    "print (B)"
   ]
  },
  {
   "cell_type": "markdown",
   "metadata": {},
   "source": [
    "Un conjunto no puede contener elementos mutables (listas, diccionarios, e incluso otros conjuntos). "
   ]
  },
  {
   "cell_type": "code",
   "execution_count": null,
   "metadata": {},
   "outputs": [],
   "source": [
    "B = { ['juan','pablo'],'carro', 25,} #elemento de tipo lista\n",
    "print(B)"
   ]
  },
  {
   "cell_type": "code",
   "execution_count": null,
   "metadata": {},
   "outputs": [],
   "source": [
    "B = { 'pablo', {'gato','perro','loro'}, 3} #elemento de tipo conjunto\n",
    "print(B)"
   ]
  },
  {
   "cell_type": "markdown",
   "metadata": {},
   "source": [
    "### Funciones básicas y operadores"
   ]
  },
  {
   "cell_type": "markdown",
   "metadata": {},
   "source": [
    "La función `set(L)` convierte una lista `L` en un conjunto. Esto elimina los elementos repetidos de la lista."
   ]
  },
  {
   "cell_type": "code",
   "execution_count": null,
   "metadata": {},
   "outputs": [],
   "source": [
    "L = ['casa','carro',42, 'casa']\n",
    "print(L)\n",
    "B = set (L)\n",
    "print (B)\n",
    "L2 = list(B)\n",
    "print(L2)\n",
    "print('---')\n",
    "# De manera más concisa:\n",
    "L = ['casa','carro',42, 'casa']\n",
    "print(list(set(L)))"
   ]
  },
  {
   "cell_type": "markdown",
   "metadata": {},
   "source": [
    "Es posible construir conjuntos con expresiones generadoras. Al igual que en los casos anteriores, los elementos repetidos son eliminados."
   ]
  },
  {
   "cell_type": "code",
   "execution_count": null,
   "metadata": {},
   "outputs": [],
   "source": [
    "A = {i+j for i in range(10) for j in range(8) if i<j}\n",
    "print(A)\n",
    "\n",
    "L = [i+j for i in range(10) for j in range(8) if i<j]\n",
    "print(L)"
   ]
  },
  {
   "cell_type": "markdown",
   "metadata": {},
   "source": [
    "Para definir un conjunto vacío se utiliza la función `set()` sin ningún argumento."
   ]
  },
  {
   "cell_type": "code",
   "execution_count": null,
   "metadata": {},
   "outputs": [],
   "source": [
    "D = set()\n",
    "print (D)"
   ]
  },
  {
   "cell_type": "markdown",
   "metadata": {},
   "source": [
    "El operador `&` representa la intersección entre conjuntos. Retorna un nuevo conjunto con los elementos que se encuentran en ambos conjuntos."
   ]
  },
  {
   "cell_type": "code",
   "execution_count": null,
   "metadata": {},
   "outputs": [],
   "source": [
    "A = {-1, 3, 4, 6}\n",
    "B = set(range(5))\n",
    "print(A)\n",
    "print(B)\n",
    "print(A & B)"
   ]
  },
  {
   "cell_type": "markdown",
   "metadata": {},
   "source": [
    "El operador `|` representa la unión de conjuntos. "
   ]
  },
  {
   "cell_type": "code",
   "execution_count": null,
   "metadata": {},
   "outputs": [],
   "source": [
    "print(A | B)"
   ]
  },
  {
   "cell_type": "markdown",
   "metadata": {},
   "source": [
    "El operador `-` representa la diferencia de conjuntos. "
   ]
  },
  {
   "cell_type": "code",
   "execution_count": null,
   "metadata": {},
   "outputs": [],
   "source": [
    "print(A - B)\n",
    "print(B - A)"
   ]
  },
  {
   "cell_type": "markdown",
   "metadata": {},
   "source": [
    "\n",
    "Los operadores `<` y  `>` representan la inclusión de conjuntos. `A < B` retorna verdadero si `A` está contenido en `B`. `A > B` retorna verdadero si `A` contiene a `B`. La inclusión debe ser estricta."
   ]
  },
  {
   "cell_type": "code",
   "execution_count": null,
   "metadata": {},
   "outputs": [],
   "source": [
    "print (A > B)\n",
    "print (A < B)\n",
    "print({1} < {1,2})\n",
    "print({1,2} < {1,2})"
   ]
  },
  {
   "cell_type": "markdown",
   "metadata": {},
   "source": [
    "Para la inclusión no estricta pueden usarse los operadores `<=` y `>=`:"
   ]
  },
  {
   "cell_type": "code",
   "execution_count": null,
   "metadata": {},
   "outputs": [],
   "source": [
    "print({1,2} <= {1,2})"
   ]
  },
  {
   "cell_type": "markdown",
   "metadata": {},
   "source": [
    "El operador `in` representa la pertenencia de un elemento en un conjunto. La expresión `i in A` es verdadera si y sólamente si `i` pertenece a `A`."
   ]
  },
  {
   "cell_type": "code",
   "execution_count": null,
   "metadata": {},
   "outputs": [],
   "source": [
    "print(A)\n",
    "print(1 in A)\n",
    "print(6 in A)\n"
   ]
  },
  {
   "cell_type": "markdown",
   "metadata": {},
   "source": [
    "Al igual que con otros tipos de datos, el operador `in` también puede usarse para iterar sobre los elementos de un conjunto. Recordar, sin embargo, que en este caso los elementos no tienen un orden fijo:"
   ]
  },
  {
   "cell_type": "code",
   "execution_count": null,
   "metadata": {},
   "outputs": [],
   "source": [
    "A = {3, 5, -1, -4, 10}\n",
    "for i in A:\n",
    "    print(i)"
   ]
  },
  {
   "cell_type": "markdown",
   "metadata": {},
   "source": [
    "Los operadores de pertenencia e inclusión suelen utilizarse dentro de *instrucciones condicionales*."
   ]
  },
  {
   "cell_type": "code",
   "execution_count": null,
   "metadata": {},
   "outputs": [],
   "source": [
    "print(A)\n",
    "print(B)\n",
    "if A > B:\n",
    "    print ('A contiene B')\n",
    "else:\n",
    "    print ('A no contiene B')\n",
    "if A < B:\n",
    "    print ('A esta contenido en B')\n",
    "else:\n",
    "    print ('A no esta contenido en B')"
   ]
  },
  {
   "cell_type": "code",
   "execution_count": null,
   "metadata": {},
   "outputs": [],
   "source": []
  }
 ],
 "metadata": {
  "kernelspec": {
   "display_name": "Python [conda env:base] *",
   "language": "python",
   "name": "conda-base-py"
  },
  "language_info": {
   "codemirror_mode": {
    "name": "ipython",
    "version": 3
   },
   "file_extension": ".py",
   "mimetype": "text/x-python",
   "name": "python",
   "nbconvert_exporter": "python",
   "pygments_lexer": "ipython3",
   "version": "3.12.7"
  }
 },
 "nbformat": 4,
 "nbformat_minor": 4
}
