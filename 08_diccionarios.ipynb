{
 "cells": [
  {
   "cell_type": "markdown",
   "metadata": {},
   "source": [
    "# Cuaderno 7: Diccionarios\n",
    "\n",
    "Un diccionario es un tipo de datos que consiste de una colección no ordenada de pares de *claves* y *valores*. Cada clave sirve para identificar al valor correspondiente.\n",
    " \n",
    "### Aspectos básicos\n",
    "\n",
    "Para definir un diccionario, se enumeran los pares clave-valor separados por comas y encerrados entre llaves. Las componentes *clave* y *valor* dentro de cada par se separan por dos puntos."
   ]
  },
  {
   "cell_type": "code",
   "execution_count": 1,
   "metadata": {},
   "outputs": [
    {
     "name": "stdout",
     "output_type": "stream",
     "text": [
      "{'nombre': 'pablo', 'ciudad': 'Quito', 'edad': 43}\n"
     ]
    }
   ],
   "source": [
    "D = {'nombre' : 'pablo', 'ciudad' : 'Quito', 'edad' : 43}\n",
    "print(D)"
   ]
  },
  {
   "cell_type": "markdown",
   "metadata": {},
   "source": [
    "Para acceder a los valores de un diccionario, se utiliza la clave entre corchetes, tal como si se tratara de un índice."
   ]
  },
  {
   "cell_type": "code",
   "execution_count": 2,
   "metadata": {},
   "outputs": [
    {
     "name": "stdout",
     "output_type": "stream",
     "text": [
      "{'nombre': 'pablo', 'ciudad': 'Quito', 'edad': 43}\n",
      "Quito\n",
      "43\n"
     ]
    }
   ],
   "source": [
    "print (D)\n",
    "print(D['ciudad'])\n",
    "print(D['edad'])"
   ]
  },
  {
   "cell_type": "markdown",
   "metadata": {},
   "source": [
    "En un diccionario cada clave debe ser única. Si se escriben elementos con claves duplicadas, se almacena únicamente el valor del último elemento."
   ]
  },
  {
   "cell_type": "code",
   "execution_count": 3,
   "metadata": {},
   "outputs": [
    {
     "name": "stdout",
     "output_type": "stream",
     "text": [
      "{'nombre': 'pablo', 'ciudad': 'Quito', 'edad': 43, 3: 'valor', (1, 2): -5}\n",
      "pablo\n",
      "43\n",
      "valor\n",
      "-5\n",
      "{'nombre': 'pablo', 'ciudad': 'Quito', 'edad': 43, 3: 'valor', (1, 2): 4}\n",
      "4\n",
      "{'nombre': 'pablo', 'ciudad': 'Quito', 'edad': 43, 3: 'valor', (1, 2): 4, (1, 1): -4}\n",
      "-4\n"
     ]
    }
   ],
   "source": [
    "D = {'nombre' : 'pablo', 'ciudad' : 'Quito', 'edad':30, 'edad' : 43, 3 : 'valor', (1,2) : -5}\n",
    "print(D)\n",
    "print(D['nombre'])\n",
    "print(D['edad'])\n",
    "print(D[3])\n",
    "print(D[1,2])\n",
    "D[1,2] = 4\n",
    "print(D)\n",
    "print(D[1,2])\n",
    "D[1,1] = -4\n",
    "print (D)\n",
    "print(D[1,1])\n"
   ]
  },
  {
   "cell_type": "markdown",
   "metadata": {},
   "source": [
    "El intento de acceder al valor asociado a una clave que no ha sido definida produce un error del tipo **KeyError**:"
   ]
  },
  {
   "cell_type": "code",
   "execution_count": 4,
   "metadata": {},
   "outputs": [
    {
     "ename": "KeyError",
     "evalue": "4",
     "output_type": "error",
     "traceback": [
      "\u001b[0;31m---------------------------------------------------------------------------\u001b[0m",
      "\u001b[0;31mKeyError\u001b[0m                                  Traceback (most recent call last)",
      "\u001b[0;32m<ipython-input-4-d75821e29339>\u001b[0m in \u001b[0;36m<module>\u001b[0;34m\u001b[0m\n\u001b[1;32m      1\u001b[0m \u001b[0;31m# no se ha definido ningún elemento que tenga como clave 4\u001b[0m\u001b[0;34m\u001b[0m\u001b[0;34m\u001b[0m\u001b[0;34m\u001b[0m\u001b[0m\n\u001b[0;32m----> 2\u001b[0;31m \u001b[0mprint\u001b[0m\u001b[0;34m(\u001b[0m\u001b[0mD\u001b[0m\u001b[0;34m[\u001b[0m\u001b[0;36m4\u001b[0m\u001b[0;34m]\u001b[0m\u001b[0;34m)\u001b[0m\u001b[0;34m\u001b[0m\u001b[0;34m\u001b[0m\u001b[0m\n\u001b[0m",
      "\u001b[0;31mKeyError\u001b[0m: 4"
     ]
    }
   ],
   "source": [
    "# no se ha definido ningún elemento que tenga como clave 4\n",
    "print(D[4])"
   ]
  },
  {
   "cell_type": "markdown",
   "metadata": {},
   "source": [
    "Los valores de un diccionario pueden ser de cualquier tipo."
   ]
  },
  {
   "cell_type": "code",
   "execution_count": 5,
   "metadata": {},
   "outputs": [
    {
     "name": "stdout",
     "output_type": "stream",
     "text": [
      "{'nombres': {'nombre': 'Pablo', 'apellido': 'Perez'}, 'titulos': ['Ing', 'MSc'], 'edad': 32}\n"
     ]
    }
   ],
   "source": [
    "registro = { 'nombres' : {'nombre' : 'Pablo', 'apellido' : 'Perez'},#tipo diccionario\n",
    "             'titulos' : ['Ing', 'MSc'], #tipo lista\n",
    "             'edad' : 32} \n",
    "print(registro)"
   ]
  },
  {
   "cell_type": "markdown",
   "metadata": {},
   "source": [
    "Pero las claves deben ser de tipos de datos *inmutables* (números, cadenas de caracteres o tuplas)."
   ]
  },
  {
   "cell_type": "code",
   "execution_count": 6,
   "metadata": {},
   "outputs": [
    {
     "ename": "TypeError",
     "evalue": "unhashable type: 'list'",
     "output_type": "error",
     "traceback": [
      "\u001b[0;31m---------------------------------------------------------------------------\u001b[0m",
      "\u001b[0;31mTypeError\u001b[0m                                 Traceback (most recent call last)",
      "\u001b[0;32m<ipython-input-6-a8e95fbbd892>\u001b[0m in \u001b[0;36m<module>\u001b[0;34m\u001b[0m\n\u001b[0;32m----> 1\u001b[0;31m D1 = { 'nombre' : 'carlos',\n\u001b[0m\u001b[1;32m      2\u001b[0m       \u001b[0;34m[\u001b[0m\u001b[0;34m'genero'\u001b[0m\u001b[0;34m,\u001b[0m\u001b[0;34m'NumHijos'\u001b[0m\u001b[0;34m]\u001b[0m \u001b[0;34m:\u001b[0m \u001b[0;34m[\u001b[0m\u001b[0;34m'masculino'\u001b[0m\u001b[0;34m,\u001b[0m \u001b[0;36m3\u001b[0m\u001b[0;34m]\u001b[0m\u001b[0;34m,\u001b[0m \u001b[0;31m#clave tipo lista\u001b[0m\u001b[0;34m\u001b[0m\u001b[0;34m\u001b[0m\u001b[0m\n\u001b[1;32m      3\u001b[0m       'ciudad' : 'Guayaquil', 'edad' : 50} \n",
      "\u001b[0;31mTypeError\u001b[0m: unhashable type: 'list'"
     ]
    }
   ],
   "source": [
    "D1 = { 'nombre' : 'carlos',\n",
    "      ['genero','NumHijos'] : ['masculino', 3], #clave tipo lista\n",
    "      'ciudad' : 'Guayaquil', 'edad' : 50} "
   ]
  },
  {
   "cell_type": "markdown",
   "metadata": {},
   "source": [
    "En el ejemplo anterior, es válido usar una tupla de cadenas de caracteres en lugar de una lista para la clave del segundo elemento."
   ]
  },
  {
   "cell_type": "code",
   "execution_count": 7,
   "metadata": {},
   "outputs": [
    {
     "name": "stdout",
     "output_type": "stream",
     "text": [
      "{'nombre': 'carlos', ('genero', 'NumHijos'): ('masculino', 3), 'ciudad': 'Guayaquil', 'edad': 50}\n"
     ]
    }
   ],
   "source": [
    "D1 = { 'nombre' : 'carlos',\n",
    "      ('genero','NumHijos') : ('masculino', 3),\n",
    "      'ciudad' : 'Guayaquil', \n",
    "      'edad' : 50}\n",
    "print (D1)"
   ]
  },
  {
   "cell_type": "markdown",
   "metadata": {},
   "source": [
    "Un diccionario no es inmutable."
   ]
  },
  {
   "cell_type": "code",
   "execution_count": 8,
   "metadata": {},
   "outputs": [
    {
     "name": "stdout",
     "output_type": "stream",
     "text": [
      "{'nombre': 'carlos', ('genero', 'NumHijos'): ('masculino', 3), 'ciudad': 'Guayaquil', 'edad': 50}\n",
      "{'nombre': ['juan', 'pablo'], ('genero', 'NumHijos'): ('masculino', 3), 'ciudad': 'Guayaquil', 'edad': 50}\n",
      "{'nombre': ['juan', 'pablo'], ('genero', 'NumHijos'): ('masculino', 3), 'ciudad': 'Guayaquil', 'edad': 50, 'pais': 'Ecuador'}\n"
     ]
    }
   ],
   "source": [
    "print (D1)\n",
    "D1['nombre'] = ['juan','pablo']\n",
    "print(D1)\n",
    "D1['pais'] = 'Ecuador'\n",
    "print(D1)"
   ]
  },
  {
   "cell_type": "markdown",
   "metadata": {},
   "source": [
    "Los valores de un diccionario pueden ser listas o incluso otros diccionarios. En este caso, es posible emplear múltiples claves para acceder a los elementos internos, de manera similar a como se utilizan índices múltiples en las listas multidimensionales."
   ]
  },
  {
   "cell_type": "code",
   "execution_count": 9,
   "metadata": {},
   "outputs": [
    {
     "name": "stdout",
     "output_type": "stream",
     "text": [
      "{'nombres': {'nombre': 'Pablo', 'apellido': 'Perez'}, 'titulos': ['Ing', 'MSc'], 'edad': 32}\n",
      "Perez\n",
      "MSc\n"
     ]
    }
   ],
   "source": [
    "print(registro)\n",
    "print(registro['nombres']['apellido']) # acceso de un valor de tipo diccionario\n",
    "\n",
    "print(registro['titulos'][1]) # acceso de un valor de tipo lista"
   ]
  },
  {
   "cell_type": "markdown",
   "metadata": {},
   "source": [
    "Los corchetes pueden usarse para asignar un *nuevo* valor a una *nueva* clave. Esto tiene como efecto que un nuevo elemento sea agregado al diccionario."
   ]
  },
  {
   "cell_type": "code",
   "execution_count": 10,
   "metadata": {},
   "outputs": [
    {
     "name": "stdout",
     "output_type": "stream",
     "text": [
      "{'nombre': 'pablo', 'ciudad': 'Quito', 'edad': 43, 3: 'valor', (1, 2): 4, (1, 1): -4, 'peso': 80, 'sector': 'La Prensa'}\n"
     ]
    }
   ],
   "source": [
    "D['peso'] = 80\n",
    "D['sector'] = 'La Prensa'\n",
    "print (D)"
   ]
  },
  {
   "cell_type": "markdown",
   "metadata": {},
   "source": [
    "**No** debe confundirse a la clave de un diccionario con el índice de posición en listas y tuplas. Recordar que un diccionario no es ordenado.  "
   ]
  },
  {
   "cell_type": "code",
   "execution_count": 11,
   "metadata": {},
   "outputs": [
    {
     "name": "stdout",
     "output_type": "stream",
     "text": [
      "{'nombre': 'pablo', 'ciudad': 'Quito', 'edad': 43, 3: 'valor', (1, 2): 'campo<1,2>', (1, 1): -4, 'peso': 80, 'sector': 'La Prensa', 0: 'campo0'}\n",
      "-4\n"
     ]
    }
   ],
   "source": [
    "D[0] = 'campo0'\n",
    "D[(1,2)] = 'campo<1,2>'\n",
    "print (D)\n",
    "print (D[(1,1)])"
   ]
  },
  {
   "cell_type": "markdown",
   "metadata": {},
   "source": [
    "### Iterando sobre diccionarios\n",
    "\n",
    "Los diccionarios son estructuras de datos iterables. El operador `in` itera por defecto sobre una lista que contiene las claves del diccionario; a través de las claves pueden obtenerse los valores correspondientes:"
   ]
  },
  {
   "cell_type": "code",
   "execution_count": 12,
   "metadata": {},
   "outputs": [
    {
     "name": "stdout",
     "output_type": "stream",
     "text": [
      "{'nombres': {'nombre': 'Pablo', 'apellido': 'Perez'}, 'titulos': ['Ing', 'MSc'], 'edad': 32}\n",
      "--- Contenido del diccionario ---\n",
      "Clave\t\t\tValor\n",
      "-----\t\t\t-----\n",
      "nombres\t\t\t{'nombre': 'Pablo', 'apellido': 'Perez'}\n",
      "titulos\t\t\t['Ing', 'MSc']\n",
      "edad\t\t\t32\n"
     ]
    }
   ],
   "source": [
    "# iterar sobre las claves\n",
    "print(registro)\n",
    "print('--- Contenido del diccionario ---')\n",
    "print('Clave\\t\\t\\tValor')\n",
    "print('-----\\t\\t\\t-----')\n",
    "for i in registro:\n",
    "    print('{}\\t\\t\\t{}'.format(i, registro[i]))\n"
   ]
  },
  {
   "cell_type": "markdown",
   "metadata": {},
   "source": [
    "La función `sorted` retorna la lista de claves de un diccionario, luego de ordenarla:"
   ]
  },
  {
   "cell_type": "code",
   "execution_count": 13,
   "metadata": {},
   "outputs": [
    {
     "name": "stdout",
     "output_type": "stream",
     "text": [
      "['edad', 'nombres', 'titulos']\n"
     ]
    }
   ],
   "source": [
    "print(sorted(registro))"
   ]
  },
  {
   "cell_type": "markdown",
   "metadata": {},
   "source": [
    "Usando la función `sorted` es posible iterar sobre la lista de claves ordenada:"
   ]
  },
  {
   "cell_type": "code",
   "execution_count": 14,
   "metadata": {},
   "outputs": [
    {
     "name": "stdout",
     "output_type": "stream",
     "text": [
      "{'nombres': {'nombre': 'Pablo', 'apellido': 'Perez'}, 'titulos': ['Ing', 'MSc'], 'edad': 32}\n",
      "--- Contenido del diccionario ---\n",
      "Clave\t\t\tValor\n",
      "-----\t\t\t-----\n",
      "edad\t\t\t32\n",
      "nombres\t\t\t{'nombre': 'Pablo', 'apellido': 'Perez'}\n",
      "titulos\t\t\t['Ing', 'MSc']\n"
     ]
    }
   ],
   "source": [
    "# iterar sobre las claves ordenadas\n",
    "print(registro)\n",
    "print('--- Contenido del diccionario ---')\n",
    "print('Clave\\t\\t\\tValor')\n",
    "print('-----\\t\\t\\t-----')\n",
    "for i in sorted(registro):\n",
    "    print('{}\\t\\t\\t{}'.format(i, registro[i]))\n"
   ]
  },
  {
   "cell_type": "markdown",
   "metadata": {},
   "source": [
    "La lista de claves puede obtenerse también de manera explícita llamando al método `keys()`."
   ]
  },
  {
   "cell_type": "code",
   "execution_count": 26,
   "metadata": {},
   "outputs": [
    {
     "name": "stdout",
     "output_type": "stream",
     "text": [
      "dict_keys(['nombres', 'titulos', 'edad'])\n"
     ]
    }
   ],
   "source": [
    "print(registro.keys())"
   ]
  },
  {
   "cell_type": "markdown",
   "metadata": {},
   "source": [
    "También es posible iterar directamente sobre los valores de un diccionario empleando el método `values`:"
   ]
  },
  {
   "cell_type": "code",
   "execution_count": 28,
   "metadata": {},
   "outputs": [
    {
     "name": "stdout",
     "output_type": "stream",
     "text": [
      "dict_values([{'nombre': 'Pablo', 'apellido': 'Perez'}, ['Ing', 'MSc'], 32])\n",
      "{'nombre': 'Pablo', 'apellido': 'Perez'}\n",
      "['Ing', 'MSc']\n",
      "32\n"
     ]
    }
   ],
   "source": [
    "# iterar sobre los valores\n",
    "print(registro.values())\n",
    "for val in registro.values():\n",
    "    print(val)"
   ]
  },
  {
   "cell_type": "markdown",
   "metadata": {},
   "source": [
    "Por último, el método `items` permite iterar tanto sobre las claves como sobre los valores correspondientes. Observar que al usar este método, se recupera una tupla de longitud 2 (es decir, un par ordenado), cuyos elementos son asignados a dos variables distintas. Esta técnica es usual en Python y se conoce como **unpacking**."
   ]
  },
  {
   "cell_type": "code",
   "execution_count": 29,
   "metadata": {},
   "outputs": [
    {
     "name": "stdout",
     "output_type": "stream",
     "text": [
      "Clave: nombres\n",
      "Valor: {'nombre': 'Pablo', 'apellido': 'Perez'}\n",
      "Clave: titulos\n",
      "Valor: ['Ing', 'MSc']\n",
      "Clave: edad\n",
      "Valor: 32\n"
     ]
    }
   ],
   "source": [
    "# iterar sobre claves y valores\n",
    "# recuperar parejas clave-valor en las variables k y val\n",
    "for k, val in registro.items():\n",
    "    print('Clave: {}'.format(k))\n",
    "    print('Valor: {}'.format(val))"
   ]
  },
  {
   "cell_type": "markdown",
   "metadata": {},
   "source": [
    "El operador `in` se usa para consultar si una clave, valor, o pareja clave-valor pertenece a un diccionario. Devuelve `True` o `False`, según sea el caso."
   ]
  },
  {
   "cell_type": "code",
   "execution_count": 35,
   "metadata": {},
   "outputs": [
    {
     "name": "stdout",
     "output_type": "stream",
     "text": [
      "{'nombres': {'nombre': 'Pablo', 'apellido': 'Perez'}, 'titulos': ['Ing', 'MSc'], 'edad': 32}\n",
      "True\n",
      "True\n",
      "True\n",
      "True\n"
     ]
    }
   ],
   "source": [
    "print(registro)\n",
    "# consultar si 'titulos' es una clave de registro\n",
    "print('titulos' in registro)\n",
    "print('titulos' in registro.keys())\n",
    "# consultar si 32 es un valor de registro\n",
    "print(32 in registro.values())\n",
    "# consultar si 32 es el valor asociado a la clave 'edad' de registro\n",
    "print(('titulos', ['Ing', 'MSc']) in registro.items())"
   ]
  },
  {
   "cell_type": "markdown",
   "metadata": {},
   "source": [
    "Puede usarse `not` para invertir el resultado del operador anterior."
   ]
  },
  {
   "cell_type": "code",
   "execution_count": 36,
   "metadata": {},
   "outputs": [
    {
     "name": "stdout",
     "output_type": "stream",
     "text": [
      "True\n"
     ]
    }
   ],
   "source": [
    "print('ciudad' not in registro)"
   ]
  },
  {
   "cell_type": "markdown",
   "metadata": {},
   "source": [
    "### Formas alternativas para la creación de diccionarios\n"
   ]
  },
  {
   "cell_type": "markdown",
   "metadata": {},
   "source": [
    "La función `dict()` crea un diccionario a partir de asignaciones de valores a claves. Cada parámetro de esta función asigna un valor a una clave empleando el símbolo `=`. "
   ]
  },
  {
   "cell_type": "code",
   "execution_count": 38,
   "metadata": {},
   "outputs": [
    {
     "name": "stdout",
     "output_type": "stream",
     "text": [
      "{'nombre': 'pablo', 'ciudad': 'Quito', 'edad': 43}\n",
      "pablo\n"
     ]
    }
   ],
   "source": [
    "D2 = dict(nombre = 'pablo', ciudad = 'Quito', edad = 43) # declaracion de un diccionario\n",
    "print(D2)\n",
    "print(D2['nombre'])"
   ]
  },
  {
   "cell_type": "markdown",
   "metadata": {},
   "source": [
    "La función `zip(it1, it2)` recibe como parámetros dos iterables (cadenas, listas o tuplas) `it1` e `it2` con el mismo número de elementos, y devuelve una lista de tuplas. Cada tupla de esta lista contiene dos elementos, correspondientes a los elementos respectivos de `it1` e `it2`. Esta lista de tuplas puede ser convertida en un diccionario empleando la función `dict`."
   ]
  },
  {
   "cell_type": "code",
   "execution_count": 42,
   "metadata": {},
   "outputs": [
    {
     "name": "stdout",
     "output_type": "stream",
     "text": [
      "{'nombre': 'pablo', 'ciudad': 'Quito', 'edad': 45, (1, 2): [3, 1]}\n"
     ]
    }
   ],
   "source": [
    "# crear una lista de parejas\n",
    "L = zip(('nombre', 'ciudad', 'edad', (1,2)),['pablo', 'Quito', 45, [3,1]])\n",
    "# convertir la lista de parejas en un diccionario\n",
    "D3 = dict(L)\n",
    "print(D3)"
   ]
  },
  {
   "cell_type": "markdown",
   "metadata": {},
   "source": [
    "### Otras funciones, métodos y operadores"
   ]
  },
  {
   "cell_type": "markdown",
   "metadata": {},
   "source": [
    "Si un valor de un diccionario es de tipo lista, es posible utilizar sobre el mismo todas las funciones y métodos vistos en el Cuaderno 3."
   ]
  },
  {
   "cell_type": "code",
   "execution_count": 44,
   "metadata": {},
   "outputs": [
    {
     "name": "stdout",
     "output_type": "stream",
     "text": [
      "{'nombres': {'nombre': 'Pablo', 'apellido': 'Perez'}, 'titulos': ['Ing', 'MSc'], 'edad': 32}\n",
      "{'nombres': {'nombre': 'Pablo', 'apellido': 'Perez'}, 'titulos': ['Ing', 'MSc', 'Dr'], 'edad': 32}\n",
      "Dr\n",
      "{'nombres': {'nombre': 'Pablo', 'apellido': 'Perez'}, 'titulos': ['Ing', 'MSc'], 'edad': 32}\n"
     ]
    }
   ],
   "source": [
    "print(registro)\n",
    "\n",
    "registro['titulos'].append('Dr')\n",
    "print(registro)\n",
    "\n",
    "print(registro['titulos'].pop())\n",
    "print(registro)"
   ]
  },
  {
   "cell_type": "markdown",
   "metadata": {},
   "source": [
    "Los operadores `+` y `∗` no pueden aplicarse directamente sobre diccionarios."
   ]
  },
  {
   "cell_type": "code",
   "execution_count": 45,
   "metadata": {},
   "outputs": [
    {
     "ename": "TypeError",
     "evalue": "unsupported operand type(s) for +: 'dict' and 'dict'",
     "output_type": "error",
     "traceback": [
      "\u001b[0;31m---------------------------------------------------------------------------\u001b[0m",
      "\u001b[0;31mTypeError\u001b[0m                                 Traceback (most recent call last)",
      "\u001b[0;32m<ipython-input-45-0a72ac3fa620>\u001b[0m in \u001b[0;36m<module>\u001b[0;34m\u001b[0m\n\u001b[0;32m----> 1\u001b[0;31m \u001b[0mprint\u001b[0m \u001b[0;34m(\u001b[0m \u001b[0mD\u001b[0m \u001b[0;34m+\u001b[0m \u001b[0mD1\u001b[0m \u001b[0;34m)\u001b[0m\u001b[0;34m\u001b[0m\u001b[0;34m\u001b[0m\u001b[0m\n\u001b[0m",
      "\u001b[0;31mTypeError\u001b[0m: unsupported operand type(s) for +: 'dict' and 'dict'"
     ]
    }
   ],
   "source": [
    "print ( D + D1 )"
   ]
  },
  {
   "cell_type": "code",
   "execution_count": 46,
   "metadata": {},
   "outputs": [
    {
     "ename": "TypeError",
     "evalue": "unsupported operand type(s) for *: 'dict' and 'int'",
     "output_type": "error",
     "traceback": [
      "\u001b[0;31m---------------------------------------------------------------------------\u001b[0m",
      "\u001b[0;31mTypeError\u001b[0m                                 Traceback (most recent call last)",
      "\u001b[0;32m<ipython-input-46-d4138f87db0e>\u001b[0m in \u001b[0;36m<module>\u001b[0;34m\u001b[0m\n\u001b[0;32m----> 1\u001b[0;31m \u001b[0mprint\u001b[0m \u001b[0;34m(\u001b[0m \u001b[0mD\u001b[0m \u001b[0;34m*\u001b[0m \u001b[0;36m2\u001b[0m \u001b[0;34m)\u001b[0m\u001b[0;34m\u001b[0m\u001b[0;34m\u001b[0m\u001b[0m\n\u001b[0m",
      "\u001b[0;31mTypeError\u001b[0m: unsupported operand type(s) for *: 'dict' and 'int'"
     ]
    }
   ],
   "source": [
    "print ( D * 2 )"
   ]
  },
  {
   "cell_type": "markdown",
   "metadata": {},
   "source": [
    "Sin embargo, estos operadores pueden aplicarse sobre los valores individuales de un diccionario."
   ]
  },
  {
   "cell_type": "code",
   "execution_count": 47,
   "metadata": {},
   "outputs": [
    {
     "name": "stdout",
     "output_type": "stream",
     "text": [
      "{'nombre': 'pablo', 'ciudad': 'Quito', 'edad': 43, 3: 'valor', (1, 2): 'campo<1,2>', (1, 1): -4, 'peso': 80, 'sector': 'La Prensa', 0: 'campo0'}\n",
      "{'nombre': ['juan', 'pablo'], ('genero', 'NumHijos'): ('masculino', 3), 'ciudad': 'Guayaquil', 'edad': 50, 'pais': 'Ecuador'}\n",
      "QuitoGuayaquil\n",
      "86\n",
      "El nombre del registrado es pablo, vive en la ciudad de Quito y tiene una edad de 43.\n"
     ]
    }
   ],
   "source": [
    "print(D)\n",
    "print(D1)\n",
    "print(D['ciudad'] + D1['ciudad'])\n",
    "print(D['edad']*2)\n",
    "print('El nombre del registrado es {}, vive en la ciudad de {} y tiene una edad de {}.'.format(D['nombre'], \n",
    "            D['ciudad'], D['edad'])) # una instruccion puede ocupar varias lineas"
   ]
  },
  {
   "cell_type": "markdown",
   "metadata": {},
   "source": [
    "Como se indicó antes, la función `sorted(D)` devuelve la lista *ordenada* de las claves que pertenecen al diccionario `D`."
   ]
  },
  {
   "cell_type": "code",
   "execution_count": 15,
   "metadata": {},
   "outputs": [
    {
     "name": "stdout",
     "output_type": "stream",
     "text": [
      "['edad', 'nombres', 'titulos']\n"
     ]
    }
   ],
   "source": [
    "print(sorted(registro))"
   ]
  },
  {
   "cell_type": "markdown",
   "metadata": {},
   "source": [
    "El método `D.get(<clave>)` devuelve el valor asociado a una `<clave>` del diccionario `D`. Cuando la clave está definida en el diccionario, este método tiene un efecto similar al uso de los corchetes. "
   ]
  },
  {
   "cell_type": "code",
   "execution_count": 48,
   "metadata": {},
   "outputs": [
    {
     "name": "stdout",
     "output_type": "stream",
     "text": [
      "{'nombres': {'nombre': 'Pablo', 'apellido': 'Perez'}, 'titulos': ['Ing', 'MSc'], 'edad': 32}\n",
      "['Ing', 'MSc']\n",
      "['Ing', 'MSc']\n"
     ]
    }
   ],
   "source": [
    "print(registro)\n",
    "print(registro.get('titulos'))\n",
    "print(registro['titulos'])"
   ]
  },
  {
   "cell_type": "markdown",
   "metadata": {},
   "source": [
    "Sin embargo, cuando se aplica sobre una clave no definida, el método `D.get(<clave>)` devuelve el valor `None`, mientras que el uso de corchetes genera un error."
   ]
  },
  {
   "cell_type": "code",
   "execution_count": 53,
   "metadata": {},
   "outputs": [
    {
     "name": "stdout",
     "output_type": "stream",
     "text": [
      "Cuenca\n",
      "Cuenca\n"
     ]
    }
   ],
   "source": [
    "print(registro.get('ciudad'))\n",
    "print(registro['ciudad'])\n"
   ]
  },
  {
   "cell_type": "code",
   "execution_count": 54,
   "metadata": {},
   "outputs": [
    {
     "name": "stdout",
     "output_type": "stream",
     "text": [
      "El valor asociado a ciudad es Cuenca\n"
     ]
    }
   ],
   "source": [
    "# registro['ciudad']= 'Cuenca'\n",
    "if registro.get('ciudad')==None:\n",
    "    print('No existe valor asociado a la clave ciudad')\n",
    "else:\n",
    "    print('El valor asociado a ciudad es {}'.format(registro['ciudad']))"
   ]
  },
  {
   "cell_type": "markdown",
   "metadata": {},
   "source": [
    "El método `D.get(<clave>, <valor>)` también admite un segundo parámetro que especifica el valor a retornar si `<clave>` no pertenece al diccionario."
   ]
  },
  {
   "cell_type": "code",
   "execution_count": 55,
   "metadata": {},
   "outputs": [
    {
     "name": "stdout",
     "output_type": "stream",
     "text": [
      "{'nombres': {'nombre': 'Pablo', 'apellido': 'Perez'}, 'titulos': ['Ing', 'MSc'], 'edad': 32, 'ciudad': 'Cuenca'}\n",
      "Cuenca\n",
      "Cuenca\n",
      "0\n",
      "32\n"
     ]
    }
   ],
   "source": [
    "print(registro)\n",
    "print(registro.get('ciudad'))\n",
    "print(registro.get('ciudad', 'sin ciudad'))\n",
    "print(registro.get('peso', 0))\n",
    "print(registro.get('edad', 0))"
   ]
  },
  {
   "cell_type": "markdown",
   "metadata": {},
   "source": [
    "El último uso del método `get` es equivalente a una asignación condicional."
   ]
  },
  {
   "cell_type": "code",
   "execution_count": 58,
   "metadata": {},
   "outputs": [
    {
     "name": "stdout",
     "output_type": "stream",
     "text": [
      "sin ciudad\n",
      "sin ciudad\n"
     ]
    }
   ],
   "source": [
    "valor = registro['ciudad'] if 'ciudad' in registro else 'sin ciudad'\n",
    "print(valor)\n",
    "\n",
    "valor= registro.get('ciudad', 'sin ciudad')\n",
    "print(valor)"
   ]
  },
  {
   "cell_type": "code",
   "execution_count": null,
   "metadata": {},
   "outputs": [],
   "source": []
  }
 ],
 "metadata": {
  "kernelspec": {
   "display_name": "Python 3",
   "language": "python",
   "name": "python3"
  },
  "language_info": {
   "codemirror_mode": {
    "name": "ipython",
    "version": 3
   },
   "file_extension": ".py",
   "mimetype": "text/x-python",
   "name": "python",
   "nbconvert_exporter": "python",
   "pygments_lexer": "ipython3",
   "version": "3.8.5"
  }
 },
 "nbformat": 4,
 "nbformat_minor": 2
}
