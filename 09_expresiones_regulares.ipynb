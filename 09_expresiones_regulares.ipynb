{
 "cells": [
  {
   "cell_type": "markdown",
   "metadata": {},
   "source": [
    "# Cuaderno 8: Expresiones regulares\n",
    "\n",
    "Las expresiones regulares (*regular expressions*, *regexes*) son cadenas de caracteres escritas en un lenguaje especial de formateo que se emplean para representar patrones de texto. Suelen utilizarse con tres fines principales: buscar un patrón dentro de un texto, determinar todas las ocurrencias de un patrón dentro de un texto, o preprocesar un texto para \"limpiarlo\" de información no relevante.\n",
    "\n",
    "En cualquiera de los tres casos, las expresiones regulares constituyen una herramienta fundamental para el procesamiento rápido y eficiente de información que tenga un formato de texto (páginas web, extracciones de bases de datos, redes sociales, etc.)\n",
    "\n",
    "### Funciones básicas\n",
    "\n",
    "Para utilizar expresiones regulares, es necesario importar el módulo `re`:"
   ]
  },
  {
   "cell_type": "code",
   "execution_count": 1,
   "metadata": {},
   "outputs": [],
   "source": [
    "# importar el módulo de expresiones regulares\n",
    "import re"
   ]
  },
  {
   "cell_type": "markdown",
   "metadata": {},
   "source": [
    "La primera aplicación de las expresiones regulares es buscar un patrón dentro de una cadena de texto. La función `match` intenta encontrar este patrón en el inicio del texto. La función `search` busca el patrón en cualquier posición. Ambas funciones retornan valores booleanos: "
   ]
  },
  {
   "cell_type": "code",
   "execution_count": 3,
   "metadata": {},
   "outputs": [
    {
     "name": "stdout",
     "output_type": "stream",
     "text": [
      "Contiene cade\n",
      "No empieza con cade\n"
     ]
    }
   ],
   "source": [
    "S = 'Esta es una cadena de texto en la que vamos a buscar.'\n",
    "p = 'cade'\n",
    "if re.search(p, S):\n",
    "    print('Contiene {}'.format(p))\n",
    "else:\n",
    "    print('No contiene {}'.format(p))\n",
    "\n",
    "if re.match(p, S):\n",
    "    print('Empieza con {}'.format(p))\n",
    "else:\n",
    "    print('No empieza con {}'.format(p))\n"
   ]
  },
  {
   "cell_type": "markdown",
   "metadata": {},
   "source": [
    "La función `split` divide a una cadena de caracteres usando un patrón como delimitador. Esta función retorna una lista con todas las subcadenas de la cadena original, delimitadas por el patrón. "
   ]
  },
  {
   "cell_type": "code",
   "execution_count": 4,
   "metadata": {},
   "outputs": [
    {
     "name": "stdout",
     "output_type": "stream",
     "text": [
      "['El ', ', oso ', ' o ', ' gigante (Ailuropoda melanoleuca) es una especie de mamífero']\n"
     ]
    }
   ],
   "source": [
    "S = 'El panda, oso panda o panda gigante (Ailuropoda melanoleuca) es una especie de mamífero'\n",
    "p = 'panda'\n",
    "print(re.split(p, S))"
   ]
  },
  {
   "cell_type": "markdown",
   "metadata": {},
   "source": [
    "La función `findall` retorna una lista con todas las subcadenas que una cadena de caracteres que se ajustan a un patrón."
   ]
  },
  {
   "cell_type": "code",
   "execution_count": 5,
   "metadata": {},
   "outputs": [
    {
     "name": "stdout",
     "output_type": "stream",
     "text": [
      "['panda', 'panda', 'panda']\n"
     ]
    }
   ],
   "source": [
    "S = 'El panda, oso panda o panda gigante (Ailuropoda melanoleuca) es una especie de mamífero'\n",
    "p = 'panda'\n",
    "print(re.findall(p, S))"
   ]
  },
  {
   "cell_type": "markdown",
   "metadata": {},
   "source": [
    "### Patrones\n",
    "\n",
    "Las expresiones regex pueden usar un lenguaje de marcado (*markup language*) para especificar patrones de cadenas de caracteres que pueden emplearse como parámetros en las funciones anteriores. Revisaremos en este cuaderno algunos elementos comunes de esta sintaxis. \n",
    "\n",
    "Los símbolos `^` y `$` indican el inicio y el fin de la cadena de caracteres, respectivamente.  "
   ]
  },
  {
   "cell_type": "code",
   "execution_count": 6,
   "metadata": {},
   "outputs": [
    {
     "name": "stdout",
     "output_type": "stream",
     "text": [
      "['panda', 'panda', 'panda']\n",
      "['panda']\n",
      "[]\n",
      "['', ', oso ', ' o ', ' gigante']\n",
      "['', ', oso panda o panda gigante']\n",
      "['panda, oso panda o panda gigante']\n",
      "Empieza con panda\n"
     ]
    }
   ],
   "source": [
    "S = 'panda, oso panda o panda gigante'\n",
    "p1='panda'\n",
    "p2='^panda'\n",
    "p3='panda$'\n",
    "print(re.findall(p1, S))\n",
    "print(re.findall(p2, S))\n",
    "print(re.findall(p3, S))\n",
    "print(re.split(p1, S))\n",
    "print(re.split(p2, S))\n",
    "print(re.split(p3, S))\n",
    "if re.search(p2, S):\n",
    "    print('Empieza con panda')\n",
    "if re.search(p3, S):\n",
    "    print('Termina con panda')\n"
   ]
  },
  {
   "cell_type": "markdown",
   "metadata": {},
   "source": [
    "El operador `[]` se conoce como operador de conjuntos. Indica que en esa posición de la subcadena debe ir uno de los caracteres que aparecen entre los corchetes."
   ]
  },
  {
   "cell_type": "code",
   "execution_count": 7,
   "metadata": {},
   "outputs": [
    {
     "name": "stdout",
     "output_type": "stream",
     "text": [
      "['el', 'el']\n",
      "['El', 'el', 'el']\n",
      "['El', 'el', 'es', 'el']\n",
      "['i', 'i', 'a', 'a', 'i', 'e', 'o', 'e', 'a', 'a', 'e', 'e', 'a', 'ú']\n"
     ]
    }
   ],
   "source": [
    "S = 'El principal alimento del panda es el bambú'\n",
    "p1 = 'el'\n",
    "p2 = '[Ee]l'\n",
    "p3 = '[Ee][ls]'\n",
    "p4 = '[aeiouú]'\n",
    "print(re.findall(p1, S))\n",
    "print(re.findall(p2, S))\n",
    "print(re.findall(p3, S))\n",
    "print(re.findall(p4, S))"
   ]
  },
  {
   "cell_type": "markdown",
   "metadata": {},
   "source": [
    "Dentro del operador de conjuntos puede usarse el guión `-` para especificar un rango de caracteres, ordenados alfabéticamente:"
   ]
  },
  {
   "cell_type": "code",
   "execution_count": 8,
   "metadata": {},
   "outputs": [
    {
     "name": "stdout",
     "output_type": "stream",
     "text": [
      "['c', 'a', 'a', 'a', 'a', 'b', 'a', 'b']\n",
      "['pr', 'in', 'ci', 'pa', 'al', 'im', 'en', 'to', 'de', 'pa', 'nd', 'es', 'el', 'ba', 'mb']\n",
      "['10', '10', '01', '43']\n"
     ]
    }
   ],
   "source": [
    "S = 'El principal alimento del panda es el bambú'\n",
    "p1 = '[a-c]'\n",
    "p2 = '[a-z][a-z]'\n",
    "print(re.findall(p1, S))\n",
    "print(re.findall(p2, S))\n",
    "S = 'Veo 101 dalmatas, 1001 noches, pero no 439 pandas...'\n",
    "p = '[0-9][0-9]'\n",
    "print(re.findall(p, S))\n"
   ]
  },
  {
   "cell_type": "markdown",
   "metadata": {},
   "source": [
    "Dentro de un operador de conjuntos, el operador `^` cambia de significado. Se usa para expresa la negación:"
   ]
  },
  {
   "cell_type": "code",
   "execution_count": 9,
   "metadata": {},
   "outputs": [
    {
     "name": "stdout",
     "output_type": "stream",
     "text": [
      "['E', 'l', ' ', 'p', 'r', 'n', 'c', 'p', 'a', 'l', ' ', 'a', 'l', 'm', 'e', 'n', 't', 'o', ' ', 'd', 'e', 'l', ' ', 'p', 'a', 'n', 'd', 'a', ' ', 'e', 's', ' ', 'e', 'l', ' ', 'b', 'a', 'm', 'b', 'ú']\n",
      "['E', 'l', ' ', 'p', 'r', 'i', 'n', 'c', 'i', 'p', 'l', ' ', 'l', 'i', 'm', 'e', 'n', 't', 'o', ' ', 'd', 'e', 'l', ' ', 'p', 'n', 'd', ' ', 'e', 's', ' ', 'e', 'l', ' ', 'b', 'm', 'b', 'ú']\n",
      "[' a', 'da', 'ba']\n"
     ]
    }
   ],
   "source": [
    "S = 'El principal alimento del panda es el bambú'\n",
    "p1 = '[^i]'\n",
    "p2 = '[^a]'\n",
    "p3 = '[^p]a'\n",
    "print(re.findall(p1, S))\n",
    "print(re.findall(p2, S))\n",
    "print(re.findall(p3, S))"
   ]
  },
  {
   "cell_type": "markdown",
   "metadata": {},
   "source": [
    "El operador `|` es el operador de disyunción (*or*), que permite especificar patrones alternativos:"
   ]
  },
  {
   "cell_type": "code",
   "execution_count": 10,
   "metadata": {},
   "outputs": [
    {
     "name": "stdout",
     "output_type": "stream",
     "text": [
      "['al', 'al', 'del']\n",
      "['al', 'al', 'el', 'el']\n"
     ]
    }
   ],
   "source": [
    "S = 'El principal alimento del panda es el bambú'\n",
    "p1 = 'al|del'\n",
    "p2 = '[ae]l'\n",
    "print(re.findall(p1, S))\n",
    "print(re.findall(p2, S))"
   ]
  },
  {
   "cell_type": "markdown",
   "metadata": {},
   "source": [
    "### Algunos caracteres especiales\n",
    "\n",
    "El caracter especial `\\w` simboliza cualquier letra o dígito. El caracter `\\d` representa un dígito, y el caracter `\\s`  representa un espacio en blanco. El punto `.` representa cualquier caracter.\n",
    "\n",
    "**Importante**: Si se usa dentro de un operador de conjuntos `[]`, el símbolo `.` pierde su significado usual y representa únicamente a un punto.\n"
   ]
  },
  {
   "cell_type": "code",
   "execution_count": 15,
   "metadata": {},
   "outputs": [
    {
     "name": "stdout",
     "output_type": "stream",
     "text": [
      "['V', 'e', 'o', ' ', '1', '0', '1', ' ', 'd', 'a', 'l', 'm', 'a', 't', 'a', 's', ',', ' ', '1', '0', '0', '1', ' ', 'n', 'o', 'c', 'h', 'e', 's', ',', ' ', 'p', 'e', 'r', 'o', ' ', 'n', 'o', ' ', '4', '3', '9', ' ', 'p', 'a', 'n', 'd', 'a', 's', ' ', 'n', 'i', ' ', '3', '5', ' ', 'ñ', 'a', 'n', 'd', 'ú', 'e', 's', '.', '.', '.']\n",
      "['1', '0', '1', '1', '0', '0', '1', '4', '3', '9', '3', '5']\n",
      "['Veo', '101', 'dalmatas,', '1001', 'noches,', 'pero', 'no', '439', 'pandas', 'ni', '35', 'ñandúes...']\n",
      "['s, ', 's, ', 's n', 's..']\n",
      "['s..']\n"
     ]
    }
   ],
   "source": [
    "S = 'Veo 101 dalmatas, 1001 noches, pero no 439 pandas ni 35 ñandúes...'\n",
    "p1 = '\\w' # una letra o un dígito\n",
    "p2 = '\\d' # un dígito\n",
    "p3 = '\\s' # un caracter de espacio\n",
    "p4 = 's..' # una letra s seguida de dos caracteres cualesquiera\n",
    "p5 = 's[.][.]' # una letra s seguida de dos puntos\n",
    "print(re.findall(p1, S))\n",
    "print(re.findall(p2, S))\n",
    "print(re.split(p3, S))\n",
    "print(re.findall(p4, S))\n",
    "print(re.findall(p5, S))"
   ]
  },
  {
   "cell_type": "markdown",
   "metadata": {},
   "source": [
    "### Cuantificadores\n",
    "Los cuantificadores permiten expresar la repetición de una expresión un cierto número de veces. La forma más simple de un cuantificador es `e{m,n}` que equivale a decir que la expresión `e` debe repetirse un mínimo de `m` y un máximo de `n` veces:"
   ]
  },
  {
   "cell_type": "code",
   "execution_count": 18,
   "metadata": {},
   "outputs": [
    {
     "name": "stdout",
     "output_type": "stream",
     "text": [
      "['prin', 'cipa', 'les', 'alim', 'ento', 'del', 'pand', 'bamb']\n",
      "['El1', 'principale', 'alimento', 'del', 'panda', 'es', 'el', 'bambú']\n",
      "[]\n"
     ]
    }
   ],
   "source": [
    "S = 'El1 principales alimento del panda es el bambú'\n",
    "p1 = '[a-z]{3,4}'\n",
    "p2 = '[\\w]{2,10}'\n",
    "# no poner espacios dentro de los cuantificadores\n",
    "p3 = '[a-z]{2, 10}'\n",
    "print(re.findall(p1, S))\n",
    "print(re.findall(p2, S))\n",
    "print(re.findall(p3, S))\n"
   ]
  },
  {
   "cell_type": "markdown",
   "metadata": {},
   "source": [
    "Si se especifica un solo parámetro `e{m}` esto significa que la expresión `e` debe repetirse exactamente `m` veces:"
   ]
  },
  {
   "cell_type": "code",
   "execution_count": 19,
   "metadata": {},
   "outputs": [
    {
     "name": "stdout",
     "output_type": "stream",
     "text": [
      "['princ', 'alime', 'panda', 'bambú']\n"
     ]
    }
   ],
   "source": [
    "S = 'El principal alimento del panda es el bambú'\n",
    "p1 = '[\\w]{5}'\n",
    "print(re.findall(p1, S))\n"
   ]
  },
  {
   "cell_type": "markdown",
   "metadata": {},
   "source": [
    "El cuantificador `e*` indica que la expresión `e` se puede repetir un *número arbitrario de veces, incluyendo 0 veces*."
   ]
  },
  {
   "cell_type": "code",
   "execution_count": 20,
   "metadata": {},
   "outputs": [
    {
     "name": "stdout",
     "output_type": "stream",
     "text": [
      "['Veo', '', '101', '', 'dalmatas', '', '', '1001', '', 'noches', '', '', 'pero', '', 'no', '', '439', '', 'pandas', '', '', '', '']\n",
      "['', '', '', '', '101', '', '', '', '', '', '', '', '', '', '', '', '1001', '', '', '', '', '', '', '', '', '', '', '', '', '', '', '', '', '', '439', '', '', '', '', '', '', '', '', '', '', '']\n",
      "['Veo 101 dalmatas', '', ' 1001 noches', '', ' pero no 439 pandas', '', '', '', '']\n"
     ]
    }
   ],
   "source": [
    "S = 'Veo 101 dalmatas, 1001 noches, pero no 439 pandas...'\n",
    "p1 = '[\\w]*'\n",
    "p2 = '[\\d]*'\n",
    "p3 = '[\\w\\s]*'\n",
    "print(re.findall(p1, S))\n",
    "print(re.findall(p2, S))\n",
    "print(re.findall(p3, S))\n"
   ]
  },
  {
   "cell_type": "markdown",
   "metadata": {},
   "source": [
    "El cuantificador `e?` indica que la expresión `e` se repite *cero o una vez*. El cuantificador `e+` indica que la expresión `e` se repite *una o más veces*."
   ]
  },
  {
   "cell_type": "code",
   "execution_count": 21,
   "metadata": {},
   "outputs": [
    {
     "name": "stdout",
     "output_type": "stream",
     "text": [
      "['', '', '', '', '101', '', '', '', '', '', '', '', '', '', '', '', '1001', '', '', '', '', '', '', '', '', '', '', '', '', '', '', '', '', '', '439', '', '', '', '', '', '', '', '', '', '', '']\n",
      "['', '', '', '', '1', '0', '1', '', '', '', '', '', '', '', '', '', '', '', '1', '0', '0', '1', '', '', '', '', '', '', '', '', '', '', '', '', '', '', '', '', '', '4', '3', '9', '', '', '', '', '', '', '', '', '', '', '']\n",
      "['101', '1001', '439']\n"
     ]
    }
   ],
   "source": [
    "S = 'Veo 101 dalmatas, 1001 noches, pero no 439 pandas...'\n",
    "p1 = '[\\d]*'\n",
    "p2 = '[\\d]?'\n",
    "p3 = '[\\d]+'\n",
    "print(re.findall(p1, S))\n",
    "print(re.findall(p2, S))\n",
    "print(re.findall(p3, S))\n"
   ]
  },
  {
   "cell_type": "markdown",
   "metadata": {},
   "source": [
    "Es común usar los cuantificadores `*` y `+` en combinación con el símbolo `.` para indicar una repetición de un número arbitrario de veces de cualquier combinación de caracteres, es decir, una subcadena arbitraria."
   ]
  },
  {
   "cell_type": "code",
   "execution_count": 22,
   "metadata": {},
   "outputs": [
    {
     "name": "stdout",
     "output_type": "stream",
     "text": [
      "['Veo 101 dalmatas, 1001 noches, pero no 439 pandas...', '']\n",
      "['Veo 101 dalmatas, 1001 noches, pero no 439 pandas...']\n"
     ]
    }
   ],
   "source": [
    "S = 'Veo 101 dalmatas, 1001 noches, pero no 439 pandas...'\n",
    "p1 = '.*' # cualquier subcadena, incluyendo cadenas vacías\n",
    "p2 = '.+' # cualquier subcadena, excluyendo cadenas vacías\n",
    "print(re.findall(p1, S))\n",
    "print(re.findall(p2, S))\n"
   ]
  },
  {
   "cell_type": "markdown",
   "metadata": {},
   "source": [
    "### Ejemplos:\n",
    "Vamos a cargar el archivo `wiki_panda.txt` en una variable `texto` de tipo cadena de caracteres:"
   ]
  },
  {
   "cell_type": "code",
   "execution_count": 23,
   "metadata": {},
   "outputs": [
    {
     "name": "stdout",
     "output_type": "stream",
     "text": [
      "El panda, oso panda o panda gigante (Ailuropoda melanoleuca) es una especie de mamífero del orden de los carnívoros y aunque hay una gran controversia al respecto, los últimos estudios de su ADN lo engloban entre los miembros de la familia de los osos (Ursidae), siendo el oso de anteojos su pariente más cercano, si bien este pertenece a la subfamilia de los tremarctinos. Por otra parte, el panda rojo pertenece a una familia propia e independiente, Ailuridae. La especie está muy localizada. Nativo de China central, el panda gigante habita en regiones montañosas, principalmente las de Sichuan, hasta una altura de 3500 m s. n. m.\n",
      "\n",
      "Para el 2017 se estimó que la población total superaba los dos mil ejemplares2​ de los que 1864 viven en libertad,3​ lo que demuestra que la cifra de pandas viviendo en libertad va en aumento. Desde 1961 el panda es el símbolo de WWF (Fondo Mundial para la Naturaleza).\n",
      "\n",
      "El principal alimento del panda es el bambú (en torno al 99 % de su dieta), aunque también se alimenta de frutos, pequeños mamíferos, peces e insectos.4​ Es un buen trepador, aunque rara vez se le ve en los árboles. Se adapta a la cautividad y gracias a su pelaje soporta fácilmente las condiciones invernales de su hábitat. \n",
      "<class 'str'>\n"
     ]
    }
   ],
   "source": [
    "with open(\"wiki_panda.txt\",\"r\") as file:\n",
    "    # leer el contenido del archivo en la variable texto\n",
    "    texto=file.read()\n",
    "# mostrar el contenido de esta variable en la pantalla\n",
    "print(texto)\n",
    "print(type(texto))"
   ]
  },
  {
   "cell_type": "markdown",
   "metadata": {},
   "source": [
    "Podemos extraer una lista con todas las palabras del texto anterior:"
   ]
  },
  {
   "cell_type": "code",
   "execution_count": 25,
   "metadata": {},
   "outputs": [
    {
     "name": "stdout",
     "output_type": "stream",
     "text": [
      "['El', 'panda', 'oso', 'panda', 'o', 'panda', 'gigante', 'Ailuropoda', 'melanoleuca', 'es', 'una', 'especie', 'de', 'mamífero', 'del', 'orden', 'de', 'los', 'carnívoros', 'y', 'aunque', 'hay', 'una', 'gran', 'controversia', 'al', 'respecto', 'los', 'últimos', 'estudios', 'de', 'su', 'ADN', 'lo', 'engloban', 'entre', 'los', 'miembros', 'de', 'la', 'familia', 'de', 'los', 'osos', 'Ursidae', 'siendo', 'el', 'oso', 'de', 'anteojos', 'su', 'pariente', 'más', 'cercano', 'si', 'bien', 'este', 'pertenece', 'a', 'la', 'subfamilia', 'de', 'los', 'tremarctinos', 'Por', 'otra', 'parte', 'el', 'panda', 'rojo', 'pertenece', 'a', 'una', 'familia', 'propia', 'e', 'independiente', 'Ailuridae', 'La', 'especie', 'está', 'muy', 'localizada', 'Nativo', 'de', 'China', 'central', 'el', 'panda', 'gigante', 'habita', 'en', 'regiones', 'montañosas', 'principalmente', 'las', 'de', 'Sichuan', 'hasta', 'una', 'altura', 'de', '3500', 'm', 's', 'n', 'm', 'Para', 'el', '2017', 'se', 'estimó', 'que', 'la', 'población', 'total', 'superaba', 'los', 'dos', 'mil', 'ejemplares2', 'de', 'los', 'que', '1864', 'viven', 'en', 'libertad', '3', 'lo', 'que', 'demuestra', 'que', 'la', 'cifra', 'de', 'pandas', 'viviendo', 'en', 'libertad', 'va', 'en', 'aumento', 'Desde', '1961', 'el', 'panda', 'es', 'el', 'símbolo', 'de', 'WWF', 'Fondo', 'Mundial', 'para', 'la', 'Naturaleza', 'El', 'principal', 'alimento', 'del', 'panda', 'es', 'el', 'bambú', 'en', 'torno', 'al', '99', 'de', 'su', 'dieta', 'aunque', 'también', 'se', 'alimenta', 'de', 'frutos', 'pequeños', 'mamíferos', 'peces', 'e', 'insectos', '4', 'Es', 'un', 'buen', 'trepador', 'aunque', 'rara', 'vez', 'se', 'le', 've', 'en', 'los', 'árboles', 'Se', 'adapta', 'a', 'la', 'cautividad', 'y', 'gracias', 'a', 'su', 'pelaje', 'soporta', 'fácilmente', 'las', 'condiciones', 'invernales', 'de', 'su', 'hábitat']\n",
      "['El', 'panda', 'oso', 'panda', 'o', 'panda', 'gigante', 'Ailuropoda', 'melanoleuca', 'es', 'una', 'especie', 'de', 'mamífero', 'del', 'orden', 'de', 'los', 'carnívoros', 'y', 'aunque', 'hay', 'una', 'gran', 'controversia', 'al', 'respecto', 'los', 'últimos', 'estudios', 'de', 'su', 'ADN', 'lo', 'engloban', 'entre', 'los', 'miembros', 'de', 'la', 'familia', 'de', 'los', 'osos', 'Ursidae', 'siendo', 'el', 'oso', 'de', 'anteojos', 'su', 'pariente', 'más', 'cercano', 'si', 'bien', 'este', 'pertenece', 'a', 'la', 'subfamilia', 'de', 'los', 'tremarctinos', 'Por', 'otra', 'parte', 'el', 'panda', 'rojo', 'pertenece', 'a', 'una', 'familia', 'propia', 'e', 'independiente', 'Ailuridae', 'La', 'especie', 'está', 'muy', 'localizada', 'Nativo', 'de', 'China', 'central', 'el', 'panda', 'gigante', 'habita', 'en', 'regiones', 'montañosas', 'principalmente', 'las', 'de', 'Sichuan', 'hasta', 'una', 'altura', 'de', '3500', 'm', 's', 'n', 'm', 'Para', 'el', '2017', 'se', 'estimó', 'que', 'la', 'población', 'total', 'superaba', 'los', 'dos', 'mil', 'ejemplares2', 'de', 'los', 'que', '1864', 'viven', 'en', 'libertad', '3', 'lo', 'que', 'demuestra', 'que', 'la', 'cifra', 'de', 'pandas', 'viviendo', 'en', 'libertad', 'va', 'en', 'aumento', 'Desde', '1961', 'el', 'panda', 'es', 'el', 'símbolo', 'de', 'WWF', 'Fondo', 'Mundial', 'para', 'la', 'Naturaleza', 'El', 'principal', 'alimento', 'del', 'panda', 'es', 'el', 'bambú', 'en', 'torno', 'al', '99', 'de', 'su', 'dieta', 'aunque', 'también', 'se', 'alimenta', 'de', 'frutos', 'pequeños', 'mamíferos', 'peces', 'e', 'insectos', '4', 'Es', 'un', 'buen', 'trepador', 'aunque', 'rara', 'vez', 'se', 'le', 've', 'en', 'los', 'árboles', 'Se', 'adapta', 'a', 'la', 'cautividad', 'y', 'gracias', 'a', 'su', 'pelaje', 'soporta', 'fácilmente', 'las', 'condiciones', 'invernales', 'de', 'su', 'hábitat']\n",
      "7\n"
     ]
    }
   ],
   "source": [
    "print(re.findall('[\\w]+', texto))\n",
    "L = [s for s in re.findall('[\\w]*', texto) if s!='']\n",
    "print(L)\n",
    "print(L.count('panda'))"
   ]
  },
  {
   "cell_type": "markdown",
   "metadata": {},
   "source": [
    "En el archivo `emails.txt` tenemos un encabezado (ficticio) de un correo electrónico, con información de direcciones de otros destinatarios. Carguemos el contenido de este archivo en una variable `texto`:"
   ]
  },
  {
   "cell_type": "code",
   "execution_count": 26,
   "metadata": {},
   "outputs": [
    {
     "name": "stdout",
     "output_type": "stream",
     "text": [
      "Para: kdawson@outlook.com, CARROL L <carroll@icloud.com>,\n",
      "cliffski@verizon.net, KOSA CRIS T <kosact@sbcglobal.net>,\n",
      "chinthaka@live.com, dkrishna@hotmail.com, VICKY SPRINT F\n",
      "<vsprintf@hotmail.com>, STEVE L <stevelim@msn.com.ec>,\n",
      "MUNJA L <munjal@aol.com>, JOE HALL <joehall@outlook.com>,\n",
      "heroine@att.net, msusa@att.net\n"
     ]
    }
   ],
   "source": [
    "with open(\"emails.txt\",\"r\") as file:\n",
    "    # leer el contenido del archivo en la variable texto\n",
    "    texto=file.read()\n",
    "# mostrar el contenido de esta variable en la pantalla\n",
    "print(texto)"
   ]
  },
  {
   "cell_type": "markdown",
   "metadata": {},
   "source": [
    "Podemos usar una expresión regular para extraer una lista con todas las direcciones de email contenidas en el encabezado:"
   ]
  },
  {
   "cell_type": "code",
   "execution_count": 27,
   "metadata": {},
   "outputs": [
    {
     "name": "stdout",
     "output_type": "stream",
     "text": [
      "['kdawson@outlook.com', 'carroll@icloud.com', 'cliffski@verizon.net', 'kosact@sbcglobal.net', 'chinthaka@live.com', 'dkrishna@hotmail.com', 'vsprintf@hotmail.com', 'stevelim@msn.com.ec', 'munjal@aol.com', 'joehall@outlook.com', 'heroine@att.net', 'msusa@att.net']\n"
     ]
    }
   ],
   "source": [
    "print(re.findall('[a-z.]+@[a-z.]+', texto))"
   ]
  },
  {
   "cell_type": "markdown",
   "metadata": {},
   "source": [
    "### Grupos\n",
    "Con frecuencia, las expresiones regulares se emplean para extraer información *estructurada* de un texto, la misma que consiste de diferentes campos. Para ello es útil emplear el operador de grupos `()`.\n",
    "\n",
    "En el último ejemplo, supongamos que queremos separar la información del nombre de usuario y servidor en las direcciones de correo electrónico:"
   ]
  },
  {
   "cell_type": "code",
   "execution_count": 28,
   "metadata": {},
   "outputs": [
    {
     "name": "stdout",
     "output_type": "stream",
     "text": [
      "[('kdawson', 'outlook.com'), ('carroll', 'icloud.com'), ('cliffski', 'verizon.net'), ('kosact', 'sbcglobal.net'), ('chinthaka', 'live.com'), ('dkrishna', 'hotmail.com'), ('vsprintf', 'hotmail.com'), ('stevelim', 'msn.com.ec'), ('munjal', 'aol.com'), ('joehall', 'outlook.com'), ('heroine', 'att.net'), ('msusa', 'att.net')]\n"
     ]
    }
   ],
   "source": [
    "L = re.findall('([a-z.]+)@([a-z.]+)', texto)\n",
    "print(L)"
   ]
  },
  {
   "cell_type": "markdown",
   "metadata": {},
   "source": [
    "La lista retornada por `findall` consiste ahora de tuplas de dos elementos cada una, correspondientes a los dos grupos en la expresión regular. Notar que el caracter `@` es usado durante la búsqueda pero no es retornado, pues no pertenece a ningún grupo.\n",
    "\n",
    "Los componentes individuales de cada tupla nos permiten recuperar el nombre de usuario y servidor en cada dirección:"
   ]
  },
  {
   "cell_type": "code",
   "execution_count": 30,
   "metadata": {},
   "outputs": [
    {
     "name": "stdout",
     "output_type": "stream",
     "text": [
      "Usuario: kdawson\n",
      "Servidor: outlook.com\n",
      "-----\n",
      "Usuario: carroll\n",
      "Servidor: icloud.com\n",
      "-----\n",
      "Usuario: cliffski\n",
      "Servidor: verizon.net\n",
      "-----\n",
      "Usuario: kosact\n",
      "Servidor: sbcglobal.net\n",
      "-----\n",
      "Usuario: chinthaka\n",
      "Servidor: live.com\n",
      "-----\n",
      "Usuario: dkrishna\n",
      "Servidor: hotmail.com\n",
      "-----\n",
      "Usuario: vsprintf\n",
      "Servidor: hotmail.com\n",
      "-----\n",
      "Usuario: stevelim\n",
      "Servidor: msn.com.ec\n",
      "-----\n",
      "Usuario: munjal\n",
      "Servidor: aol.com\n",
      "-----\n",
      "Usuario: joehall\n",
      "Servidor: outlook.com\n",
      "-----\n",
      "Usuario: heroine\n",
      "Servidor: att.net\n",
      "-----\n",
      "Usuario: msusa\n",
      "Servidor: att.net\n",
      "-----\n"
     ]
    }
   ],
   "source": [
    "for (usuario, servidor) in L:\n",
    "    print(\"Usuario: {}\".format(usuario))\n",
    "    print(\"Servidor: {}\".format(servidor))\n",
    "    print(\"-----\")"
   ]
  },
  {
   "cell_type": "markdown",
   "metadata": {},
   "source": [
    "### Objetos tipo Match\n",
    "Aunque hemos utilizado el resultado de las funciones `re.search` y `re.match` como un valor booleano, realmente ambas funciones retornan objetos de la clase `Match`.  Estos objetos se usan para representar la ocurrencia de un patrón dentro de una cadena de caracteres. \n",
    "\n",
    "Si el patrón no aparece en la cadena (o al inicio de la cadena, en el caso de la función `match`), ambas funciones retornan `None`. Al usarse en lugar de una expresión booleana, cualquier objeto tipo `Match` equivale a `True`, mientras que `None`, equivale a `False`. "
   ]
  },
  {
   "cell_type": "code",
   "execution_count": 31,
   "metadata": {},
   "outputs": [
    {
     "name": "stdout",
     "output_type": "stream",
     "text": [
      "<re.Match object; span=(4, 7), match='101'>\n",
      "None\n",
      "None\n",
      "Se encontró el primer patrón\n"
     ]
    }
   ],
   "source": [
    "S = 'Veo 101 dalmatas, 1001 noches, pero no 439 pandas...'\n",
    "print(re.search('\\d+', S))\n",
    "print(re.match('\\d+', S))\n",
    "print(re.search('\\d[.]+', S))\n",
    "\n",
    "if(re.search('\\d+', S)):\n",
    "    print(\"Se encontró el primer patrón\")\n",
    "\n",
    "if(re.match('\\d+', S)):\n",
    "    print(\"Se encontró el segundo patrón\")\n",
    "\n",
    "if(re.search('\\d[.]+', S)):\n",
    "    print(\"Se encontró el tercer patrón\")"
   ]
  },
  {
   "cell_type": "markdown",
   "metadata": {},
   "source": [
    "Un objeto tipo `Match` tiene adicionalmente otras propiedades y métodos. Por ejemplo, el método `span` retorna una tupla con los índices de inicio y fin de la ocurrencia del patrón dentro de la cadena."
   ]
  },
  {
   "cell_type": "code",
   "execution_count": 33,
   "metadata": {},
   "outputs": [
    {
     "name": "stdout",
     "output_type": "stream",
     "text": [
      "<class 're.Match'>\n",
      "(4, 7)\n",
      "101\n"
     ]
    }
   ],
   "source": [
    "S = 'Veo 101 dalmatas, 1001 noches, pero no 439 pandas...'\n",
    "m = re.search('\\d+', S)\n",
    "print(type(m))\n",
    "print(m.span())\n",
    "(a,b) = m.span()\n",
    "print(S[a:b])"
   ]
  },
  {
   "cell_type": "markdown",
   "metadata": {},
   "source": [
    "Cuando el patrón de búsqueda contiene grupos, el método `group` nos permite acceder a las subcadenas asociadas a cada uno de los grupos. Al llamarlo como `group(0)` este método retorna toda la ocurrencia del patrón. Al llamarlo como `group(i)`, con i>0, el método retorna la subcadena correspondiente al i-ésimo grupo.\n",
    "\n",
    "El método `groups` retorna una tupla con todos los grupos."
   ]
  },
  {
   "cell_type": "code",
   "execution_count": 34,
   "metadata": {},
   "outputs": [
    {
     "name": "stdout",
     "output_type": "stream",
     "text": [
      "dkrishna@hotmail.com\n",
      "dkrishna\n",
      "hotmail.com\n",
      "('dkrishna', 'hotmail.com')\n"
     ]
    }
   ],
   "source": [
    "S = \"Cadena que contiene la dirección dkrishna@hotmail.com\"\n",
    "m = re.search('([a-z.]+)@([a-z.]+)', S)\n",
    "print(m.group(0))\n",
    "print(m.group(1))\n",
    "print(m.group(2))\n",
    "print(m.groups())"
   ]
  },
  {
   "cell_type": "markdown",
   "metadata": {},
   "source": [
    "Es posible especificar *nombres* para los distintos grupos de un patrón. Esto se consigue empleando la sintaxis `(?P<nombre>)`:"
   ]
  },
  {
   "cell_type": "code",
   "execution_count": 36,
   "metadata": {},
   "outputs": [],
   "source": [
    "S = \"Cadena que contiene la dirección dkrishna@hotmail.com\"\n",
    "m = re.search('(?P<usuario>[a-z.]+)@(?P<servidor>[a-z.]+)', S)\n"
   ]
  },
  {
   "cell_type": "markdown",
   "metadata": {},
   "source": [
    "En estos casos, el método `groupdict` permite construir un diccionario cuyas claves son los nombres de los grupos y cuyos valores son las subcadenas correspondientes encontradas en la búsqueda:"
   ]
  },
  {
   "cell_type": "code",
   "execution_count": 37,
   "metadata": {},
   "outputs": [
    {
     "name": "stdout",
     "output_type": "stream",
     "text": [
      "{'usuario': 'dkrishna', 'servidor': 'hotmail.com'}\n",
      "dkrishna\n",
      "hotmail.com\n"
     ]
    }
   ],
   "source": [
    "print(m.groupdict())\n",
    "D = m.groupdict()\n",
    "print(D['usuario'])\n",
    "print(D['servidor'])"
   ]
  },
  {
   "cell_type": "markdown",
   "metadata": {},
   "source": [
    "### Función finditer\n",
    "La función `finditer` es similar a la función `findall` en el sentido en que busca todas las ocurrencias de un patrón dentro de una cadena de caracteres. Sin embargo, en lugar de retornar las subcadenas de caracteres, la función `finditer` retorna los objetos tipo `Match` correspondientes.\n",
    "\n",
    "Recuperemos otra vez el contenido del archivo `emails.txt` en la variable `texto `:"
   ]
  },
  {
   "cell_type": "code",
   "execution_count": 38,
   "metadata": {},
   "outputs": [
    {
     "name": "stdout",
     "output_type": "stream",
     "text": [
      "Para: kdawson@outlook.com, CARROL L <carroll@icloud.com>,\n",
      "cliffski@verizon.net, KOSA CRIS T <kosact@sbcglobal.net>,\n",
      "chinthaka@live.com, dkrishna@hotmail.com, VICKY SPRINT F\n",
      "<vsprintf@hotmail.com>, STEVE L <stevelim@msn.com.ec>,\n",
      "MUNJA L <munjal@aol.com>, JOE HALL <joehall@outlook.com>,\n",
      "heroine@att.net, msusa@att.net\n"
     ]
    }
   ],
   "source": [
    "with open(\"emails.txt\",\"r\") as file:\n",
    "    # leer el contenido del archivo en la variable texto\n",
    "    texto=file.read()\n",
    "# mostrar el contenido de esta variable en la pantalla\n",
    "print(texto)"
   ]
  },
  {
   "cell_type": "markdown",
   "metadata": {},
   "source": [
    "Emplearemos un patrón con dos grupos para recuperar todos los usuarios y servidores en las direcciones de correo electrónico que aparecen en el texto. Estos grupos tienen los nombres de `usuario` y `servidor`:"
   ]
  },
  {
   "cell_type": "code",
   "execution_count": 40,
   "metadata": {},
   "outputs": [
    {
     "name": "stdout",
     "output_type": "stream",
     "text": [
      "<class 'callable_iterator'>\n",
      "<callable_iterator object at 0x7f9753e65280>\n"
     ]
    }
   ],
   "source": [
    "L = re.finditer('(?P<usuario>[a-z.]+)@(?P<servidor>[a-z.]+)', texto)\n",
    "print(type(L))\n",
    "print(L)"
   ]
  },
  {
   "cell_type": "markdown",
   "metadata": {},
   "source": [
    "La función `finditer` retorna un objeto de tipo `callable_iterator` que contiene los objetos tipo `Match` correspondientes a cada una de las ocurrencias del patrón dentro de la cadena. Podemos acceder a los elementos individuales de `L` empleando un lazo `for`:"
   ]
  },
  {
   "cell_type": "code",
   "execution_count": 41,
   "metadata": {},
   "outputs": [
    {
     "name": "stdout",
     "output_type": "stream",
     "text": [
      "<class 're.Match'>\n",
      "kdawson@outlook.com\n",
      "Usuario: kdawson\n",
      "Servidor: outlook.com\n",
      "----\n",
      "<class 're.Match'>\n",
      "carroll@icloud.com\n",
      "Usuario: carroll\n",
      "Servidor: icloud.com\n",
      "----\n",
      "<class 're.Match'>\n",
      "cliffski@verizon.net\n",
      "Usuario: cliffski\n",
      "Servidor: verizon.net\n",
      "----\n",
      "<class 're.Match'>\n",
      "kosact@sbcglobal.net\n",
      "Usuario: kosact\n",
      "Servidor: sbcglobal.net\n",
      "----\n",
      "<class 're.Match'>\n",
      "chinthaka@live.com\n",
      "Usuario: chinthaka\n",
      "Servidor: live.com\n",
      "----\n",
      "<class 're.Match'>\n",
      "dkrishna@hotmail.com\n",
      "Usuario: dkrishna\n",
      "Servidor: hotmail.com\n",
      "----\n",
      "<class 're.Match'>\n",
      "vsprintf@hotmail.com\n",
      "Usuario: vsprintf\n",
      "Servidor: hotmail.com\n",
      "----\n",
      "<class 're.Match'>\n",
      "stevelim@msn.com.ec\n",
      "Usuario: stevelim\n",
      "Servidor: msn.com.ec\n",
      "----\n",
      "<class 're.Match'>\n",
      "munjal@aol.com\n",
      "Usuario: munjal\n",
      "Servidor: aol.com\n",
      "----\n",
      "<class 're.Match'>\n",
      "joehall@outlook.com\n",
      "Usuario: joehall\n",
      "Servidor: outlook.com\n",
      "----\n",
      "<class 're.Match'>\n",
      "heroine@att.net\n",
      "Usuario: heroine\n",
      "Servidor: att.net\n",
      "----\n",
      "<class 're.Match'>\n",
      "msusa@att.net\n",
      "Usuario: msusa\n",
      "Servidor: att.net\n",
      "----\n"
     ]
    }
   ],
   "source": [
    "for m in L:\n",
    "    print(type(m))\n",
    "    print(m.group(0))\n",
    "    D = m.groupdict()\n",
    "    print('Usuario: {}'.format(D['usuario']))\n",
    "    print('Servidor: {}'.format(D['servidor']))\n",
    "    print('----')"
   ]
  },
  {
   "cell_type": "markdown",
   "metadata": {},
   "source": [
    "Generalmente se usa la función `finditer` directamente dentro de la expresión del lazo:"
   ]
  },
  {
   "cell_type": "code",
   "execution_count": 42,
   "metadata": {},
   "outputs": [
    {
     "name": "stdout",
     "output_type": "stream",
     "text": [
      "kdawson@outlook.com\n",
      "Usuario: kdawson\n",
      "Servidor: outlook.com\n",
      "----\n",
      "carroll@icloud.com\n",
      "Usuario: carroll\n",
      "Servidor: icloud.com\n",
      "----\n",
      "cliffski@verizon.net\n",
      "Usuario: cliffski\n",
      "Servidor: verizon.net\n",
      "----\n",
      "kosact@sbcglobal.net\n",
      "Usuario: kosact\n",
      "Servidor: sbcglobal.net\n",
      "----\n",
      "chinthaka@live.com\n",
      "Usuario: chinthaka\n",
      "Servidor: live.com\n",
      "----\n",
      "dkrishna@hotmail.com\n",
      "Usuario: dkrishna\n",
      "Servidor: hotmail.com\n",
      "----\n",
      "vsprintf@hotmail.com\n",
      "Usuario: vsprintf\n",
      "Servidor: hotmail.com\n",
      "----\n",
      "stevelim@msn.com.ec\n",
      "Usuario: stevelim\n",
      "Servidor: msn.com.ec\n",
      "----\n",
      "munjal@aol.com\n",
      "Usuario: munjal\n",
      "Servidor: aol.com\n",
      "----\n",
      "joehall@outlook.com\n",
      "Usuario: joehall\n",
      "Servidor: outlook.com\n",
      "----\n",
      "heroine@att.net\n",
      "Usuario: heroine\n",
      "Servidor: att.net\n",
      "----\n",
      "msusa@att.net\n",
      "Usuario: msusa\n",
      "Servidor: att.net\n",
      "----\n"
     ]
    }
   ],
   "source": [
    "# Sintaxis común para utilizar finditer\n",
    "for m in re.finditer('(?P<usuario>[a-z.]*)@(?P<servidor>[a-z.]*)', texto):\n",
    "    print(m.group(0))\n",
    "    D = m.groupdict()\n",
    "    print('Usuario: {}'.format(D['usuario']))\n",
    "    print('Servidor: {}'.format(D['servidor']))\n",
    "    print('----')"
   ]
  },
  {
   "cell_type": "markdown",
   "metadata": {},
   "source": [
    "### Patrones complejos: modo verboso\n",
    "En ciertos casos, los patrones de búsqueda pueden ser complejos y por lo tanto más extensos. En estos casos es útil emplear el modo *verboso* de las expresiones regulares.\n",
    "\n",
    "En Python es posible definir cadenas de caracteres que incluyan *múltiples líneas*. Estas cadenas se delimitan con tres símbolos de comillas `\"\"\"`:"
   ]
  },
  {
   "cell_type": "code",
   "execution_count": 47,
   "metadata": {},
   "outputs": [
    {
     "name": "stdout",
     "output_type": "stream",
     "text": [
      "<class 'str'>\n",
      "Esta es una cadena que abarca múltiples líneas.\n",
      "Es útil para guardar mensajes largos.\n",
      "La vamos a utilizar para guardar patrones complejos.\n",
      "Para Python las cadenas largas y cortas son el mismo tipo.\n",
      "Notar que hay una línea vacía al final.\n",
      "\n",
      "Esta es una cadena que abarca múltiples líneas.\n",
      "Es útil para guardar mensajes largos.\n",
      "La vamos a utilizar para guardar patrones complejos.\n",
      "Para Python las cadenas largas y cortas son el mismo tipo.\n",
      "Notar que hay una línea vacía al final.\n",
      "\n",
      "['Esta es una cadena que abarca múltiples líneas.', 'Es útil para guardar mensajes largos.', 'La vamos a utilizar para guardar patrones complejos.', 'Para Python las cadenas largas y cortas son el mismo tipo.', 'Notar que hay una línea vacía al final.']\n"
     ]
    }
   ],
   "source": [
    "s = \"\"\"Esta es una cadena que abarca múltiples líneas.\n",
    "Es útil para guardar mensajes largos.\n",
    "La vamos a utilizar para guardar patrones complejos.\n",
    "Para Python las cadenas largas y cortas son el mismo tipo.\n",
    "Notar que hay una línea vacía al final.\n",
    "\"\"\"\n",
    "\n",
    "print(type(s))\n",
    "print(s)\n",
    "print(s)\n",
    "print(re.findall('.+', s))"
   ]
  },
  {
   "cell_type": "markdown",
   "metadata": {},
   "source": [
    "Vamos a examinar el archivo de registro de un servidor web. Este es un archivo de texto en donde el servidor lleva un registro de todas las peticiones de acceso que ha recibido. Suele tener un formato similar al que se indica a continuación:"
   ]
  },
  {
   "cell_type": "code",
   "execution_count": 48,
   "metadata": {},
   "outputs": [
    {
     "name": "stdout",
     "output_type": "stream",
     "text": [
      "83.149.9.216 - - [17/May/2015:10:05:03 +0000] \"GET /presentations/logstash-monitorama-2013/images/kibana-search.png HTTP/1.1\" 200 203023\n",
      "83.149.9.216 - - [17/May/2015:10:05:43 +0000] \"GET /presentations/logstash-monitorama-2013/images/kibana-dashboard3.png HTTP/1.1\" 200 171717\n",
      "83.149.9.216 - - [17/May/2015:10:05:47 +0000] \"GET /presentations/logstash-monitorama-2013/plugin/highlight/highlight.js HTTP/1.1\" 200 26185\n",
      "83.149.9.216 - - [17/May/2015:10:05:12 +0000] \"GET /presentations/logstash-monitorama-2013/plugin/zoom-js/zoom.js HTTP/1.1\" 200 7697\n",
      "83.149.9.216 - - [17/May/2015:10:05:07 +0000] \"GET /presentations/logstash-monitorama-2013/plugin/notes/notes.js HTTP/1.1\" 200 2892\n",
      "83.149.9.216 - - [17/May/2015:10:05:34 +0000] \"GET /presentations/logstash-monitorama-2013/images/sad-medic.png HTTP/1.1\" 200 430406\n",
      "83.149.9.216 - - [17/May/2015:10:05:57 +0000] \"GET /presentations/logstash-monitorama-2013/css/fonts/Roboto-Bold.ttf HTTP/1.1\" 200 38720\n",
      "83.149.9.216 - - [17/May/2015:10:05:50 +0000] \"GET /presentations/logstash-monitorama-2013/css/fonts/Roboto-Regular.ttf HTTP/1.1\" 200 41820\n",
      "83.149.9.216 - - [17/May/2015:10:05:24 +0000] \"GET /presentations/logstash-monitorama-2013/images/frontend-response-codes.png HTTP/1.1\" 200 52878\n",
      "83.149.9.216 - - [17/May/2015:10:05:50 +0000] \"GET /presentations/logstash-monitorama-2013/images/kibana-dashboard.png HTTP/1.1\" 200 321631\n",
      "83.149.9.216 - - [17/May/2015:10:05:46 +0000] \"GET /presentations/logstash-monitorama-2013/images/Dreamhost_logo.svg HTTP/1.1\" 200 2126\n",
      "83.149.9.216 - - [17/May/2015:10:05:11 +0000] \"GET /presentations/logstash-monitorama-2013/images/kibana-dashboard2.png HTTP/1.1\" 200 394967\n",
      "83.149.9.216 - - [17/May/2015:10:05:19 +0000] \"GET /presentations/logstash-monitorama-2013/images/apache-icon.gif HTTP/1.1\" 200 8095\n",
      "83.149.9.216 - - [17/May/2015:10:05:33 +0000] \"GET /presentations/logstash-monitorama-2013/images/nagios-sms5.png HTTP/1.1\" 200 78075\n",
      "83.149.9.216 - - [17/May/2015:10:05:00 +0000] \"GET /presentations/logstash-monitorama-2013/images/redis.png HTTP/1.1\" 200 25230\n",
      "83.149.9.216 - - [17/May/2015:10:05:25 +0000] \"GET /presentations/logstash-monitorama-2013/images/elasticsearch.png HTTP/1.1\" 200 8026\n",
      "83.149.9.216 - - [17/May/2015:10:05:59 +0000] \"GET /presentations/logstash-monitorama-2013/images/logstashbook.png HTTP/1.1\" 200 54662\n",
      "83.149.9.216 - - [17/May/2015:10:05:30 +0000] \"GET /presentations/logstash-monitorama-2013/images/github-contributions.png HTTP/1.1\" 200 34245\n",
      "83.149.9.216 - - [17/May/2015:10:05:53 +0000] \"GET /presentations/logstash-monitorama-2013/css/print/paper.css HTTP/1.1\" 200 4254\n",
      "83.149.9.216 - - [17/May/2015:10:05:24 +0000] \"GET /presentations/logstash-monitorama-2013/images/1983_delorean_dmc-12-pic-38289.jpeg HTTP/1.1\" 200 220562\n",
      "83.149.9.216 - - [17/May/2015:10:05:54 +0000] \"GET /presentations/logstash-monitorama-2013/images/simple-inputs-filters-outputs.jpg HTTP/1.1\" 200 1168622\n",
      "83.149.9.216 - - [17/May/2015:10:05:33 +0000] \"GET /presentations/logstash-monitorama-2013/images/tiered-outputs-to-inputs.jpg HTTP/1.1\" 200 1079983\n",
      "83.149.9.216 - - [17/May/2015:10:05:56 +0000] \"GET /favicon.ico HTTP/1.1\" 200 3638\n",
      "24.236.252.67 - - [17/May/2015:10:05:40 +0000] \"GET /favicon.ico HTTP/1.1\" 200 3638\n",
      "93.114.45.13 - - [17/May/2015:10:05:14 +0000] \"GET /articles/dynamic-dns-with-dhcp/ HTTP/1.1\" 200 18848\n",
      "93.114.45.13 - - [17/May/2015:10:05:04 +0000] \"GET /reset.css HTTP/1.1\" 200 1015\n",
      "93.114.45.13 - - [17/May/2015:10:05:45 +0000] \"GET /style2.css HTTP/1.1\" 200 4877\n",
      "93.114.45.13 - - [17/May/2015:10:05:14 +0000] \"GET /favicon.ico HTTP/1.1\" 200 3638\n",
      "93.114.45.13 - - [17/May/2015:10:05:17 +0000] \"GET /images/jordan-80.png HTTP/1.1\" 200 6146\n",
      "93.114.45.13 - - [17/May/2015:10:05:21 +0000] \"GET /images/web/2009/banner.png HTTP/1.1\" 200 52315\n",
      "66.249.73.135 - - [17/May/2015:10:05:40 +0000] \"GET /blog/tags/ipv6 HTTP/1.1\" 200 12251\n",
      "50.16.19.13 - - [17/May/2015:10:05:10 +0000] \"GET /blog/tags/puppet?flav=rss20 HTTP/1.1\" 200 14872\n",
      "66.249.73.185 - - [17/May/2015:10:05:37 +0000] \"GET / HTTP/1.1\" 200 37932\n",
      "110.136.166.128 - - [17/May/2015:10:05:35 +0000] \"GET /projects/xdotool/ HTTP/1.1\" 200 12292\n",
      "46.105.14.53 - - [17/May/2015:10:05:03 +0000] \"GET /blog/tags/puppet?flav=rss20 HTTP/1.1\" 200 14872\n",
      "110.136.166.128 - - [17/May/2015:10:05:06 +0000] \"GET /reset.css HTTP/1.1\" 200 1015\n",
      "110.136.166.128 - - [17/May/2015:10:05:03 +0000] \"GET /style2.css HTTP/1.1\" 200 4877\n",
      "110.136.166.128 - - [17/May/2015:10:05:41 +0000] \"GET /favicon.ico HTTP/1.1\" 200 3638\n",
      "110.136.166.128 - - [17/May/2015:10:05:32 +0000] \"GET /images/jordan-80.png HTTP/1.1\" 200 6146\n",
      "123.125.71.35 - - [17/May/2015:10:05:46 +0000] \"GET /blog/tags/release HTTP/1.1\" 200 40693\n",
      "110.136.166.128 - - [17/May/2015:10:05:08 +0000] \"GET /images/web/2009/banner.png HTTP/1.1\" 200 52315\n",
      "50.150.204.184 - - [17/May/2015:10:05:46 +0000] \"GET /images/googledotcom.png HTTP/1.1\" 200 65748\n",
      "207.241.237.225 - - [17/May/2015:10:05:58 +0000] \"GET /blog/tags/examples HTTP/1.0\" 200 9208\n",
      "200.49.190.101 - - [17/May/2015:10:05:36 +0000] \"GET /reset.css HTTP/1.1\" 200 1015\n",
      "200.49.190.100 - - [17/May/2015:10:05:38 +0000] \"GET /blog/tags/web HTTP/1.1\" 200 44019\n",
      "200.49.190.101 - - [17/May/2015:10:05:11 +0000] \"GET /style2.css HTTP/1.1\" 200 4877\n",
      "200.49.190.101 - - [17/May/2015:10:05:37 +0000] \"GET /images/jordan-80.png HTTP/1.1\" 200 6146\n",
      "66.249.73.185 - - [17/May/2015:10:05:00 +0000] \"GET /reset.css HTTP/1.1\" 200 1015\n",
      "66.249.73.135 - - [17/May/2015:10:05:16 +0000] \"GET /blog/tags/munin HTTP/1.1\" 200 9746\n",
      "66.249.73.135 - - [17/May/2015:10:05:33 +0000] \"GET /blog/tags/firefox?flav=rss20 HTTP/1.1\" 200 16021\n",
      "66.249.73.135 - - [17/May/2015:10:05:17 +0000] \"GET /blog/geekery/eventdb-ideas.html HTTP/1.1\" 200 11418\n",
      "67.214.178.190 - - [17/May/2015:10:05:48 +0000] \"GET / HTTP/1.0\" 200 37932\n",
      "67.214.178.190 - - [17/May/2015:10:05:18 +0000] \"GET /blog/geekery/installing-windows-8-consumer-preview.html HTTP/1.0\" 200 8948\n",
      "207.241.237.220 - - [17/May/2015:10:05:28 +0000] \"GET /blog/tags/projects HTTP/1.0\" 200 28370\n",
      "46.105.14.53 - - [17/May/2015:10:05:44 +0000] \"GET /blog/tags/puppet?flav=rss20 HTTP/1.1\" 200 14872\n",
      "207.241.237.227 - - [17/May/2015:10:05:47 +0000] \"GET /blog/geekery/soekris-gpio.html HTTP/1.0\" 200 9587\n",
      "91.177.205.119 - - [17/May/2015:10:05:22 +0000] \"GET /blog/geekery/xvfb-firefox.html HTTP/1.1\" 200 10975\n",
      "91.177.205.119 - - [17/May/2015:10:05:34 +0000] \"GET /reset.css HTTP/1.1\" 200 1015\n",
      "91.177.205.119 - - [17/May/2015:10:05:37 +0000] \"GET /style2.css HTTP/1.1\" 200 4877\n",
      "91.177.205.119 - - [17/May/2015:10:05:54 +0000] \"GET /images/jordan-80.png HTTP/1.1\" 200 6146\n",
      "91.177.205.119 - - [17/May/2015:10:05:31 +0000] \"GET /images/web/2009/banner.png HTTP/1.1\" 200 52315\n",
      "91.177.205.119 - - [17/May/2015:10:05:32 +0000] \"GET /favicon.ico HTTP/1.1\" 200 3638\n",
      "66.249.73.185 - - [17/May/2015:10:05:22 +0000] \"GET /doc/index.html?org/elasticsearch/action/search/SearchResponse.html HTTP/1.1\" 404 294\n",
      "207.241.237.228 - - [17/May/2015:10:05:40 +0000] \"GET /blog/tags/defcon HTTP/1.0\" 200 24142\n",
      "207.241.237.101 - - [17/May/2015:10:05:51 +0000] \"GET /blog/tags/regex HTTP/1.0\" 200 14888\n",
      "87.169.99.232 - - [17/May/2015:10:05:59 +0000] \"GET /presentations/puppet-at-loggly/puppet-at-loggly.pdf.html HTTP/1.1\" 200 24747\n",
      "209.85.238.199 - - [17/May/2015:10:05:30 +0000] \"GET /blog/tags/firefox?flav=rss20 HTTP/1.1\" 200 16021\n",
      "209.85.238.199 - - [17/May/2015:10:05:15 +0000] \"GET /test.xml HTTP/1.1\" 200 1370\n",
      "81.220.24.207 - - [17/May/2015:10:05:13 +0000] \"GET /blog/geekery/ssl-latency.html HTTP/1.1\" 200 17147\n",
      "81.220.24.207 - - [17/May/2015:10:05:44 +0000] \"GET /reset.css HTTP/1.1\" 200 1015\n",
      "81.220.24.207 - - [17/May/2015:10:05:26 +0000] \"GET /images/jordan-80.png HTTP/1.1\" 200 6146\n",
      "81.220.24.207 - - [17/May/2015:10:05:39 +0000] \"GET /style2.css HTTP/1.1\" 200 4877\n",
      "\n"
     ]
    }
   ],
   "source": [
    "with open(\"logfile.txt\",\"r\") as file:\n",
    "    texto = file.read()\n",
    "print(texto)"
   ]
  },
  {
   "cell_type": "markdown",
   "metadata": {},
   "source": [
    "Cada línea del archivo almacena el registro de una petición de acceso y tiene el siguiente formato:\n",
    "\n",
    "`<cliente> <usuario> <nombre> [<fecha>:<hora> <GMT>] \"<comando> <archivo> <protocolo>\" <status> <longitud>`\n",
    "\n",
    "Los distintos campos significan lo siguiente:\n",
    "\n",
    "| Campo | Significado |\n",
    "|:------|:------------|\n",
    "|cliente|Dirección IP desde donde se realiza la petición. |\n",
    "|usuario|Nombre del usuario (login) en la máquina cliente, o - si esta información no es transmitida. |\n",
    "|nombre |Nombre completo del usuario en la máquina cliente, o - si esta información no es transmitida. |\n",
    "|fecha  |Fecha de la petición. |\n",
    "|hora   |Hora de la petición. |\n",
    "|GMT    |Zona horaria respecto a la cual está medida la hora. |\n",
    "|comando|Comando de HTTP de la petición. |\n",
    "|archivo|Archivo solicitado (por ejemplo, página web). |\n",
    "|protocolo|Protocolo de comunicación empleado. |\n",
    "|status |Status de finalización de la petición. |\n",
    "|longitud|Longitud de la información transmitida (cantidad de bytes). |\n",
    "\n",
    "Suponer que queremos procesar este archivo y extraer la información de los distintos campos usando grupos en una expresión general. Dada la complejidad de la expresión, es conveniente utilizar el *modo verboso*. En este modo, el patrón puede incluir varias líneas, los espacios en blanco son ignorados, y se pueden utilizar comentarios en el mismo estilo de Python:"
   ]
  },
  {
   "cell_type": "code",
   "execution_count": 50,
   "metadata": {},
   "outputs": [],
   "source": [
    "p = \"\"\"\n",
    "(?P<cliente>\\d+[.]\\d+[.]\\d+[.]\\d+)   # dirección IP del cliente\n",
    "(\\s+)                                # uno o más espacios en blanco\n",
    "(?P<usuario>[\\w-]+)                  # nombre de login del usuario o -\n",
    "(\\s+)                                # uno o más espacios en blanco\n",
    "(?P<nombre>[\\w-]+)                   # nombre completo del usuario o -\n",
    "(\\s+\\[)                              # uno o más espacios en blanco, seguido del símbolo [\n",
    "(?P<fecha>[\\w\\/]+)                   # fecha\n",
    "(:)                                  # dos puntos\n",
    "(?P<hora>\\d\\d:\\d\\d:\\d\\d)             # hora\n",
    "(\\s+)                                # uno o más espacios en blanco\n",
    "(?P<GMT>[+\\-\\d]{5})                  # información de zona horaria\n",
    "(\\]\\s+\")                             # símbolo ] seguido de uno o más espacios en blanco y comillas\n",
    "(?P<comando>[A-Z]+)                  # comando HTTP\n",
    "(\\s+)                                # uno o más espacios en blanco\n",
    "(?P<archivo>[\\w\\/\\-.?=]+)            # archivo requerido\n",
    "(\\s+)                                # uno o más espacios en blanco\n",
    "(?P<protocolo>[\\w\\/.]+)              # protocolo de comunicaciones empleado\n",
    "(\"\\s+)                               # comillas seguidas de uno o más espacios en blanco\n",
    "(?P<status>[\\d]+)                    # código de estado de finalización de la operación\n",
    "(\\s+)                                # uno o más espacios en blanco\n",
    "(?P<longitud>[\\d]+)                  # longitud del archivo (página) solicitado\n",
    "(.*)                                 # cero o más caracteres restantes hasta el final de la línea\n",
    "\"\"\""
   ]
  },
  {
   "cell_type": "markdown",
   "metadata": {},
   "source": [
    "El modo verboso se activa especificando un tercer parámetro con el valor `re.VERBOSE`:"
   ]
  },
  {
   "cell_type": "code",
   "execution_count": 51,
   "metadata": {},
   "outputs": [
    {
     "name": "stdout",
     "output_type": "stream",
     "text": [
      "{'cliente': '83.149.9.216', 'usuario': '-', 'nombre': '-', 'fecha': '17/May/2015', 'hora': '10:05:03', 'GMT': '+0000', 'comando': 'GET', 'archivo': '/presentations/logstash-monitorama-2013/images/kibana-search.png', 'protocolo': 'HTTP/1.1', 'status': '200', 'longitud': '203023'}\n",
      "{'cliente': '83.149.9.216', 'usuario': '-', 'nombre': '-', 'fecha': '17/May/2015', 'hora': '10:05:43', 'GMT': '+0000', 'comando': 'GET', 'archivo': '/presentations/logstash-monitorama-2013/images/kibana-dashboard3.png', 'protocolo': 'HTTP/1.1', 'status': '200', 'longitud': '171717'}\n",
      "{'cliente': '83.149.9.216', 'usuario': '-', 'nombre': '-', 'fecha': '17/May/2015', 'hora': '10:05:47', 'GMT': '+0000', 'comando': 'GET', 'archivo': '/presentations/logstash-monitorama-2013/plugin/highlight/highlight.js', 'protocolo': 'HTTP/1.1', 'status': '200', 'longitud': '26185'}\n",
      "{'cliente': '83.149.9.216', 'usuario': '-', 'nombre': '-', 'fecha': '17/May/2015', 'hora': '10:05:12', 'GMT': '+0000', 'comando': 'GET', 'archivo': '/presentations/logstash-monitorama-2013/plugin/zoom-js/zoom.js', 'protocolo': 'HTTP/1.1', 'status': '200', 'longitud': '7697'}\n",
      "{'cliente': '83.149.9.216', 'usuario': '-', 'nombre': '-', 'fecha': '17/May/2015', 'hora': '10:05:07', 'GMT': '+0000', 'comando': 'GET', 'archivo': '/presentations/logstash-monitorama-2013/plugin/notes/notes.js', 'protocolo': 'HTTP/1.1', 'status': '200', 'longitud': '2892'}\n",
      "{'cliente': '83.149.9.216', 'usuario': '-', 'nombre': '-', 'fecha': '17/May/2015', 'hora': '10:05:34', 'GMT': '+0000', 'comando': 'GET', 'archivo': '/presentations/logstash-monitorama-2013/images/sad-medic.png', 'protocolo': 'HTTP/1.1', 'status': '200', 'longitud': '430406'}\n",
      "{'cliente': '83.149.9.216', 'usuario': '-', 'nombre': '-', 'fecha': '17/May/2015', 'hora': '10:05:57', 'GMT': '+0000', 'comando': 'GET', 'archivo': '/presentations/logstash-monitorama-2013/css/fonts/Roboto-Bold.ttf', 'protocolo': 'HTTP/1.1', 'status': '200', 'longitud': '38720'}\n",
      "{'cliente': '83.149.9.216', 'usuario': '-', 'nombre': '-', 'fecha': '17/May/2015', 'hora': '10:05:50', 'GMT': '+0000', 'comando': 'GET', 'archivo': '/presentations/logstash-monitorama-2013/css/fonts/Roboto-Regular.ttf', 'protocolo': 'HTTP/1.1', 'status': '200', 'longitud': '41820'}\n",
      "{'cliente': '83.149.9.216', 'usuario': '-', 'nombre': '-', 'fecha': '17/May/2015', 'hora': '10:05:24', 'GMT': '+0000', 'comando': 'GET', 'archivo': '/presentations/logstash-monitorama-2013/images/frontend-response-codes.png', 'protocolo': 'HTTP/1.1', 'status': '200', 'longitud': '52878'}\n",
      "{'cliente': '83.149.9.216', 'usuario': '-', 'nombre': '-', 'fecha': '17/May/2015', 'hora': '10:05:50', 'GMT': '+0000', 'comando': 'GET', 'archivo': '/presentations/logstash-monitorama-2013/images/kibana-dashboard.png', 'protocolo': 'HTTP/1.1', 'status': '200', 'longitud': '321631'}\n",
      "{'cliente': '83.149.9.216', 'usuario': '-', 'nombre': '-', 'fecha': '17/May/2015', 'hora': '10:05:46', 'GMT': '+0000', 'comando': 'GET', 'archivo': '/presentations/logstash-monitorama-2013/images/Dreamhost_logo.svg', 'protocolo': 'HTTP/1.1', 'status': '200', 'longitud': '2126'}\n",
      "{'cliente': '83.149.9.216', 'usuario': '-', 'nombre': '-', 'fecha': '17/May/2015', 'hora': '10:05:11', 'GMT': '+0000', 'comando': 'GET', 'archivo': '/presentations/logstash-monitorama-2013/images/kibana-dashboard2.png', 'protocolo': 'HTTP/1.1', 'status': '200', 'longitud': '394967'}\n",
      "{'cliente': '83.149.9.216', 'usuario': '-', 'nombre': '-', 'fecha': '17/May/2015', 'hora': '10:05:19', 'GMT': '+0000', 'comando': 'GET', 'archivo': '/presentations/logstash-monitorama-2013/images/apache-icon.gif', 'protocolo': 'HTTP/1.1', 'status': '200', 'longitud': '8095'}\n",
      "{'cliente': '83.149.9.216', 'usuario': '-', 'nombre': '-', 'fecha': '17/May/2015', 'hora': '10:05:33', 'GMT': '+0000', 'comando': 'GET', 'archivo': '/presentations/logstash-monitorama-2013/images/nagios-sms5.png', 'protocolo': 'HTTP/1.1', 'status': '200', 'longitud': '78075'}\n",
      "{'cliente': '83.149.9.216', 'usuario': '-', 'nombre': '-', 'fecha': '17/May/2015', 'hora': '10:05:00', 'GMT': '+0000', 'comando': 'GET', 'archivo': '/presentations/logstash-monitorama-2013/images/redis.png', 'protocolo': 'HTTP/1.1', 'status': '200', 'longitud': '25230'}\n",
      "{'cliente': '83.149.9.216', 'usuario': '-', 'nombre': '-', 'fecha': '17/May/2015', 'hora': '10:05:25', 'GMT': '+0000', 'comando': 'GET', 'archivo': '/presentations/logstash-monitorama-2013/images/elasticsearch.png', 'protocolo': 'HTTP/1.1', 'status': '200', 'longitud': '8026'}\n",
      "{'cliente': '83.149.9.216', 'usuario': '-', 'nombre': '-', 'fecha': '17/May/2015', 'hora': '10:05:59', 'GMT': '+0000', 'comando': 'GET', 'archivo': '/presentations/logstash-monitorama-2013/images/logstashbook.png', 'protocolo': 'HTTP/1.1', 'status': '200', 'longitud': '54662'}\n",
      "{'cliente': '83.149.9.216', 'usuario': '-', 'nombre': '-', 'fecha': '17/May/2015', 'hora': '10:05:30', 'GMT': '+0000', 'comando': 'GET', 'archivo': '/presentations/logstash-monitorama-2013/images/github-contributions.png', 'protocolo': 'HTTP/1.1', 'status': '200', 'longitud': '34245'}\n",
      "{'cliente': '83.149.9.216', 'usuario': '-', 'nombre': '-', 'fecha': '17/May/2015', 'hora': '10:05:53', 'GMT': '+0000', 'comando': 'GET', 'archivo': '/presentations/logstash-monitorama-2013/css/print/paper.css', 'protocolo': 'HTTP/1.1', 'status': '200', 'longitud': '4254'}\n",
      "{'cliente': '83.149.9.216', 'usuario': '-', 'nombre': '-', 'fecha': '17/May/2015', 'hora': '10:05:24', 'GMT': '+0000', 'comando': 'GET', 'archivo': '/presentations/logstash-monitorama-2013/images/1983_delorean_dmc-12-pic-38289.jpeg', 'protocolo': 'HTTP/1.1', 'status': '200', 'longitud': '220562'}\n",
      "{'cliente': '83.149.9.216', 'usuario': '-', 'nombre': '-', 'fecha': '17/May/2015', 'hora': '10:05:54', 'GMT': '+0000', 'comando': 'GET', 'archivo': '/presentations/logstash-monitorama-2013/images/simple-inputs-filters-outputs.jpg', 'protocolo': 'HTTP/1.1', 'status': '200', 'longitud': '1168622'}\n",
      "{'cliente': '83.149.9.216', 'usuario': '-', 'nombre': '-', 'fecha': '17/May/2015', 'hora': '10:05:33', 'GMT': '+0000', 'comando': 'GET', 'archivo': '/presentations/logstash-monitorama-2013/images/tiered-outputs-to-inputs.jpg', 'protocolo': 'HTTP/1.1', 'status': '200', 'longitud': '1079983'}\n",
      "{'cliente': '83.149.9.216', 'usuario': '-', 'nombre': '-', 'fecha': '17/May/2015', 'hora': '10:05:56', 'GMT': '+0000', 'comando': 'GET', 'archivo': '/favicon.ico', 'protocolo': 'HTTP/1.1', 'status': '200', 'longitud': '3638'}\n",
      "{'cliente': '24.236.252.67', 'usuario': '-', 'nombre': '-', 'fecha': '17/May/2015', 'hora': '10:05:40', 'GMT': '+0000', 'comando': 'GET', 'archivo': '/favicon.ico', 'protocolo': 'HTTP/1.1', 'status': '200', 'longitud': '3638'}\n",
      "{'cliente': '93.114.45.13', 'usuario': '-', 'nombre': '-', 'fecha': '17/May/2015', 'hora': '10:05:14', 'GMT': '+0000', 'comando': 'GET', 'archivo': '/articles/dynamic-dns-with-dhcp/', 'protocolo': 'HTTP/1.1', 'status': '200', 'longitud': '18848'}\n",
      "{'cliente': '93.114.45.13', 'usuario': '-', 'nombre': '-', 'fecha': '17/May/2015', 'hora': '10:05:04', 'GMT': '+0000', 'comando': 'GET', 'archivo': '/reset.css', 'protocolo': 'HTTP/1.1', 'status': '200', 'longitud': '1015'}\n",
      "{'cliente': '93.114.45.13', 'usuario': '-', 'nombre': '-', 'fecha': '17/May/2015', 'hora': '10:05:45', 'GMT': '+0000', 'comando': 'GET', 'archivo': '/style2.css', 'protocolo': 'HTTP/1.1', 'status': '200', 'longitud': '4877'}\n",
      "{'cliente': '93.114.45.13', 'usuario': '-', 'nombre': '-', 'fecha': '17/May/2015', 'hora': '10:05:14', 'GMT': '+0000', 'comando': 'GET', 'archivo': '/favicon.ico', 'protocolo': 'HTTP/1.1', 'status': '200', 'longitud': '3638'}\n",
      "{'cliente': '93.114.45.13', 'usuario': '-', 'nombre': '-', 'fecha': '17/May/2015', 'hora': '10:05:17', 'GMT': '+0000', 'comando': 'GET', 'archivo': '/images/jordan-80.png', 'protocolo': 'HTTP/1.1', 'status': '200', 'longitud': '6146'}\n",
      "{'cliente': '93.114.45.13', 'usuario': '-', 'nombre': '-', 'fecha': '17/May/2015', 'hora': '10:05:21', 'GMT': '+0000', 'comando': 'GET', 'archivo': '/images/web/2009/banner.png', 'protocolo': 'HTTP/1.1', 'status': '200', 'longitud': '52315'}\n",
      "{'cliente': '66.249.73.135', 'usuario': '-', 'nombre': '-', 'fecha': '17/May/2015', 'hora': '10:05:40', 'GMT': '+0000', 'comando': 'GET', 'archivo': '/blog/tags/ipv6', 'protocolo': 'HTTP/1.1', 'status': '200', 'longitud': '12251'}\n",
      "{'cliente': '50.16.19.13', 'usuario': '-', 'nombre': '-', 'fecha': '17/May/2015', 'hora': '10:05:10', 'GMT': '+0000', 'comando': 'GET', 'archivo': '/blog/tags/puppet?flav=rss20', 'protocolo': 'HTTP/1.1', 'status': '200', 'longitud': '14872'}\n",
      "{'cliente': '66.249.73.185', 'usuario': '-', 'nombre': '-', 'fecha': '17/May/2015', 'hora': '10:05:37', 'GMT': '+0000', 'comando': 'GET', 'archivo': '/', 'protocolo': 'HTTP/1.1', 'status': '200', 'longitud': '37932'}\n",
      "{'cliente': '110.136.166.128', 'usuario': '-', 'nombre': '-', 'fecha': '17/May/2015', 'hora': '10:05:35', 'GMT': '+0000', 'comando': 'GET', 'archivo': '/projects/xdotool/', 'protocolo': 'HTTP/1.1', 'status': '200', 'longitud': '12292'}\n",
      "{'cliente': '46.105.14.53', 'usuario': '-', 'nombre': '-', 'fecha': '17/May/2015', 'hora': '10:05:03', 'GMT': '+0000', 'comando': 'GET', 'archivo': '/blog/tags/puppet?flav=rss20', 'protocolo': 'HTTP/1.1', 'status': '200', 'longitud': '14872'}\n",
      "{'cliente': '110.136.166.128', 'usuario': '-', 'nombre': '-', 'fecha': '17/May/2015', 'hora': '10:05:06', 'GMT': '+0000', 'comando': 'GET', 'archivo': '/reset.css', 'protocolo': 'HTTP/1.1', 'status': '200', 'longitud': '1015'}\n",
      "{'cliente': '110.136.166.128', 'usuario': '-', 'nombre': '-', 'fecha': '17/May/2015', 'hora': '10:05:03', 'GMT': '+0000', 'comando': 'GET', 'archivo': '/style2.css', 'protocolo': 'HTTP/1.1', 'status': '200', 'longitud': '4877'}\n",
      "{'cliente': '110.136.166.128', 'usuario': '-', 'nombre': '-', 'fecha': '17/May/2015', 'hora': '10:05:41', 'GMT': '+0000', 'comando': 'GET', 'archivo': '/favicon.ico', 'protocolo': 'HTTP/1.1', 'status': '200', 'longitud': '3638'}\n",
      "{'cliente': '110.136.166.128', 'usuario': '-', 'nombre': '-', 'fecha': '17/May/2015', 'hora': '10:05:32', 'GMT': '+0000', 'comando': 'GET', 'archivo': '/images/jordan-80.png', 'protocolo': 'HTTP/1.1', 'status': '200', 'longitud': '6146'}\n",
      "{'cliente': '123.125.71.35', 'usuario': '-', 'nombre': '-', 'fecha': '17/May/2015', 'hora': '10:05:46', 'GMT': '+0000', 'comando': 'GET', 'archivo': '/blog/tags/release', 'protocolo': 'HTTP/1.1', 'status': '200', 'longitud': '40693'}\n",
      "{'cliente': '110.136.166.128', 'usuario': '-', 'nombre': '-', 'fecha': '17/May/2015', 'hora': '10:05:08', 'GMT': '+0000', 'comando': 'GET', 'archivo': '/images/web/2009/banner.png', 'protocolo': 'HTTP/1.1', 'status': '200', 'longitud': '52315'}\n",
      "{'cliente': '50.150.204.184', 'usuario': '-', 'nombre': '-', 'fecha': '17/May/2015', 'hora': '10:05:46', 'GMT': '+0000', 'comando': 'GET', 'archivo': '/images/googledotcom.png', 'protocolo': 'HTTP/1.1', 'status': '200', 'longitud': '65748'}\n",
      "{'cliente': '207.241.237.225', 'usuario': '-', 'nombre': '-', 'fecha': '17/May/2015', 'hora': '10:05:58', 'GMT': '+0000', 'comando': 'GET', 'archivo': '/blog/tags/examples', 'protocolo': 'HTTP/1.0', 'status': '200', 'longitud': '9208'}\n",
      "{'cliente': '200.49.190.101', 'usuario': '-', 'nombre': '-', 'fecha': '17/May/2015', 'hora': '10:05:36', 'GMT': '+0000', 'comando': 'GET', 'archivo': '/reset.css', 'protocolo': 'HTTP/1.1', 'status': '200', 'longitud': '1015'}\n",
      "{'cliente': '200.49.190.100', 'usuario': '-', 'nombre': '-', 'fecha': '17/May/2015', 'hora': '10:05:38', 'GMT': '+0000', 'comando': 'GET', 'archivo': '/blog/tags/web', 'protocolo': 'HTTP/1.1', 'status': '200', 'longitud': '44019'}\n",
      "{'cliente': '200.49.190.101', 'usuario': '-', 'nombre': '-', 'fecha': '17/May/2015', 'hora': '10:05:11', 'GMT': '+0000', 'comando': 'GET', 'archivo': '/style2.css', 'protocolo': 'HTTP/1.1', 'status': '200', 'longitud': '4877'}\n",
      "{'cliente': '200.49.190.101', 'usuario': '-', 'nombre': '-', 'fecha': '17/May/2015', 'hora': '10:05:37', 'GMT': '+0000', 'comando': 'GET', 'archivo': '/images/jordan-80.png', 'protocolo': 'HTTP/1.1', 'status': '200', 'longitud': '6146'}\n",
      "{'cliente': '66.249.73.185', 'usuario': '-', 'nombre': '-', 'fecha': '17/May/2015', 'hora': '10:05:00', 'GMT': '+0000', 'comando': 'GET', 'archivo': '/reset.css', 'protocolo': 'HTTP/1.1', 'status': '200', 'longitud': '1015'}\n",
      "{'cliente': '66.249.73.135', 'usuario': '-', 'nombre': '-', 'fecha': '17/May/2015', 'hora': '10:05:16', 'GMT': '+0000', 'comando': 'GET', 'archivo': '/blog/tags/munin', 'protocolo': 'HTTP/1.1', 'status': '200', 'longitud': '9746'}\n",
      "{'cliente': '66.249.73.135', 'usuario': '-', 'nombre': '-', 'fecha': '17/May/2015', 'hora': '10:05:33', 'GMT': '+0000', 'comando': 'GET', 'archivo': '/blog/tags/firefox?flav=rss20', 'protocolo': 'HTTP/1.1', 'status': '200', 'longitud': '16021'}\n",
      "{'cliente': '66.249.73.135', 'usuario': '-', 'nombre': '-', 'fecha': '17/May/2015', 'hora': '10:05:17', 'GMT': '+0000', 'comando': 'GET', 'archivo': '/blog/geekery/eventdb-ideas.html', 'protocolo': 'HTTP/1.1', 'status': '200', 'longitud': '11418'}\n",
      "{'cliente': '67.214.178.190', 'usuario': '-', 'nombre': '-', 'fecha': '17/May/2015', 'hora': '10:05:48', 'GMT': '+0000', 'comando': 'GET', 'archivo': '/', 'protocolo': 'HTTP/1.0', 'status': '200', 'longitud': '37932'}\n",
      "{'cliente': '67.214.178.190', 'usuario': '-', 'nombre': '-', 'fecha': '17/May/2015', 'hora': '10:05:18', 'GMT': '+0000', 'comando': 'GET', 'archivo': '/blog/geekery/installing-windows-8-consumer-preview.html', 'protocolo': 'HTTP/1.0', 'status': '200', 'longitud': '8948'}\n",
      "{'cliente': '207.241.237.220', 'usuario': '-', 'nombre': '-', 'fecha': '17/May/2015', 'hora': '10:05:28', 'GMT': '+0000', 'comando': 'GET', 'archivo': '/blog/tags/projects', 'protocolo': 'HTTP/1.0', 'status': '200', 'longitud': '28370'}\n",
      "{'cliente': '46.105.14.53', 'usuario': '-', 'nombre': '-', 'fecha': '17/May/2015', 'hora': '10:05:44', 'GMT': '+0000', 'comando': 'GET', 'archivo': '/blog/tags/puppet?flav=rss20', 'protocolo': 'HTTP/1.1', 'status': '200', 'longitud': '14872'}\n",
      "{'cliente': '207.241.237.227', 'usuario': '-', 'nombre': '-', 'fecha': '17/May/2015', 'hora': '10:05:47', 'GMT': '+0000', 'comando': 'GET', 'archivo': '/blog/geekery/soekris-gpio.html', 'protocolo': 'HTTP/1.0', 'status': '200', 'longitud': '9587'}\n",
      "{'cliente': '91.177.205.119', 'usuario': '-', 'nombre': '-', 'fecha': '17/May/2015', 'hora': '10:05:22', 'GMT': '+0000', 'comando': 'GET', 'archivo': '/blog/geekery/xvfb-firefox.html', 'protocolo': 'HTTP/1.1', 'status': '200', 'longitud': '10975'}\n",
      "{'cliente': '91.177.205.119', 'usuario': '-', 'nombre': '-', 'fecha': '17/May/2015', 'hora': '10:05:34', 'GMT': '+0000', 'comando': 'GET', 'archivo': '/reset.css', 'protocolo': 'HTTP/1.1', 'status': '200', 'longitud': '1015'}\n",
      "{'cliente': '91.177.205.119', 'usuario': '-', 'nombre': '-', 'fecha': '17/May/2015', 'hora': '10:05:37', 'GMT': '+0000', 'comando': 'GET', 'archivo': '/style2.css', 'protocolo': 'HTTP/1.1', 'status': '200', 'longitud': '4877'}\n",
      "{'cliente': '91.177.205.119', 'usuario': '-', 'nombre': '-', 'fecha': '17/May/2015', 'hora': '10:05:54', 'GMT': '+0000', 'comando': 'GET', 'archivo': '/images/jordan-80.png', 'protocolo': 'HTTP/1.1', 'status': '200', 'longitud': '6146'}\n",
      "{'cliente': '91.177.205.119', 'usuario': '-', 'nombre': '-', 'fecha': '17/May/2015', 'hora': '10:05:31', 'GMT': '+0000', 'comando': 'GET', 'archivo': '/images/web/2009/banner.png', 'protocolo': 'HTTP/1.1', 'status': '200', 'longitud': '52315'}\n",
      "{'cliente': '91.177.205.119', 'usuario': '-', 'nombre': '-', 'fecha': '17/May/2015', 'hora': '10:05:32', 'GMT': '+0000', 'comando': 'GET', 'archivo': '/favicon.ico', 'protocolo': 'HTTP/1.1', 'status': '200', 'longitud': '3638'}\n",
      "{'cliente': '66.249.73.185', 'usuario': '-', 'nombre': '-', 'fecha': '17/May/2015', 'hora': '10:05:22', 'GMT': '+0000', 'comando': 'GET', 'archivo': '/doc/index.html?org/elasticsearch/action/search/SearchResponse.html', 'protocolo': 'HTTP/1.1', 'status': '404', 'longitud': '294'}\n",
      "{'cliente': '207.241.237.228', 'usuario': '-', 'nombre': '-', 'fecha': '17/May/2015', 'hora': '10:05:40', 'GMT': '+0000', 'comando': 'GET', 'archivo': '/blog/tags/defcon', 'protocolo': 'HTTP/1.0', 'status': '200', 'longitud': '24142'}\n",
      "{'cliente': '207.241.237.101', 'usuario': '-', 'nombre': '-', 'fecha': '17/May/2015', 'hora': '10:05:51', 'GMT': '+0000', 'comando': 'GET', 'archivo': '/blog/tags/regex', 'protocolo': 'HTTP/1.0', 'status': '200', 'longitud': '14888'}\n",
      "{'cliente': '87.169.99.232', 'usuario': '-', 'nombre': '-', 'fecha': '17/May/2015', 'hora': '10:05:59', 'GMT': '+0000', 'comando': 'GET', 'archivo': '/presentations/puppet-at-loggly/puppet-at-loggly.pdf.html', 'protocolo': 'HTTP/1.1', 'status': '200', 'longitud': '24747'}\n",
      "{'cliente': '209.85.238.199', 'usuario': '-', 'nombre': '-', 'fecha': '17/May/2015', 'hora': '10:05:30', 'GMT': '+0000', 'comando': 'GET', 'archivo': '/blog/tags/firefox?flav=rss20', 'protocolo': 'HTTP/1.1', 'status': '200', 'longitud': '16021'}\n",
      "{'cliente': '209.85.238.199', 'usuario': '-', 'nombre': '-', 'fecha': '17/May/2015', 'hora': '10:05:15', 'GMT': '+0000', 'comando': 'GET', 'archivo': '/test.xml', 'protocolo': 'HTTP/1.1', 'status': '200', 'longitud': '1370'}\n",
      "{'cliente': '81.220.24.207', 'usuario': '-', 'nombre': '-', 'fecha': '17/May/2015', 'hora': '10:05:13', 'GMT': '+0000', 'comando': 'GET', 'archivo': '/blog/geekery/ssl-latency.html', 'protocolo': 'HTTP/1.1', 'status': '200', 'longitud': '17147'}\n",
      "{'cliente': '81.220.24.207', 'usuario': '-', 'nombre': '-', 'fecha': '17/May/2015', 'hora': '10:05:44', 'GMT': '+0000', 'comando': 'GET', 'archivo': '/reset.css', 'protocolo': 'HTTP/1.1', 'status': '200', 'longitud': '1015'}\n",
      "{'cliente': '81.220.24.207', 'usuario': '-', 'nombre': '-', 'fecha': '17/May/2015', 'hora': '10:05:26', 'GMT': '+0000', 'comando': 'GET', 'archivo': '/images/jordan-80.png', 'protocolo': 'HTTP/1.1', 'status': '200', 'longitud': '6146'}\n",
      "{'cliente': '81.220.24.207', 'usuario': '-', 'nombre': '-', 'fecha': '17/May/2015', 'hora': '10:05:39', 'GMT': '+0000', 'comando': 'GET', 'archivo': '/style2.css', 'protocolo': 'HTTP/1.1', 'status': '200', 'longitud': '4877'}\n"
     ]
    }
   ],
   "source": [
    "for m in re.finditer(p, texto, re.VERBOSE):\n",
    "    print(m.groupdict())"
   ]
  },
  {
   "cell_type": "markdown",
   "metadata": {},
   "source": [
    "De esta manera, es posible extraer la parte que nos interese de la información del registro:"
   ]
  },
  {
   "cell_type": "code",
   "execution_count": 52,
   "metadata": {},
   "outputs": [
    {
     "name": "stdout",
     "output_type": "stream",
     "text": [
      "Cliente: 83.149.9.216\n",
      "Fecha: 17/May/2015\n",
      "Hora: 10:05:03\n",
      "---\n",
      "Cliente: 83.149.9.216\n",
      "Fecha: 17/May/2015\n",
      "Hora: 10:05:43\n",
      "---\n",
      "Cliente: 83.149.9.216\n",
      "Fecha: 17/May/2015\n",
      "Hora: 10:05:47\n",
      "---\n",
      "Cliente: 83.149.9.216\n",
      "Fecha: 17/May/2015\n",
      "Hora: 10:05:12\n",
      "---\n",
      "Cliente: 83.149.9.216\n",
      "Fecha: 17/May/2015\n",
      "Hora: 10:05:07\n",
      "---\n",
      "Cliente: 83.149.9.216\n",
      "Fecha: 17/May/2015\n",
      "Hora: 10:05:34\n",
      "---\n",
      "Cliente: 83.149.9.216\n",
      "Fecha: 17/May/2015\n",
      "Hora: 10:05:57\n",
      "---\n",
      "Cliente: 83.149.9.216\n",
      "Fecha: 17/May/2015\n",
      "Hora: 10:05:50\n",
      "---\n",
      "Cliente: 83.149.9.216\n",
      "Fecha: 17/May/2015\n",
      "Hora: 10:05:24\n",
      "---\n",
      "Cliente: 83.149.9.216\n",
      "Fecha: 17/May/2015\n",
      "Hora: 10:05:50\n",
      "---\n",
      "Cliente: 83.149.9.216\n",
      "Fecha: 17/May/2015\n",
      "Hora: 10:05:46\n",
      "---\n",
      "Cliente: 83.149.9.216\n",
      "Fecha: 17/May/2015\n",
      "Hora: 10:05:11\n",
      "---\n",
      "Cliente: 83.149.9.216\n",
      "Fecha: 17/May/2015\n",
      "Hora: 10:05:19\n",
      "---\n",
      "Cliente: 83.149.9.216\n",
      "Fecha: 17/May/2015\n",
      "Hora: 10:05:33\n",
      "---\n",
      "Cliente: 83.149.9.216\n",
      "Fecha: 17/May/2015\n",
      "Hora: 10:05:00\n",
      "---\n",
      "Cliente: 83.149.9.216\n",
      "Fecha: 17/May/2015\n",
      "Hora: 10:05:25\n",
      "---\n",
      "Cliente: 83.149.9.216\n",
      "Fecha: 17/May/2015\n",
      "Hora: 10:05:59\n",
      "---\n",
      "Cliente: 83.149.9.216\n",
      "Fecha: 17/May/2015\n",
      "Hora: 10:05:30\n",
      "---\n",
      "Cliente: 83.149.9.216\n",
      "Fecha: 17/May/2015\n",
      "Hora: 10:05:53\n",
      "---\n",
      "Cliente: 83.149.9.216\n",
      "Fecha: 17/May/2015\n",
      "Hora: 10:05:24\n",
      "---\n",
      "Cliente: 83.149.9.216\n",
      "Fecha: 17/May/2015\n",
      "Hora: 10:05:54\n",
      "---\n",
      "Cliente: 83.149.9.216\n",
      "Fecha: 17/May/2015\n",
      "Hora: 10:05:33\n",
      "---\n",
      "Cliente: 83.149.9.216\n",
      "Fecha: 17/May/2015\n",
      "Hora: 10:05:56\n",
      "---\n",
      "Cliente: 24.236.252.67\n",
      "Fecha: 17/May/2015\n",
      "Hora: 10:05:40\n",
      "---\n",
      "Cliente: 93.114.45.13\n",
      "Fecha: 17/May/2015\n",
      "Hora: 10:05:14\n",
      "---\n",
      "Cliente: 93.114.45.13\n",
      "Fecha: 17/May/2015\n",
      "Hora: 10:05:04\n",
      "---\n",
      "Cliente: 93.114.45.13\n",
      "Fecha: 17/May/2015\n",
      "Hora: 10:05:45\n",
      "---\n",
      "Cliente: 93.114.45.13\n",
      "Fecha: 17/May/2015\n",
      "Hora: 10:05:14\n",
      "---\n",
      "Cliente: 93.114.45.13\n",
      "Fecha: 17/May/2015\n",
      "Hora: 10:05:17\n",
      "---\n",
      "Cliente: 93.114.45.13\n",
      "Fecha: 17/May/2015\n",
      "Hora: 10:05:21\n",
      "---\n",
      "Cliente: 66.249.73.135\n",
      "Fecha: 17/May/2015\n",
      "Hora: 10:05:40\n",
      "---\n",
      "Cliente: 50.16.19.13\n",
      "Fecha: 17/May/2015\n",
      "Hora: 10:05:10\n",
      "---\n",
      "Cliente: 66.249.73.185\n",
      "Fecha: 17/May/2015\n",
      "Hora: 10:05:37\n",
      "---\n",
      "Cliente: 110.136.166.128\n",
      "Fecha: 17/May/2015\n",
      "Hora: 10:05:35\n",
      "---\n",
      "Cliente: 46.105.14.53\n",
      "Fecha: 17/May/2015\n",
      "Hora: 10:05:03\n",
      "---\n",
      "Cliente: 110.136.166.128\n",
      "Fecha: 17/May/2015\n",
      "Hora: 10:05:06\n",
      "---\n",
      "Cliente: 110.136.166.128\n",
      "Fecha: 17/May/2015\n",
      "Hora: 10:05:03\n",
      "---\n",
      "Cliente: 110.136.166.128\n",
      "Fecha: 17/May/2015\n",
      "Hora: 10:05:41\n",
      "---\n",
      "Cliente: 110.136.166.128\n",
      "Fecha: 17/May/2015\n",
      "Hora: 10:05:32\n",
      "---\n",
      "Cliente: 123.125.71.35\n",
      "Fecha: 17/May/2015\n",
      "Hora: 10:05:46\n",
      "---\n",
      "Cliente: 110.136.166.128\n",
      "Fecha: 17/May/2015\n",
      "Hora: 10:05:08\n",
      "---\n",
      "Cliente: 50.150.204.184\n",
      "Fecha: 17/May/2015\n",
      "Hora: 10:05:46\n",
      "---\n",
      "Cliente: 207.241.237.225\n",
      "Fecha: 17/May/2015\n",
      "Hora: 10:05:58\n",
      "---\n",
      "Cliente: 200.49.190.101\n",
      "Fecha: 17/May/2015\n",
      "Hora: 10:05:36\n",
      "---\n",
      "Cliente: 200.49.190.100\n",
      "Fecha: 17/May/2015\n",
      "Hora: 10:05:38\n",
      "---\n",
      "Cliente: 200.49.190.101\n",
      "Fecha: 17/May/2015\n",
      "Hora: 10:05:11\n",
      "---\n",
      "Cliente: 200.49.190.101\n",
      "Fecha: 17/May/2015\n",
      "Hora: 10:05:37\n",
      "---\n",
      "Cliente: 66.249.73.185\n",
      "Fecha: 17/May/2015\n",
      "Hora: 10:05:00\n",
      "---\n",
      "Cliente: 66.249.73.135\n",
      "Fecha: 17/May/2015\n",
      "Hora: 10:05:16\n",
      "---\n",
      "Cliente: 66.249.73.135\n",
      "Fecha: 17/May/2015\n",
      "Hora: 10:05:33\n",
      "---\n",
      "Cliente: 66.249.73.135\n",
      "Fecha: 17/May/2015\n",
      "Hora: 10:05:17\n",
      "---\n",
      "Cliente: 67.214.178.190\n",
      "Fecha: 17/May/2015\n",
      "Hora: 10:05:48\n",
      "---\n",
      "Cliente: 67.214.178.190\n",
      "Fecha: 17/May/2015\n",
      "Hora: 10:05:18\n",
      "---\n",
      "Cliente: 207.241.237.220\n",
      "Fecha: 17/May/2015\n",
      "Hora: 10:05:28\n",
      "---\n",
      "Cliente: 46.105.14.53\n",
      "Fecha: 17/May/2015\n",
      "Hora: 10:05:44\n",
      "---\n",
      "Cliente: 207.241.237.227\n",
      "Fecha: 17/May/2015\n",
      "Hora: 10:05:47\n",
      "---\n",
      "Cliente: 91.177.205.119\n",
      "Fecha: 17/May/2015\n",
      "Hora: 10:05:22\n",
      "---\n",
      "Cliente: 91.177.205.119\n",
      "Fecha: 17/May/2015\n",
      "Hora: 10:05:34\n",
      "---\n",
      "Cliente: 91.177.205.119\n",
      "Fecha: 17/May/2015\n",
      "Hora: 10:05:37\n",
      "---\n",
      "Cliente: 91.177.205.119\n",
      "Fecha: 17/May/2015\n",
      "Hora: 10:05:54\n",
      "---\n",
      "Cliente: 91.177.205.119\n",
      "Fecha: 17/May/2015\n",
      "Hora: 10:05:31\n",
      "---\n",
      "Cliente: 91.177.205.119\n",
      "Fecha: 17/May/2015\n",
      "Hora: 10:05:32\n",
      "---\n",
      "Cliente: 66.249.73.185\n",
      "Fecha: 17/May/2015\n",
      "Hora: 10:05:22\n",
      "---\n",
      "Cliente: 207.241.237.228\n",
      "Fecha: 17/May/2015\n",
      "Hora: 10:05:40\n",
      "---\n",
      "Cliente: 207.241.237.101\n",
      "Fecha: 17/May/2015\n",
      "Hora: 10:05:51\n",
      "---\n",
      "Cliente: 87.169.99.232\n",
      "Fecha: 17/May/2015\n",
      "Hora: 10:05:59\n",
      "---\n",
      "Cliente: 209.85.238.199\n",
      "Fecha: 17/May/2015\n",
      "Hora: 10:05:30\n",
      "---\n",
      "Cliente: 209.85.238.199\n",
      "Fecha: 17/May/2015\n",
      "Hora: 10:05:15\n",
      "---\n",
      "Cliente: 81.220.24.207\n",
      "Fecha: 17/May/2015\n",
      "Hora: 10:05:13\n",
      "---\n",
      "Cliente: 81.220.24.207\n",
      "Fecha: 17/May/2015\n",
      "Hora: 10:05:44\n",
      "---\n",
      "Cliente: 81.220.24.207\n",
      "Fecha: 17/May/2015\n",
      "Hora: 10:05:26\n",
      "---\n",
      "Cliente: 81.220.24.207\n",
      "Fecha: 17/May/2015\n",
      "Hora: 10:05:39\n",
      "---\n"
     ]
    }
   ],
   "source": [
    "for m in re.finditer(p, texto, re.VERBOSE):\n",
    "    d = m.groupdict()\n",
    "    print(\"Cliente: {}\".format(d['cliente']))\n",
    "    print(\"Fecha: {}\".format(d['fecha']))\n",
    "    print(\"Hora: {}\".format(d['hora']))\n",
    "    print('---')\n"
   ]
  },
  {
   "cell_type": "markdown",
   "metadata": {},
   "source": [
    "También es fácil construir una lista con los diccionarios correspondientes a las diferentes peticiones:"
   ]
  },
  {
   "cell_type": "code",
   "execution_count": 53,
   "metadata": {},
   "outputs": [
    {
     "name": "stdout",
     "output_type": "stream",
     "text": [
      "[{'cliente': '83.149.9.216', 'usuario': '-', 'nombre': '-', 'fecha': '17/May/2015', 'hora': '10:05:03', 'GMT': '+0000', 'comando': 'GET', 'archivo': '/presentations/logstash-monitorama-2013/images/kibana-search.png', 'protocolo': 'HTTP/1.1', 'status': '200', 'longitud': '203023'}, {'cliente': '83.149.9.216', 'usuario': '-', 'nombre': '-', 'fecha': '17/May/2015', 'hora': '10:05:43', 'GMT': '+0000', 'comando': 'GET', 'archivo': '/presentations/logstash-monitorama-2013/images/kibana-dashboard3.png', 'protocolo': 'HTTP/1.1', 'status': '200', 'longitud': '171717'}, {'cliente': '83.149.9.216', 'usuario': '-', 'nombre': '-', 'fecha': '17/May/2015', 'hora': '10:05:47', 'GMT': '+0000', 'comando': 'GET', 'archivo': '/presentations/logstash-monitorama-2013/plugin/highlight/highlight.js', 'protocolo': 'HTTP/1.1', 'status': '200', 'longitud': '26185'}, {'cliente': '83.149.9.216', 'usuario': '-', 'nombre': '-', 'fecha': '17/May/2015', 'hora': '10:05:12', 'GMT': '+0000', 'comando': 'GET', 'archivo': '/presentations/logstash-monitorama-2013/plugin/zoom-js/zoom.js', 'protocolo': 'HTTP/1.1', 'status': '200', 'longitud': '7697'}, {'cliente': '83.149.9.216', 'usuario': '-', 'nombre': '-', 'fecha': '17/May/2015', 'hora': '10:05:07', 'GMT': '+0000', 'comando': 'GET', 'archivo': '/presentations/logstash-monitorama-2013/plugin/notes/notes.js', 'protocolo': 'HTTP/1.1', 'status': '200', 'longitud': '2892'}, {'cliente': '83.149.9.216', 'usuario': '-', 'nombre': '-', 'fecha': '17/May/2015', 'hora': '10:05:34', 'GMT': '+0000', 'comando': 'GET', 'archivo': '/presentations/logstash-monitorama-2013/images/sad-medic.png', 'protocolo': 'HTTP/1.1', 'status': '200', 'longitud': '430406'}, {'cliente': '83.149.9.216', 'usuario': '-', 'nombre': '-', 'fecha': '17/May/2015', 'hora': '10:05:57', 'GMT': '+0000', 'comando': 'GET', 'archivo': '/presentations/logstash-monitorama-2013/css/fonts/Roboto-Bold.ttf', 'protocolo': 'HTTP/1.1', 'status': '200', 'longitud': '38720'}, {'cliente': '83.149.9.216', 'usuario': '-', 'nombre': '-', 'fecha': '17/May/2015', 'hora': '10:05:50', 'GMT': '+0000', 'comando': 'GET', 'archivo': '/presentations/logstash-monitorama-2013/css/fonts/Roboto-Regular.ttf', 'protocolo': 'HTTP/1.1', 'status': '200', 'longitud': '41820'}, {'cliente': '83.149.9.216', 'usuario': '-', 'nombre': '-', 'fecha': '17/May/2015', 'hora': '10:05:24', 'GMT': '+0000', 'comando': 'GET', 'archivo': '/presentations/logstash-monitorama-2013/images/frontend-response-codes.png', 'protocolo': 'HTTP/1.1', 'status': '200', 'longitud': '52878'}, {'cliente': '83.149.9.216', 'usuario': '-', 'nombre': '-', 'fecha': '17/May/2015', 'hora': '10:05:50', 'GMT': '+0000', 'comando': 'GET', 'archivo': '/presentations/logstash-monitorama-2013/images/kibana-dashboard.png', 'protocolo': 'HTTP/1.1', 'status': '200', 'longitud': '321631'}, {'cliente': '83.149.9.216', 'usuario': '-', 'nombre': '-', 'fecha': '17/May/2015', 'hora': '10:05:46', 'GMT': '+0000', 'comando': 'GET', 'archivo': '/presentations/logstash-monitorama-2013/images/Dreamhost_logo.svg', 'protocolo': 'HTTP/1.1', 'status': '200', 'longitud': '2126'}, {'cliente': '83.149.9.216', 'usuario': '-', 'nombre': '-', 'fecha': '17/May/2015', 'hora': '10:05:11', 'GMT': '+0000', 'comando': 'GET', 'archivo': '/presentations/logstash-monitorama-2013/images/kibana-dashboard2.png', 'protocolo': 'HTTP/1.1', 'status': '200', 'longitud': '394967'}, {'cliente': '83.149.9.216', 'usuario': '-', 'nombre': '-', 'fecha': '17/May/2015', 'hora': '10:05:19', 'GMT': '+0000', 'comando': 'GET', 'archivo': '/presentations/logstash-monitorama-2013/images/apache-icon.gif', 'protocolo': 'HTTP/1.1', 'status': '200', 'longitud': '8095'}, {'cliente': '83.149.9.216', 'usuario': '-', 'nombre': '-', 'fecha': '17/May/2015', 'hora': '10:05:33', 'GMT': '+0000', 'comando': 'GET', 'archivo': '/presentations/logstash-monitorama-2013/images/nagios-sms5.png', 'protocolo': 'HTTP/1.1', 'status': '200', 'longitud': '78075'}, {'cliente': '83.149.9.216', 'usuario': '-', 'nombre': '-', 'fecha': '17/May/2015', 'hora': '10:05:00', 'GMT': '+0000', 'comando': 'GET', 'archivo': '/presentations/logstash-monitorama-2013/images/redis.png', 'protocolo': 'HTTP/1.1', 'status': '200', 'longitud': '25230'}, {'cliente': '83.149.9.216', 'usuario': '-', 'nombre': '-', 'fecha': '17/May/2015', 'hora': '10:05:25', 'GMT': '+0000', 'comando': 'GET', 'archivo': '/presentations/logstash-monitorama-2013/images/elasticsearch.png', 'protocolo': 'HTTP/1.1', 'status': '200', 'longitud': '8026'}, {'cliente': '83.149.9.216', 'usuario': '-', 'nombre': '-', 'fecha': '17/May/2015', 'hora': '10:05:59', 'GMT': '+0000', 'comando': 'GET', 'archivo': '/presentations/logstash-monitorama-2013/images/logstashbook.png', 'protocolo': 'HTTP/1.1', 'status': '200', 'longitud': '54662'}, {'cliente': '83.149.9.216', 'usuario': '-', 'nombre': '-', 'fecha': '17/May/2015', 'hora': '10:05:30', 'GMT': '+0000', 'comando': 'GET', 'archivo': '/presentations/logstash-monitorama-2013/images/github-contributions.png', 'protocolo': 'HTTP/1.1', 'status': '200', 'longitud': '34245'}, {'cliente': '83.149.9.216', 'usuario': '-', 'nombre': '-', 'fecha': '17/May/2015', 'hora': '10:05:53', 'GMT': '+0000', 'comando': 'GET', 'archivo': '/presentations/logstash-monitorama-2013/css/print/paper.css', 'protocolo': 'HTTP/1.1', 'status': '200', 'longitud': '4254'}, {'cliente': '83.149.9.216', 'usuario': '-', 'nombre': '-', 'fecha': '17/May/2015', 'hora': '10:05:24', 'GMT': '+0000', 'comando': 'GET', 'archivo': '/presentations/logstash-monitorama-2013/images/1983_delorean_dmc-12-pic-38289.jpeg', 'protocolo': 'HTTP/1.1', 'status': '200', 'longitud': '220562'}, {'cliente': '83.149.9.216', 'usuario': '-', 'nombre': '-', 'fecha': '17/May/2015', 'hora': '10:05:54', 'GMT': '+0000', 'comando': 'GET', 'archivo': '/presentations/logstash-monitorama-2013/images/simple-inputs-filters-outputs.jpg', 'protocolo': 'HTTP/1.1', 'status': '200', 'longitud': '1168622'}, {'cliente': '83.149.9.216', 'usuario': '-', 'nombre': '-', 'fecha': '17/May/2015', 'hora': '10:05:33', 'GMT': '+0000', 'comando': 'GET', 'archivo': '/presentations/logstash-monitorama-2013/images/tiered-outputs-to-inputs.jpg', 'protocolo': 'HTTP/1.1', 'status': '200', 'longitud': '1079983'}, {'cliente': '83.149.9.216', 'usuario': '-', 'nombre': '-', 'fecha': '17/May/2015', 'hora': '10:05:56', 'GMT': '+0000', 'comando': 'GET', 'archivo': '/favicon.ico', 'protocolo': 'HTTP/1.1', 'status': '200', 'longitud': '3638'}, {'cliente': '24.236.252.67', 'usuario': '-', 'nombre': '-', 'fecha': '17/May/2015', 'hora': '10:05:40', 'GMT': '+0000', 'comando': 'GET', 'archivo': '/favicon.ico', 'protocolo': 'HTTP/1.1', 'status': '200', 'longitud': '3638'}, {'cliente': '93.114.45.13', 'usuario': '-', 'nombre': '-', 'fecha': '17/May/2015', 'hora': '10:05:14', 'GMT': '+0000', 'comando': 'GET', 'archivo': '/articles/dynamic-dns-with-dhcp/', 'protocolo': 'HTTP/1.1', 'status': '200', 'longitud': '18848'}, {'cliente': '93.114.45.13', 'usuario': '-', 'nombre': '-', 'fecha': '17/May/2015', 'hora': '10:05:04', 'GMT': '+0000', 'comando': 'GET', 'archivo': '/reset.css', 'protocolo': 'HTTP/1.1', 'status': '200', 'longitud': '1015'}, {'cliente': '93.114.45.13', 'usuario': '-', 'nombre': '-', 'fecha': '17/May/2015', 'hora': '10:05:45', 'GMT': '+0000', 'comando': 'GET', 'archivo': '/style2.css', 'protocolo': 'HTTP/1.1', 'status': '200', 'longitud': '4877'}, {'cliente': '93.114.45.13', 'usuario': '-', 'nombre': '-', 'fecha': '17/May/2015', 'hora': '10:05:14', 'GMT': '+0000', 'comando': 'GET', 'archivo': '/favicon.ico', 'protocolo': 'HTTP/1.1', 'status': '200', 'longitud': '3638'}, {'cliente': '93.114.45.13', 'usuario': '-', 'nombre': '-', 'fecha': '17/May/2015', 'hora': '10:05:17', 'GMT': '+0000', 'comando': 'GET', 'archivo': '/images/jordan-80.png', 'protocolo': 'HTTP/1.1', 'status': '200', 'longitud': '6146'}, {'cliente': '93.114.45.13', 'usuario': '-', 'nombre': '-', 'fecha': '17/May/2015', 'hora': '10:05:21', 'GMT': '+0000', 'comando': 'GET', 'archivo': '/images/web/2009/banner.png', 'protocolo': 'HTTP/1.1', 'status': '200', 'longitud': '52315'}, {'cliente': '66.249.73.135', 'usuario': '-', 'nombre': '-', 'fecha': '17/May/2015', 'hora': '10:05:40', 'GMT': '+0000', 'comando': 'GET', 'archivo': '/blog/tags/ipv6', 'protocolo': 'HTTP/1.1', 'status': '200', 'longitud': '12251'}, {'cliente': '50.16.19.13', 'usuario': '-', 'nombre': '-', 'fecha': '17/May/2015', 'hora': '10:05:10', 'GMT': '+0000', 'comando': 'GET', 'archivo': '/blog/tags/puppet?flav=rss20', 'protocolo': 'HTTP/1.1', 'status': '200', 'longitud': '14872'}, {'cliente': '66.249.73.185', 'usuario': '-', 'nombre': '-', 'fecha': '17/May/2015', 'hora': '10:05:37', 'GMT': '+0000', 'comando': 'GET', 'archivo': '/', 'protocolo': 'HTTP/1.1', 'status': '200', 'longitud': '37932'}, {'cliente': '110.136.166.128', 'usuario': '-', 'nombre': '-', 'fecha': '17/May/2015', 'hora': '10:05:35', 'GMT': '+0000', 'comando': 'GET', 'archivo': '/projects/xdotool/', 'protocolo': 'HTTP/1.1', 'status': '200', 'longitud': '12292'}, {'cliente': '46.105.14.53', 'usuario': '-', 'nombre': '-', 'fecha': '17/May/2015', 'hora': '10:05:03', 'GMT': '+0000', 'comando': 'GET', 'archivo': '/blog/tags/puppet?flav=rss20', 'protocolo': 'HTTP/1.1', 'status': '200', 'longitud': '14872'}, {'cliente': '110.136.166.128', 'usuario': '-', 'nombre': '-', 'fecha': '17/May/2015', 'hora': '10:05:06', 'GMT': '+0000', 'comando': 'GET', 'archivo': '/reset.css', 'protocolo': 'HTTP/1.1', 'status': '200', 'longitud': '1015'}, {'cliente': '110.136.166.128', 'usuario': '-', 'nombre': '-', 'fecha': '17/May/2015', 'hora': '10:05:03', 'GMT': '+0000', 'comando': 'GET', 'archivo': '/style2.css', 'protocolo': 'HTTP/1.1', 'status': '200', 'longitud': '4877'}, {'cliente': '110.136.166.128', 'usuario': '-', 'nombre': '-', 'fecha': '17/May/2015', 'hora': '10:05:41', 'GMT': '+0000', 'comando': 'GET', 'archivo': '/favicon.ico', 'protocolo': 'HTTP/1.1', 'status': '200', 'longitud': '3638'}, {'cliente': '110.136.166.128', 'usuario': '-', 'nombre': '-', 'fecha': '17/May/2015', 'hora': '10:05:32', 'GMT': '+0000', 'comando': 'GET', 'archivo': '/images/jordan-80.png', 'protocolo': 'HTTP/1.1', 'status': '200', 'longitud': '6146'}, {'cliente': '123.125.71.35', 'usuario': '-', 'nombre': '-', 'fecha': '17/May/2015', 'hora': '10:05:46', 'GMT': '+0000', 'comando': 'GET', 'archivo': '/blog/tags/release', 'protocolo': 'HTTP/1.1', 'status': '200', 'longitud': '40693'}, {'cliente': '110.136.166.128', 'usuario': '-', 'nombre': '-', 'fecha': '17/May/2015', 'hora': '10:05:08', 'GMT': '+0000', 'comando': 'GET', 'archivo': '/images/web/2009/banner.png', 'protocolo': 'HTTP/1.1', 'status': '200', 'longitud': '52315'}, {'cliente': '50.150.204.184', 'usuario': '-', 'nombre': '-', 'fecha': '17/May/2015', 'hora': '10:05:46', 'GMT': '+0000', 'comando': 'GET', 'archivo': '/images/googledotcom.png', 'protocolo': 'HTTP/1.1', 'status': '200', 'longitud': '65748'}, {'cliente': '207.241.237.225', 'usuario': '-', 'nombre': '-', 'fecha': '17/May/2015', 'hora': '10:05:58', 'GMT': '+0000', 'comando': 'GET', 'archivo': '/blog/tags/examples', 'protocolo': 'HTTP/1.0', 'status': '200', 'longitud': '9208'}, {'cliente': '200.49.190.101', 'usuario': '-', 'nombre': '-', 'fecha': '17/May/2015', 'hora': '10:05:36', 'GMT': '+0000', 'comando': 'GET', 'archivo': '/reset.css', 'protocolo': 'HTTP/1.1', 'status': '200', 'longitud': '1015'}, {'cliente': '200.49.190.100', 'usuario': '-', 'nombre': '-', 'fecha': '17/May/2015', 'hora': '10:05:38', 'GMT': '+0000', 'comando': 'GET', 'archivo': '/blog/tags/web', 'protocolo': 'HTTP/1.1', 'status': '200', 'longitud': '44019'}, {'cliente': '200.49.190.101', 'usuario': '-', 'nombre': '-', 'fecha': '17/May/2015', 'hora': '10:05:11', 'GMT': '+0000', 'comando': 'GET', 'archivo': '/style2.css', 'protocolo': 'HTTP/1.1', 'status': '200', 'longitud': '4877'}, {'cliente': '200.49.190.101', 'usuario': '-', 'nombre': '-', 'fecha': '17/May/2015', 'hora': '10:05:37', 'GMT': '+0000', 'comando': 'GET', 'archivo': '/images/jordan-80.png', 'protocolo': 'HTTP/1.1', 'status': '200', 'longitud': '6146'}, {'cliente': '66.249.73.185', 'usuario': '-', 'nombre': '-', 'fecha': '17/May/2015', 'hora': '10:05:00', 'GMT': '+0000', 'comando': 'GET', 'archivo': '/reset.css', 'protocolo': 'HTTP/1.1', 'status': '200', 'longitud': '1015'}, {'cliente': '66.249.73.135', 'usuario': '-', 'nombre': '-', 'fecha': '17/May/2015', 'hora': '10:05:16', 'GMT': '+0000', 'comando': 'GET', 'archivo': '/blog/tags/munin', 'protocolo': 'HTTP/1.1', 'status': '200', 'longitud': '9746'}, {'cliente': '66.249.73.135', 'usuario': '-', 'nombre': '-', 'fecha': '17/May/2015', 'hora': '10:05:33', 'GMT': '+0000', 'comando': 'GET', 'archivo': '/blog/tags/firefox?flav=rss20', 'protocolo': 'HTTP/1.1', 'status': '200', 'longitud': '16021'}, {'cliente': '66.249.73.135', 'usuario': '-', 'nombre': '-', 'fecha': '17/May/2015', 'hora': '10:05:17', 'GMT': '+0000', 'comando': 'GET', 'archivo': '/blog/geekery/eventdb-ideas.html', 'protocolo': 'HTTP/1.1', 'status': '200', 'longitud': '11418'}, {'cliente': '67.214.178.190', 'usuario': '-', 'nombre': '-', 'fecha': '17/May/2015', 'hora': '10:05:48', 'GMT': '+0000', 'comando': 'GET', 'archivo': '/', 'protocolo': 'HTTP/1.0', 'status': '200', 'longitud': '37932'}, {'cliente': '67.214.178.190', 'usuario': '-', 'nombre': '-', 'fecha': '17/May/2015', 'hora': '10:05:18', 'GMT': '+0000', 'comando': 'GET', 'archivo': '/blog/geekery/installing-windows-8-consumer-preview.html', 'protocolo': 'HTTP/1.0', 'status': '200', 'longitud': '8948'}, {'cliente': '207.241.237.220', 'usuario': '-', 'nombre': '-', 'fecha': '17/May/2015', 'hora': '10:05:28', 'GMT': '+0000', 'comando': 'GET', 'archivo': '/blog/tags/projects', 'protocolo': 'HTTP/1.0', 'status': '200', 'longitud': '28370'}, {'cliente': '46.105.14.53', 'usuario': '-', 'nombre': '-', 'fecha': '17/May/2015', 'hora': '10:05:44', 'GMT': '+0000', 'comando': 'GET', 'archivo': '/blog/tags/puppet?flav=rss20', 'protocolo': 'HTTP/1.1', 'status': '200', 'longitud': '14872'}, {'cliente': '207.241.237.227', 'usuario': '-', 'nombre': '-', 'fecha': '17/May/2015', 'hora': '10:05:47', 'GMT': '+0000', 'comando': 'GET', 'archivo': '/blog/geekery/soekris-gpio.html', 'protocolo': 'HTTP/1.0', 'status': '200', 'longitud': '9587'}, {'cliente': '91.177.205.119', 'usuario': '-', 'nombre': '-', 'fecha': '17/May/2015', 'hora': '10:05:22', 'GMT': '+0000', 'comando': 'GET', 'archivo': '/blog/geekery/xvfb-firefox.html', 'protocolo': 'HTTP/1.1', 'status': '200', 'longitud': '10975'}, {'cliente': '91.177.205.119', 'usuario': '-', 'nombre': '-', 'fecha': '17/May/2015', 'hora': '10:05:34', 'GMT': '+0000', 'comando': 'GET', 'archivo': '/reset.css', 'protocolo': 'HTTP/1.1', 'status': '200', 'longitud': '1015'}, {'cliente': '91.177.205.119', 'usuario': '-', 'nombre': '-', 'fecha': '17/May/2015', 'hora': '10:05:37', 'GMT': '+0000', 'comando': 'GET', 'archivo': '/style2.css', 'protocolo': 'HTTP/1.1', 'status': '200', 'longitud': '4877'}, {'cliente': '91.177.205.119', 'usuario': '-', 'nombre': '-', 'fecha': '17/May/2015', 'hora': '10:05:54', 'GMT': '+0000', 'comando': 'GET', 'archivo': '/images/jordan-80.png', 'protocolo': 'HTTP/1.1', 'status': '200', 'longitud': '6146'}, {'cliente': '91.177.205.119', 'usuario': '-', 'nombre': '-', 'fecha': '17/May/2015', 'hora': '10:05:31', 'GMT': '+0000', 'comando': 'GET', 'archivo': '/images/web/2009/banner.png', 'protocolo': 'HTTP/1.1', 'status': '200', 'longitud': '52315'}, {'cliente': '91.177.205.119', 'usuario': '-', 'nombre': '-', 'fecha': '17/May/2015', 'hora': '10:05:32', 'GMT': '+0000', 'comando': 'GET', 'archivo': '/favicon.ico', 'protocolo': 'HTTP/1.1', 'status': '200', 'longitud': '3638'}, {'cliente': '66.249.73.185', 'usuario': '-', 'nombre': '-', 'fecha': '17/May/2015', 'hora': '10:05:22', 'GMT': '+0000', 'comando': 'GET', 'archivo': '/doc/index.html?org/elasticsearch/action/search/SearchResponse.html', 'protocolo': 'HTTP/1.1', 'status': '404', 'longitud': '294'}, {'cliente': '207.241.237.228', 'usuario': '-', 'nombre': '-', 'fecha': '17/May/2015', 'hora': '10:05:40', 'GMT': '+0000', 'comando': 'GET', 'archivo': '/blog/tags/defcon', 'protocolo': 'HTTP/1.0', 'status': '200', 'longitud': '24142'}, {'cliente': '207.241.237.101', 'usuario': '-', 'nombre': '-', 'fecha': '17/May/2015', 'hora': '10:05:51', 'GMT': '+0000', 'comando': 'GET', 'archivo': '/blog/tags/regex', 'protocolo': 'HTTP/1.0', 'status': '200', 'longitud': '14888'}, {'cliente': '87.169.99.232', 'usuario': '-', 'nombre': '-', 'fecha': '17/May/2015', 'hora': '10:05:59', 'GMT': '+0000', 'comando': 'GET', 'archivo': '/presentations/puppet-at-loggly/puppet-at-loggly.pdf.html', 'protocolo': 'HTTP/1.1', 'status': '200', 'longitud': '24747'}, {'cliente': '209.85.238.199', 'usuario': '-', 'nombre': '-', 'fecha': '17/May/2015', 'hora': '10:05:30', 'GMT': '+0000', 'comando': 'GET', 'archivo': '/blog/tags/firefox?flav=rss20', 'protocolo': 'HTTP/1.1', 'status': '200', 'longitud': '16021'}, {'cliente': '209.85.238.199', 'usuario': '-', 'nombre': '-', 'fecha': '17/May/2015', 'hora': '10:05:15', 'GMT': '+0000', 'comando': 'GET', 'archivo': '/test.xml', 'protocolo': 'HTTP/1.1', 'status': '200', 'longitud': '1370'}, {'cliente': '81.220.24.207', 'usuario': '-', 'nombre': '-', 'fecha': '17/May/2015', 'hora': '10:05:13', 'GMT': '+0000', 'comando': 'GET', 'archivo': '/blog/geekery/ssl-latency.html', 'protocolo': 'HTTP/1.1', 'status': '200', 'longitud': '17147'}, {'cliente': '81.220.24.207', 'usuario': '-', 'nombre': '-', 'fecha': '17/May/2015', 'hora': '10:05:44', 'GMT': '+0000', 'comando': 'GET', 'archivo': '/reset.css', 'protocolo': 'HTTP/1.1', 'status': '200', 'longitud': '1015'}, {'cliente': '81.220.24.207', 'usuario': '-', 'nombre': '-', 'fecha': '17/May/2015', 'hora': '10:05:26', 'GMT': '+0000', 'comando': 'GET', 'archivo': '/images/jordan-80.png', 'protocolo': 'HTTP/1.1', 'status': '200', 'longitud': '6146'}, {'cliente': '81.220.24.207', 'usuario': '-', 'nombre': '-', 'fecha': '17/May/2015', 'hora': '10:05:39', 'GMT': '+0000', 'comando': 'GET', 'archivo': '/style2.css', 'protocolo': 'HTTP/1.1', 'status': '200', 'longitud': '4877'}]\n"
     ]
    }
   ],
   "source": [
    "L = [m.groupdict() for m in re.finditer(p, texto, re.VERBOSE)]\n",
    "print(L)"
   ]
  },
  {
   "cell_type": "markdown",
   "metadata": {},
   "source": [
    "Empleando esta lista podemos realizar varios análisis adicionales sobre el archivo de registro:"
   ]
  },
  {
   "cell_type": "code",
   "execution_count": 54,
   "metadata": {},
   "outputs": [
    {
     "name": "stdout",
     "output_type": "stream",
     "text": [
      "72\n",
      "{'81.220.24.207', '50.150.204.184', '87.169.99.232', '110.136.166.128', '24.236.252.67', '200.49.190.100', '207.241.237.227', '66.249.73.135', '207.241.237.228', '207.241.237.101', '200.49.190.101', '66.249.73.185', '50.16.19.13', '209.85.238.199', '46.105.14.53', '91.177.205.119', '123.125.71.35', '207.241.237.220', '207.241.237.225', '67.214.178.190', '93.114.45.13', '83.149.9.216'}\n",
      "22\n",
      "{'17/May/2015'}\n",
      "{'HTTP/1.1', 'HTTP/1.0'}\n",
      "2\n",
      "['/reset.css', '/style2.css', '/images/jordan-80.png']\n"
     ]
    }
   ],
   "source": [
    "# Cuántas peticiones se han realizado?\n",
    "print(len(L))\n",
    "# Desde cuántos y cuáles clientes?\n",
    "print(set([d['cliente'] for d in L]))\n",
    "print(len(set([d['cliente'] for d in L])))\n",
    "# En qué fechas se realizaron peticiones?\n",
    "print(set([d['fecha'] for d in L]))\n",
    "# Cuántos y cuáles protocolos se utilizaron?\n",
    "print(set([d['protocolo'] for d in L]))\n",
    "print(len(set([d['protocolo'] for d in L])))\n",
    "# Qué archivos solicitó el cliente 200.49.190.101?\n",
    "print([d['archivo'] for d in L if d['cliente']=='200.49.190.101'])\n"
   ]
  },
  {
   "cell_type": "markdown",
   "metadata": {},
   "source": [
    "## Información adicional:\n",
    "\n",
    "Hay muchos otros aspectos acerca de las expresiones regulares que los que se han cubierto en este cuaderno. Algunas fuentes de información útiles son:\n",
    "\n",
    "* La documentación oficial de Python sobre el módulo `re`: <https://docs.python.org/3/library/re.html>\n",
    "* El sitio <https://regex101.com/> que permite probar expresiones en-línea\n",
    "* Los tópicos pertinentes en el foro de Stack Overflow"
   ]
  },
  {
   "cell_type": "code",
   "execution_count": null,
   "metadata": {},
   "outputs": [],
   "source": []
  }
 ],
 "metadata": {
  "kernelspec": {
   "display_name": "Python 3",
   "language": "python",
   "name": "python3"
  },
  "language_info": {
   "codemirror_mode": {
    "name": "ipython",
    "version": 3
   },
   "file_extension": ".py",
   "mimetype": "text/x-python",
   "name": "python",
   "nbconvert_exporter": "python",
   "pygments_lexer": "ipython3",
   "version": "3.8.5"
  }
 },
 "nbformat": 4,
 "nbformat_minor": 2
}
