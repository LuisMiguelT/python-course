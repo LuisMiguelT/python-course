{
 "cells": [
  {
   "cell_type": "markdown",
   "metadata": {},
   "source": [
    "  # Cuaderno 2: Cadenas de caracteres (strings)\n",
    "  \n",
    "  Entre los tipos de datos más utilizados se encuentran los tipos **string** y **list**.\n",
    "  \n",
    "  Una cadena de caracteres (*string*) es una secuencia de caracteres delimitada por comillas simples o dobles."
   ]
  },
  {
   "cell_type": "markdown",
   "metadata": {},
   "source": [
    "### Aspectos básicos"
   ]
  },
  {
   "cell_type": "code",
   "execution_count": null,
   "metadata": {},
   "outputs": [],
   "source": [
    "S = \"Hola mundo\"\n",
    "print(S)"
   ]
  },
  {
   "cell_type": "markdown",
   "metadata": {},
   "source": [
    "En el lenguaje Python, la función `type` retorna el tipo de un objeto:"
   ]
  },
  {
   "cell_type": "code",
   "execution_count": null,
   "metadata": {},
   "outputs": [],
   "source": [
    "print(type(S))"
   ]
  },
  {
   "cell_type": "markdown",
   "metadata": {},
   "source": [
    "Para acceder a los caracteres individuales de una cadena se utilizan índices entre corchetes."
   ]
  },
  {
   "cell_type": "code",
   "execution_count": null,
   "metadata": {},
   "outputs": [],
   "source": [
    "print(S[0])\n",
    "print(S[3])"
   ]
  },
  {
   "cell_type": "markdown",
   "metadata": {},
   "source": [
    "El índice de -1 se refiere al último elemento, -2 al penúltimo elemento y así sucesivamente. "
   ]
  },
  {
   "cell_type": "code",
   "execution_count": null,
   "metadata": {},
   "outputs": [],
   "source": [
    "print(S[-1])\n",
    "print(S[-5])"
   ]
  },
  {
   "cell_type": "markdown",
   "metadata": {},
   "source": [
    "El operador `+` se usa para concatenar varias cadenas de caracteres."
   ]
  },
  {
   "cell_type": "code",
   "execution_count": null,
   "metadata": {},
   "outputs": [],
   "source": [
    "S1 = 'Hola mundo'\n",
    "S2 = '!!!'\n",
    "print(S1+S2)\n",
    "print(S2+S1)"
   ]
  },
  {
   "cell_type": "markdown",
   "metadata": {},
   "source": [
    "El operador `*` crea nuevas cadenas, repitiendo múltiples copias de la misma cadena."
   ]
  },
  {
   "cell_type": "code",
   "execution_count": null,
   "metadata": {},
   "outputs": [],
   "source": [
    "print(S*3)\n",
    "print((S+'-')*10)"
   ]
  },
  {
   "cell_type": "markdown",
   "metadata": {},
   "source": [
    "\n",
    "\n",
    "La función`len` devuelve la longitud de una cadena de caracteres."
   ]
  },
  {
   "cell_type": "code",
   "execution_count": null,
   "metadata": {},
   "outputs": [],
   "source": [
    "print(len(S))"
   ]
  },
  {
   "cell_type": "markdown",
   "metadata": {},
   "source": [
    "El operador `in` permite consultar si un caracter (o una subcadena de caracteres) aparece dentro de otra cada. Este operador devuelve como resultado los valores de `True` o `False`."
   ]
  },
  {
   "cell_type": "code",
   "execution_count": null,
   "metadata": {},
   "outputs": [],
   "source": [
    "print('o' in 'carro')\n",
    "print('ro' in 'carro')\n",
    "print('or' in 'carro')"
   ]
  },
  {
   "cell_type": "markdown",
   "metadata": {},
   "source": [
    "Una cadena de caracteres es una estructura de datos *iterable*: es posible utilizar el operador `in` en combinación con la instrucción de iteración `for` para examinar cada uno de los caracteres de la cadena. Veremos más acerca de de las estructuras de iteración en el Cuaderno 7."
   ]
  },
  {
   "cell_type": "code",
   "execution_count": null,
   "metadata": {},
   "outputs": [],
   "source": [
    "for c in 'carro':\n",
    "    print(c)"
   ]
  },
  {
   "cell_type": "markdown",
   "metadata": {},
   "source": [
    "De manera similar, puede iterarse sobre una cadena de caracteres empleando la instrucción `while` combinada con una variable de indexación y la función `len`:"
   ]
  },
  {
   "cell_type": "code",
   "execution_count": null,
   "metadata": {},
   "outputs": [],
   "source": [
    "i=0\n",
    "s='carro'\n",
    "while(i<len(s)):\n",
    "    print(s[i])\n",
    "    i+= 1"
   ]
  },
  {
   "cell_type": "markdown",
   "metadata": {},
   "source": [
    "Una de las características importantes del tipo *string* es que es un tipo  *inmutable*. Esto significa que los caracteres de un string no se pueden cambiar individualmente."
   ]
  },
  {
   "cell_type": "code",
   "execution_count": null,
   "metadata": {},
   "outputs": [],
   "source": [
    "# ERROR: strings son inmutables\n",
    "S[0]='h'"
   ]
  },
  {
   "cell_type": "markdown",
   "metadata": {},
   "source": [
    "Sin embargo, es posible usar el mismo nombre de variable para crear un nuevo string."
   ]
  },
  {
   "cell_type": "code",
   "execution_count": null,
   "metadata": {},
   "outputs": [],
   "source": [
    "S = \"Hola mundo\"\n",
    "print(S)\n",
    "S = 'h' + S[1:]\n",
    "print(S)"
   ]
  },
  {
   "cell_type": "markdown",
   "metadata": {},
   "source": [
    "### Extrayendo subcadenas (slicing)\n",
    "\n",
    "Una característica especial de Python es la posibilidad de extraer subcadenas de una cadena mayor, utilizando una notación conocida como *slicing*. Pueden especificarse rangos empleando `[a:b]`. Notar que`b` es el índice del elemento *posterior* al final del rango."
   ]
  },
  {
   "cell_type": "code",
   "execution_count": null,
   "metadata": {},
   "outputs": [],
   "source": [
    "print(S)\n",
    "print(S[0:3])\n",
    "print(S[1:6])"
   ]
  },
  {
   "cell_type": "markdown",
   "metadata": {},
   "source": [
    "Se puede omitir el índice del inicio o del final del rango. En ese caso, se entiende que se se trata del primer o del último elemento, respectivamente."
   ]
  },
  {
   "cell_type": "code",
   "execution_count": null,
   "metadata": {},
   "outputs": [],
   "source": [
    "print(S[:3])\n",
    "print(S[3:])"
   ]
  },
  {
   "cell_type": "markdown",
   "metadata": {},
   "source": [
    "También pueden usarse índices negativos para cualquiera de los dos extremos del rango. "
   ]
  },
  {
   "cell_type": "code",
   "execution_count": null,
   "metadata": {},
   "outputs": [],
   "source": [
    "print(S)\n",
    "print(S[-2])\n",
    "print(S[:-3])\n",
    "print(S[1:-1])\n",
    "print(S[-2:-1])\n"
   ]
  },
  {
   "cell_type": "markdown",
   "metadata": {},
   "source": [
    "### Otras funciones y métodos útiles\n",
    "\n"
   ]
  },
  {
   "cell_type": "markdown",
   "metadata": {},
   "source": [
    "El método `S.find(T)` determina la posición de la primera aparición de la subcadena `T` dentro de la cadena `S`. Si la cadena `S` no contiene a `T`, este método retorna -1."
   ]
  },
  {
   "cell_type": "code",
   "execution_count": null,
   "metadata": {},
   "outputs": [],
   "source": [
    "print(S)\n",
    "print(S.find('ol'))\n",
    "print(S.find('do'))\n",
    "print(S.find('od'))"
   ]
  },
  {
   "cell_type": "markdown",
   "metadata": {},
   "source": [
    "El método `S.replace(T,U)` reemplaza todas las apariciones de la subcadena `T` por la subcadena `U` dentro de la cadena `S`."
   ]
  },
  {
   "cell_type": "code",
   "execution_count": null,
   "metadata": {},
   "outputs": [],
   "source": [
    "print(S)\n",
    "print(S.replace('ho', '*'))\n",
    "print(S.replace('o','ee'))"
   ]
  },
  {
   "cell_type": "markdown",
   "metadata": {},
   "source": [
    "Los métodos `S.upper()` y `S.lower()` convierten la cadena `S` a letras mayúsculas y minúsculas, respectivamente."
   ]
  },
  {
   "cell_type": "code",
   "execution_count": null,
   "metadata": {},
   "outputs": [],
   "source": [
    "S = 'Hola Mundo'\n",
    "print(S)\n",
    "print(S.upper())\n",
    "print(S.lower())\n",
    "print(S)"
   ]
  },
  {
   "cell_type": "markdown",
   "metadata": {},
   "source": [
    "El método `S.isalpha` verifica si la cadena `S` está formada únicamente por caracteres alfabéticos."
   ]
  },
  {
   "cell_type": "code",
   "execution_count": null,
   "metadata": {},
   "outputs": [],
   "source": [
    "print(S)\n",
    "print(S.isalpha()) # el espacio NO se considera un caracter alfabetico\n",
    "S2 = 'HolaMundo'\n",
    "print(S2.isalpha())"
   ]
  },
  {
   "cell_type": "markdown",
   "metadata": {},
   "source": [
    "El método `S.isdigit` verifica si la cadena `S` está formada únicamente por dígitos."
   ]
  },
  {
   "cell_type": "code",
   "execution_count": null,
   "metadata": {},
   "outputs": [],
   "source": [
    "print(S.isdigit())\n",
    "print('34567'.isdigit())\n",
    "print('34.567'.isdigit())"
   ]
  },
  {
   "cell_type": "markdown",
   "metadata": {},
   "source": [
    "### Formateo mediante el operador  %\n",
    "Este operador es único para cadenas de caracteres y se usa para formatear mensajes de salida al estilo de la familia `printf` el lenguaje C. "
   ]
  },
  {
   "cell_type": "code",
   "execution_count": null,
   "metadata": {},
   "outputs": [],
   "source": [
    "S = 'La palabra %8d dice: %s en el tiempo %10.3f'\n",
    "print(S)\n",
    "print(S % (0, 'Hola', 45.36))\n",
    "print(S % (27, 'Chao', 1500.8829))"
   ]
  },
  {
   "cell_type": "markdown",
   "metadata": {},
   "source": [
    "### Formateo mediante método .format\n",
    "Alternativamente, los mensajes de salida pueden formatearse empleando el método `S.format`."
   ]
  },
  {
   "cell_type": "code",
   "execution_count": null,
   "metadata": {},
   "outputs": [],
   "source": [
    "S = 'La palabra {} dice: {} en el tiempo {:15,.2f}'\n",
    "print(S.format(0, -35, 45.367))\n",
    "print(S.format(1, 'mundo', 3211500.8822))\n",
    "x = 3 + 5 * 4\n",
    "y = 4*3\n",
    "print('x= {}'.format(x))\n",
    "# pueden usarse índices en las llaves para referirse a elementos específicos\n",
    "print('x= {0}, y={1}, x+y={0}+{1}'.format(x,y))\n",
    "\n",
    "print('x= {0:5d}, y={1:5d}, x+y={0:8d}+{1:8d}'.format(x,y))"
   ]
  },
  {
   "cell_type": "markdown",
   "metadata": {},
   "source": [
    "### Caracteres especiales\n",
    "Al igual que en el lenguaje C, existen caracteres especiales que pueden accederse a través del *caracter de escape* \\\\."
   ]
  },
  {
   "cell_type": "code",
   "execution_count": null,
   "metadata": {},
   "outputs": [],
   "source": [
    "S = '\\'Saltos de linea,\\n tabulaciones\\ttabulaciones, cero caracter \\0\\0'\n",
    "print(S)\n",
    "print('Hola\\0\\thola\\n')"
   ]
  },
  {
   "cell_type": "markdown",
   "metadata": {},
   "source": [
    "### Expresiones regulares\n",
    "Una expresión regular es una cadena de texto especial que se utiliza para describir un patrón de búsqueda dentro de una cadena de caracteres. Las expresiones regulares son una herramienta potente para el procesamiento de textos.\n",
    "\n",
    "En Python, el módulo *re* proporciona aceso a funciones de expresiones regulares."
   ]
  },
  {
   "cell_type": "code",
   "execution_count": null,
   "metadata": {},
   "outputs": [],
   "source": [
    "S='Luis Miguel <luis.torres@epn.edu.ec>'\n",
    "print (S)"
   ]
  },
  {
   "cell_type": "code",
   "execution_count": null,
   "metadata": {},
   "outputs": [],
   "source": [
    "import re\n",
    "match= re.match('.*<(.*)@(.*)>', S)\n",
    "usuario= match.group(1)\n",
    "print ('usuario: ' + usuario)"
   ]
  },
  {
   "cell_type": "code",
   "execution_count": null,
   "metadata": {},
   "outputs": [],
   "source": [
    "servidor= match.group(2)\n",
    "print ('servidor: ' + servidor)\n",
    "email = usuario + '@' + servidor\n",
    "print ('cuenta: ' + email)"
   ]
  },
  {
   "cell_type": "markdown",
   "metadata": {},
   "source": [
    "### Más información...\n",
    "\n",
    "Para ver todos los métodos disponibles en la clase *string*:"
   ]
  },
  {
   "cell_type": "code",
   "execution_count": null,
   "metadata": {},
   "outputs": [],
   "source": [
    "print(dir(S))"
   ]
  },
  {
   "cell_type": "markdown",
   "metadata": {},
   "source": [
    "Para obtener ayuda acerca de un método específico:"
   ]
  },
  {
   "cell_type": "code",
   "execution_count": null,
   "metadata": {},
   "outputs": [],
   "source": [
    "help(S.title)"
   ]
  },
  {
   "cell_type": "code",
   "execution_count": null,
   "metadata": {},
   "outputs": [],
   "source": [
    "print('hola mundo'.title())"
   ]
  },
  {
   "cell_type": "markdown",
   "metadata": {},
   "source": [
    "Para consultar la información disponible en el sitio web oficial de Python:\n",
    "\n",
    "* Sobre la clase [string](https://docs.python.org/es/3/library/string.html)\n",
    "* Sobre [expresiones regulares](https://docs.python.org/es/3/library/re.html)"
   ]
  },
  {
   "cell_type": "code",
   "execution_count": null,
   "metadata": {},
   "outputs": [],
   "source": []
  }
 ],
 "metadata": {
  "kernelspec": {
   "display_name": "Python 3",
   "language": "python",
   "name": "python3"
  },
  "language_info": {
   "codemirror_mode": {
    "name": "ipython",
    "version": 3
   },
   "file_extension": ".py",
   "mimetype": "text/x-python",
   "name": "python",
   "nbconvert_exporter": "python",
   "pygments_lexer": "ipython3",
   "version": "3.8.10"
  }
 },
 "nbformat": 4,
 "nbformat_minor": 2
}
