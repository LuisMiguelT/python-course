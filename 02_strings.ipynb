{
 "cells": [
  {
   "cell_type": "markdown",
   "metadata": {},
   "source": [
    "  # Cuaderno 2: Cadenas de caracteres (strings)\n",
    "  \n",
    "  Entre los tipos de datos más utilizados se encuentran los tipos **string** y **list**.\n",
    "  \n",
    "  Una cadena de caracteres (*string*) es una secuencia de caracteres delimitada por comillas simples o dobles."
   ]
  },
  {
   "cell_type": "markdown",
   "metadata": {},
   "source": [
    "### Aspectos básicos"
   ]
  },
  {
   "cell_type": "code",
   "execution_count": 1,
   "metadata": {},
   "outputs": [
    {
     "name": "stdout",
     "output_type": "stream",
     "text": [
      "Hola mundo\n"
     ]
    }
   ],
   "source": [
    "S = 'Hola mundo'\n",
    "print(S)"
   ]
  },
  {
   "cell_type": "markdown",
   "metadata": {},
   "source": [
    "Para acceder a los caracteres individuales de una cadena se utilizan índices entre corchetes."
   ]
  },
  {
   "cell_type": "code",
   "execution_count": 2,
   "metadata": {},
   "outputs": [
    {
     "name": "stdout",
     "output_type": "stream",
     "text": [
      "H\n",
      "a\n"
     ]
    }
   ],
   "source": [
    "print(S[0])\n",
    "print(S[3])"
   ]
  },
  {
   "cell_type": "markdown",
   "metadata": {},
   "source": [
    "El operador `+` se usa para concatenar varias cadenas de caracteres."
   ]
  },
  {
   "cell_type": "code",
   "execution_count": 3,
   "metadata": {},
   "outputs": [
    {
     "name": "stdout",
     "output_type": "stream",
     "text": [
      "!!!Hola mundo\n"
     ]
    }
   ],
   "source": [
    "S1 = 'Hola mundo'\n",
    "S2 = '!!!'\n",
    "print(S2+S1)"
   ]
  },
  {
   "cell_type": "markdown",
   "metadata": {},
   "source": [
    "El operador `*` crea nuevas cadenas, repitiendo múltiples copias de la misma cadena."
   ]
  },
  {
   "cell_type": "code",
   "execution_count": 4,
   "metadata": {},
   "outputs": [
    {
     "name": "stdout",
     "output_type": "stream",
     "text": [
      "Hola mundoHola mundoHola mundo\n",
      "Hola mundo-Hola mundo-Hola mundo-Hola mundo-Hola mundo-Hola mundo-Hola mundo-Hola mundo-Hola mundo-Hola mundo-\n"
     ]
    }
   ],
   "source": [
    "print(S*3)\n",
    "print((S+'-')*10)"
   ]
  },
  {
   "cell_type": "markdown",
   "metadata": {},
   "source": [
    "\n",
    "\n",
    "La función`len` devuelve la longitud de una cadena de caracteres."
   ]
  },
  {
   "cell_type": "code",
   "execution_count": 5,
   "metadata": {},
   "outputs": [
    {
     "name": "stdout",
     "output_type": "stream",
     "text": [
      "10\n"
     ]
    }
   ],
   "source": [
    "print(len(S))"
   ]
  },
  {
   "cell_type": "markdown",
   "metadata": {},
   "source": [
    "El operador `in` permite consultar si un caracter (o una subcadena de caracteres) aparece dentro de otra cada. Este operador devuelve como resultado los valores de `True` o `False`."
   ]
  },
  {
   "cell_type": "code",
   "execution_count": 6,
   "metadata": {},
   "outputs": [
    {
     "name": "stdout",
     "output_type": "stream",
     "text": [
      "True\n",
      "True\n",
      "False\n"
     ]
    }
   ],
   "source": [
    "print('o' in 'carro')\n",
    "print('ro' in 'carro')\n",
    "print('i' in 'carro')"
   ]
  },
  {
   "cell_type": "markdown",
   "metadata": {},
   "source": [
    "Una cadena de caracteres es una estructura de datos *iterable*: es posible utilizar el operador `in` en combinación con la instrucción de iteración `for` para examinar cada uno de los caracteres de la cadena. Veremos más acerca de de las estructuras de iteración en el Cuaderno 7."
   ]
  },
  {
   "cell_type": "code",
   "execution_count": 7,
   "metadata": {},
   "outputs": [
    {
     "name": "stdout",
     "output_type": "stream",
     "text": [
      "c\n",
      "a\n",
      "r\n",
      "r\n",
      "o\n"
     ]
    }
   ],
   "source": [
    "for c in 'carro':\n",
    "    print(c)"
   ]
  },
  {
   "cell_type": "markdown",
   "metadata": {},
   "source": [
    "De manera similar, puede iterarse sobre una cadena de caracteres empleando la instrucción `while` combinada con una variable de indexación y la función `len`:"
   ]
  },
  {
   "cell_type": "code",
   "execution_count": 8,
   "metadata": {},
   "outputs": [
    {
     "name": "stdout",
     "output_type": "stream",
     "text": [
      "c\n",
      "a\n",
      "r\n",
      "r\n",
      "o\n"
     ]
    }
   ],
   "source": [
    "i=0\n",
    "s='carro'\n",
    "while(i<len(s)):\n",
    "    print(s[i])\n",
    "    i+= 1"
   ]
  },
  {
   "cell_type": "markdown",
   "metadata": {},
   "source": [
    "Una de las características importantes del tipo *string* es que es un tipo  *inmutable*. Esto significa que los caracteres de un string no se pueden cambiar individualmente."
   ]
  },
  {
   "cell_type": "code",
   "execution_count": 9,
   "metadata": {},
   "outputs": [
    {
     "ename": "TypeError",
     "evalue": "'str' object does not support item assignment",
     "output_type": "error",
     "traceback": [
      "\u001b[0;31m---------------------------------------------------------------------------\u001b[0m",
      "\u001b[0;31mTypeError\u001b[0m                                 Traceback (most recent call last)",
      "\u001b[0;32m<ipython-input-9-a8be09729f6a>\u001b[0m in \u001b[0;36m<module>\u001b[0;34m\u001b[0m\n\u001b[1;32m      1\u001b[0m \u001b[0;31m# ERROR: strings son inmutables\u001b[0m\u001b[0;34m\u001b[0m\u001b[0;34m\u001b[0m\u001b[0;34m\u001b[0m\u001b[0m\n\u001b[0;32m----> 2\u001b[0;31m \u001b[0mS\u001b[0m\u001b[0;34m[\u001b[0m\u001b[0;36m0\u001b[0m\u001b[0;34m]\u001b[0m\u001b[0;34m=\u001b[0m\u001b[0;34m'h'\u001b[0m\u001b[0;34m\u001b[0m\u001b[0;34m\u001b[0m\u001b[0m\n\u001b[0m",
      "\u001b[0;31mTypeError\u001b[0m: 'str' object does not support item assignment"
     ]
    }
   ],
   "source": [
    "# ERROR: strings son inmutables\n",
    "S[0]='h'"
   ]
  },
  {
   "cell_type": "markdown",
   "metadata": {},
   "source": [
    "Sin embargo, es posible usar el mismo nombre de variable para crear un nuevo string."
   ]
  },
  {
   "cell_type": "code",
   "execution_count": 10,
   "metadata": {},
   "outputs": [
    {
     "name": "stdout",
     "output_type": "stream",
     "text": [
      "Hola mundo\n",
      "hola mundo\n"
     ]
    }
   ],
   "source": [
    "S = \"Hola mundo\"\n",
    "print(S)\n",
    "S = 'h' + S[1:]\n",
    "print(S)"
   ]
  },
  {
   "cell_type": "markdown",
   "metadata": {},
   "source": [
    "### Extrayendo subcadenas (slicing)\n",
    "\n",
    "Una característica especial de Python es la posibilidad de extraer subcadenas de una cadena mayor, utilizando una notación conocida como *slicing*. Pueden especificarse rangos empleando `[a:b]`. Notar que`b` es el índice del elemento *posterior* al final del rango."
   ]
  },
  {
   "cell_type": "code",
   "execution_count": 11,
   "metadata": {},
   "outputs": [
    {
     "name": "stdout",
     "output_type": "stream",
     "text": [
      "hola\n",
      "ola m\n"
     ]
    }
   ],
   "source": [
    "print(S[0:4])\n",
    "print(S[1:6])"
   ]
  },
  {
   "cell_type": "markdown",
   "metadata": {},
   "source": [
    "Se puede omitir el índice del inicio o del final del rango. En ese caso, se entiende que se se trata del primer o del último elemento, respectivamente."
   ]
  },
  {
   "cell_type": "code",
   "execution_count": 12,
   "metadata": {},
   "outputs": [
    {
     "name": "stdout",
     "output_type": "stream",
     "text": [
      "hol\n",
      "a mundo\n"
     ]
    }
   ],
   "source": [
    "print(S[:3])\n",
    "print(S[3:])"
   ]
  },
  {
   "cell_type": "markdown",
   "metadata": {},
   "source": [
    "El índice de -1 se refiere al último elemento, -2 al penúltimo elemento y así sucesivamente. "
   ]
  },
  {
   "cell_type": "code",
   "execution_count": 13,
   "metadata": {},
   "outputs": [
    {
     "name": "stdout",
     "output_type": "stream",
     "text": [
      "d\n",
      "hola mu\n",
      "ola mund\n",
      "d\n"
     ]
    }
   ],
   "source": [
    "print(S[-2])\n",
    "print(S[:-3])\n",
    "print(S[1:-1])\n",
    "print(S[-2:-1])"
   ]
  },
  {
   "cell_type": "markdown",
   "metadata": {},
   "source": [
    "### Otras funciones y métodos útiles\n",
    "\n"
   ]
  },
  {
   "cell_type": "markdown",
   "metadata": {},
   "source": [
    "El método `S.find(T)` determina la posición de la primera aparición de la subcadena `T` dentro de la cadena `S`. Si la cadena `S` no contiene a `T`, este método retorna -1."
   ]
  },
  {
   "cell_type": "code",
   "execution_count": 14,
   "metadata": {},
   "outputs": [
    {
     "name": "stdout",
     "output_type": "stream",
     "text": [
      "hola mundo\n",
      "1\n",
      "8\n",
      "-1\n"
     ]
    }
   ],
   "source": [
    "print(S)\n",
    "print(S.find('ol'))\n",
    "print(S.find('do'))\n",
    "print(S.find('od'))"
   ]
  },
  {
   "cell_type": "markdown",
   "metadata": {},
   "source": [
    "El método `S.replace(T,U)` reemplaza todas las apariciones de la subcadena `T` por la subcadena `U` dentro de la cadena `S`."
   ]
  },
  {
   "cell_type": "code",
   "execution_count": 15,
   "metadata": {},
   "outputs": [
    {
     "name": "stdout",
     "output_type": "stream",
     "text": [
      "h*la mund*\n"
     ]
    }
   ],
   "source": [
    "print(S.replace('o', '*'))"
   ]
  },
  {
   "cell_type": "markdown",
   "metadata": {},
   "source": [
    "Los métodos `S.upper()` y `S.lower()` convierten la cadena `S` a letras mayúsculas y minúsculas, respectivamente."
   ]
  },
  {
   "cell_type": "code",
   "execution_count": 16,
   "metadata": {},
   "outputs": [
    {
     "name": "stdout",
     "output_type": "stream",
     "text": [
      "HOLA MUNDO\n",
      "hola mundo\n"
     ]
    }
   ],
   "source": [
    "print(S.upper())\n",
    "print(S.lower())"
   ]
  },
  {
   "cell_type": "markdown",
   "metadata": {},
   "source": [
    "El método `S.isalpha` verifica si la cadena `S` está formada únicamente por caracteres alfabéticos."
   ]
  },
  {
   "cell_type": "code",
   "execution_count": 19,
   "metadata": {},
   "outputs": [
    {
     "name": "stdout",
     "output_type": "stream",
     "text": [
      "hola mundo\n",
      "False\n",
      "True\n"
     ]
    }
   ],
   "source": [
    "print(S)\n",
    "print(S.isalpha()) # el espacio NO se considera un caracter alfabetico\n",
    "S2 = 'Hola'\n",
    "print(S2.isalpha())"
   ]
  },
  {
   "cell_type": "markdown",
   "metadata": {},
   "source": [
    "El método `S.isdigit` verifica si la cadena `S` está formada únicamente por dígitos."
   ]
  },
  {
   "cell_type": "code",
   "execution_count": 23,
   "metadata": {},
   "outputs": [
    {
     "name": "stdout",
     "output_type": "stream",
     "text": [
      "False\n",
      "True\n"
     ]
    }
   ],
   "source": [
    "print(S.isdigit())\n",
    "print('34567'.isdigit())"
   ]
  },
  {
   "cell_type": "markdown",
   "metadata": {},
   "source": [
    "### Formateo mediante el operador  %\n",
    "Este operador es único para cadenas de caracteres y se usa para formatear mensajes de salida al estilo de la familia `printf` el lenguaje C. "
   ]
  },
  {
   "cell_type": "code",
   "execution_count": 28,
   "metadata": {},
   "outputs": [
    {
     "name": "stdout",
     "output_type": "stream",
     "text": [
      "La palabra        0 dice: Hola en el tiempo     45.367\n",
      "La palabra       27 dice: mundo en el tiempo   1500.883\n"
     ]
    }
   ],
   "source": [
    "S = 'La palabra %8d dice: %s en el tiempo %10.3f'\n",
    "print(S % (0, 'Hola', 45.367))\n",
    "print(S % (27, 'mundo', 1500.8829))"
   ]
  },
  {
   "cell_type": "markdown",
   "metadata": {},
   "source": [
    "### Formateo mediante método .format\n",
    "Alternativamente, los mensajes de salida pueden formatearse empleando el método `S.format`."
   ]
  },
  {
   "cell_type": "code",
   "execution_count": 29,
   "metadata": {},
   "outputs": [
    {
     "name": "stdout",
     "output_type": "stream",
     "text": [
      "La palabra 0 dice: -35 en el tiempo 45.37\n",
      "La palabra 1 dice: mundo en el tiempo 3,211,500.88\n",
      "Hola mundo hoy es jueves!!!\n"
     ]
    }
   ],
   "source": [
    "S = 'La palabra {} dice: {} en el tiempo {:,.2f}'\n",
    "print(S.format(0, -35, 45.367))\n",
    "print(S.format(1, 'mundo', 3211500.8822))\n",
    "print('Hola mundo {}!!!'.format('hoy es jueves'))"
   ]
  },
  {
   "cell_type": "markdown",
   "metadata": {},
   "source": [
    "### Caracteres especiales\n",
    "Al igual que en el lenguaje C, existen caracteres especiales que pueden accederse a través del *caracter de escape* \\\\."
   ]
  },
  {
   "cell_type": "code",
   "execution_count": 36,
   "metadata": {},
   "outputs": [
    {
     "name": "stdout",
     "output_type": "stream",
     "text": [
      "'Saltos de linea,\n",
      " tabulaciones\ttabulaciones, cero caracter \u0000\u0000\n",
      "Hola\u0000\thola\n",
      "\n"
     ]
    }
   ],
   "source": [
    "S = '\\'Saltos de linea,\\n tabulaciones\\ttabulaciones, cero caracter \\0\\0'\n",
    "print(S)\n",
    "print('Hola\\0\\thola\\n')"
   ]
  },
  {
   "cell_type": "markdown",
   "metadata": {},
   "source": [
    "### Expresiones regulares\n",
    "Una expresión regular es una cadena de texto especial que se utiliza para describir un patrón de búsqueda dentro de una cadena de caracteres. Las expresiones regulares son una herramienta potente para el procesamiento de textos.\n",
    "\n",
    "En Python, el módulo *re* proporciona aceso a funciones de expresiones regulares."
   ]
  },
  {
   "cell_type": "code",
   "execution_count": 37,
   "metadata": {},
   "outputs": [
    {
     "name": "stdout",
     "output_type": "stream",
     "text": [
      "Luis Miguel <luis.torres@epn.edu.ec>\n"
     ]
    }
   ],
   "source": [
    "S='Luis Miguel <luis.torres@epn.edu.ec>'\n",
    "print (S)"
   ]
  },
  {
   "cell_type": "code",
   "execution_count": 38,
   "metadata": {},
   "outputs": [
    {
     "name": "stdout",
     "output_type": "stream",
     "text": [
      "usuario: luis.torres\n"
     ]
    }
   ],
   "source": [
    "import re\n",
    "match= re.match('.*<(.*)@(.*)>', S)\n",
    "usuario= match.group(1)\n",
    "print ('usuario: ' + usuario)"
   ]
  },
  {
   "cell_type": "code",
   "execution_count": 40,
   "metadata": {},
   "outputs": [
    {
     "name": "stdout",
     "output_type": "stream",
     "text": [
      "servidor: epn.edu.ec\n",
      "cuenta: luis.torres@epn.edu.ec\n"
     ]
    }
   ],
   "source": [
    "servidor= match.group(2)\n",
    "print ('servidor: ' + servidor)\n",
    "email = usuario + '@' + servidor\n",
    "print ('cuenta: ' + email)"
   ]
  },
  {
   "cell_type": "markdown",
   "metadata": {},
   "source": [
    "### Más información...\n",
    "\n",
    "Para ver todos los métodos disponibles en la clase *string*:"
   ]
  },
  {
   "cell_type": "code",
   "execution_count": 42,
   "metadata": {},
   "outputs": [
    {
     "name": "stdout",
     "output_type": "stream",
     "text": [
      "<class 'str'>\n",
      "['__add__', '__class__', '__contains__', '__delattr__', '__dir__', '__doc__', '__eq__', '__format__', '__ge__', '__getattribute__', '__getitem__', '__getnewargs__', '__gt__', '__hash__', '__init__', '__init_subclass__', '__iter__', '__le__', '__len__', '__lt__', '__mod__', '__mul__', '__ne__', '__new__', '__reduce__', '__reduce_ex__', '__repr__', '__rmod__', '__rmul__', '__setattr__', '__sizeof__', '__str__', '__subclasshook__', 'capitalize', 'casefold', 'center', 'count', 'encode', 'endswith', 'expandtabs', 'find', 'format', 'format_map', 'index', 'isalnum', 'isalpha', 'isascii', 'isdecimal', 'isdigit', 'isidentifier', 'islower', 'isnumeric', 'isprintable', 'isspace', 'istitle', 'isupper', 'join', 'ljust', 'lower', 'lstrip', 'maketrans', 'partition', 'replace', 'rfind', 'rindex', 'rjust', 'rpartition', 'rsplit', 'rstrip', 'split', 'splitlines', 'startswith', 'strip', 'swapcase', 'title', 'translate', 'upper', 'zfill']\n"
     ]
    }
   ],
   "source": [
    "print(type(S))\n",
    "print(dir(S))"
   ]
  },
  {
   "cell_type": "markdown",
   "metadata": {},
   "source": [
    "Para obtener ayuda acerca de un método específico:"
   ]
  },
  {
   "cell_type": "code",
   "execution_count": 43,
   "metadata": {},
   "outputs": [
    {
     "name": "stdout",
     "output_type": "stream",
     "text": [
      "Help on built-in function swapcase:\n",
      "\n",
      "swapcase() method of builtins.str instance\n",
      "    Convert uppercase characters to lowercase and lowercase characters to uppercase.\n",
      "\n"
     ]
    }
   ],
   "source": [
    "help(S.swapcase)"
   ]
  },
  {
   "cell_type": "code",
   "execution_count": 44,
   "metadata": {},
   "outputs": [
    {
     "name": "stdout",
     "output_type": "stream",
     "text": [
      "Luis Miguel <luis.torres@epn.edu.ec>\n",
      "lUIS mIGUEL <LUIS.TORRES@EPN.EDU.EC>\n"
     ]
    }
   ],
   "source": [
    "print(S)\n",
    "print(S.swapcase())"
   ]
  },
  {
   "cell_type": "code",
   "execution_count": null,
   "metadata": {},
   "outputs": [],
   "source": []
  }
 ],
 "metadata": {
  "kernelspec": {
   "display_name": "Python 3",
   "language": "python",
   "name": "python3"
  },
  "language_info": {
   "codemirror_mode": {
    "name": "ipython",
    "version": 3
   },
   "file_extension": ".py",
   "mimetype": "text/x-python",
   "name": "python",
   "nbconvert_exporter": "python",
   "pygments_lexer": "ipython3",
   "version": "3.7.6"
  }
 },
 "nbformat": 4,
 "nbformat_minor": 2
}
